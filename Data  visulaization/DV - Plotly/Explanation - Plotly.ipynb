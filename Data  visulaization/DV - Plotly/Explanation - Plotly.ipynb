{
 "cells": [
  {
   "cell_type": "markdown",
   "id": "bc2e6d77",
   "metadata": {},
   "source": [
    "# Plotly and cufflinks \n",
    "\n",
    "Plotly is a library that allows you to create interactive plots that you can use in dashboards or websites (you can save them as html files or static images).\n"
   ]
  },
  {
   "cell_type": "markdown",
   "id": "38663a20",
   "metadata": {},
   "source": [
    "## What is Plotly in Python?\n",
    "\n",
    "Plotly is a free and open-source graphing library for Python. We recommend you read our Getting Started guide for the latest installation or upgrade instructions, then move on to our Plotly Fundamentals tutorials or dive straight in to some Basic Charts tutorials.\n"
   ]
  },
  {
   "cell_type": "markdown",
   "id": "493c01b0",
   "metadata": {},
   "source": [
    "## What is Cufflink in Python?\n",
    "\n",
    "Cufflink is also a python library that connects plotly with pandas so that we can create charts directly on data frames. It basically acts as a plugin.\n",
    "\n"
   ]
  },
  {
   "cell_type": "markdown",
   "id": "a0a09628",
   "metadata": {},
   "source": [
    "## Why plotly is better than Seaborn?\n",
    "\n",
    "Plotly provides interactive plots and are easily readable to audience who doesn't have much knowledge on  reading plots. There are ways to use seaborn type plots in plotly with a touch of plotly."
   ]
  },
  {
   "cell_type": "markdown",
   "id": "608c86c3",
   "metadata": {},
   "source": [
    "## Installation\n",
    "In order for this all to work, you'll need to install plotly and cufflinks to call plots directly off of a pandas dataframe. These libraries are not currently available through **conda** but are available through **pip**. Install the libraries at your command line/terminal using:\n",
    "\n",
    "pip install plotly\n",
    "pip install cufflinks\n",
    "\n",
    "** NOTE: Make sure you only have one installation of Python on your computer when you do this, otherwise the installation may not work. **"
   ]
  },
  {
   "cell_type": "code",
   "execution_count": 47,
   "id": "10f002dc",
   "metadata": {},
   "outputs": [],
   "source": [
    "import pandas as pd\n",
    "import numpy as np\n",
    "%matplotlib inline"
   ]
  },
  {
   "cell_type": "code",
   "execution_count": 48,
   "id": "1ac701d7",
   "metadata": {},
   "outputs": [
    {
     "name": "stdout",
     "output_type": "stream",
     "text": [
      "5.9.0\n"
     ]
    }
   ],
   "source": [
    "from plotly import __version__\n",
    "from plotly.offline import download_plotlyjs, init_notebook_mode, plot, iplot\n",
    "\n",
    "print(__version__) # requires version >= 1.9.0"
   ]
  },
  {
   "cell_type": "code",
   "execution_count": 49,
   "id": "1c9f222a",
   "metadata": {},
   "outputs": [],
   "source": [
    "import cufflinks as cf"
   ]
  },
  {
   "cell_type": "code",
   "execution_count": 50,
   "id": "951fb659",
   "metadata": {},
   "outputs": [
    {
     "data": {
      "text/html": [
       "        <script type=\"text/javascript\">\n",
       "        window.PlotlyConfig = {MathJaxConfig: 'local'};\n",
       "        if (window.MathJax && window.MathJax.Hub && window.MathJax.Hub.Config) {window.MathJax.Hub.Config({SVG: {font: \"STIX-Web\"}});}\n",
       "        if (typeof require !== 'undefined') {\n",
       "        require.undef(\"plotly\");\n",
       "        requirejs.config({\n",
       "            paths: {\n",
       "                'plotly': ['https://cdn.plot.ly/plotly-2.12.1.min']\n",
       "            }\n",
       "        });\n",
       "        require(['plotly'], function(Plotly) {\n",
       "            window._Plotly = Plotly;\n",
       "        });\n",
       "        }\n",
       "        </script>\n",
       "        "
      ]
     },
     "metadata": {},
     "output_type": "display_data"
    }
   ],
   "source": [
    "# For Notebooks\n",
    "init_notebook_mode(connected=True)"
   ]
  },
  {
   "cell_type": "code",
   "execution_count": 51,
   "id": "206427d3",
   "metadata": {},
   "outputs": [
    {
     "data": {
      "text/html": [
       "        <script type=\"text/javascript\">\n",
       "        window.PlotlyConfig = {MathJaxConfig: 'local'};\n",
       "        if (window.MathJax && window.MathJax.Hub && window.MathJax.Hub.Config) {window.MathJax.Hub.Config({SVG: {font: \"STIX-Web\"}});}\n",
       "        if (typeof require !== 'undefined') {\n",
       "        require.undef(\"plotly\");\n",
       "        requirejs.config({\n",
       "            paths: {\n",
       "                'plotly': ['https://cdn.plot.ly/plotly-2.12.1.min']\n",
       "            }\n",
       "        });\n",
       "        require(['plotly'], function(Plotly) {\n",
       "            window._Plotly = Plotly;\n",
       "        });\n",
       "        }\n",
       "        </script>\n",
       "        "
      ]
     },
     "metadata": {},
     "output_type": "display_data"
    }
   ],
   "source": [
    "# For offline use\n",
    "cf.go_offline()"
   ]
  },
  {
   "cell_type": "markdown",
   "id": "874f2fb5",
   "metadata": {},
   "source": [
    "# Fake Data"
   ]
  },
  {
   "cell_type": "code",
   "execution_count": 52,
   "id": "20311972",
   "metadata": {},
   "outputs": [],
   "source": [
    "df = pd.DataFrame(np.random.randn(100,4),columns = 'A B C D '.split())"
   ]
  },
  {
   "cell_type": "code",
   "execution_count": 53,
   "id": "6087eea5",
   "metadata": {},
   "outputs": [
    {
     "data": {
      "text/html": [
       "<div>\n",
       "<style scoped>\n",
       "    .dataframe tbody tr th:only-of-type {\n",
       "        vertical-align: middle;\n",
       "    }\n",
       "\n",
       "    .dataframe tbody tr th {\n",
       "        vertical-align: top;\n",
       "    }\n",
       "\n",
       "    .dataframe thead th {\n",
       "        text-align: right;\n",
       "    }\n",
       "</style>\n",
       "<table border=\"1\" class=\"dataframe\">\n",
       "  <thead>\n",
       "    <tr style=\"text-align: right;\">\n",
       "      <th></th>\n",
       "      <th>A</th>\n",
       "      <th>B</th>\n",
       "      <th>C</th>\n",
       "      <th>D</th>\n",
       "    </tr>\n",
       "  </thead>\n",
       "  <tbody>\n",
       "    <tr>\n",
       "      <th>0</th>\n",
       "      <td>1.703031</td>\n",
       "      <td>0.020447</td>\n",
       "      <td>0.227329</td>\n",
       "      <td>0.112178</td>\n",
       "    </tr>\n",
       "    <tr>\n",
       "      <th>1</th>\n",
       "      <td>0.057716</td>\n",
       "      <td>-0.131427</td>\n",
       "      <td>-0.564367</td>\n",
       "      <td>0.394774</td>\n",
       "    </tr>\n",
       "    <tr>\n",
       "      <th>2</th>\n",
       "      <td>1.806753</td>\n",
       "      <td>2.155294</td>\n",
       "      <td>-1.313722</td>\n",
       "      <td>-0.635982</td>\n",
       "    </tr>\n",
       "    <tr>\n",
       "      <th>3</th>\n",
       "      <td>-0.285074</td>\n",
       "      <td>-0.736803</td>\n",
       "      <td>1.016397</td>\n",
       "      <td>-0.175966</td>\n",
       "    </tr>\n",
       "    <tr>\n",
       "      <th>4</th>\n",
       "      <td>0.844810</td>\n",
       "      <td>-0.156477</td>\n",
       "      <td>0.522958</td>\n",
       "      <td>1.090588</td>\n",
       "    </tr>\n",
       "  </tbody>\n",
       "</table>\n",
       "</div>"
      ],
      "text/plain": [
       "          A         B         C         D\n",
       "0  1.703031  0.020447  0.227329  0.112178\n",
       "1  0.057716 -0.131427 -0.564367  0.394774\n",
       "2  1.806753  2.155294 -1.313722 -0.635982\n",
       "3 -0.285074 -0.736803  1.016397 -0.175966\n",
       "4  0.844810 -0.156477  0.522958  1.090588"
      ]
     },
     "execution_count": 53,
     "metadata": {},
     "output_type": "execute_result"
    }
   ],
   "source": [
    "df.head()"
   ]
  },
  {
   "cell_type": "code",
   "execution_count": 54,
   "id": "0ebf3996",
   "metadata": {},
   "outputs": [],
   "source": [
    "df2 = pd.DataFrame({'Category':['A','B','C',],'Values':[23,40,55]})"
   ]
  },
  {
   "cell_type": "code",
   "execution_count": 55,
   "id": "9bfed3e3",
   "metadata": {},
   "outputs": [
    {
     "data": {
      "text/html": [
       "<div>\n",
       "<style scoped>\n",
       "    .dataframe tbody tr th:only-of-type {\n",
       "        vertical-align: middle;\n",
       "    }\n",
       "\n",
       "    .dataframe tbody tr th {\n",
       "        vertical-align: top;\n",
       "    }\n",
       "\n",
       "    .dataframe thead th {\n",
       "        text-align: right;\n",
       "    }\n",
       "</style>\n",
       "<table border=\"1\" class=\"dataframe\">\n",
       "  <thead>\n",
       "    <tr style=\"text-align: right;\">\n",
       "      <th></th>\n",
       "      <th>Category</th>\n",
       "      <th>Values</th>\n",
       "    </tr>\n",
       "  </thead>\n",
       "  <tbody>\n",
       "    <tr>\n",
       "      <th>0</th>\n",
       "      <td>A</td>\n",
       "      <td>23</td>\n",
       "    </tr>\n",
       "    <tr>\n",
       "      <th>1</th>\n",
       "      <td>B</td>\n",
       "      <td>40</td>\n",
       "    </tr>\n",
       "    <tr>\n",
       "      <th>2</th>\n",
       "      <td>C</td>\n",
       "      <td>55</td>\n",
       "    </tr>\n",
       "  </tbody>\n",
       "</table>\n",
       "</div>"
      ],
      "text/plain": [
       "  Category  Values\n",
       "0        A      23\n",
       "1        B      40\n",
       "2        C      55"
      ]
     },
     "execution_count": 55,
     "metadata": {},
     "output_type": "execute_result"
    }
   ],
   "source": [
    "df2"
   ]
  },
  {
   "cell_type": "markdown",
   "id": "86fafa18",
   "metadata": {},
   "source": [
    "# Using Cufflinks and iplot()\n",
    "        \n",
    "* scatter\n",
    "* bar\n",
    "* box\n",
    "* spread\n",
    "* ratio\n",
    "* heatmap\n",
    "* surface\n",
    "* histogram\n",
    "* bubble"
   ]
  },
  {
   "cell_type": "markdown",
   "id": "e3b48173",
   "metadata": {},
   "source": [
    "# Scatter"
   ]
  },
  {
   "cell_type": "code",
   "execution_count": 56,
   "id": "b33ef323",
   "metadata": {},
   "outputs": [
    {
     "data": {
      "application/vnd.plotly.v1+json": {
       "config": {
        "linkText": "Export to plot.ly",
        "plotlyServerURL": "https://plot.ly",
        "showLink": true
       },
       "data": [
        {
         "line": {
          "color": "rgba(255, 153, 51, 1.0)",
          "dash": "solid",
          "shape": "linear",
          "width": 1.3
         },
         "marker": {
          "size": 10,
          "symbol": "circle"
         },
         "mode": "markers",
         "name": "B",
         "text": "",
         "type": "scatter",
         "x": [
          1.703030536865381,
          0.057715736526326965,
          1.806753252426194,
          -0.28507382165451167,
          0.8448103032083629,
          1.9356544563192983,
          0.25265645003993437,
          -0.7108407175975264,
          0.20407341105116586,
          -0.9631835128284022,
          -2.313929528277395,
          1.8504210053906285,
          0.11575887999256226,
          -1.6797795335634507,
          0.32101675906697663,
          -0.029421517263010833,
          0.916862588487737,
          0.5005943184489355,
          0.47748875080863645,
          -1.4445253371836875,
          -0.7490423417159519,
          0.8307497872518788,
          -1.2944740230747616,
          0.562061709877203,
          0.8221148785197783,
          -0.7523094282677261,
          -0.26373004757776175,
          0.5258232470067837,
          0.940979809508781,
          0.23178863608136288,
          -0.3999835749531784,
          -1.5877557479545665,
          1.3117797268833151,
          0.5277915175274164,
          0.055985875744130185,
          0.22757050286605102,
          -1.0518642709521109,
          -2.2809456910838524,
          -0.1304241624464754,
          -0.1908037005073423,
          0.24896485240145314,
          -0.04471771013045752,
          -0.9701184869344839,
          1.0990611188514359,
          0.12340353879664699,
          0.0753800392632158,
          -0.0662171730054763,
          -0.35308229736830216,
          -0.10945749618170171,
          -1.6329769246665042,
          -2.2167020173795096,
          0.2726812030775698,
          -0.1455257739888572,
          0.6511061330588763,
          -0.4401251895987155,
          -0.4561258898920153,
          0.09968968653804522,
          -0.6599742180242933,
          -1.530117369231545,
          -0.6996345378686805,
          1.4655432843735978,
          0.1440603081792614,
          -0.7928080218222593,
          0.9629631226294447,
          0.21702547598133207,
          -0.041302322471019656,
          0.6933637350395077,
          0.15085198288439183,
          -0.5110684458127188,
          0.7423426360891041,
          -0.2790365281483132,
          -0.21438293119597363,
          1.3897821201574414,
          -0.05515767789216785,
          -1.18290717597586,
          1.5145019130226023,
          0.08103465020839139,
          -1.376004787846036,
          1.365053587926242,
          0.18655028290427167,
          0.1568399485803906,
          0.2093824677298707,
          -0.03481088445587469,
          0.9900655976655112,
          0.47820191801570666,
          -1.3762517202742317,
          0.982440826684452,
          0.35343255249727457,
          -0.5787230512640728,
          0.4663012854591553,
          -1.0989913782473266,
          0.4573973997223406,
          -1.6674459041243,
          0.13256166644037015,
          -0.7662112574506679,
          -0.6030276098968368,
          2.324055715057974,
          0.519139017155852,
          1.5854011486856008,
          -0.8140182188847669
         ],
         "y": [
          0.020446733117837387,
          -0.13142655753710328,
          2.1552942366317467,
          -0.7368030167193271,
          -0.15647700590177263,
          0.6227231939705729,
          -1.6691369374293619,
          -1.2303447427755323,
          0.643022860548499,
          0.021586526736260724,
          -1.7169237831599646,
          0.22218243580981564,
          0.36584301376601014,
          0.026480636897801314,
          -0.43463437249302705,
          0.6051183133216308,
          -0.04743338759975797,
          -1.0437386290390713,
          0.7634534487337309,
          1.8374145183566533,
          -0.06536138852479652,
          0.7189252425600876,
          1.618990179663656,
          -0.1292282991611609,
          1.1273662797944604,
          0.6190874181543614,
          0.06368225620831357,
          0.46551790697162204,
          1.209953364299594,
          -2.369297044199571,
          0.8474003322921112,
          -0.940570263581015,
          -1.733441623719393,
          0.026841257964993363,
          -1.16890351164535,
          2.444181611176374,
          0.32751014394035766,
          -0.7403796216695913,
          0.974192465330595,
          -1.3419718295456629,
          0.06753401710505501,
          0.3995579413779053,
          1.4715788524730944,
          1.3058590299377058,
          0.47396800523908605,
          -0.8533959337453239,
          -0.04513824946522313,
          1.5989310069722822,
          0.8209975940625924,
          0.9130159745522907,
          0.631805379794073,
          0.6871572685821035,
          0.4045330817197545,
          1.2699208282991628,
          -0.6115479531451279,
          0.888004086618221,
          -0.16824686224817828,
          0.5678427897742637,
          -0.10410397427380996,
          -2.3038112907761277,
          0.41334310863275886,
          1.6928037846747235,
          0.392241308944528,
          -0.60184778036844,
          0.15205225924987986,
          1.6218704586678105,
          0.2201422071654261,
          -1.3786178164447496,
          -0.19056231682640878,
          -1.9889018202432063,
          -0.280718466698838,
          -1.771621395021947,
          1.155531507522197,
          -0.4552613825429717,
          -0.14485092590175166,
          -1.4283535464664365,
          -0.03840435986495959,
          -0.48667075998421944,
          -0.9941041935759036,
          -0.43719948750326876,
          1.2258685272598313,
          0.41068441181305554,
          0.7819145340879001,
          0.38400754270393317,
          -0.2149342584479373,
          -0.06703890319057035,
          0.355262197350419,
          -0.4613181548267008,
          -0.8533370162794723,
          -1.744887650467091,
          -0.7983995491067819,
          0.03200564722701361,
          1.2726655310355808,
          0.1599056042426869,
          0.756455417298015,
          0.5128717405086298,
          1.2974121723462697,
          0.8823627599399996,
          -0.567302174615601,
          0.0697729567365461
         ]
        }
       ],
       "layout": {
        "legend": {
         "bgcolor": "#F5F6F9",
         "font": {
          "color": "#4D5663"
         }
        },
        "paper_bgcolor": "#F5F6F9",
        "plot_bgcolor": "#F5F6F9",
        "template": {
         "data": {
          "bar": [
           {
            "error_x": {
             "color": "#2a3f5f"
            },
            "error_y": {
             "color": "#2a3f5f"
            },
            "marker": {
             "line": {
              "color": "#E5ECF6",
              "width": 0.5
             },
             "pattern": {
              "fillmode": "overlay",
              "size": 10,
              "solidity": 0.2
             }
            },
            "type": "bar"
           }
          ],
          "barpolar": [
           {
            "marker": {
             "line": {
              "color": "#E5ECF6",
              "width": 0.5
             },
             "pattern": {
              "fillmode": "overlay",
              "size": 10,
              "solidity": 0.2
             }
            },
            "type": "barpolar"
           }
          ],
          "carpet": [
           {
            "aaxis": {
             "endlinecolor": "#2a3f5f",
             "gridcolor": "white",
             "linecolor": "white",
             "minorgridcolor": "white",
             "startlinecolor": "#2a3f5f"
            },
            "baxis": {
             "endlinecolor": "#2a3f5f",
             "gridcolor": "white",
             "linecolor": "white",
             "minorgridcolor": "white",
             "startlinecolor": "#2a3f5f"
            },
            "type": "carpet"
           }
          ],
          "choropleth": [
           {
            "colorbar": {
             "outlinewidth": 0,
             "ticks": ""
            },
            "type": "choropleth"
           }
          ],
          "contour": [
           {
            "colorbar": {
             "outlinewidth": 0,
             "ticks": ""
            },
            "colorscale": [
             [
              0,
              "#0d0887"
             ],
             [
              0.1111111111111111,
              "#46039f"
             ],
             [
              0.2222222222222222,
              "#7201a8"
             ],
             [
              0.3333333333333333,
              "#9c179e"
             ],
             [
              0.4444444444444444,
              "#bd3786"
             ],
             [
              0.5555555555555556,
              "#d8576b"
             ],
             [
              0.6666666666666666,
              "#ed7953"
             ],
             [
              0.7777777777777778,
              "#fb9f3a"
             ],
             [
              0.8888888888888888,
              "#fdca26"
             ],
             [
              1,
              "#f0f921"
             ]
            ],
            "type": "contour"
           }
          ],
          "contourcarpet": [
           {
            "colorbar": {
             "outlinewidth": 0,
             "ticks": ""
            },
            "type": "contourcarpet"
           }
          ],
          "heatmap": [
           {
            "colorbar": {
             "outlinewidth": 0,
             "ticks": ""
            },
            "colorscale": [
             [
              0,
              "#0d0887"
             ],
             [
              0.1111111111111111,
              "#46039f"
             ],
             [
              0.2222222222222222,
              "#7201a8"
             ],
             [
              0.3333333333333333,
              "#9c179e"
             ],
             [
              0.4444444444444444,
              "#bd3786"
             ],
             [
              0.5555555555555556,
              "#d8576b"
             ],
             [
              0.6666666666666666,
              "#ed7953"
             ],
             [
              0.7777777777777778,
              "#fb9f3a"
             ],
             [
              0.8888888888888888,
              "#fdca26"
             ],
             [
              1,
              "#f0f921"
             ]
            ],
            "type": "heatmap"
           }
          ],
          "heatmapgl": [
           {
            "colorbar": {
             "outlinewidth": 0,
             "ticks": ""
            },
            "colorscale": [
             [
              0,
              "#0d0887"
             ],
             [
              0.1111111111111111,
              "#46039f"
             ],
             [
              0.2222222222222222,
              "#7201a8"
             ],
             [
              0.3333333333333333,
              "#9c179e"
             ],
             [
              0.4444444444444444,
              "#bd3786"
             ],
             [
              0.5555555555555556,
              "#d8576b"
             ],
             [
              0.6666666666666666,
              "#ed7953"
             ],
             [
              0.7777777777777778,
              "#fb9f3a"
             ],
             [
              0.8888888888888888,
              "#fdca26"
             ],
             [
              1,
              "#f0f921"
             ]
            ],
            "type": "heatmapgl"
           }
          ],
          "histogram": [
           {
            "marker": {
             "pattern": {
              "fillmode": "overlay",
              "size": 10,
              "solidity": 0.2
             }
            },
            "type": "histogram"
           }
          ],
          "histogram2d": [
           {
            "colorbar": {
             "outlinewidth": 0,
             "ticks": ""
            },
            "colorscale": [
             [
              0,
              "#0d0887"
             ],
             [
              0.1111111111111111,
              "#46039f"
             ],
             [
              0.2222222222222222,
              "#7201a8"
             ],
             [
              0.3333333333333333,
              "#9c179e"
             ],
             [
              0.4444444444444444,
              "#bd3786"
             ],
             [
              0.5555555555555556,
              "#d8576b"
             ],
             [
              0.6666666666666666,
              "#ed7953"
             ],
             [
              0.7777777777777778,
              "#fb9f3a"
             ],
             [
              0.8888888888888888,
              "#fdca26"
             ],
             [
              1,
              "#f0f921"
             ]
            ],
            "type": "histogram2d"
           }
          ],
          "histogram2dcontour": [
           {
            "colorbar": {
             "outlinewidth": 0,
             "ticks": ""
            },
            "colorscale": [
             [
              0,
              "#0d0887"
             ],
             [
              0.1111111111111111,
              "#46039f"
             ],
             [
              0.2222222222222222,
              "#7201a8"
             ],
             [
              0.3333333333333333,
              "#9c179e"
             ],
             [
              0.4444444444444444,
              "#bd3786"
             ],
             [
              0.5555555555555556,
              "#d8576b"
             ],
             [
              0.6666666666666666,
              "#ed7953"
             ],
             [
              0.7777777777777778,
              "#fb9f3a"
             ],
             [
              0.8888888888888888,
              "#fdca26"
             ],
             [
              1,
              "#f0f921"
             ]
            ],
            "type": "histogram2dcontour"
           }
          ],
          "mesh3d": [
           {
            "colorbar": {
             "outlinewidth": 0,
             "ticks": ""
            },
            "type": "mesh3d"
           }
          ],
          "parcoords": [
           {
            "line": {
             "colorbar": {
              "outlinewidth": 0,
              "ticks": ""
             }
            },
            "type": "parcoords"
           }
          ],
          "pie": [
           {
            "automargin": true,
            "type": "pie"
           }
          ],
          "scatter": [
           {
            "fillpattern": {
             "fillmode": "overlay",
             "size": 10,
             "solidity": 0.2
            },
            "type": "scatter"
           }
          ],
          "scatter3d": [
           {
            "line": {
             "colorbar": {
              "outlinewidth": 0,
              "ticks": ""
             }
            },
            "marker": {
             "colorbar": {
              "outlinewidth": 0,
              "ticks": ""
             }
            },
            "type": "scatter3d"
           }
          ],
          "scattercarpet": [
           {
            "marker": {
             "colorbar": {
              "outlinewidth": 0,
              "ticks": ""
             }
            },
            "type": "scattercarpet"
           }
          ],
          "scattergeo": [
           {
            "marker": {
             "colorbar": {
              "outlinewidth": 0,
              "ticks": ""
             }
            },
            "type": "scattergeo"
           }
          ],
          "scattergl": [
           {
            "marker": {
             "colorbar": {
              "outlinewidth": 0,
              "ticks": ""
             }
            },
            "type": "scattergl"
           }
          ],
          "scattermapbox": [
           {
            "marker": {
             "colorbar": {
              "outlinewidth": 0,
              "ticks": ""
             }
            },
            "type": "scattermapbox"
           }
          ],
          "scatterpolar": [
           {
            "marker": {
             "colorbar": {
              "outlinewidth": 0,
              "ticks": ""
             }
            },
            "type": "scatterpolar"
           }
          ],
          "scatterpolargl": [
           {
            "marker": {
             "colorbar": {
              "outlinewidth": 0,
              "ticks": ""
             }
            },
            "type": "scatterpolargl"
           }
          ],
          "scatterternary": [
           {
            "marker": {
             "colorbar": {
              "outlinewidth": 0,
              "ticks": ""
             }
            },
            "type": "scatterternary"
           }
          ],
          "surface": [
           {
            "colorbar": {
             "outlinewidth": 0,
             "ticks": ""
            },
            "colorscale": [
             [
              0,
              "#0d0887"
             ],
             [
              0.1111111111111111,
              "#46039f"
             ],
             [
              0.2222222222222222,
              "#7201a8"
             ],
             [
              0.3333333333333333,
              "#9c179e"
             ],
             [
              0.4444444444444444,
              "#bd3786"
             ],
             [
              0.5555555555555556,
              "#d8576b"
             ],
             [
              0.6666666666666666,
              "#ed7953"
             ],
             [
              0.7777777777777778,
              "#fb9f3a"
             ],
             [
              0.8888888888888888,
              "#fdca26"
             ],
             [
              1,
              "#f0f921"
             ]
            ],
            "type": "surface"
           }
          ],
          "table": [
           {
            "cells": {
             "fill": {
              "color": "#EBF0F8"
             },
             "line": {
              "color": "white"
             }
            },
            "header": {
             "fill": {
              "color": "#C8D4E3"
             },
             "line": {
              "color": "white"
             }
            },
            "type": "table"
           }
          ]
         },
         "layout": {
          "annotationdefaults": {
           "arrowcolor": "#2a3f5f",
           "arrowhead": 0,
           "arrowwidth": 1
          },
          "autotypenumbers": "strict",
          "coloraxis": {
           "colorbar": {
            "outlinewidth": 0,
            "ticks": ""
           }
          },
          "colorscale": {
           "diverging": [
            [
             0,
             "#8e0152"
            ],
            [
             0.1,
             "#c51b7d"
            ],
            [
             0.2,
             "#de77ae"
            ],
            [
             0.3,
             "#f1b6da"
            ],
            [
             0.4,
             "#fde0ef"
            ],
            [
             0.5,
             "#f7f7f7"
            ],
            [
             0.6,
             "#e6f5d0"
            ],
            [
             0.7,
             "#b8e186"
            ],
            [
             0.8,
             "#7fbc41"
            ],
            [
             0.9,
             "#4d9221"
            ],
            [
             1,
             "#276419"
            ]
           ],
           "sequential": [
            [
             0,
             "#0d0887"
            ],
            [
             0.1111111111111111,
             "#46039f"
            ],
            [
             0.2222222222222222,
             "#7201a8"
            ],
            [
             0.3333333333333333,
             "#9c179e"
            ],
            [
             0.4444444444444444,
             "#bd3786"
            ],
            [
             0.5555555555555556,
             "#d8576b"
            ],
            [
             0.6666666666666666,
             "#ed7953"
            ],
            [
             0.7777777777777778,
             "#fb9f3a"
            ],
            [
             0.8888888888888888,
             "#fdca26"
            ],
            [
             1,
             "#f0f921"
            ]
           ],
           "sequentialminus": [
            [
             0,
             "#0d0887"
            ],
            [
             0.1111111111111111,
             "#46039f"
            ],
            [
             0.2222222222222222,
             "#7201a8"
            ],
            [
             0.3333333333333333,
             "#9c179e"
            ],
            [
             0.4444444444444444,
             "#bd3786"
            ],
            [
             0.5555555555555556,
             "#d8576b"
            ],
            [
             0.6666666666666666,
             "#ed7953"
            ],
            [
             0.7777777777777778,
             "#fb9f3a"
            ],
            [
             0.8888888888888888,
             "#fdca26"
            ],
            [
             1,
             "#f0f921"
            ]
           ]
          },
          "colorway": [
           "#636efa",
           "#EF553B",
           "#00cc96",
           "#ab63fa",
           "#FFA15A",
           "#19d3f3",
           "#FF6692",
           "#B6E880",
           "#FF97FF",
           "#FECB52"
          ],
          "font": {
           "color": "#2a3f5f"
          },
          "geo": {
           "bgcolor": "white",
           "lakecolor": "white",
           "landcolor": "#E5ECF6",
           "showlakes": true,
           "showland": true,
           "subunitcolor": "white"
          },
          "hoverlabel": {
           "align": "left"
          },
          "hovermode": "closest",
          "mapbox": {
           "style": "light"
          },
          "paper_bgcolor": "white",
          "plot_bgcolor": "#E5ECF6",
          "polar": {
           "angularaxis": {
            "gridcolor": "white",
            "linecolor": "white",
            "ticks": ""
           },
           "bgcolor": "#E5ECF6",
           "radialaxis": {
            "gridcolor": "white",
            "linecolor": "white",
            "ticks": ""
           }
          },
          "scene": {
           "xaxis": {
            "backgroundcolor": "#E5ECF6",
            "gridcolor": "white",
            "gridwidth": 2,
            "linecolor": "white",
            "showbackground": true,
            "ticks": "",
            "zerolinecolor": "white"
           },
           "yaxis": {
            "backgroundcolor": "#E5ECF6",
            "gridcolor": "white",
            "gridwidth": 2,
            "linecolor": "white",
            "showbackground": true,
            "ticks": "",
            "zerolinecolor": "white"
           },
           "zaxis": {
            "backgroundcolor": "#E5ECF6",
            "gridcolor": "white",
            "gridwidth": 2,
            "linecolor": "white",
            "showbackground": true,
            "ticks": "",
            "zerolinecolor": "white"
           }
          },
          "shapedefaults": {
           "line": {
            "color": "#2a3f5f"
           }
          },
          "ternary": {
           "aaxis": {
            "gridcolor": "white",
            "linecolor": "white",
            "ticks": ""
           },
           "baxis": {
            "gridcolor": "white",
            "linecolor": "white",
            "ticks": ""
           },
           "bgcolor": "#E5ECF6",
           "caxis": {
            "gridcolor": "white",
            "linecolor": "white",
            "ticks": ""
           }
          },
          "title": {
           "x": 0.05
          },
          "xaxis": {
           "automargin": true,
           "gridcolor": "white",
           "linecolor": "white",
           "ticks": "",
           "title": {
            "standoff": 15
           },
           "zerolinecolor": "white",
           "zerolinewidth": 2
          },
          "yaxis": {
           "automargin": true,
           "gridcolor": "white",
           "linecolor": "white",
           "ticks": "",
           "title": {
            "standoff": 15
           },
           "zerolinecolor": "white",
           "zerolinewidth": 2
          }
         }
        },
        "title": {
         "font": {
          "color": "#4D5663"
         }
        },
        "xaxis": {
         "gridcolor": "#E1E5ED",
         "showgrid": true,
         "tickfont": {
          "color": "#4D5663"
         },
         "title": {
          "font": {
           "color": "#4D5663"
          },
          "text": ""
         },
         "zerolinecolor": "#E1E5ED"
        },
        "yaxis": {
         "gridcolor": "#E1E5ED",
         "showgrid": true,
         "tickfont": {
          "color": "#4D5663"
         },
         "title": {
          "font": {
           "color": "#4D5663"
          },
          "text": ""
         },
         "zerolinecolor": "#E1E5ED"
        }
       }
      },
      "text/html": [
       "<div>                            <div id=\"e70120b9-56a4-4604-a374-a0d8e0f3d9d3\" class=\"plotly-graph-div\" style=\"height:525px; width:100%;\"></div>            <script type=\"text/javascript\">                require([\"plotly\"], function(Plotly) {                    window.PLOTLYENV=window.PLOTLYENV || {};\n",
       "                    window.PLOTLYENV.BASE_URL='https://plot.ly';                                    if (document.getElementById(\"e70120b9-56a4-4604-a374-a0d8e0f3d9d3\")) {                    Plotly.newPlot(                        \"e70120b9-56a4-4604-a374-a0d8e0f3d9d3\",                        [{\"line\":{\"color\":\"rgba(255, 153, 51, 1.0)\",\"dash\":\"solid\",\"shape\":\"linear\",\"width\":1.3},\"marker\":{\"size\":10,\"symbol\":\"circle\"},\"mode\":\"markers\",\"name\":\"B\",\"text\":\"\",\"x\":[1.703030536865381,0.057715736526326965,1.806753252426194,-0.28507382165451167,0.8448103032083629,1.9356544563192983,0.25265645003993437,-0.7108407175975264,0.20407341105116586,-0.9631835128284022,-2.313929528277395,1.8504210053906285,0.11575887999256226,-1.6797795335634507,0.32101675906697663,-0.029421517263010833,0.916862588487737,0.5005943184489355,0.47748875080863645,-1.4445253371836875,-0.7490423417159519,0.8307497872518788,-1.2944740230747616,0.562061709877203,0.8221148785197783,-0.7523094282677261,-0.26373004757776175,0.5258232470067837,0.940979809508781,0.23178863608136288,-0.3999835749531784,-1.5877557479545665,1.3117797268833151,0.5277915175274164,0.055985875744130185,0.22757050286605102,-1.0518642709521109,-2.2809456910838524,-0.1304241624464754,-0.1908037005073423,0.24896485240145314,-0.04471771013045752,-0.9701184869344839,1.0990611188514359,0.12340353879664699,0.0753800392632158,-0.0662171730054763,-0.35308229736830216,-0.10945749618170171,-1.6329769246665042,-2.2167020173795096,0.2726812030775698,-0.1455257739888572,0.6511061330588763,-0.4401251895987155,-0.4561258898920153,0.09968968653804522,-0.6599742180242933,-1.530117369231545,-0.6996345378686805,1.4655432843735978,0.1440603081792614,-0.7928080218222593,0.9629631226294447,0.21702547598133207,-0.041302322471019656,0.6933637350395077,0.15085198288439183,-0.5110684458127188,0.7423426360891041,-0.2790365281483132,-0.21438293119597363,1.3897821201574414,-0.05515767789216785,-1.18290717597586,1.5145019130226023,0.08103465020839139,-1.376004787846036,1.365053587926242,0.18655028290427167,0.1568399485803906,0.2093824677298707,-0.03481088445587469,0.9900655976655112,0.47820191801570666,-1.3762517202742317,0.982440826684452,0.35343255249727457,-0.5787230512640728,0.4663012854591553,-1.0989913782473266,0.4573973997223406,-1.6674459041243,0.13256166644037015,-0.7662112574506679,-0.6030276098968368,2.324055715057974,0.519139017155852,1.5854011486856008,-0.8140182188847669],\"y\":[0.020446733117837387,-0.13142655753710328,2.1552942366317467,-0.7368030167193271,-0.15647700590177263,0.6227231939705729,-1.6691369374293619,-1.2303447427755323,0.643022860548499,0.021586526736260724,-1.7169237831599646,0.22218243580981564,0.36584301376601014,0.026480636897801314,-0.43463437249302705,0.6051183133216308,-0.04743338759975797,-1.0437386290390713,0.7634534487337309,1.8374145183566533,-0.06536138852479652,0.7189252425600876,1.618990179663656,-0.1292282991611609,1.1273662797944604,0.6190874181543614,0.06368225620831357,0.46551790697162204,1.209953364299594,-2.369297044199571,0.8474003322921112,-0.940570263581015,-1.733441623719393,0.026841257964993363,-1.16890351164535,2.444181611176374,0.32751014394035766,-0.7403796216695913,0.974192465330595,-1.3419718295456629,0.06753401710505501,0.3995579413779053,1.4715788524730944,1.3058590299377058,0.47396800523908605,-0.8533959337453239,-0.04513824946522313,1.5989310069722822,0.8209975940625924,0.9130159745522907,0.631805379794073,0.6871572685821035,0.4045330817197545,1.2699208282991628,-0.6115479531451279,0.888004086618221,-0.16824686224817828,0.5678427897742637,-0.10410397427380996,-2.3038112907761277,0.41334310863275886,1.6928037846747235,0.392241308944528,-0.60184778036844,0.15205225924987986,1.6218704586678105,0.2201422071654261,-1.3786178164447496,-0.19056231682640878,-1.9889018202432063,-0.280718466698838,-1.771621395021947,1.155531507522197,-0.4552613825429717,-0.14485092590175166,-1.4283535464664365,-0.03840435986495959,-0.48667075998421944,-0.9941041935759036,-0.43719948750326876,1.2258685272598313,0.41068441181305554,0.7819145340879001,0.38400754270393317,-0.2149342584479373,-0.06703890319057035,0.355262197350419,-0.4613181548267008,-0.8533370162794723,-1.744887650467091,-0.7983995491067819,0.03200564722701361,1.2726655310355808,0.1599056042426869,0.756455417298015,0.5128717405086298,1.2974121723462697,0.8823627599399996,-0.567302174615601,0.0697729567365461],\"type\":\"scatter\"}],                        {\"legend\":{\"bgcolor\":\"#F5F6F9\",\"font\":{\"color\":\"#4D5663\"}},\"paper_bgcolor\":\"#F5F6F9\",\"plot_bgcolor\":\"#F5F6F9\",\"template\":{\"data\":{\"barpolar\":[{\"marker\":{\"line\":{\"color\":\"#E5ECF6\",\"width\":0.5},\"pattern\":{\"fillmode\":\"overlay\",\"size\":10,\"solidity\":0.2}},\"type\":\"barpolar\"}],\"bar\":[{\"error_x\":{\"color\":\"#2a3f5f\"},\"error_y\":{\"color\":\"#2a3f5f\"},\"marker\":{\"line\":{\"color\":\"#E5ECF6\",\"width\":0.5},\"pattern\":{\"fillmode\":\"overlay\",\"size\":10,\"solidity\":0.2}},\"type\":\"bar\"}],\"carpet\":[{\"aaxis\":{\"endlinecolor\":\"#2a3f5f\",\"gridcolor\":\"white\",\"linecolor\":\"white\",\"minorgridcolor\":\"white\",\"startlinecolor\":\"#2a3f5f\"},\"baxis\":{\"endlinecolor\":\"#2a3f5f\",\"gridcolor\":\"white\",\"linecolor\":\"white\",\"minorgridcolor\":\"white\",\"startlinecolor\":\"#2a3f5f\"},\"type\":\"carpet\"}],\"choropleth\":[{\"colorbar\":{\"outlinewidth\":0,\"ticks\":\"\"},\"type\":\"choropleth\"}],\"contourcarpet\":[{\"colorbar\":{\"outlinewidth\":0,\"ticks\":\"\"},\"type\":\"contourcarpet\"}],\"contour\":[{\"colorbar\":{\"outlinewidth\":0,\"ticks\":\"\"},\"colorscale\":[[0.0,\"#0d0887\"],[0.1111111111111111,\"#46039f\"],[0.2222222222222222,\"#7201a8\"],[0.3333333333333333,\"#9c179e\"],[0.4444444444444444,\"#bd3786\"],[0.5555555555555556,\"#d8576b\"],[0.6666666666666666,\"#ed7953\"],[0.7777777777777778,\"#fb9f3a\"],[0.8888888888888888,\"#fdca26\"],[1.0,\"#f0f921\"]],\"type\":\"contour\"}],\"heatmapgl\":[{\"colorbar\":{\"outlinewidth\":0,\"ticks\":\"\"},\"colorscale\":[[0.0,\"#0d0887\"],[0.1111111111111111,\"#46039f\"],[0.2222222222222222,\"#7201a8\"],[0.3333333333333333,\"#9c179e\"],[0.4444444444444444,\"#bd3786\"],[0.5555555555555556,\"#d8576b\"],[0.6666666666666666,\"#ed7953\"],[0.7777777777777778,\"#fb9f3a\"],[0.8888888888888888,\"#fdca26\"],[1.0,\"#f0f921\"]],\"type\":\"heatmapgl\"}],\"heatmap\":[{\"colorbar\":{\"outlinewidth\":0,\"ticks\":\"\"},\"colorscale\":[[0.0,\"#0d0887\"],[0.1111111111111111,\"#46039f\"],[0.2222222222222222,\"#7201a8\"],[0.3333333333333333,\"#9c179e\"],[0.4444444444444444,\"#bd3786\"],[0.5555555555555556,\"#d8576b\"],[0.6666666666666666,\"#ed7953\"],[0.7777777777777778,\"#fb9f3a\"],[0.8888888888888888,\"#fdca26\"],[1.0,\"#f0f921\"]],\"type\":\"heatmap\"}],\"histogram2dcontour\":[{\"colorbar\":{\"outlinewidth\":0,\"ticks\":\"\"},\"colorscale\":[[0.0,\"#0d0887\"],[0.1111111111111111,\"#46039f\"],[0.2222222222222222,\"#7201a8\"],[0.3333333333333333,\"#9c179e\"],[0.4444444444444444,\"#bd3786\"],[0.5555555555555556,\"#d8576b\"],[0.6666666666666666,\"#ed7953\"],[0.7777777777777778,\"#fb9f3a\"],[0.8888888888888888,\"#fdca26\"],[1.0,\"#f0f921\"]],\"type\":\"histogram2dcontour\"}],\"histogram2d\":[{\"colorbar\":{\"outlinewidth\":0,\"ticks\":\"\"},\"colorscale\":[[0.0,\"#0d0887\"],[0.1111111111111111,\"#46039f\"],[0.2222222222222222,\"#7201a8\"],[0.3333333333333333,\"#9c179e\"],[0.4444444444444444,\"#bd3786\"],[0.5555555555555556,\"#d8576b\"],[0.6666666666666666,\"#ed7953\"],[0.7777777777777778,\"#fb9f3a\"],[0.8888888888888888,\"#fdca26\"],[1.0,\"#f0f921\"]],\"type\":\"histogram2d\"}],\"histogram\":[{\"marker\":{\"pattern\":{\"fillmode\":\"overlay\",\"size\":10,\"solidity\":0.2}},\"type\":\"histogram\"}],\"mesh3d\":[{\"colorbar\":{\"outlinewidth\":0,\"ticks\":\"\"},\"type\":\"mesh3d\"}],\"parcoords\":[{\"line\":{\"colorbar\":{\"outlinewidth\":0,\"ticks\":\"\"}},\"type\":\"parcoords\"}],\"pie\":[{\"automargin\":true,\"type\":\"pie\"}],\"scatter3d\":[{\"line\":{\"colorbar\":{\"outlinewidth\":0,\"ticks\":\"\"}},\"marker\":{\"colorbar\":{\"outlinewidth\":0,\"ticks\":\"\"}},\"type\":\"scatter3d\"}],\"scattercarpet\":[{\"marker\":{\"colorbar\":{\"outlinewidth\":0,\"ticks\":\"\"}},\"type\":\"scattercarpet\"}],\"scattergeo\":[{\"marker\":{\"colorbar\":{\"outlinewidth\":0,\"ticks\":\"\"}},\"type\":\"scattergeo\"}],\"scattergl\":[{\"marker\":{\"colorbar\":{\"outlinewidth\":0,\"ticks\":\"\"}},\"type\":\"scattergl\"}],\"scattermapbox\":[{\"marker\":{\"colorbar\":{\"outlinewidth\":0,\"ticks\":\"\"}},\"type\":\"scattermapbox\"}],\"scatterpolargl\":[{\"marker\":{\"colorbar\":{\"outlinewidth\":0,\"ticks\":\"\"}},\"type\":\"scatterpolargl\"}],\"scatterpolar\":[{\"marker\":{\"colorbar\":{\"outlinewidth\":0,\"ticks\":\"\"}},\"type\":\"scatterpolar\"}],\"scatter\":[{\"fillpattern\":{\"fillmode\":\"overlay\",\"size\":10,\"solidity\":0.2},\"type\":\"scatter\"}],\"scatterternary\":[{\"marker\":{\"colorbar\":{\"outlinewidth\":0,\"ticks\":\"\"}},\"type\":\"scatterternary\"}],\"surface\":[{\"colorbar\":{\"outlinewidth\":0,\"ticks\":\"\"},\"colorscale\":[[0.0,\"#0d0887\"],[0.1111111111111111,\"#46039f\"],[0.2222222222222222,\"#7201a8\"],[0.3333333333333333,\"#9c179e\"],[0.4444444444444444,\"#bd3786\"],[0.5555555555555556,\"#d8576b\"],[0.6666666666666666,\"#ed7953\"],[0.7777777777777778,\"#fb9f3a\"],[0.8888888888888888,\"#fdca26\"],[1.0,\"#f0f921\"]],\"type\":\"surface\"}],\"table\":[{\"cells\":{\"fill\":{\"color\":\"#EBF0F8\"},\"line\":{\"color\":\"white\"}},\"header\":{\"fill\":{\"color\":\"#C8D4E3\"},\"line\":{\"color\":\"white\"}},\"type\":\"table\"}]},\"layout\":{\"annotationdefaults\":{\"arrowcolor\":\"#2a3f5f\",\"arrowhead\":0,\"arrowwidth\":1},\"autotypenumbers\":\"strict\",\"coloraxis\":{\"colorbar\":{\"outlinewidth\":0,\"ticks\":\"\"}},\"colorscale\":{\"diverging\":[[0,\"#8e0152\"],[0.1,\"#c51b7d\"],[0.2,\"#de77ae\"],[0.3,\"#f1b6da\"],[0.4,\"#fde0ef\"],[0.5,\"#f7f7f7\"],[0.6,\"#e6f5d0\"],[0.7,\"#b8e186\"],[0.8,\"#7fbc41\"],[0.9,\"#4d9221\"],[1,\"#276419\"]],\"sequential\":[[0.0,\"#0d0887\"],[0.1111111111111111,\"#46039f\"],[0.2222222222222222,\"#7201a8\"],[0.3333333333333333,\"#9c179e\"],[0.4444444444444444,\"#bd3786\"],[0.5555555555555556,\"#d8576b\"],[0.6666666666666666,\"#ed7953\"],[0.7777777777777778,\"#fb9f3a\"],[0.8888888888888888,\"#fdca26\"],[1.0,\"#f0f921\"]],\"sequentialminus\":[[0.0,\"#0d0887\"],[0.1111111111111111,\"#46039f\"],[0.2222222222222222,\"#7201a8\"],[0.3333333333333333,\"#9c179e\"],[0.4444444444444444,\"#bd3786\"],[0.5555555555555556,\"#d8576b\"],[0.6666666666666666,\"#ed7953\"],[0.7777777777777778,\"#fb9f3a\"],[0.8888888888888888,\"#fdca26\"],[1.0,\"#f0f921\"]]},\"colorway\":[\"#636efa\",\"#EF553B\",\"#00cc96\",\"#ab63fa\",\"#FFA15A\",\"#19d3f3\",\"#FF6692\",\"#B6E880\",\"#FF97FF\",\"#FECB52\"],\"font\":{\"color\":\"#2a3f5f\"},\"geo\":{\"bgcolor\":\"white\",\"lakecolor\":\"white\",\"landcolor\":\"#E5ECF6\",\"showlakes\":true,\"showland\":true,\"subunitcolor\":\"white\"},\"hoverlabel\":{\"align\":\"left\"},\"hovermode\":\"closest\",\"mapbox\":{\"style\":\"light\"},\"paper_bgcolor\":\"white\",\"plot_bgcolor\":\"#E5ECF6\",\"polar\":{\"angularaxis\":{\"gridcolor\":\"white\",\"linecolor\":\"white\",\"ticks\":\"\"},\"bgcolor\":\"#E5ECF6\",\"radialaxis\":{\"gridcolor\":\"white\",\"linecolor\":\"white\",\"ticks\":\"\"}},\"scene\":{\"xaxis\":{\"backgroundcolor\":\"#E5ECF6\",\"gridcolor\":\"white\",\"gridwidth\":2,\"linecolor\":\"white\",\"showbackground\":true,\"ticks\":\"\",\"zerolinecolor\":\"white\"},\"yaxis\":{\"backgroundcolor\":\"#E5ECF6\",\"gridcolor\":\"white\",\"gridwidth\":2,\"linecolor\":\"white\",\"showbackground\":true,\"ticks\":\"\",\"zerolinecolor\":\"white\"},\"zaxis\":{\"backgroundcolor\":\"#E5ECF6\",\"gridcolor\":\"white\",\"gridwidth\":2,\"linecolor\":\"white\",\"showbackground\":true,\"ticks\":\"\",\"zerolinecolor\":\"white\"}},\"shapedefaults\":{\"line\":{\"color\":\"#2a3f5f\"}},\"ternary\":{\"aaxis\":{\"gridcolor\":\"white\",\"linecolor\":\"white\",\"ticks\":\"\"},\"baxis\":{\"gridcolor\":\"white\",\"linecolor\":\"white\",\"ticks\":\"\"},\"bgcolor\":\"#E5ECF6\",\"caxis\":{\"gridcolor\":\"white\",\"linecolor\":\"white\",\"ticks\":\"\"}},\"title\":{\"x\":0.05},\"xaxis\":{\"automargin\":true,\"gridcolor\":\"white\",\"linecolor\":\"white\",\"ticks\":\"\",\"title\":{\"standoff\":15},\"zerolinecolor\":\"white\",\"zerolinewidth\":2},\"yaxis\":{\"automargin\":true,\"gridcolor\":\"white\",\"linecolor\":\"white\",\"ticks\":\"\",\"title\":{\"standoff\":15},\"zerolinecolor\":\"white\",\"zerolinewidth\":2}}},\"title\":{\"font\":{\"color\":\"#4D5663\"}},\"xaxis\":{\"gridcolor\":\"#E1E5ED\",\"showgrid\":true,\"tickfont\":{\"color\":\"#4D5663\"},\"title\":{\"font\":{\"color\":\"#4D5663\"},\"text\":\"\"},\"zerolinecolor\":\"#E1E5ED\"},\"yaxis\":{\"gridcolor\":\"#E1E5ED\",\"showgrid\":true,\"tickfont\":{\"color\":\"#4D5663\"},\"title\":{\"font\":{\"color\":\"#4D5663\"},\"text\":\"\"},\"zerolinecolor\":\"#E1E5ED\"}},                        {\"showLink\": true, \"linkText\": \"Export to plot.ly\", \"plotlyServerURL\": \"https://plot.ly\", \"responsive\": true}                    ).then(function(){\n",
       "                            \n",
       "var gd = document.getElementById('e70120b9-56a4-4604-a374-a0d8e0f3d9d3');\n",
       "var x = new MutationObserver(function (mutations, observer) {{\n",
       "        var display = window.getComputedStyle(gd).display;\n",
       "        if (!display || display === 'none') {{\n",
       "            console.log([gd, 'removed!']);\n",
       "            Plotly.purge(gd);\n",
       "            observer.disconnect();\n",
       "        }}\n",
       "}});\n",
       "\n",
       "// Listen for the removal of the full notebook cells\n",
       "var notebookContainer = gd.closest('#notebook-container');\n",
       "if (notebookContainer) {{\n",
       "    x.observe(notebookContainer, {childList: true});\n",
       "}}\n",
       "\n",
       "// Listen for the clearing of the current output cell\n",
       "var outputEl = gd.closest('.output');\n",
       "if (outputEl) {{\n",
       "    x.observe(outputEl, {childList: true});\n",
       "}}\n",
       "\n",
       "                        })                };                });            </script>        </div>"
      ]
     },
     "metadata": {},
     "output_type": "display_data"
    }
   ],
   "source": [
    "df.iplot(kind='scatter',x='A',y='B',mode='markers',size=10)"
   ]
  },
  {
   "cell_type": "code",
   "execution_count": 57,
   "id": "46a6804b",
   "metadata": {},
   "outputs": [
    {
     "data": {
      "application/vnd.plotly.v1+json": {
       "config": {
        "linkText": "Export to plot.ly",
        "plotlyServerURL": "https://plot.ly",
        "showLink": true
       },
       "data": [
        {
         "marker": {
          "color": "rgba(255, 153, 51, 0.6)",
          "line": {
           "color": "rgba(255, 153, 51, 1.0)",
           "width": 1
          }
         },
         "name": "Values",
         "orientation": "v",
         "text": "",
         "type": "bar",
         "x": [
          "A",
          "B",
          "C"
         ],
         "y": [
          23,
          40,
          55
         ]
        }
       ],
       "layout": {
        "legend": {
         "bgcolor": "#F5F6F9",
         "font": {
          "color": "#4D5663"
         }
        },
        "paper_bgcolor": "#F5F6F9",
        "plot_bgcolor": "#F5F6F9",
        "template": {
         "data": {
          "bar": [
           {
            "error_x": {
             "color": "#2a3f5f"
            },
            "error_y": {
             "color": "#2a3f5f"
            },
            "marker": {
             "line": {
              "color": "#E5ECF6",
              "width": 0.5
             },
             "pattern": {
              "fillmode": "overlay",
              "size": 10,
              "solidity": 0.2
             }
            },
            "type": "bar"
           }
          ],
          "barpolar": [
           {
            "marker": {
             "line": {
              "color": "#E5ECF6",
              "width": 0.5
             },
             "pattern": {
              "fillmode": "overlay",
              "size": 10,
              "solidity": 0.2
             }
            },
            "type": "barpolar"
           }
          ],
          "carpet": [
           {
            "aaxis": {
             "endlinecolor": "#2a3f5f",
             "gridcolor": "white",
             "linecolor": "white",
             "minorgridcolor": "white",
             "startlinecolor": "#2a3f5f"
            },
            "baxis": {
             "endlinecolor": "#2a3f5f",
             "gridcolor": "white",
             "linecolor": "white",
             "minorgridcolor": "white",
             "startlinecolor": "#2a3f5f"
            },
            "type": "carpet"
           }
          ],
          "choropleth": [
           {
            "colorbar": {
             "outlinewidth": 0,
             "ticks": ""
            },
            "type": "choropleth"
           }
          ],
          "contour": [
           {
            "colorbar": {
             "outlinewidth": 0,
             "ticks": ""
            },
            "colorscale": [
             [
              0,
              "#0d0887"
             ],
             [
              0.1111111111111111,
              "#46039f"
             ],
             [
              0.2222222222222222,
              "#7201a8"
             ],
             [
              0.3333333333333333,
              "#9c179e"
             ],
             [
              0.4444444444444444,
              "#bd3786"
             ],
             [
              0.5555555555555556,
              "#d8576b"
             ],
             [
              0.6666666666666666,
              "#ed7953"
             ],
             [
              0.7777777777777778,
              "#fb9f3a"
             ],
             [
              0.8888888888888888,
              "#fdca26"
             ],
             [
              1,
              "#f0f921"
             ]
            ],
            "type": "contour"
           }
          ],
          "contourcarpet": [
           {
            "colorbar": {
             "outlinewidth": 0,
             "ticks": ""
            },
            "type": "contourcarpet"
           }
          ],
          "heatmap": [
           {
            "colorbar": {
             "outlinewidth": 0,
             "ticks": ""
            },
            "colorscale": [
             [
              0,
              "#0d0887"
             ],
             [
              0.1111111111111111,
              "#46039f"
             ],
             [
              0.2222222222222222,
              "#7201a8"
             ],
             [
              0.3333333333333333,
              "#9c179e"
             ],
             [
              0.4444444444444444,
              "#bd3786"
             ],
             [
              0.5555555555555556,
              "#d8576b"
             ],
             [
              0.6666666666666666,
              "#ed7953"
             ],
             [
              0.7777777777777778,
              "#fb9f3a"
             ],
             [
              0.8888888888888888,
              "#fdca26"
             ],
             [
              1,
              "#f0f921"
             ]
            ],
            "type": "heatmap"
           }
          ],
          "heatmapgl": [
           {
            "colorbar": {
             "outlinewidth": 0,
             "ticks": ""
            },
            "colorscale": [
             [
              0,
              "#0d0887"
             ],
             [
              0.1111111111111111,
              "#46039f"
             ],
             [
              0.2222222222222222,
              "#7201a8"
             ],
             [
              0.3333333333333333,
              "#9c179e"
             ],
             [
              0.4444444444444444,
              "#bd3786"
             ],
             [
              0.5555555555555556,
              "#d8576b"
             ],
             [
              0.6666666666666666,
              "#ed7953"
             ],
             [
              0.7777777777777778,
              "#fb9f3a"
             ],
             [
              0.8888888888888888,
              "#fdca26"
             ],
             [
              1,
              "#f0f921"
             ]
            ],
            "type": "heatmapgl"
           }
          ],
          "histogram": [
           {
            "marker": {
             "pattern": {
              "fillmode": "overlay",
              "size": 10,
              "solidity": 0.2
             }
            },
            "type": "histogram"
           }
          ],
          "histogram2d": [
           {
            "colorbar": {
             "outlinewidth": 0,
             "ticks": ""
            },
            "colorscale": [
             [
              0,
              "#0d0887"
             ],
             [
              0.1111111111111111,
              "#46039f"
             ],
             [
              0.2222222222222222,
              "#7201a8"
             ],
             [
              0.3333333333333333,
              "#9c179e"
             ],
             [
              0.4444444444444444,
              "#bd3786"
             ],
             [
              0.5555555555555556,
              "#d8576b"
             ],
             [
              0.6666666666666666,
              "#ed7953"
             ],
             [
              0.7777777777777778,
              "#fb9f3a"
             ],
             [
              0.8888888888888888,
              "#fdca26"
             ],
             [
              1,
              "#f0f921"
             ]
            ],
            "type": "histogram2d"
           }
          ],
          "histogram2dcontour": [
           {
            "colorbar": {
             "outlinewidth": 0,
             "ticks": ""
            },
            "colorscale": [
             [
              0,
              "#0d0887"
             ],
             [
              0.1111111111111111,
              "#46039f"
             ],
             [
              0.2222222222222222,
              "#7201a8"
             ],
             [
              0.3333333333333333,
              "#9c179e"
             ],
             [
              0.4444444444444444,
              "#bd3786"
             ],
             [
              0.5555555555555556,
              "#d8576b"
             ],
             [
              0.6666666666666666,
              "#ed7953"
             ],
             [
              0.7777777777777778,
              "#fb9f3a"
             ],
             [
              0.8888888888888888,
              "#fdca26"
             ],
             [
              1,
              "#f0f921"
             ]
            ],
            "type": "histogram2dcontour"
           }
          ],
          "mesh3d": [
           {
            "colorbar": {
             "outlinewidth": 0,
             "ticks": ""
            },
            "type": "mesh3d"
           }
          ],
          "parcoords": [
           {
            "line": {
             "colorbar": {
              "outlinewidth": 0,
              "ticks": ""
             }
            },
            "type": "parcoords"
           }
          ],
          "pie": [
           {
            "automargin": true,
            "type": "pie"
           }
          ],
          "scatter": [
           {
            "fillpattern": {
             "fillmode": "overlay",
             "size": 10,
             "solidity": 0.2
            },
            "type": "scatter"
           }
          ],
          "scatter3d": [
           {
            "line": {
             "colorbar": {
              "outlinewidth": 0,
              "ticks": ""
             }
            },
            "marker": {
             "colorbar": {
              "outlinewidth": 0,
              "ticks": ""
             }
            },
            "type": "scatter3d"
           }
          ],
          "scattercarpet": [
           {
            "marker": {
             "colorbar": {
              "outlinewidth": 0,
              "ticks": ""
             }
            },
            "type": "scattercarpet"
           }
          ],
          "scattergeo": [
           {
            "marker": {
             "colorbar": {
              "outlinewidth": 0,
              "ticks": ""
             }
            },
            "type": "scattergeo"
           }
          ],
          "scattergl": [
           {
            "marker": {
             "colorbar": {
              "outlinewidth": 0,
              "ticks": ""
             }
            },
            "type": "scattergl"
           }
          ],
          "scattermapbox": [
           {
            "marker": {
             "colorbar": {
              "outlinewidth": 0,
              "ticks": ""
             }
            },
            "type": "scattermapbox"
           }
          ],
          "scatterpolar": [
           {
            "marker": {
             "colorbar": {
              "outlinewidth": 0,
              "ticks": ""
             }
            },
            "type": "scatterpolar"
           }
          ],
          "scatterpolargl": [
           {
            "marker": {
             "colorbar": {
              "outlinewidth": 0,
              "ticks": ""
             }
            },
            "type": "scatterpolargl"
           }
          ],
          "scatterternary": [
           {
            "marker": {
             "colorbar": {
              "outlinewidth": 0,
              "ticks": ""
             }
            },
            "type": "scatterternary"
           }
          ],
          "surface": [
           {
            "colorbar": {
             "outlinewidth": 0,
             "ticks": ""
            },
            "colorscale": [
             [
              0,
              "#0d0887"
             ],
             [
              0.1111111111111111,
              "#46039f"
             ],
             [
              0.2222222222222222,
              "#7201a8"
             ],
             [
              0.3333333333333333,
              "#9c179e"
             ],
             [
              0.4444444444444444,
              "#bd3786"
             ],
             [
              0.5555555555555556,
              "#d8576b"
             ],
             [
              0.6666666666666666,
              "#ed7953"
             ],
             [
              0.7777777777777778,
              "#fb9f3a"
             ],
             [
              0.8888888888888888,
              "#fdca26"
             ],
             [
              1,
              "#f0f921"
             ]
            ],
            "type": "surface"
           }
          ],
          "table": [
           {
            "cells": {
             "fill": {
              "color": "#EBF0F8"
             },
             "line": {
              "color": "white"
             }
            },
            "header": {
             "fill": {
              "color": "#C8D4E3"
             },
             "line": {
              "color": "white"
             }
            },
            "type": "table"
           }
          ]
         },
         "layout": {
          "annotationdefaults": {
           "arrowcolor": "#2a3f5f",
           "arrowhead": 0,
           "arrowwidth": 1
          },
          "autotypenumbers": "strict",
          "coloraxis": {
           "colorbar": {
            "outlinewidth": 0,
            "ticks": ""
           }
          },
          "colorscale": {
           "diverging": [
            [
             0,
             "#8e0152"
            ],
            [
             0.1,
             "#c51b7d"
            ],
            [
             0.2,
             "#de77ae"
            ],
            [
             0.3,
             "#f1b6da"
            ],
            [
             0.4,
             "#fde0ef"
            ],
            [
             0.5,
             "#f7f7f7"
            ],
            [
             0.6,
             "#e6f5d0"
            ],
            [
             0.7,
             "#b8e186"
            ],
            [
             0.8,
             "#7fbc41"
            ],
            [
             0.9,
             "#4d9221"
            ],
            [
             1,
             "#276419"
            ]
           ],
           "sequential": [
            [
             0,
             "#0d0887"
            ],
            [
             0.1111111111111111,
             "#46039f"
            ],
            [
             0.2222222222222222,
             "#7201a8"
            ],
            [
             0.3333333333333333,
             "#9c179e"
            ],
            [
             0.4444444444444444,
             "#bd3786"
            ],
            [
             0.5555555555555556,
             "#d8576b"
            ],
            [
             0.6666666666666666,
             "#ed7953"
            ],
            [
             0.7777777777777778,
             "#fb9f3a"
            ],
            [
             0.8888888888888888,
             "#fdca26"
            ],
            [
             1,
             "#f0f921"
            ]
           ],
           "sequentialminus": [
            [
             0,
             "#0d0887"
            ],
            [
             0.1111111111111111,
             "#46039f"
            ],
            [
             0.2222222222222222,
             "#7201a8"
            ],
            [
             0.3333333333333333,
             "#9c179e"
            ],
            [
             0.4444444444444444,
             "#bd3786"
            ],
            [
             0.5555555555555556,
             "#d8576b"
            ],
            [
             0.6666666666666666,
             "#ed7953"
            ],
            [
             0.7777777777777778,
             "#fb9f3a"
            ],
            [
             0.8888888888888888,
             "#fdca26"
            ],
            [
             1,
             "#f0f921"
            ]
           ]
          },
          "colorway": [
           "#636efa",
           "#EF553B",
           "#00cc96",
           "#ab63fa",
           "#FFA15A",
           "#19d3f3",
           "#FF6692",
           "#B6E880",
           "#FF97FF",
           "#FECB52"
          ],
          "font": {
           "color": "#2a3f5f"
          },
          "geo": {
           "bgcolor": "white",
           "lakecolor": "white",
           "landcolor": "#E5ECF6",
           "showlakes": true,
           "showland": true,
           "subunitcolor": "white"
          },
          "hoverlabel": {
           "align": "left"
          },
          "hovermode": "closest",
          "mapbox": {
           "style": "light"
          },
          "paper_bgcolor": "white",
          "plot_bgcolor": "#E5ECF6",
          "polar": {
           "angularaxis": {
            "gridcolor": "white",
            "linecolor": "white",
            "ticks": ""
           },
           "bgcolor": "#E5ECF6",
           "radialaxis": {
            "gridcolor": "white",
            "linecolor": "white",
            "ticks": ""
           }
          },
          "scene": {
           "xaxis": {
            "backgroundcolor": "#E5ECF6",
            "gridcolor": "white",
            "gridwidth": 2,
            "linecolor": "white",
            "showbackground": true,
            "ticks": "",
            "zerolinecolor": "white"
           },
           "yaxis": {
            "backgroundcolor": "#E5ECF6",
            "gridcolor": "white",
            "gridwidth": 2,
            "linecolor": "white",
            "showbackground": true,
            "ticks": "",
            "zerolinecolor": "white"
           },
           "zaxis": {
            "backgroundcolor": "#E5ECF6",
            "gridcolor": "white",
            "gridwidth": 2,
            "linecolor": "white",
            "showbackground": true,
            "ticks": "",
            "zerolinecolor": "white"
           }
          },
          "shapedefaults": {
           "line": {
            "color": "#2a3f5f"
           }
          },
          "ternary": {
           "aaxis": {
            "gridcolor": "white",
            "linecolor": "white",
            "ticks": ""
           },
           "baxis": {
            "gridcolor": "white",
            "linecolor": "white",
            "ticks": ""
           },
           "bgcolor": "#E5ECF6",
           "caxis": {
            "gridcolor": "white",
            "linecolor": "white",
            "ticks": ""
           }
          },
          "title": {
           "x": 0.05
          },
          "xaxis": {
           "automargin": true,
           "gridcolor": "white",
           "linecolor": "white",
           "ticks": "",
           "title": {
            "standoff": 15
           },
           "zerolinecolor": "white",
           "zerolinewidth": 2
          },
          "yaxis": {
           "automargin": true,
           "gridcolor": "white",
           "linecolor": "white",
           "ticks": "",
           "title": {
            "standoff": 15
           },
           "zerolinecolor": "white",
           "zerolinewidth": 2
          }
         }
        },
        "title": {
         "font": {
          "color": "#4D5663"
         }
        },
        "xaxis": {
         "gridcolor": "#E1E5ED",
         "showgrid": true,
         "tickfont": {
          "color": "#4D5663"
         },
         "title": {
          "font": {
           "color": "#4D5663"
          },
          "text": ""
         },
         "zerolinecolor": "#E1E5ED"
        },
        "yaxis": {
         "gridcolor": "#E1E5ED",
         "showgrid": true,
         "tickfont": {
          "color": "#4D5663"
         },
         "title": {
          "font": {
           "color": "#4D5663"
          },
          "text": ""
         },
         "zerolinecolor": "#E1E5ED"
        }
       }
      },
      "text/html": [
       "<div>                            <div id=\"a8dfb6dc-7fe0-4bf2-8c88-3ecbe06894f4\" class=\"plotly-graph-div\" style=\"height:525px; width:100%;\"></div>            <script type=\"text/javascript\">                require([\"plotly\"], function(Plotly) {                    window.PLOTLYENV=window.PLOTLYENV || {};\n",
       "                    window.PLOTLYENV.BASE_URL='https://plot.ly';                                    if (document.getElementById(\"a8dfb6dc-7fe0-4bf2-8c88-3ecbe06894f4\")) {                    Plotly.newPlot(                        \"a8dfb6dc-7fe0-4bf2-8c88-3ecbe06894f4\",                        [{\"marker\":{\"color\":\"rgba(255, 153, 51, 0.6)\",\"line\":{\"color\":\"rgba(255, 153, 51, 1.0)\",\"width\":1}},\"name\":\"Values\",\"orientation\":\"v\",\"text\":\"\",\"x\":[\"A\",\"B\",\"C\"],\"y\":[23,40,55],\"type\":\"bar\"}],                        {\"legend\":{\"bgcolor\":\"#F5F6F9\",\"font\":{\"color\":\"#4D5663\"}},\"paper_bgcolor\":\"#F5F6F9\",\"plot_bgcolor\":\"#F5F6F9\",\"template\":{\"data\":{\"barpolar\":[{\"marker\":{\"line\":{\"color\":\"#E5ECF6\",\"width\":0.5},\"pattern\":{\"fillmode\":\"overlay\",\"size\":10,\"solidity\":0.2}},\"type\":\"barpolar\"}],\"bar\":[{\"error_x\":{\"color\":\"#2a3f5f\"},\"error_y\":{\"color\":\"#2a3f5f\"},\"marker\":{\"line\":{\"color\":\"#E5ECF6\",\"width\":0.5},\"pattern\":{\"fillmode\":\"overlay\",\"size\":10,\"solidity\":0.2}},\"type\":\"bar\"}],\"carpet\":[{\"aaxis\":{\"endlinecolor\":\"#2a3f5f\",\"gridcolor\":\"white\",\"linecolor\":\"white\",\"minorgridcolor\":\"white\",\"startlinecolor\":\"#2a3f5f\"},\"baxis\":{\"endlinecolor\":\"#2a3f5f\",\"gridcolor\":\"white\",\"linecolor\":\"white\",\"minorgridcolor\":\"white\",\"startlinecolor\":\"#2a3f5f\"},\"type\":\"carpet\"}],\"choropleth\":[{\"colorbar\":{\"outlinewidth\":0,\"ticks\":\"\"},\"type\":\"choropleth\"}],\"contourcarpet\":[{\"colorbar\":{\"outlinewidth\":0,\"ticks\":\"\"},\"type\":\"contourcarpet\"}],\"contour\":[{\"colorbar\":{\"outlinewidth\":0,\"ticks\":\"\"},\"colorscale\":[[0.0,\"#0d0887\"],[0.1111111111111111,\"#46039f\"],[0.2222222222222222,\"#7201a8\"],[0.3333333333333333,\"#9c179e\"],[0.4444444444444444,\"#bd3786\"],[0.5555555555555556,\"#d8576b\"],[0.6666666666666666,\"#ed7953\"],[0.7777777777777778,\"#fb9f3a\"],[0.8888888888888888,\"#fdca26\"],[1.0,\"#f0f921\"]],\"type\":\"contour\"}],\"heatmapgl\":[{\"colorbar\":{\"outlinewidth\":0,\"ticks\":\"\"},\"colorscale\":[[0.0,\"#0d0887\"],[0.1111111111111111,\"#46039f\"],[0.2222222222222222,\"#7201a8\"],[0.3333333333333333,\"#9c179e\"],[0.4444444444444444,\"#bd3786\"],[0.5555555555555556,\"#d8576b\"],[0.6666666666666666,\"#ed7953\"],[0.7777777777777778,\"#fb9f3a\"],[0.8888888888888888,\"#fdca26\"],[1.0,\"#f0f921\"]],\"type\":\"heatmapgl\"}],\"heatmap\":[{\"colorbar\":{\"outlinewidth\":0,\"ticks\":\"\"},\"colorscale\":[[0.0,\"#0d0887\"],[0.1111111111111111,\"#46039f\"],[0.2222222222222222,\"#7201a8\"],[0.3333333333333333,\"#9c179e\"],[0.4444444444444444,\"#bd3786\"],[0.5555555555555556,\"#d8576b\"],[0.6666666666666666,\"#ed7953\"],[0.7777777777777778,\"#fb9f3a\"],[0.8888888888888888,\"#fdca26\"],[1.0,\"#f0f921\"]],\"type\":\"heatmap\"}],\"histogram2dcontour\":[{\"colorbar\":{\"outlinewidth\":0,\"ticks\":\"\"},\"colorscale\":[[0.0,\"#0d0887\"],[0.1111111111111111,\"#46039f\"],[0.2222222222222222,\"#7201a8\"],[0.3333333333333333,\"#9c179e\"],[0.4444444444444444,\"#bd3786\"],[0.5555555555555556,\"#d8576b\"],[0.6666666666666666,\"#ed7953\"],[0.7777777777777778,\"#fb9f3a\"],[0.8888888888888888,\"#fdca26\"],[1.0,\"#f0f921\"]],\"type\":\"histogram2dcontour\"}],\"histogram2d\":[{\"colorbar\":{\"outlinewidth\":0,\"ticks\":\"\"},\"colorscale\":[[0.0,\"#0d0887\"],[0.1111111111111111,\"#46039f\"],[0.2222222222222222,\"#7201a8\"],[0.3333333333333333,\"#9c179e\"],[0.4444444444444444,\"#bd3786\"],[0.5555555555555556,\"#d8576b\"],[0.6666666666666666,\"#ed7953\"],[0.7777777777777778,\"#fb9f3a\"],[0.8888888888888888,\"#fdca26\"],[1.0,\"#f0f921\"]],\"type\":\"histogram2d\"}],\"histogram\":[{\"marker\":{\"pattern\":{\"fillmode\":\"overlay\",\"size\":10,\"solidity\":0.2}},\"type\":\"histogram\"}],\"mesh3d\":[{\"colorbar\":{\"outlinewidth\":0,\"ticks\":\"\"},\"type\":\"mesh3d\"}],\"parcoords\":[{\"line\":{\"colorbar\":{\"outlinewidth\":0,\"ticks\":\"\"}},\"type\":\"parcoords\"}],\"pie\":[{\"automargin\":true,\"type\":\"pie\"}],\"scatter3d\":[{\"line\":{\"colorbar\":{\"outlinewidth\":0,\"ticks\":\"\"}},\"marker\":{\"colorbar\":{\"outlinewidth\":0,\"ticks\":\"\"}},\"type\":\"scatter3d\"}],\"scattercarpet\":[{\"marker\":{\"colorbar\":{\"outlinewidth\":0,\"ticks\":\"\"}},\"type\":\"scattercarpet\"}],\"scattergeo\":[{\"marker\":{\"colorbar\":{\"outlinewidth\":0,\"ticks\":\"\"}},\"type\":\"scattergeo\"}],\"scattergl\":[{\"marker\":{\"colorbar\":{\"outlinewidth\":0,\"ticks\":\"\"}},\"type\":\"scattergl\"}],\"scattermapbox\":[{\"marker\":{\"colorbar\":{\"outlinewidth\":0,\"ticks\":\"\"}},\"type\":\"scattermapbox\"}],\"scatterpolargl\":[{\"marker\":{\"colorbar\":{\"outlinewidth\":0,\"ticks\":\"\"}},\"type\":\"scatterpolargl\"}],\"scatterpolar\":[{\"marker\":{\"colorbar\":{\"outlinewidth\":0,\"ticks\":\"\"}},\"type\":\"scatterpolar\"}],\"scatter\":[{\"fillpattern\":{\"fillmode\":\"overlay\",\"size\":10,\"solidity\":0.2},\"type\":\"scatter\"}],\"scatterternary\":[{\"marker\":{\"colorbar\":{\"outlinewidth\":0,\"ticks\":\"\"}},\"type\":\"scatterternary\"}],\"surface\":[{\"colorbar\":{\"outlinewidth\":0,\"ticks\":\"\"},\"colorscale\":[[0.0,\"#0d0887\"],[0.1111111111111111,\"#46039f\"],[0.2222222222222222,\"#7201a8\"],[0.3333333333333333,\"#9c179e\"],[0.4444444444444444,\"#bd3786\"],[0.5555555555555556,\"#d8576b\"],[0.6666666666666666,\"#ed7953\"],[0.7777777777777778,\"#fb9f3a\"],[0.8888888888888888,\"#fdca26\"],[1.0,\"#f0f921\"]],\"type\":\"surface\"}],\"table\":[{\"cells\":{\"fill\":{\"color\":\"#EBF0F8\"},\"line\":{\"color\":\"white\"}},\"header\":{\"fill\":{\"color\":\"#C8D4E3\"},\"line\":{\"color\":\"white\"}},\"type\":\"table\"}]},\"layout\":{\"annotationdefaults\":{\"arrowcolor\":\"#2a3f5f\",\"arrowhead\":0,\"arrowwidth\":1},\"autotypenumbers\":\"strict\",\"coloraxis\":{\"colorbar\":{\"outlinewidth\":0,\"ticks\":\"\"}},\"colorscale\":{\"diverging\":[[0,\"#8e0152\"],[0.1,\"#c51b7d\"],[0.2,\"#de77ae\"],[0.3,\"#f1b6da\"],[0.4,\"#fde0ef\"],[0.5,\"#f7f7f7\"],[0.6,\"#e6f5d0\"],[0.7,\"#b8e186\"],[0.8,\"#7fbc41\"],[0.9,\"#4d9221\"],[1,\"#276419\"]],\"sequential\":[[0.0,\"#0d0887\"],[0.1111111111111111,\"#46039f\"],[0.2222222222222222,\"#7201a8\"],[0.3333333333333333,\"#9c179e\"],[0.4444444444444444,\"#bd3786\"],[0.5555555555555556,\"#d8576b\"],[0.6666666666666666,\"#ed7953\"],[0.7777777777777778,\"#fb9f3a\"],[0.8888888888888888,\"#fdca26\"],[1.0,\"#f0f921\"]],\"sequentialminus\":[[0.0,\"#0d0887\"],[0.1111111111111111,\"#46039f\"],[0.2222222222222222,\"#7201a8\"],[0.3333333333333333,\"#9c179e\"],[0.4444444444444444,\"#bd3786\"],[0.5555555555555556,\"#d8576b\"],[0.6666666666666666,\"#ed7953\"],[0.7777777777777778,\"#fb9f3a\"],[0.8888888888888888,\"#fdca26\"],[1.0,\"#f0f921\"]]},\"colorway\":[\"#636efa\",\"#EF553B\",\"#00cc96\",\"#ab63fa\",\"#FFA15A\",\"#19d3f3\",\"#FF6692\",\"#B6E880\",\"#FF97FF\",\"#FECB52\"],\"font\":{\"color\":\"#2a3f5f\"},\"geo\":{\"bgcolor\":\"white\",\"lakecolor\":\"white\",\"landcolor\":\"#E5ECF6\",\"showlakes\":true,\"showland\":true,\"subunitcolor\":\"white\"},\"hoverlabel\":{\"align\":\"left\"},\"hovermode\":\"closest\",\"mapbox\":{\"style\":\"light\"},\"paper_bgcolor\":\"white\",\"plot_bgcolor\":\"#E5ECF6\",\"polar\":{\"angularaxis\":{\"gridcolor\":\"white\",\"linecolor\":\"white\",\"ticks\":\"\"},\"bgcolor\":\"#E5ECF6\",\"radialaxis\":{\"gridcolor\":\"white\",\"linecolor\":\"white\",\"ticks\":\"\"}},\"scene\":{\"xaxis\":{\"backgroundcolor\":\"#E5ECF6\",\"gridcolor\":\"white\",\"gridwidth\":2,\"linecolor\":\"white\",\"showbackground\":true,\"ticks\":\"\",\"zerolinecolor\":\"white\"},\"yaxis\":{\"backgroundcolor\":\"#E5ECF6\",\"gridcolor\":\"white\",\"gridwidth\":2,\"linecolor\":\"white\",\"showbackground\":true,\"ticks\":\"\",\"zerolinecolor\":\"white\"},\"zaxis\":{\"backgroundcolor\":\"#E5ECF6\",\"gridcolor\":\"white\",\"gridwidth\":2,\"linecolor\":\"white\",\"showbackground\":true,\"ticks\":\"\",\"zerolinecolor\":\"white\"}},\"shapedefaults\":{\"line\":{\"color\":\"#2a3f5f\"}},\"ternary\":{\"aaxis\":{\"gridcolor\":\"white\",\"linecolor\":\"white\",\"ticks\":\"\"},\"baxis\":{\"gridcolor\":\"white\",\"linecolor\":\"white\",\"ticks\":\"\"},\"bgcolor\":\"#E5ECF6\",\"caxis\":{\"gridcolor\":\"white\",\"linecolor\":\"white\",\"ticks\":\"\"}},\"title\":{\"x\":0.05},\"xaxis\":{\"automargin\":true,\"gridcolor\":\"white\",\"linecolor\":\"white\",\"ticks\":\"\",\"title\":{\"standoff\":15},\"zerolinecolor\":\"white\",\"zerolinewidth\":2},\"yaxis\":{\"automargin\":true,\"gridcolor\":\"white\",\"linecolor\":\"white\",\"ticks\":\"\",\"title\":{\"standoff\":15},\"zerolinecolor\":\"white\",\"zerolinewidth\":2}}},\"title\":{\"font\":{\"color\":\"#4D5663\"}},\"xaxis\":{\"gridcolor\":\"#E1E5ED\",\"showgrid\":true,\"tickfont\":{\"color\":\"#4D5663\"},\"title\":{\"font\":{\"color\":\"#4D5663\"},\"text\":\"\"},\"zerolinecolor\":\"#E1E5ED\"},\"yaxis\":{\"gridcolor\":\"#E1E5ED\",\"showgrid\":true,\"tickfont\":{\"color\":\"#4D5663\"},\"title\":{\"font\":{\"color\":\"#4D5663\"},\"text\":\"\"},\"zerolinecolor\":\"#E1E5ED\"}},                        {\"showLink\": true, \"linkText\": \"Export to plot.ly\", \"plotlyServerURL\": \"https://plot.ly\", \"responsive\": true}                    ).then(function(){\n",
       "                            \n",
       "var gd = document.getElementById('a8dfb6dc-7fe0-4bf2-8c88-3ecbe06894f4');\n",
       "var x = new MutationObserver(function (mutations, observer) {{\n",
       "        var display = window.getComputedStyle(gd).display;\n",
       "        if (!display || display === 'none') {{\n",
       "            console.log([gd, 'removed!']);\n",
       "            Plotly.purge(gd);\n",
       "            observer.disconnect();\n",
       "        }}\n",
       "}});\n",
       "\n",
       "// Listen for the removal of the full notebook cells\n",
       "var notebookContainer = gd.closest('#notebook-container');\n",
       "if (notebookContainer) {{\n",
       "    x.observe(notebookContainer, {childList: true});\n",
       "}}\n",
       "\n",
       "// Listen for the clearing of the current output cell\n",
       "var outputEl = gd.closest('.output');\n",
       "if (outputEl) {{\n",
       "    x.observe(outputEl, {childList: true});\n",
       "}}\n",
       "\n",
       "                        })                };                });            </script>        </div>"
      ]
     },
     "metadata": {},
     "output_type": "display_data"
    }
   ],
   "source": [
    "df2.iplot(kind='bar',x='Category',y='Values')"
   ]
  },
  {
   "cell_type": "code",
   "execution_count": 58,
   "id": "6d8dab0d",
   "metadata": {},
   "outputs": [
    {
     "data": {
      "application/vnd.plotly.v1+json": {
       "config": {
        "linkText": "Export to plot.ly",
        "plotlyServerURL": "https://plot.ly",
        "showLink": true
       },
       "data": [
        {
         "marker": {
          "color": "rgba(255, 153, 51, 0.6)",
          "line": {
           "color": "rgba(255, 153, 51, 1.0)",
           "width": 1
          }
         },
         "name": "None",
         "orientation": "v",
         "text": "",
         "type": "bar",
         "x": [
          "A",
          "B",
          "C",
          "D"
         ],
         "y": [
          100,
          100,
          100,
          100
         ]
        }
       ],
       "layout": {
        "legend": {
         "bgcolor": "#F5F6F9",
         "font": {
          "color": "#4D5663"
         }
        },
        "paper_bgcolor": "#F5F6F9",
        "plot_bgcolor": "#F5F6F9",
        "template": {
         "data": {
          "bar": [
           {
            "error_x": {
             "color": "#2a3f5f"
            },
            "error_y": {
             "color": "#2a3f5f"
            },
            "marker": {
             "line": {
              "color": "#E5ECF6",
              "width": 0.5
             },
             "pattern": {
              "fillmode": "overlay",
              "size": 10,
              "solidity": 0.2
             }
            },
            "type": "bar"
           }
          ],
          "barpolar": [
           {
            "marker": {
             "line": {
              "color": "#E5ECF6",
              "width": 0.5
             },
             "pattern": {
              "fillmode": "overlay",
              "size": 10,
              "solidity": 0.2
             }
            },
            "type": "barpolar"
           }
          ],
          "carpet": [
           {
            "aaxis": {
             "endlinecolor": "#2a3f5f",
             "gridcolor": "white",
             "linecolor": "white",
             "minorgridcolor": "white",
             "startlinecolor": "#2a3f5f"
            },
            "baxis": {
             "endlinecolor": "#2a3f5f",
             "gridcolor": "white",
             "linecolor": "white",
             "minorgridcolor": "white",
             "startlinecolor": "#2a3f5f"
            },
            "type": "carpet"
           }
          ],
          "choropleth": [
           {
            "colorbar": {
             "outlinewidth": 0,
             "ticks": ""
            },
            "type": "choropleth"
           }
          ],
          "contour": [
           {
            "colorbar": {
             "outlinewidth": 0,
             "ticks": ""
            },
            "colorscale": [
             [
              0,
              "#0d0887"
             ],
             [
              0.1111111111111111,
              "#46039f"
             ],
             [
              0.2222222222222222,
              "#7201a8"
             ],
             [
              0.3333333333333333,
              "#9c179e"
             ],
             [
              0.4444444444444444,
              "#bd3786"
             ],
             [
              0.5555555555555556,
              "#d8576b"
             ],
             [
              0.6666666666666666,
              "#ed7953"
             ],
             [
              0.7777777777777778,
              "#fb9f3a"
             ],
             [
              0.8888888888888888,
              "#fdca26"
             ],
             [
              1,
              "#f0f921"
             ]
            ],
            "type": "contour"
           }
          ],
          "contourcarpet": [
           {
            "colorbar": {
             "outlinewidth": 0,
             "ticks": ""
            },
            "type": "contourcarpet"
           }
          ],
          "heatmap": [
           {
            "colorbar": {
             "outlinewidth": 0,
             "ticks": ""
            },
            "colorscale": [
             [
              0,
              "#0d0887"
             ],
             [
              0.1111111111111111,
              "#46039f"
             ],
             [
              0.2222222222222222,
              "#7201a8"
             ],
             [
              0.3333333333333333,
              "#9c179e"
             ],
             [
              0.4444444444444444,
              "#bd3786"
             ],
             [
              0.5555555555555556,
              "#d8576b"
             ],
             [
              0.6666666666666666,
              "#ed7953"
             ],
             [
              0.7777777777777778,
              "#fb9f3a"
             ],
             [
              0.8888888888888888,
              "#fdca26"
             ],
             [
              1,
              "#f0f921"
             ]
            ],
            "type": "heatmap"
           }
          ],
          "heatmapgl": [
           {
            "colorbar": {
             "outlinewidth": 0,
             "ticks": ""
            },
            "colorscale": [
             [
              0,
              "#0d0887"
             ],
             [
              0.1111111111111111,
              "#46039f"
             ],
             [
              0.2222222222222222,
              "#7201a8"
             ],
             [
              0.3333333333333333,
              "#9c179e"
             ],
             [
              0.4444444444444444,
              "#bd3786"
             ],
             [
              0.5555555555555556,
              "#d8576b"
             ],
             [
              0.6666666666666666,
              "#ed7953"
             ],
             [
              0.7777777777777778,
              "#fb9f3a"
             ],
             [
              0.8888888888888888,
              "#fdca26"
             ],
             [
              1,
              "#f0f921"
             ]
            ],
            "type": "heatmapgl"
           }
          ],
          "histogram": [
           {
            "marker": {
             "pattern": {
              "fillmode": "overlay",
              "size": 10,
              "solidity": 0.2
             }
            },
            "type": "histogram"
           }
          ],
          "histogram2d": [
           {
            "colorbar": {
             "outlinewidth": 0,
             "ticks": ""
            },
            "colorscale": [
             [
              0,
              "#0d0887"
             ],
             [
              0.1111111111111111,
              "#46039f"
             ],
             [
              0.2222222222222222,
              "#7201a8"
             ],
             [
              0.3333333333333333,
              "#9c179e"
             ],
             [
              0.4444444444444444,
              "#bd3786"
             ],
             [
              0.5555555555555556,
              "#d8576b"
             ],
             [
              0.6666666666666666,
              "#ed7953"
             ],
             [
              0.7777777777777778,
              "#fb9f3a"
             ],
             [
              0.8888888888888888,
              "#fdca26"
             ],
             [
              1,
              "#f0f921"
             ]
            ],
            "type": "histogram2d"
           }
          ],
          "histogram2dcontour": [
           {
            "colorbar": {
             "outlinewidth": 0,
             "ticks": ""
            },
            "colorscale": [
             [
              0,
              "#0d0887"
             ],
             [
              0.1111111111111111,
              "#46039f"
             ],
             [
              0.2222222222222222,
              "#7201a8"
             ],
             [
              0.3333333333333333,
              "#9c179e"
             ],
             [
              0.4444444444444444,
              "#bd3786"
             ],
             [
              0.5555555555555556,
              "#d8576b"
             ],
             [
              0.6666666666666666,
              "#ed7953"
             ],
             [
              0.7777777777777778,
              "#fb9f3a"
             ],
             [
              0.8888888888888888,
              "#fdca26"
             ],
             [
              1,
              "#f0f921"
             ]
            ],
            "type": "histogram2dcontour"
           }
          ],
          "mesh3d": [
           {
            "colorbar": {
             "outlinewidth": 0,
             "ticks": ""
            },
            "type": "mesh3d"
           }
          ],
          "parcoords": [
           {
            "line": {
             "colorbar": {
              "outlinewidth": 0,
              "ticks": ""
             }
            },
            "type": "parcoords"
           }
          ],
          "pie": [
           {
            "automargin": true,
            "type": "pie"
           }
          ],
          "scatter": [
           {
            "fillpattern": {
             "fillmode": "overlay",
             "size": 10,
             "solidity": 0.2
            },
            "type": "scatter"
           }
          ],
          "scatter3d": [
           {
            "line": {
             "colorbar": {
              "outlinewidth": 0,
              "ticks": ""
             }
            },
            "marker": {
             "colorbar": {
              "outlinewidth": 0,
              "ticks": ""
             }
            },
            "type": "scatter3d"
           }
          ],
          "scattercarpet": [
           {
            "marker": {
             "colorbar": {
              "outlinewidth": 0,
              "ticks": ""
             }
            },
            "type": "scattercarpet"
           }
          ],
          "scattergeo": [
           {
            "marker": {
             "colorbar": {
              "outlinewidth": 0,
              "ticks": ""
             }
            },
            "type": "scattergeo"
           }
          ],
          "scattergl": [
           {
            "marker": {
             "colorbar": {
              "outlinewidth": 0,
              "ticks": ""
             }
            },
            "type": "scattergl"
           }
          ],
          "scattermapbox": [
           {
            "marker": {
             "colorbar": {
              "outlinewidth": 0,
              "ticks": ""
             }
            },
            "type": "scattermapbox"
           }
          ],
          "scatterpolar": [
           {
            "marker": {
             "colorbar": {
              "outlinewidth": 0,
              "ticks": ""
             }
            },
            "type": "scatterpolar"
           }
          ],
          "scatterpolargl": [
           {
            "marker": {
             "colorbar": {
              "outlinewidth": 0,
              "ticks": ""
             }
            },
            "type": "scatterpolargl"
           }
          ],
          "scatterternary": [
           {
            "marker": {
             "colorbar": {
              "outlinewidth": 0,
              "ticks": ""
             }
            },
            "type": "scatterternary"
           }
          ],
          "surface": [
           {
            "colorbar": {
             "outlinewidth": 0,
             "ticks": ""
            },
            "colorscale": [
             [
              0,
              "#0d0887"
             ],
             [
              0.1111111111111111,
              "#46039f"
             ],
             [
              0.2222222222222222,
              "#7201a8"
             ],
             [
              0.3333333333333333,
              "#9c179e"
             ],
             [
              0.4444444444444444,
              "#bd3786"
             ],
             [
              0.5555555555555556,
              "#d8576b"
             ],
             [
              0.6666666666666666,
              "#ed7953"
             ],
             [
              0.7777777777777778,
              "#fb9f3a"
             ],
             [
              0.8888888888888888,
              "#fdca26"
             ],
             [
              1,
              "#f0f921"
             ]
            ],
            "type": "surface"
           }
          ],
          "table": [
           {
            "cells": {
             "fill": {
              "color": "#EBF0F8"
             },
             "line": {
              "color": "white"
             }
            },
            "header": {
             "fill": {
              "color": "#C8D4E3"
             },
             "line": {
              "color": "white"
             }
            },
            "type": "table"
           }
          ]
         },
         "layout": {
          "annotationdefaults": {
           "arrowcolor": "#2a3f5f",
           "arrowhead": 0,
           "arrowwidth": 1
          },
          "autotypenumbers": "strict",
          "coloraxis": {
           "colorbar": {
            "outlinewidth": 0,
            "ticks": ""
           }
          },
          "colorscale": {
           "diverging": [
            [
             0,
             "#8e0152"
            ],
            [
             0.1,
             "#c51b7d"
            ],
            [
             0.2,
             "#de77ae"
            ],
            [
             0.3,
             "#f1b6da"
            ],
            [
             0.4,
             "#fde0ef"
            ],
            [
             0.5,
             "#f7f7f7"
            ],
            [
             0.6,
             "#e6f5d0"
            ],
            [
             0.7,
             "#b8e186"
            ],
            [
             0.8,
             "#7fbc41"
            ],
            [
             0.9,
             "#4d9221"
            ],
            [
             1,
             "#276419"
            ]
           ],
           "sequential": [
            [
             0,
             "#0d0887"
            ],
            [
             0.1111111111111111,
             "#46039f"
            ],
            [
             0.2222222222222222,
             "#7201a8"
            ],
            [
             0.3333333333333333,
             "#9c179e"
            ],
            [
             0.4444444444444444,
             "#bd3786"
            ],
            [
             0.5555555555555556,
             "#d8576b"
            ],
            [
             0.6666666666666666,
             "#ed7953"
            ],
            [
             0.7777777777777778,
             "#fb9f3a"
            ],
            [
             0.8888888888888888,
             "#fdca26"
            ],
            [
             1,
             "#f0f921"
            ]
           ],
           "sequentialminus": [
            [
             0,
             "#0d0887"
            ],
            [
             0.1111111111111111,
             "#46039f"
            ],
            [
             0.2222222222222222,
             "#7201a8"
            ],
            [
             0.3333333333333333,
             "#9c179e"
            ],
            [
             0.4444444444444444,
             "#bd3786"
            ],
            [
             0.5555555555555556,
             "#d8576b"
            ],
            [
             0.6666666666666666,
             "#ed7953"
            ],
            [
             0.7777777777777778,
             "#fb9f3a"
            ],
            [
             0.8888888888888888,
             "#fdca26"
            ],
            [
             1,
             "#f0f921"
            ]
           ]
          },
          "colorway": [
           "#636efa",
           "#EF553B",
           "#00cc96",
           "#ab63fa",
           "#FFA15A",
           "#19d3f3",
           "#FF6692",
           "#B6E880",
           "#FF97FF",
           "#FECB52"
          ],
          "font": {
           "color": "#2a3f5f"
          },
          "geo": {
           "bgcolor": "white",
           "lakecolor": "white",
           "landcolor": "#E5ECF6",
           "showlakes": true,
           "showland": true,
           "subunitcolor": "white"
          },
          "hoverlabel": {
           "align": "left"
          },
          "hovermode": "closest",
          "mapbox": {
           "style": "light"
          },
          "paper_bgcolor": "white",
          "plot_bgcolor": "#E5ECF6",
          "polar": {
           "angularaxis": {
            "gridcolor": "white",
            "linecolor": "white",
            "ticks": ""
           },
           "bgcolor": "#E5ECF6",
           "radialaxis": {
            "gridcolor": "white",
            "linecolor": "white",
            "ticks": ""
           }
          },
          "scene": {
           "xaxis": {
            "backgroundcolor": "#E5ECF6",
            "gridcolor": "white",
            "gridwidth": 2,
            "linecolor": "white",
            "showbackground": true,
            "ticks": "",
            "zerolinecolor": "white"
           },
           "yaxis": {
            "backgroundcolor": "#E5ECF6",
            "gridcolor": "white",
            "gridwidth": 2,
            "linecolor": "white",
            "showbackground": true,
            "ticks": "",
            "zerolinecolor": "white"
           },
           "zaxis": {
            "backgroundcolor": "#E5ECF6",
            "gridcolor": "white",
            "gridwidth": 2,
            "linecolor": "white",
            "showbackground": true,
            "ticks": "",
            "zerolinecolor": "white"
           }
          },
          "shapedefaults": {
           "line": {
            "color": "#2a3f5f"
           }
          },
          "ternary": {
           "aaxis": {
            "gridcolor": "white",
            "linecolor": "white",
            "ticks": ""
           },
           "baxis": {
            "gridcolor": "white",
            "linecolor": "white",
            "ticks": ""
           },
           "bgcolor": "#E5ECF6",
           "caxis": {
            "gridcolor": "white",
            "linecolor": "white",
            "ticks": ""
           }
          },
          "title": {
           "x": 0.05
          },
          "xaxis": {
           "automargin": true,
           "gridcolor": "white",
           "linecolor": "white",
           "ticks": "",
           "title": {
            "standoff": 15
           },
           "zerolinecolor": "white",
           "zerolinewidth": 2
          },
          "yaxis": {
           "automargin": true,
           "gridcolor": "white",
           "linecolor": "white",
           "ticks": "",
           "title": {
            "standoff": 15
           },
           "zerolinecolor": "white",
           "zerolinewidth": 2
          }
         }
        },
        "title": {
         "font": {
          "color": "#4D5663"
         }
        },
        "xaxis": {
         "gridcolor": "#E1E5ED",
         "showgrid": true,
         "tickfont": {
          "color": "#4D5663"
         },
         "title": {
          "font": {
           "color": "#4D5663"
          },
          "text": ""
         },
         "zerolinecolor": "#E1E5ED"
        },
        "yaxis": {
         "gridcolor": "#E1E5ED",
         "showgrid": true,
         "tickfont": {
          "color": "#4D5663"
         },
         "title": {
          "font": {
           "color": "#4D5663"
          },
          "text": ""
         },
         "zerolinecolor": "#E1E5ED"
        }
       }
      },
      "text/html": [
       "<div>                            <div id=\"46a7b586-2baa-41d1-b369-562814e0f1b8\" class=\"plotly-graph-div\" style=\"height:525px; width:100%;\"></div>            <script type=\"text/javascript\">                require([\"plotly\"], function(Plotly) {                    window.PLOTLYENV=window.PLOTLYENV || {};\n",
       "                    window.PLOTLYENV.BASE_URL='https://plot.ly';                                    if (document.getElementById(\"46a7b586-2baa-41d1-b369-562814e0f1b8\")) {                    Plotly.newPlot(                        \"46a7b586-2baa-41d1-b369-562814e0f1b8\",                        [{\"marker\":{\"color\":\"rgba(255, 153, 51, 0.6)\",\"line\":{\"color\":\"rgba(255, 153, 51, 1.0)\",\"width\":1}},\"name\":\"None\",\"orientation\":\"v\",\"text\":\"\",\"x\":[\"A\",\"B\",\"C\",\"D\"],\"y\":[100,100,100,100],\"type\":\"bar\"}],                        {\"legend\":{\"bgcolor\":\"#F5F6F9\",\"font\":{\"color\":\"#4D5663\"}},\"paper_bgcolor\":\"#F5F6F9\",\"plot_bgcolor\":\"#F5F6F9\",\"template\":{\"data\":{\"barpolar\":[{\"marker\":{\"line\":{\"color\":\"#E5ECF6\",\"width\":0.5},\"pattern\":{\"fillmode\":\"overlay\",\"size\":10,\"solidity\":0.2}},\"type\":\"barpolar\"}],\"bar\":[{\"error_x\":{\"color\":\"#2a3f5f\"},\"error_y\":{\"color\":\"#2a3f5f\"},\"marker\":{\"line\":{\"color\":\"#E5ECF6\",\"width\":0.5},\"pattern\":{\"fillmode\":\"overlay\",\"size\":10,\"solidity\":0.2}},\"type\":\"bar\"}],\"carpet\":[{\"aaxis\":{\"endlinecolor\":\"#2a3f5f\",\"gridcolor\":\"white\",\"linecolor\":\"white\",\"minorgridcolor\":\"white\",\"startlinecolor\":\"#2a3f5f\"},\"baxis\":{\"endlinecolor\":\"#2a3f5f\",\"gridcolor\":\"white\",\"linecolor\":\"white\",\"minorgridcolor\":\"white\",\"startlinecolor\":\"#2a3f5f\"},\"type\":\"carpet\"}],\"choropleth\":[{\"colorbar\":{\"outlinewidth\":0,\"ticks\":\"\"},\"type\":\"choropleth\"}],\"contourcarpet\":[{\"colorbar\":{\"outlinewidth\":0,\"ticks\":\"\"},\"type\":\"contourcarpet\"}],\"contour\":[{\"colorbar\":{\"outlinewidth\":0,\"ticks\":\"\"},\"colorscale\":[[0.0,\"#0d0887\"],[0.1111111111111111,\"#46039f\"],[0.2222222222222222,\"#7201a8\"],[0.3333333333333333,\"#9c179e\"],[0.4444444444444444,\"#bd3786\"],[0.5555555555555556,\"#d8576b\"],[0.6666666666666666,\"#ed7953\"],[0.7777777777777778,\"#fb9f3a\"],[0.8888888888888888,\"#fdca26\"],[1.0,\"#f0f921\"]],\"type\":\"contour\"}],\"heatmapgl\":[{\"colorbar\":{\"outlinewidth\":0,\"ticks\":\"\"},\"colorscale\":[[0.0,\"#0d0887\"],[0.1111111111111111,\"#46039f\"],[0.2222222222222222,\"#7201a8\"],[0.3333333333333333,\"#9c179e\"],[0.4444444444444444,\"#bd3786\"],[0.5555555555555556,\"#d8576b\"],[0.6666666666666666,\"#ed7953\"],[0.7777777777777778,\"#fb9f3a\"],[0.8888888888888888,\"#fdca26\"],[1.0,\"#f0f921\"]],\"type\":\"heatmapgl\"}],\"heatmap\":[{\"colorbar\":{\"outlinewidth\":0,\"ticks\":\"\"},\"colorscale\":[[0.0,\"#0d0887\"],[0.1111111111111111,\"#46039f\"],[0.2222222222222222,\"#7201a8\"],[0.3333333333333333,\"#9c179e\"],[0.4444444444444444,\"#bd3786\"],[0.5555555555555556,\"#d8576b\"],[0.6666666666666666,\"#ed7953\"],[0.7777777777777778,\"#fb9f3a\"],[0.8888888888888888,\"#fdca26\"],[1.0,\"#f0f921\"]],\"type\":\"heatmap\"}],\"histogram2dcontour\":[{\"colorbar\":{\"outlinewidth\":0,\"ticks\":\"\"},\"colorscale\":[[0.0,\"#0d0887\"],[0.1111111111111111,\"#46039f\"],[0.2222222222222222,\"#7201a8\"],[0.3333333333333333,\"#9c179e\"],[0.4444444444444444,\"#bd3786\"],[0.5555555555555556,\"#d8576b\"],[0.6666666666666666,\"#ed7953\"],[0.7777777777777778,\"#fb9f3a\"],[0.8888888888888888,\"#fdca26\"],[1.0,\"#f0f921\"]],\"type\":\"histogram2dcontour\"}],\"histogram2d\":[{\"colorbar\":{\"outlinewidth\":0,\"ticks\":\"\"},\"colorscale\":[[0.0,\"#0d0887\"],[0.1111111111111111,\"#46039f\"],[0.2222222222222222,\"#7201a8\"],[0.3333333333333333,\"#9c179e\"],[0.4444444444444444,\"#bd3786\"],[0.5555555555555556,\"#d8576b\"],[0.6666666666666666,\"#ed7953\"],[0.7777777777777778,\"#fb9f3a\"],[0.8888888888888888,\"#fdca26\"],[1.0,\"#f0f921\"]],\"type\":\"histogram2d\"}],\"histogram\":[{\"marker\":{\"pattern\":{\"fillmode\":\"overlay\",\"size\":10,\"solidity\":0.2}},\"type\":\"histogram\"}],\"mesh3d\":[{\"colorbar\":{\"outlinewidth\":0,\"ticks\":\"\"},\"type\":\"mesh3d\"}],\"parcoords\":[{\"line\":{\"colorbar\":{\"outlinewidth\":0,\"ticks\":\"\"}},\"type\":\"parcoords\"}],\"pie\":[{\"automargin\":true,\"type\":\"pie\"}],\"scatter3d\":[{\"line\":{\"colorbar\":{\"outlinewidth\":0,\"ticks\":\"\"}},\"marker\":{\"colorbar\":{\"outlinewidth\":0,\"ticks\":\"\"}},\"type\":\"scatter3d\"}],\"scattercarpet\":[{\"marker\":{\"colorbar\":{\"outlinewidth\":0,\"ticks\":\"\"}},\"type\":\"scattercarpet\"}],\"scattergeo\":[{\"marker\":{\"colorbar\":{\"outlinewidth\":0,\"ticks\":\"\"}},\"type\":\"scattergeo\"}],\"scattergl\":[{\"marker\":{\"colorbar\":{\"outlinewidth\":0,\"ticks\":\"\"}},\"type\":\"scattergl\"}],\"scattermapbox\":[{\"marker\":{\"colorbar\":{\"outlinewidth\":0,\"ticks\":\"\"}},\"type\":\"scattermapbox\"}],\"scatterpolargl\":[{\"marker\":{\"colorbar\":{\"outlinewidth\":0,\"ticks\":\"\"}},\"type\":\"scatterpolargl\"}],\"scatterpolar\":[{\"marker\":{\"colorbar\":{\"outlinewidth\":0,\"ticks\":\"\"}},\"type\":\"scatterpolar\"}],\"scatter\":[{\"fillpattern\":{\"fillmode\":\"overlay\",\"size\":10,\"solidity\":0.2},\"type\":\"scatter\"}],\"scatterternary\":[{\"marker\":{\"colorbar\":{\"outlinewidth\":0,\"ticks\":\"\"}},\"type\":\"scatterternary\"}],\"surface\":[{\"colorbar\":{\"outlinewidth\":0,\"ticks\":\"\"},\"colorscale\":[[0.0,\"#0d0887\"],[0.1111111111111111,\"#46039f\"],[0.2222222222222222,\"#7201a8\"],[0.3333333333333333,\"#9c179e\"],[0.4444444444444444,\"#bd3786\"],[0.5555555555555556,\"#d8576b\"],[0.6666666666666666,\"#ed7953\"],[0.7777777777777778,\"#fb9f3a\"],[0.8888888888888888,\"#fdca26\"],[1.0,\"#f0f921\"]],\"type\":\"surface\"}],\"table\":[{\"cells\":{\"fill\":{\"color\":\"#EBF0F8\"},\"line\":{\"color\":\"white\"}},\"header\":{\"fill\":{\"color\":\"#C8D4E3\"},\"line\":{\"color\":\"white\"}},\"type\":\"table\"}]},\"layout\":{\"annotationdefaults\":{\"arrowcolor\":\"#2a3f5f\",\"arrowhead\":0,\"arrowwidth\":1},\"autotypenumbers\":\"strict\",\"coloraxis\":{\"colorbar\":{\"outlinewidth\":0,\"ticks\":\"\"}},\"colorscale\":{\"diverging\":[[0,\"#8e0152\"],[0.1,\"#c51b7d\"],[0.2,\"#de77ae\"],[0.3,\"#f1b6da\"],[0.4,\"#fde0ef\"],[0.5,\"#f7f7f7\"],[0.6,\"#e6f5d0\"],[0.7,\"#b8e186\"],[0.8,\"#7fbc41\"],[0.9,\"#4d9221\"],[1,\"#276419\"]],\"sequential\":[[0.0,\"#0d0887\"],[0.1111111111111111,\"#46039f\"],[0.2222222222222222,\"#7201a8\"],[0.3333333333333333,\"#9c179e\"],[0.4444444444444444,\"#bd3786\"],[0.5555555555555556,\"#d8576b\"],[0.6666666666666666,\"#ed7953\"],[0.7777777777777778,\"#fb9f3a\"],[0.8888888888888888,\"#fdca26\"],[1.0,\"#f0f921\"]],\"sequentialminus\":[[0.0,\"#0d0887\"],[0.1111111111111111,\"#46039f\"],[0.2222222222222222,\"#7201a8\"],[0.3333333333333333,\"#9c179e\"],[0.4444444444444444,\"#bd3786\"],[0.5555555555555556,\"#d8576b\"],[0.6666666666666666,\"#ed7953\"],[0.7777777777777778,\"#fb9f3a\"],[0.8888888888888888,\"#fdca26\"],[1.0,\"#f0f921\"]]},\"colorway\":[\"#636efa\",\"#EF553B\",\"#00cc96\",\"#ab63fa\",\"#FFA15A\",\"#19d3f3\",\"#FF6692\",\"#B6E880\",\"#FF97FF\",\"#FECB52\"],\"font\":{\"color\":\"#2a3f5f\"},\"geo\":{\"bgcolor\":\"white\",\"lakecolor\":\"white\",\"landcolor\":\"#E5ECF6\",\"showlakes\":true,\"showland\":true,\"subunitcolor\":\"white\"},\"hoverlabel\":{\"align\":\"left\"},\"hovermode\":\"closest\",\"mapbox\":{\"style\":\"light\"},\"paper_bgcolor\":\"white\",\"plot_bgcolor\":\"#E5ECF6\",\"polar\":{\"angularaxis\":{\"gridcolor\":\"white\",\"linecolor\":\"white\",\"ticks\":\"\"},\"bgcolor\":\"#E5ECF6\",\"radialaxis\":{\"gridcolor\":\"white\",\"linecolor\":\"white\",\"ticks\":\"\"}},\"scene\":{\"xaxis\":{\"backgroundcolor\":\"#E5ECF6\",\"gridcolor\":\"white\",\"gridwidth\":2,\"linecolor\":\"white\",\"showbackground\":true,\"ticks\":\"\",\"zerolinecolor\":\"white\"},\"yaxis\":{\"backgroundcolor\":\"#E5ECF6\",\"gridcolor\":\"white\",\"gridwidth\":2,\"linecolor\":\"white\",\"showbackground\":true,\"ticks\":\"\",\"zerolinecolor\":\"white\"},\"zaxis\":{\"backgroundcolor\":\"#E5ECF6\",\"gridcolor\":\"white\",\"gridwidth\":2,\"linecolor\":\"white\",\"showbackground\":true,\"ticks\":\"\",\"zerolinecolor\":\"white\"}},\"shapedefaults\":{\"line\":{\"color\":\"#2a3f5f\"}},\"ternary\":{\"aaxis\":{\"gridcolor\":\"white\",\"linecolor\":\"white\",\"ticks\":\"\"},\"baxis\":{\"gridcolor\":\"white\",\"linecolor\":\"white\",\"ticks\":\"\"},\"bgcolor\":\"#E5ECF6\",\"caxis\":{\"gridcolor\":\"white\",\"linecolor\":\"white\",\"ticks\":\"\"}},\"title\":{\"x\":0.05},\"xaxis\":{\"automargin\":true,\"gridcolor\":\"white\",\"linecolor\":\"white\",\"ticks\":\"\",\"title\":{\"standoff\":15},\"zerolinecolor\":\"white\",\"zerolinewidth\":2},\"yaxis\":{\"automargin\":true,\"gridcolor\":\"white\",\"linecolor\":\"white\",\"ticks\":\"\",\"title\":{\"standoff\":15},\"zerolinecolor\":\"white\",\"zerolinewidth\":2}}},\"title\":{\"font\":{\"color\":\"#4D5663\"}},\"xaxis\":{\"gridcolor\":\"#E1E5ED\",\"showgrid\":true,\"tickfont\":{\"color\":\"#4D5663\"},\"title\":{\"font\":{\"color\":\"#4D5663\"},\"text\":\"\"},\"zerolinecolor\":\"#E1E5ED\"},\"yaxis\":{\"gridcolor\":\"#E1E5ED\",\"showgrid\":true,\"tickfont\":{\"color\":\"#4D5663\"},\"title\":{\"font\":{\"color\":\"#4D5663\"},\"text\":\"\"},\"zerolinecolor\":\"#E1E5ED\"}},                        {\"showLink\": true, \"linkText\": \"Export to plot.ly\", \"plotlyServerURL\": \"https://plot.ly\", \"responsive\": true}                    ).then(function(){\n",
       "                            \n",
       "var gd = document.getElementById('46a7b586-2baa-41d1-b369-562814e0f1b8');\n",
       "var x = new MutationObserver(function (mutations, observer) {{\n",
       "        var display = window.getComputedStyle(gd).display;\n",
       "        if (!display || display === 'none') {{\n",
       "            console.log([gd, 'removed!']);\n",
       "            Plotly.purge(gd);\n",
       "            observer.disconnect();\n",
       "        }}\n",
       "}});\n",
       "\n",
       "// Listen for the removal of the full notebook cells\n",
       "var notebookContainer = gd.closest('#notebook-container');\n",
       "if (notebookContainer) {{\n",
       "    x.observe(notebookContainer, {childList: true});\n",
       "}}\n",
       "\n",
       "// Listen for the clearing of the current output cell\n",
       "var outputEl = gd.closest('.output');\n",
       "if (outputEl) {{\n",
       "    x.observe(outputEl, {childList: true});\n",
       "}}\n",
       "\n",
       "                        })                };                });            </script>        </div>"
      ]
     },
     "metadata": {},
     "output_type": "display_data"
    }
   ],
   "source": [
    "df.count().iplot(kind = 'bar')"
   ]
  },
  {
   "cell_type": "markdown",
   "id": "68e19eec",
   "metadata": {},
   "source": [
    "# Boxplots"
   ]
  },
  {
   "cell_type": "code",
   "execution_count": 59,
   "id": "820d40b3",
   "metadata": {},
   "outputs": [
    {
     "data": {
      "application/vnd.plotly.v1+json": {
       "config": {
        "linkText": "Export to plot.ly",
        "plotlyServerURL": "https://plot.ly",
        "showLink": true
       },
       "data": [
        {
         "boxpoints": false,
         "line": {
          "width": 1.3
         },
         "marker": {
          "color": "rgba(255, 153, 51, 1.0)"
         },
         "name": "A",
         "orientation": "v",
         "type": "box",
         "y": [
          1.703030536865381,
          0.057715736526326965,
          1.806753252426194,
          -0.28507382165451167,
          0.8448103032083629,
          1.9356544563192983,
          0.25265645003993437,
          -0.7108407175975264,
          0.20407341105116586,
          -0.9631835128284022,
          -2.313929528277395,
          1.8504210053906285,
          0.11575887999256226,
          -1.6797795335634507,
          0.32101675906697663,
          -0.029421517263010833,
          0.916862588487737,
          0.5005943184489355,
          0.47748875080863645,
          -1.4445253371836875,
          -0.7490423417159519,
          0.8307497872518788,
          -1.2944740230747616,
          0.562061709877203,
          0.8221148785197783,
          -0.7523094282677261,
          -0.26373004757776175,
          0.5258232470067837,
          0.940979809508781,
          0.23178863608136288,
          -0.3999835749531784,
          -1.5877557479545665,
          1.3117797268833151,
          0.5277915175274164,
          0.055985875744130185,
          0.22757050286605102,
          -1.0518642709521109,
          -2.2809456910838524,
          -0.1304241624464754,
          -0.1908037005073423,
          0.24896485240145314,
          -0.04471771013045752,
          -0.9701184869344839,
          1.0990611188514359,
          0.12340353879664699,
          0.0753800392632158,
          -0.0662171730054763,
          -0.35308229736830216,
          -0.10945749618170171,
          -1.6329769246665042,
          -2.2167020173795096,
          0.2726812030775698,
          -0.1455257739888572,
          0.6511061330588763,
          -0.4401251895987155,
          -0.4561258898920153,
          0.09968968653804522,
          -0.6599742180242933,
          -1.530117369231545,
          -0.6996345378686805,
          1.4655432843735978,
          0.1440603081792614,
          -0.7928080218222593,
          0.9629631226294447,
          0.21702547598133207,
          -0.041302322471019656,
          0.6933637350395077,
          0.15085198288439183,
          -0.5110684458127188,
          0.7423426360891041,
          -0.2790365281483132,
          -0.21438293119597363,
          1.3897821201574414,
          -0.05515767789216785,
          -1.18290717597586,
          1.5145019130226023,
          0.08103465020839139,
          -1.376004787846036,
          1.365053587926242,
          0.18655028290427167,
          0.1568399485803906,
          0.2093824677298707,
          -0.03481088445587469,
          0.9900655976655112,
          0.47820191801570666,
          -1.3762517202742317,
          0.982440826684452,
          0.35343255249727457,
          -0.5787230512640728,
          0.4663012854591553,
          -1.0989913782473266,
          0.4573973997223406,
          -1.6674459041243,
          0.13256166644037015,
          -0.7662112574506679,
          -0.6030276098968368,
          2.324055715057974,
          0.519139017155852,
          1.5854011486856008,
          -0.8140182188847669
         ]
        },
        {
         "boxpoints": false,
         "line": {
          "width": 1.3
         },
         "marker": {
          "color": "rgba(55, 128, 191, 1.0)"
         },
         "name": "B",
         "orientation": "v",
         "type": "box",
         "y": [
          0.020446733117837387,
          -0.13142655753710328,
          2.1552942366317467,
          -0.7368030167193271,
          -0.15647700590177263,
          0.6227231939705729,
          -1.6691369374293619,
          -1.2303447427755323,
          0.643022860548499,
          0.021586526736260724,
          -1.7169237831599646,
          0.22218243580981564,
          0.36584301376601014,
          0.026480636897801314,
          -0.43463437249302705,
          0.6051183133216308,
          -0.04743338759975797,
          -1.0437386290390713,
          0.7634534487337309,
          1.8374145183566533,
          -0.06536138852479652,
          0.7189252425600876,
          1.618990179663656,
          -0.1292282991611609,
          1.1273662797944604,
          0.6190874181543614,
          0.06368225620831357,
          0.46551790697162204,
          1.209953364299594,
          -2.369297044199571,
          0.8474003322921112,
          -0.940570263581015,
          -1.733441623719393,
          0.026841257964993363,
          -1.16890351164535,
          2.444181611176374,
          0.32751014394035766,
          -0.7403796216695913,
          0.974192465330595,
          -1.3419718295456629,
          0.06753401710505501,
          0.3995579413779053,
          1.4715788524730944,
          1.3058590299377058,
          0.47396800523908605,
          -0.8533959337453239,
          -0.04513824946522313,
          1.5989310069722822,
          0.8209975940625924,
          0.9130159745522907,
          0.631805379794073,
          0.6871572685821035,
          0.4045330817197545,
          1.2699208282991628,
          -0.6115479531451279,
          0.888004086618221,
          -0.16824686224817828,
          0.5678427897742637,
          -0.10410397427380996,
          -2.3038112907761277,
          0.41334310863275886,
          1.6928037846747235,
          0.392241308944528,
          -0.60184778036844,
          0.15205225924987986,
          1.6218704586678105,
          0.2201422071654261,
          -1.3786178164447496,
          -0.19056231682640878,
          -1.9889018202432063,
          -0.280718466698838,
          -1.771621395021947,
          1.155531507522197,
          -0.4552613825429717,
          -0.14485092590175166,
          -1.4283535464664365,
          -0.03840435986495959,
          -0.48667075998421944,
          -0.9941041935759036,
          -0.43719948750326876,
          1.2258685272598313,
          0.41068441181305554,
          0.7819145340879001,
          0.38400754270393317,
          -0.2149342584479373,
          -0.06703890319057035,
          0.355262197350419,
          -0.4613181548267008,
          -0.8533370162794723,
          -1.744887650467091,
          -0.7983995491067819,
          0.03200564722701361,
          1.2726655310355808,
          0.1599056042426869,
          0.756455417298015,
          0.5128717405086298,
          1.2974121723462697,
          0.8823627599399996,
          -0.567302174615601,
          0.0697729567365461
         ]
        },
        {
         "boxpoints": false,
         "line": {
          "width": 1.3
         },
         "marker": {
          "color": "rgba(50, 171, 96, 1.0)"
         },
         "name": "C",
         "orientation": "v",
         "type": "box",
         "y": [
          0.22732938506030448,
          -0.5643669302842955,
          -1.313722011081908,
          1.0163970133207245,
          0.5229582751053584,
          0.595833021756602,
          0.11344979750684121,
          0.7747931294729858,
          -1.568519653457817,
          0.6187789381697351,
          -1.0383969049034958,
          -1.6875743505925955,
          0.6186950148297927,
          -0.04204938040299849,
          0.09662339062791474,
          -0.1568688808670259,
          0.346524119463329,
          -1.429493553357895,
          -0.7466904358430473,
          -1.0180672553465524,
          0.7008780191227159,
          0.30696332826553274,
          -0.31143775218437814,
          1.825488504701764,
          0.35516864391917474,
          -0.38946556987045367,
          -0.6392573005794727,
          -1.091679868647396,
          -1.0446751563544818,
          0.4325562578560166,
          1.3018270911586034,
          1.112556888348836,
          -0.7731044626717067,
          -0.614744560394022,
          -0.8695130832810692,
          0.7871129659713763,
          1.452485209986683,
          -0.562010754629272,
          0.6573493790409521,
          1.815247685635861,
          -0.326140134461283,
          2.2714807032998694,
          0.38365460401999896,
          1.020130050934682,
          0.697603120171272,
          0.5795947310854617,
          -0.08591242375449441,
          -1.057789044213953,
          -0.1114765716237359,
          0.777809823132227,
          0.7685945504497308,
          -0.030538124608908396,
          -0.018533530874105784,
          -0.5692750110003424,
          2.5255605365251323,
          -0.8212829782259444,
          0.3321730707361428,
          0.5333999185030921,
          -0.08706769349988827,
          -1.0485261616848858,
          0.30040476151573203,
          -0.9458791527522263,
          2.489871585940211,
          -1.8713242575511513,
          -0.1616233238488484,
          -0.17112135867959025,
          0.09838102764715186,
          0.10023229886659617,
          2.762206064299176,
          -0.9417919800836461,
          -1.1413166219516113,
          -0.4664334734813527,
          0.004734173816949858,
          0.27625032417049566,
          -1.612359086650145,
          0.4080191930426905,
          -0.9092042775507635,
          -0.2035328180827829,
          -0.8644537681515296,
          -0.711102715034272,
          -1.610044441107284,
          -0.8342944210699971,
          1.2713088416439782,
          0.434400974815181,
          0.8443958621352657,
          -0.16525839864417344,
          1.5080985276725194,
          0.3470001222237344,
          -1.2288651037203575,
          0.293108662128752,
          -0.3305845512896531,
          -1.780722721415806,
          -1.2311573483105316,
          -1.1466498341572549,
          -0.16712154575823085,
          -1.0748903216037546,
          -0.399294360798341,
          0.29726369047821,
          0.5637649065705606,
          -1.6124846290428798
         ]
        },
        {
         "boxpoints": false,
         "line": {
          "width": 1.3
         },
         "marker": {
          "color": "rgba(128, 0, 128, 1.0)"
         },
         "name": "D",
         "orientation": "v",
         "type": "box",
         "y": [
          0.11217771970799818,
          0.39477392305306097,
          -0.6359822678110904,
          -0.17596600208882143,
          1.0905878457835223,
          -0.21352131965121662,
          -0.016626607222570096,
          -1.1133666517931138,
          0.4525476031536588,
          -1.2510496534635616,
          2.918575284528553,
          0.12805362295907827,
          -0.16201779720114132,
          -1.6132198624318677,
          -0.35277979723911507,
          -1.1362752153118836,
          1.368161680526287,
          -1.0437923672559235,
          -0.7398038635483111,
          0.00459272667543897,
          0.875489098040318,
          -0.4893680617860016,
          0.4576602143537095,
          1.894714670073871,
          0.14983496682169892,
          1.4075540868517387,
          1.2033377322553152,
          2.1859911780898575,
          -0.45081763797717067,
          -0.2025028100014118,
          1.01149308161552,
          0.6964239541863181,
          0.7883417392529258,
          -0.007985737874252082,
          1.1458029482951884,
          -0.40235737437457925,
          -1.8355464509386143,
          1.2902283139453403,
          -0.3515926552114298,
          0.025628821213945503,
          0.9077766275682648,
          -2.0057443039000935,
          0.3837364593184679,
          1.7664451480034642,
          -0.800134531633424,
          0.48568720261757,
          0.49643773643784755,
          0.12317982550121122,
          0.3720751006775519,
          -0.37483094708892506,
          1.494865905332058,
          1.453972813605369,
          -1.1321177408728615,
          0.8321134858548878,
          -0.3789547830190396,
          0.8112663382216834,
          -2.1567893714755715,
          1.222028931609825,
          -1.1279953086462295,
          0.47202666348057615,
          -0.010321353996273118,
          -0.27291938273255617,
          -0.8669337703947283,
          -0.2030125878043635,
          -0.2909312007530726,
          0.8225310825414889,
          0.10905235941003295,
          0.44089934178858253,
          0.760699307521531,
          -0.40083305559310706,
          -2.4821152430767532,
          0.596903430626642,
          0.37683664931203636,
          1.3437503100681012,
          -1.2720862912169242,
          -0.3736302716050329,
          0.3093762055520044,
          0.7706661965543218,
          0.7635088052740517,
          -0.24992815278168945,
          0.08287011750932755,
          0.5357142688268939,
          -0.13432890079377094,
          -0.3530411912246393,
          -0.4773793846878311,
          -0.7343947951715286,
          0.6473540733438989,
          0.18341366164022121,
          0.5031180260567227,
          -0.16985512294781832,
          0.5287611207169758,
          1.5523393053212802,
          0.23336625645824333,
          0.012565043064252893,
          -0.8822423606821992,
          0.3716550653445206,
          0.8422688943004077,
          -1.6773495783230186,
          0.2421018678565944,
          -1.3883186278227082
         ]
        }
       ],
       "layout": {
        "legend": {
         "bgcolor": "#F5F6F9",
         "font": {
          "color": "#4D5663"
         }
        },
        "paper_bgcolor": "#F5F6F9",
        "plot_bgcolor": "#F5F6F9",
        "template": {
         "data": {
          "bar": [
           {
            "error_x": {
             "color": "#2a3f5f"
            },
            "error_y": {
             "color": "#2a3f5f"
            },
            "marker": {
             "line": {
              "color": "#E5ECF6",
              "width": 0.5
             },
             "pattern": {
              "fillmode": "overlay",
              "size": 10,
              "solidity": 0.2
             }
            },
            "type": "bar"
           }
          ],
          "barpolar": [
           {
            "marker": {
             "line": {
              "color": "#E5ECF6",
              "width": 0.5
             },
             "pattern": {
              "fillmode": "overlay",
              "size": 10,
              "solidity": 0.2
             }
            },
            "type": "barpolar"
           }
          ],
          "carpet": [
           {
            "aaxis": {
             "endlinecolor": "#2a3f5f",
             "gridcolor": "white",
             "linecolor": "white",
             "minorgridcolor": "white",
             "startlinecolor": "#2a3f5f"
            },
            "baxis": {
             "endlinecolor": "#2a3f5f",
             "gridcolor": "white",
             "linecolor": "white",
             "minorgridcolor": "white",
             "startlinecolor": "#2a3f5f"
            },
            "type": "carpet"
           }
          ],
          "choropleth": [
           {
            "colorbar": {
             "outlinewidth": 0,
             "ticks": ""
            },
            "type": "choropleth"
           }
          ],
          "contour": [
           {
            "colorbar": {
             "outlinewidth": 0,
             "ticks": ""
            },
            "colorscale": [
             [
              0,
              "#0d0887"
             ],
             [
              0.1111111111111111,
              "#46039f"
             ],
             [
              0.2222222222222222,
              "#7201a8"
             ],
             [
              0.3333333333333333,
              "#9c179e"
             ],
             [
              0.4444444444444444,
              "#bd3786"
             ],
             [
              0.5555555555555556,
              "#d8576b"
             ],
             [
              0.6666666666666666,
              "#ed7953"
             ],
             [
              0.7777777777777778,
              "#fb9f3a"
             ],
             [
              0.8888888888888888,
              "#fdca26"
             ],
             [
              1,
              "#f0f921"
             ]
            ],
            "type": "contour"
           }
          ],
          "contourcarpet": [
           {
            "colorbar": {
             "outlinewidth": 0,
             "ticks": ""
            },
            "type": "contourcarpet"
           }
          ],
          "heatmap": [
           {
            "colorbar": {
             "outlinewidth": 0,
             "ticks": ""
            },
            "colorscale": [
             [
              0,
              "#0d0887"
             ],
             [
              0.1111111111111111,
              "#46039f"
             ],
             [
              0.2222222222222222,
              "#7201a8"
             ],
             [
              0.3333333333333333,
              "#9c179e"
             ],
             [
              0.4444444444444444,
              "#bd3786"
             ],
             [
              0.5555555555555556,
              "#d8576b"
             ],
             [
              0.6666666666666666,
              "#ed7953"
             ],
             [
              0.7777777777777778,
              "#fb9f3a"
             ],
             [
              0.8888888888888888,
              "#fdca26"
             ],
             [
              1,
              "#f0f921"
             ]
            ],
            "type": "heatmap"
           }
          ],
          "heatmapgl": [
           {
            "colorbar": {
             "outlinewidth": 0,
             "ticks": ""
            },
            "colorscale": [
             [
              0,
              "#0d0887"
             ],
             [
              0.1111111111111111,
              "#46039f"
             ],
             [
              0.2222222222222222,
              "#7201a8"
             ],
             [
              0.3333333333333333,
              "#9c179e"
             ],
             [
              0.4444444444444444,
              "#bd3786"
             ],
             [
              0.5555555555555556,
              "#d8576b"
             ],
             [
              0.6666666666666666,
              "#ed7953"
             ],
             [
              0.7777777777777778,
              "#fb9f3a"
             ],
             [
              0.8888888888888888,
              "#fdca26"
             ],
             [
              1,
              "#f0f921"
             ]
            ],
            "type": "heatmapgl"
           }
          ],
          "histogram": [
           {
            "marker": {
             "pattern": {
              "fillmode": "overlay",
              "size": 10,
              "solidity": 0.2
             }
            },
            "type": "histogram"
           }
          ],
          "histogram2d": [
           {
            "colorbar": {
             "outlinewidth": 0,
             "ticks": ""
            },
            "colorscale": [
             [
              0,
              "#0d0887"
             ],
             [
              0.1111111111111111,
              "#46039f"
             ],
             [
              0.2222222222222222,
              "#7201a8"
             ],
             [
              0.3333333333333333,
              "#9c179e"
             ],
             [
              0.4444444444444444,
              "#bd3786"
             ],
             [
              0.5555555555555556,
              "#d8576b"
             ],
             [
              0.6666666666666666,
              "#ed7953"
             ],
             [
              0.7777777777777778,
              "#fb9f3a"
             ],
             [
              0.8888888888888888,
              "#fdca26"
             ],
             [
              1,
              "#f0f921"
             ]
            ],
            "type": "histogram2d"
           }
          ],
          "histogram2dcontour": [
           {
            "colorbar": {
             "outlinewidth": 0,
             "ticks": ""
            },
            "colorscale": [
             [
              0,
              "#0d0887"
             ],
             [
              0.1111111111111111,
              "#46039f"
             ],
             [
              0.2222222222222222,
              "#7201a8"
             ],
             [
              0.3333333333333333,
              "#9c179e"
             ],
             [
              0.4444444444444444,
              "#bd3786"
             ],
             [
              0.5555555555555556,
              "#d8576b"
             ],
             [
              0.6666666666666666,
              "#ed7953"
             ],
             [
              0.7777777777777778,
              "#fb9f3a"
             ],
             [
              0.8888888888888888,
              "#fdca26"
             ],
             [
              1,
              "#f0f921"
             ]
            ],
            "type": "histogram2dcontour"
           }
          ],
          "mesh3d": [
           {
            "colorbar": {
             "outlinewidth": 0,
             "ticks": ""
            },
            "type": "mesh3d"
           }
          ],
          "parcoords": [
           {
            "line": {
             "colorbar": {
              "outlinewidth": 0,
              "ticks": ""
             }
            },
            "type": "parcoords"
           }
          ],
          "pie": [
           {
            "automargin": true,
            "type": "pie"
           }
          ],
          "scatter": [
           {
            "fillpattern": {
             "fillmode": "overlay",
             "size": 10,
             "solidity": 0.2
            },
            "type": "scatter"
           }
          ],
          "scatter3d": [
           {
            "line": {
             "colorbar": {
              "outlinewidth": 0,
              "ticks": ""
             }
            },
            "marker": {
             "colorbar": {
              "outlinewidth": 0,
              "ticks": ""
             }
            },
            "type": "scatter3d"
           }
          ],
          "scattercarpet": [
           {
            "marker": {
             "colorbar": {
              "outlinewidth": 0,
              "ticks": ""
             }
            },
            "type": "scattercarpet"
           }
          ],
          "scattergeo": [
           {
            "marker": {
             "colorbar": {
              "outlinewidth": 0,
              "ticks": ""
             }
            },
            "type": "scattergeo"
           }
          ],
          "scattergl": [
           {
            "marker": {
             "colorbar": {
              "outlinewidth": 0,
              "ticks": ""
             }
            },
            "type": "scattergl"
           }
          ],
          "scattermapbox": [
           {
            "marker": {
             "colorbar": {
              "outlinewidth": 0,
              "ticks": ""
             }
            },
            "type": "scattermapbox"
           }
          ],
          "scatterpolar": [
           {
            "marker": {
             "colorbar": {
              "outlinewidth": 0,
              "ticks": ""
             }
            },
            "type": "scatterpolar"
           }
          ],
          "scatterpolargl": [
           {
            "marker": {
             "colorbar": {
              "outlinewidth": 0,
              "ticks": ""
             }
            },
            "type": "scatterpolargl"
           }
          ],
          "scatterternary": [
           {
            "marker": {
             "colorbar": {
              "outlinewidth": 0,
              "ticks": ""
             }
            },
            "type": "scatterternary"
           }
          ],
          "surface": [
           {
            "colorbar": {
             "outlinewidth": 0,
             "ticks": ""
            },
            "colorscale": [
             [
              0,
              "#0d0887"
             ],
             [
              0.1111111111111111,
              "#46039f"
             ],
             [
              0.2222222222222222,
              "#7201a8"
             ],
             [
              0.3333333333333333,
              "#9c179e"
             ],
             [
              0.4444444444444444,
              "#bd3786"
             ],
             [
              0.5555555555555556,
              "#d8576b"
             ],
             [
              0.6666666666666666,
              "#ed7953"
             ],
             [
              0.7777777777777778,
              "#fb9f3a"
             ],
             [
              0.8888888888888888,
              "#fdca26"
             ],
             [
              1,
              "#f0f921"
             ]
            ],
            "type": "surface"
           }
          ],
          "table": [
           {
            "cells": {
             "fill": {
              "color": "#EBF0F8"
             },
             "line": {
              "color": "white"
             }
            },
            "header": {
             "fill": {
              "color": "#C8D4E3"
             },
             "line": {
              "color": "white"
             }
            },
            "type": "table"
           }
          ]
         },
         "layout": {
          "annotationdefaults": {
           "arrowcolor": "#2a3f5f",
           "arrowhead": 0,
           "arrowwidth": 1
          },
          "autotypenumbers": "strict",
          "coloraxis": {
           "colorbar": {
            "outlinewidth": 0,
            "ticks": ""
           }
          },
          "colorscale": {
           "diverging": [
            [
             0,
             "#8e0152"
            ],
            [
             0.1,
             "#c51b7d"
            ],
            [
             0.2,
             "#de77ae"
            ],
            [
             0.3,
             "#f1b6da"
            ],
            [
             0.4,
             "#fde0ef"
            ],
            [
             0.5,
             "#f7f7f7"
            ],
            [
             0.6,
             "#e6f5d0"
            ],
            [
             0.7,
             "#b8e186"
            ],
            [
             0.8,
             "#7fbc41"
            ],
            [
             0.9,
             "#4d9221"
            ],
            [
             1,
             "#276419"
            ]
           ],
           "sequential": [
            [
             0,
             "#0d0887"
            ],
            [
             0.1111111111111111,
             "#46039f"
            ],
            [
             0.2222222222222222,
             "#7201a8"
            ],
            [
             0.3333333333333333,
             "#9c179e"
            ],
            [
             0.4444444444444444,
             "#bd3786"
            ],
            [
             0.5555555555555556,
             "#d8576b"
            ],
            [
             0.6666666666666666,
             "#ed7953"
            ],
            [
             0.7777777777777778,
             "#fb9f3a"
            ],
            [
             0.8888888888888888,
             "#fdca26"
            ],
            [
             1,
             "#f0f921"
            ]
           ],
           "sequentialminus": [
            [
             0,
             "#0d0887"
            ],
            [
             0.1111111111111111,
             "#46039f"
            ],
            [
             0.2222222222222222,
             "#7201a8"
            ],
            [
             0.3333333333333333,
             "#9c179e"
            ],
            [
             0.4444444444444444,
             "#bd3786"
            ],
            [
             0.5555555555555556,
             "#d8576b"
            ],
            [
             0.6666666666666666,
             "#ed7953"
            ],
            [
             0.7777777777777778,
             "#fb9f3a"
            ],
            [
             0.8888888888888888,
             "#fdca26"
            ],
            [
             1,
             "#f0f921"
            ]
           ]
          },
          "colorway": [
           "#636efa",
           "#EF553B",
           "#00cc96",
           "#ab63fa",
           "#FFA15A",
           "#19d3f3",
           "#FF6692",
           "#B6E880",
           "#FF97FF",
           "#FECB52"
          ],
          "font": {
           "color": "#2a3f5f"
          },
          "geo": {
           "bgcolor": "white",
           "lakecolor": "white",
           "landcolor": "#E5ECF6",
           "showlakes": true,
           "showland": true,
           "subunitcolor": "white"
          },
          "hoverlabel": {
           "align": "left"
          },
          "hovermode": "closest",
          "mapbox": {
           "style": "light"
          },
          "paper_bgcolor": "white",
          "plot_bgcolor": "#E5ECF6",
          "polar": {
           "angularaxis": {
            "gridcolor": "white",
            "linecolor": "white",
            "ticks": ""
           },
           "bgcolor": "#E5ECF6",
           "radialaxis": {
            "gridcolor": "white",
            "linecolor": "white",
            "ticks": ""
           }
          },
          "scene": {
           "xaxis": {
            "backgroundcolor": "#E5ECF6",
            "gridcolor": "white",
            "gridwidth": 2,
            "linecolor": "white",
            "showbackground": true,
            "ticks": "",
            "zerolinecolor": "white"
           },
           "yaxis": {
            "backgroundcolor": "#E5ECF6",
            "gridcolor": "white",
            "gridwidth": 2,
            "linecolor": "white",
            "showbackground": true,
            "ticks": "",
            "zerolinecolor": "white"
           },
           "zaxis": {
            "backgroundcolor": "#E5ECF6",
            "gridcolor": "white",
            "gridwidth": 2,
            "linecolor": "white",
            "showbackground": true,
            "ticks": "",
            "zerolinecolor": "white"
           }
          },
          "shapedefaults": {
           "line": {
            "color": "#2a3f5f"
           }
          },
          "ternary": {
           "aaxis": {
            "gridcolor": "white",
            "linecolor": "white",
            "ticks": ""
           },
           "baxis": {
            "gridcolor": "white",
            "linecolor": "white",
            "ticks": ""
           },
           "bgcolor": "#E5ECF6",
           "caxis": {
            "gridcolor": "white",
            "linecolor": "white",
            "ticks": ""
           }
          },
          "title": {
           "x": 0.05
          },
          "xaxis": {
           "automargin": true,
           "gridcolor": "white",
           "linecolor": "white",
           "ticks": "",
           "title": {
            "standoff": 15
           },
           "zerolinecolor": "white",
           "zerolinewidth": 2
          },
          "yaxis": {
           "automargin": true,
           "gridcolor": "white",
           "linecolor": "white",
           "ticks": "",
           "title": {
            "standoff": 15
           },
           "zerolinecolor": "white",
           "zerolinewidth": 2
          }
         }
        },
        "title": {
         "font": {
          "color": "#4D5663"
         }
        },
        "xaxis": {
         "gridcolor": "#E1E5ED",
         "showgrid": true,
         "tickfont": {
          "color": "#4D5663"
         },
         "title": {
          "font": {
           "color": "#4D5663"
          },
          "text": ""
         },
         "zerolinecolor": "#E1E5ED"
        },
        "yaxis": {
         "gridcolor": "#E1E5ED",
         "showgrid": true,
         "tickfont": {
          "color": "#4D5663"
         },
         "title": {
          "font": {
           "color": "#4D5663"
          },
          "text": ""
         },
         "zerolinecolor": "#E1E5ED"
        }
       }
      },
      "text/html": [
       "<div>                            <div id=\"346801d3-1aab-4e47-86b9-563e13af48f4\" class=\"plotly-graph-div\" style=\"height:525px; width:100%;\"></div>            <script type=\"text/javascript\">                require([\"plotly\"], function(Plotly) {                    window.PLOTLYENV=window.PLOTLYENV || {};\n",
       "                    window.PLOTLYENV.BASE_URL='https://plot.ly';                                    if (document.getElementById(\"346801d3-1aab-4e47-86b9-563e13af48f4\")) {                    Plotly.newPlot(                        \"346801d3-1aab-4e47-86b9-563e13af48f4\",                        [{\"boxpoints\":false,\"line\":{\"width\":1.3},\"marker\":{\"color\":\"rgba(255, 153, 51, 1.0)\"},\"name\":\"A\",\"orientation\":\"v\",\"y\":[1.703030536865381,0.057715736526326965,1.806753252426194,-0.28507382165451167,0.8448103032083629,1.9356544563192983,0.25265645003993437,-0.7108407175975264,0.20407341105116586,-0.9631835128284022,-2.313929528277395,1.8504210053906285,0.11575887999256226,-1.6797795335634507,0.32101675906697663,-0.029421517263010833,0.916862588487737,0.5005943184489355,0.47748875080863645,-1.4445253371836875,-0.7490423417159519,0.8307497872518788,-1.2944740230747616,0.562061709877203,0.8221148785197783,-0.7523094282677261,-0.26373004757776175,0.5258232470067837,0.940979809508781,0.23178863608136288,-0.3999835749531784,-1.5877557479545665,1.3117797268833151,0.5277915175274164,0.055985875744130185,0.22757050286605102,-1.0518642709521109,-2.2809456910838524,-0.1304241624464754,-0.1908037005073423,0.24896485240145314,-0.04471771013045752,-0.9701184869344839,1.0990611188514359,0.12340353879664699,0.0753800392632158,-0.0662171730054763,-0.35308229736830216,-0.10945749618170171,-1.6329769246665042,-2.2167020173795096,0.2726812030775698,-0.1455257739888572,0.6511061330588763,-0.4401251895987155,-0.4561258898920153,0.09968968653804522,-0.6599742180242933,-1.530117369231545,-0.6996345378686805,1.4655432843735978,0.1440603081792614,-0.7928080218222593,0.9629631226294447,0.21702547598133207,-0.041302322471019656,0.6933637350395077,0.15085198288439183,-0.5110684458127188,0.7423426360891041,-0.2790365281483132,-0.21438293119597363,1.3897821201574414,-0.05515767789216785,-1.18290717597586,1.5145019130226023,0.08103465020839139,-1.376004787846036,1.365053587926242,0.18655028290427167,0.1568399485803906,0.2093824677298707,-0.03481088445587469,0.9900655976655112,0.47820191801570666,-1.3762517202742317,0.982440826684452,0.35343255249727457,-0.5787230512640728,0.4663012854591553,-1.0989913782473266,0.4573973997223406,-1.6674459041243,0.13256166644037015,-0.7662112574506679,-0.6030276098968368,2.324055715057974,0.519139017155852,1.5854011486856008,-0.8140182188847669],\"type\":\"box\"},{\"boxpoints\":false,\"line\":{\"width\":1.3},\"marker\":{\"color\":\"rgba(55, 128, 191, 1.0)\"},\"name\":\"B\",\"orientation\":\"v\",\"y\":[0.020446733117837387,-0.13142655753710328,2.1552942366317467,-0.7368030167193271,-0.15647700590177263,0.6227231939705729,-1.6691369374293619,-1.2303447427755323,0.643022860548499,0.021586526736260724,-1.7169237831599646,0.22218243580981564,0.36584301376601014,0.026480636897801314,-0.43463437249302705,0.6051183133216308,-0.04743338759975797,-1.0437386290390713,0.7634534487337309,1.8374145183566533,-0.06536138852479652,0.7189252425600876,1.618990179663656,-0.1292282991611609,1.1273662797944604,0.6190874181543614,0.06368225620831357,0.46551790697162204,1.209953364299594,-2.369297044199571,0.8474003322921112,-0.940570263581015,-1.733441623719393,0.026841257964993363,-1.16890351164535,2.444181611176374,0.32751014394035766,-0.7403796216695913,0.974192465330595,-1.3419718295456629,0.06753401710505501,0.3995579413779053,1.4715788524730944,1.3058590299377058,0.47396800523908605,-0.8533959337453239,-0.04513824946522313,1.5989310069722822,0.8209975940625924,0.9130159745522907,0.631805379794073,0.6871572685821035,0.4045330817197545,1.2699208282991628,-0.6115479531451279,0.888004086618221,-0.16824686224817828,0.5678427897742637,-0.10410397427380996,-2.3038112907761277,0.41334310863275886,1.6928037846747235,0.392241308944528,-0.60184778036844,0.15205225924987986,1.6218704586678105,0.2201422071654261,-1.3786178164447496,-0.19056231682640878,-1.9889018202432063,-0.280718466698838,-1.771621395021947,1.155531507522197,-0.4552613825429717,-0.14485092590175166,-1.4283535464664365,-0.03840435986495959,-0.48667075998421944,-0.9941041935759036,-0.43719948750326876,1.2258685272598313,0.41068441181305554,0.7819145340879001,0.38400754270393317,-0.2149342584479373,-0.06703890319057035,0.355262197350419,-0.4613181548267008,-0.8533370162794723,-1.744887650467091,-0.7983995491067819,0.03200564722701361,1.2726655310355808,0.1599056042426869,0.756455417298015,0.5128717405086298,1.2974121723462697,0.8823627599399996,-0.567302174615601,0.0697729567365461],\"type\":\"box\"},{\"boxpoints\":false,\"line\":{\"width\":1.3},\"marker\":{\"color\":\"rgba(50, 171, 96, 1.0)\"},\"name\":\"C\",\"orientation\":\"v\",\"y\":[0.22732938506030448,-0.5643669302842955,-1.313722011081908,1.0163970133207245,0.5229582751053584,0.595833021756602,0.11344979750684121,0.7747931294729858,-1.568519653457817,0.6187789381697351,-1.0383969049034958,-1.6875743505925955,0.6186950148297927,-0.04204938040299849,0.09662339062791474,-0.1568688808670259,0.346524119463329,-1.429493553357895,-0.7466904358430473,-1.0180672553465524,0.7008780191227159,0.30696332826553274,-0.31143775218437814,1.825488504701764,0.35516864391917474,-0.38946556987045367,-0.6392573005794727,-1.091679868647396,-1.0446751563544818,0.4325562578560166,1.3018270911586034,1.112556888348836,-0.7731044626717067,-0.614744560394022,-0.8695130832810692,0.7871129659713763,1.452485209986683,-0.562010754629272,0.6573493790409521,1.815247685635861,-0.326140134461283,2.2714807032998694,0.38365460401999896,1.020130050934682,0.697603120171272,0.5795947310854617,-0.08591242375449441,-1.057789044213953,-0.1114765716237359,0.777809823132227,0.7685945504497308,-0.030538124608908396,-0.018533530874105784,-0.5692750110003424,2.5255605365251323,-0.8212829782259444,0.3321730707361428,0.5333999185030921,-0.08706769349988827,-1.0485261616848858,0.30040476151573203,-0.9458791527522263,2.489871585940211,-1.8713242575511513,-0.1616233238488484,-0.17112135867959025,0.09838102764715186,0.10023229886659617,2.762206064299176,-0.9417919800836461,-1.1413166219516113,-0.4664334734813527,0.004734173816949858,0.27625032417049566,-1.612359086650145,0.4080191930426905,-0.9092042775507635,-0.2035328180827829,-0.8644537681515296,-0.711102715034272,-1.610044441107284,-0.8342944210699971,1.2713088416439782,0.434400974815181,0.8443958621352657,-0.16525839864417344,1.5080985276725194,0.3470001222237344,-1.2288651037203575,0.293108662128752,-0.3305845512896531,-1.780722721415806,-1.2311573483105316,-1.1466498341572549,-0.16712154575823085,-1.0748903216037546,-0.399294360798341,0.29726369047821,0.5637649065705606,-1.6124846290428798],\"type\":\"box\"},{\"boxpoints\":false,\"line\":{\"width\":1.3},\"marker\":{\"color\":\"rgba(128, 0, 128, 1.0)\"},\"name\":\"D\",\"orientation\":\"v\",\"y\":[0.11217771970799818,0.39477392305306097,-0.6359822678110904,-0.17596600208882143,1.0905878457835223,-0.21352131965121662,-0.016626607222570096,-1.1133666517931138,0.4525476031536588,-1.2510496534635616,2.918575284528553,0.12805362295907827,-0.16201779720114132,-1.6132198624318677,-0.35277979723911507,-1.1362752153118836,1.368161680526287,-1.0437923672559235,-0.7398038635483111,0.00459272667543897,0.875489098040318,-0.4893680617860016,0.4576602143537095,1.894714670073871,0.14983496682169892,1.4075540868517387,1.2033377322553152,2.1859911780898575,-0.45081763797717067,-0.2025028100014118,1.01149308161552,0.6964239541863181,0.7883417392529258,-0.007985737874252082,1.1458029482951884,-0.40235737437457925,-1.8355464509386143,1.2902283139453403,-0.3515926552114298,0.025628821213945503,0.9077766275682648,-2.0057443039000935,0.3837364593184679,1.7664451480034642,-0.800134531633424,0.48568720261757,0.49643773643784755,0.12317982550121122,0.3720751006775519,-0.37483094708892506,1.494865905332058,1.453972813605369,-1.1321177408728615,0.8321134858548878,-0.3789547830190396,0.8112663382216834,-2.1567893714755715,1.222028931609825,-1.1279953086462295,0.47202666348057615,-0.010321353996273118,-0.27291938273255617,-0.8669337703947283,-0.2030125878043635,-0.2909312007530726,0.8225310825414889,0.10905235941003295,0.44089934178858253,0.760699307521531,-0.40083305559310706,-2.4821152430767532,0.596903430626642,0.37683664931203636,1.3437503100681012,-1.2720862912169242,-0.3736302716050329,0.3093762055520044,0.7706661965543218,0.7635088052740517,-0.24992815278168945,0.08287011750932755,0.5357142688268939,-0.13432890079377094,-0.3530411912246393,-0.4773793846878311,-0.7343947951715286,0.6473540733438989,0.18341366164022121,0.5031180260567227,-0.16985512294781832,0.5287611207169758,1.5523393053212802,0.23336625645824333,0.012565043064252893,-0.8822423606821992,0.3716550653445206,0.8422688943004077,-1.6773495783230186,0.2421018678565944,-1.3883186278227082],\"type\":\"box\"}],                        {\"legend\":{\"bgcolor\":\"#F5F6F9\",\"font\":{\"color\":\"#4D5663\"}},\"paper_bgcolor\":\"#F5F6F9\",\"plot_bgcolor\":\"#F5F6F9\",\"template\":{\"data\":{\"barpolar\":[{\"marker\":{\"line\":{\"color\":\"#E5ECF6\",\"width\":0.5},\"pattern\":{\"fillmode\":\"overlay\",\"size\":10,\"solidity\":0.2}},\"type\":\"barpolar\"}],\"bar\":[{\"error_x\":{\"color\":\"#2a3f5f\"},\"error_y\":{\"color\":\"#2a3f5f\"},\"marker\":{\"line\":{\"color\":\"#E5ECF6\",\"width\":0.5},\"pattern\":{\"fillmode\":\"overlay\",\"size\":10,\"solidity\":0.2}},\"type\":\"bar\"}],\"carpet\":[{\"aaxis\":{\"endlinecolor\":\"#2a3f5f\",\"gridcolor\":\"white\",\"linecolor\":\"white\",\"minorgridcolor\":\"white\",\"startlinecolor\":\"#2a3f5f\"},\"baxis\":{\"endlinecolor\":\"#2a3f5f\",\"gridcolor\":\"white\",\"linecolor\":\"white\",\"minorgridcolor\":\"white\",\"startlinecolor\":\"#2a3f5f\"},\"type\":\"carpet\"}],\"choropleth\":[{\"colorbar\":{\"outlinewidth\":0,\"ticks\":\"\"},\"type\":\"choropleth\"}],\"contourcarpet\":[{\"colorbar\":{\"outlinewidth\":0,\"ticks\":\"\"},\"type\":\"contourcarpet\"}],\"contour\":[{\"colorbar\":{\"outlinewidth\":0,\"ticks\":\"\"},\"colorscale\":[[0.0,\"#0d0887\"],[0.1111111111111111,\"#46039f\"],[0.2222222222222222,\"#7201a8\"],[0.3333333333333333,\"#9c179e\"],[0.4444444444444444,\"#bd3786\"],[0.5555555555555556,\"#d8576b\"],[0.6666666666666666,\"#ed7953\"],[0.7777777777777778,\"#fb9f3a\"],[0.8888888888888888,\"#fdca26\"],[1.0,\"#f0f921\"]],\"type\":\"contour\"}],\"heatmapgl\":[{\"colorbar\":{\"outlinewidth\":0,\"ticks\":\"\"},\"colorscale\":[[0.0,\"#0d0887\"],[0.1111111111111111,\"#46039f\"],[0.2222222222222222,\"#7201a8\"],[0.3333333333333333,\"#9c179e\"],[0.4444444444444444,\"#bd3786\"],[0.5555555555555556,\"#d8576b\"],[0.6666666666666666,\"#ed7953\"],[0.7777777777777778,\"#fb9f3a\"],[0.8888888888888888,\"#fdca26\"],[1.0,\"#f0f921\"]],\"type\":\"heatmapgl\"}],\"heatmap\":[{\"colorbar\":{\"outlinewidth\":0,\"ticks\":\"\"},\"colorscale\":[[0.0,\"#0d0887\"],[0.1111111111111111,\"#46039f\"],[0.2222222222222222,\"#7201a8\"],[0.3333333333333333,\"#9c179e\"],[0.4444444444444444,\"#bd3786\"],[0.5555555555555556,\"#d8576b\"],[0.6666666666666666,\"#ed7953\"],[0.7777777777777778,\"#fb9f3a\"],[0.8888888888888888,\"#fdca26\"],[1.0,\"#f0f921\"]],\"type\":\"heatmap\"}],\"histogram2dcontour\":[{\"colorbar\":{\"outlinewidth\":0,\"ticks\":\"\"},\"colorscale\":[[0.0,\"#0d0887\"],[0.1111111111111111,\"#46039f\"],[0.2222222222222222,\"#7201a8\"],[0.3333333333333333,\"#9c179e\"],[0.4444444444444444,\"#bd3786\"],[0.5555555555555556,\"#d8576b\"],[0.6666666666666666,\"#ed7953\"],[0.7777777777777778,\"#fb9f3a\"],[0.8888888888888888,\"#fdca26\"],[1.0,\"#f0f921\"]],\"type\":\"histogram2dcontour\"}],\"histogram2d\":[{\"colorbar\":{\"outlinewidth\":0,\"ticks\":\"\"},\"colorscale\":[[0.0,\"#0d0887\"],[0.1111111111111111,\"#46039f\"],[0.2222222222222222,\"#7201a8\"],[0.3333333333333333,\"#9c179e\"],[0.4444444444444444,\"#bd3786\"],[0.5555555555555556,\"#d8576b\"],[0.6666666666666666,\"#ed7953\"],[0.7777777777777778,\"#fb9f3a\"],[0.8888888888888888,\"#fdca26\"],[1.0,\"#f0f921\"]],\"type\":\"histogram2d\"}],\"histogram\":[{\"marker\":{\"pattern\":{\"fillmode\":\"overlay\",\"size\":10,\"solidity\":0.2}},\"type\":\"histogram\"}],\"mesh3d\":[{\"colorbar\":{\"outlinewidth\":0,\"ticks\":\"\"},\"type\":\"mesh3d\"}],\"parcoords\":[{\"line\":{\"colorbar\":{\"outlinewidth\":0,\"ticks\":\"\"}},\"type\":\"parcoords\"}],\"pie\":[{\"automargin\":true,\"type\":\"pie\"}],\"scatter3d\":[{\"line\":{\"colorbar\":{\"outlinewidth\":0,\"ticks\":\"\"}},\"marker\":{\"colorbar\":{\"outlinewidth\":0,\"ticks\":\"\"}},\"type\":\"scatter3d\"}],\"scattercarpet\":[{\"marker\":{\"colorbar\":{\"outlinewidth\":0,\"ticks\":\"\"}},\"type\":\"scattercarpet\"}],\"scattergeo\":[{\"marker\":{\"colorbar\":{\"outlinewidth\":0,\"ticks\":\"\"}},\"type\":\"scattergeo\"}],\"scattergl\":[{\"marker\":{\"colorbar\":{\"outlinewidth\":0,\"ticks\":\"\"}},\"type\":\"scattergl\"}],\"scattermapbox\":[{\"marker\":{\"colorbar\":{\"outlinewidth\":0,\"ticks\":\"\"}},\"type\":\"scattermapbox\"}],\"scatterpolargl\":[{\"marker\":{\"colorbar\":{\"outlinewidth\":0,\"ticks\":\"\"}},\"type\":\"scatterpolargl\"}],\"scatterpolar\":[{\"marker\":{\"colorbar\":{\"outlinewidth\":0,\"ticks\":\"\"}},\"type\":\"scatterpolar\"}],\"scatter\":[{\"fillpattern\":{\"fillmode\":\"overlay\",\"size\":10,\"solidity\":0.2},\"type\":\"scatter\"}],\"scatterternary\":[{\"marker\":{\"colorbar\":{\"outlinewidth\":0,\"ticks\":\"\"}},\"type\":\"scatterternary\"}],\"surface\":[{\"colorbar\":{\"outlinewidth\":0,\"ticks\":\"\"},\"colorscale\":[[0.0,\"#0d0887\"],[0.1111111111111111,\"#46039f\"],[0.2222222222222222,\"#7201a8\"],[0.3333333333333333,\"#9c179e\"],[0.4444444444444444,\"#bd3786\"],[0.5555555555555556,\"#d8576b\"],[0.6666666666666666,\"#ed7953\"],[0.7777777777777778,\"#fb9f3a\"],[0.8888888888888888,\"#fdca26\"],[1.0,\"#f0f921\"]],\"type\":\"surface\"}],\"table\":[{\"cells\":{\"fill\":{\"color\":\"#EBF0F8\"},\"line\":{\"color\":\"white\"}},\"header\":{\"fill\":{\"color\":\"#C8D4E3\"},\"line\":{\"color\":\"white\"}},\"type\":\"table\"}]},\"layout\":{\"annotationdefaults\":{\"arrowcolor\":\"#2a3f5f\",\"arrowhead\":0,\"arrowwidth\":1},\"autotypenumbers\":\"strict\",\"coloraxis\":{\"colorbar\":{\"outlinewidth\":0,\"ticks\":\"\"}},\"colorscale\":{\"diverging\":[[0,\"#8e0152\"],[0.1,\"#c51b7d\"],[0.2,\"#de77ae\"],[0.3,\"#f1b6da\"],[0.4,\"#fde0ef\"],[0.5,\"#f7f7f7\"],[0.6,\"#e6f5d0\"],[0.7,\"#b8e186\"],[0.8,\"#7fbc41\"],[0.9,\"#4d9221\"],[1,\"#276419\"]],\"sequential\":[[0.0,\"#0d0887\"],[0.1111111111111111,\"#46039f\"],[0.2222222222222222,\"#7201a8\"],[0.3333333333333333,\"#9c179e\"],[0.4444444444444444,\"#bd3786\"],[0.5555555555555556,\"#d8576b\"],[0.6666666666666666,\"#ed7953\"],[0.7777777777777778,\"#fb9f3a\"],[0.8888888888888888,\"#fdca26\"],[1.0,\"#f0f921\"]],\"sequentialminus\":[[0.0,\"#0d0887\"],[0.1111111111111111,\"#46039f\"],[0.2222222222222222,\"#7201a8\"],[0.3333333333333333,\"#9c179e\"],[0.4444444444444444,\"#bd3786\"],[0.5555555555555556,\"#d8576b\"],[0.6666666666666666,\"#ed7953\"],[0.7777777777777778,\"#fb9f3a\"],[0.8888888888888888,\"#fdca26\"],[1.0,\"#f0f921\"]]},\"colorway\":[\"#636efa\",\"#EF553B\",\"#00cc96\",\"#ab63fa\",\"#FFA15A\",\"#19d3f3\",\"#FF6692\",\"#B6E880\",\"#FF97FF\",\"#FECB52\"],\"font\":{\"color\":\"#2a3f5f\"},\"geo\":{\"bgcolor\":\"white\",\"lakecolor\":\"white\",\"landcolor\":\"#E5ECF6\",\"showlakes\":true,\"showland\":true,\"subunitcolor\":\"white\"},\"hoverlabel\":{\"align\":\"left\"},\"hovermode\":\"closest\",\"mapbox\":{\"style\":\"light\"},\"paper_bgcolor\":\"white\",\"plot_bgcolor\":\"#E5ECF6\",\"polar\":{\"angularaxis\":{\"gridcolor\":\"white\",\"linecolor\":\"white\",\"ticks\":\"\"},\"bgcolor\":\"#E5ECF6\",\"radialaxis\":{\"gridcolor\":\"white\",\"linecolor\":\"white\",\"ticks\":\"\"}},\"scene\":{\"xaxis\":{\"backgroundcolor\":\"#E5ECF6\",\"gridcolor\":\"white\",\"gridwidth\":2,\"linecolor\":\"white\",\"showbackground\":true,\"ticks\":\"\",\"zerolinecolor\":\"white\"},\"yaxis\":{\"backgroundcolor\":\"#E5ECF6\",\"gridcolor\":\"white\",\"gridwidth\":2,\"linecolor\":\"white\",\"showbackground\":true,\"ticks\":\"\",\"zerolinecolor\":\"white\"},\"zaxis\":{\"backgroundcolor\":\"#E5ECF6\",\"gridcolor\":\"white\",\"gridwidth\":2,\"linecolor\":\"white\",\"showbackground\":true,\"ticks\":\"\",\"zerolinecolor\":\"white\"}},\"shapedefaults\":{\"line\":{\"color\":\"#2a3f5f\"}},\"ternary\":{\"aaxis\":{\"gridcolor\":\"white\",\"linecolor\":\"white\",\"ticks\":\"\"},\"baxis\":{\"gridcolor\":\"white\",\"linecolor\":\"white\",\"ticks\":\"\"},\"bgcolor\":\"#E5ECF6\",\"caxis\":{\"gridcolor\":\"white\",\"linecolor\":\"white\",\"ticks\":\"\"}},\"title\":{\"x\":0.05},\"xaxis\":{\"automargin\":true,\"gridcolor\":\"white\",\"linecolor\":\"white\",\"ticks\":\"\",\"title\":{\"standoff\":15},\"zerolinecolor\":\"white\",\"zerolinewidth\":2},\"yaxis\":{\"automargin\":true,\"gridcolor\":\"white\",\"linecolor\":\"white\",\"ticks\":\"\",\"title\":{\"standoff\":15},\"zerolinecolor\":\"white\",\"zerolinewidth\":2}}},\"title\":{\"font\":{\"color\":\"#4D5663\"}},\"xaxis\":{\"gridcolor\":\"#E1E5ED\",\"showgrid\":true,\"tickfont\":{\"color\":\"#4D5663\"},\"title\":{\"font\":{\"color\":\"#4D5663\"},\"text\":\"\"},\"zerolinecolor\":\"#E1E5ED\"},\"yaxis\":{\"gridcolor\":\"#E1E5ED\",\"showgrid\":true,\"tickfont\":{\"color\":\"#4D5663\"},\"title\":{\"font\":{\"color\":\"#4D5663\"},\"text\":\"\"},\"zerolinecolor\":\"#E1E5ED\"}},                        {\"showLink\": true, \"linkText\": \"Export to plot.ly\", \"plotlyServerURL\": \"https://plot.ly\", \"responsive\": true}                    ).then(function(){\n",
       "                            \n",
       "var gd = document.getElementById('346801d3-1aab-4e47-86b9-563e13af48f4');\n",
       "var x = new MutationObserver(function (mutations, observer) {{\n",
       "        var display = window.getComputedStyle(gd).display;\n",
       "        if (!display || display === 'none') {{\n",
       "            console.log([gd, 'removed!']);\n",
       "            Plotly.purge(gd);\n",
       "            observer.disconnect();\n",
       "        }}\n",
       "}});\n",
       "\n",
       "// Listen for the removal of the full notebook cells\n",
       "var notebookContainer = gd.closest('#notebook-container');\n",
       "if (notebookContainer) {{\n",
       "    x.observe(notebookContainer, {childList: true});\n",
       "}}\n",
       "\n",
       "// Listen for the clearing of the current output cell\n",
       "var outputEl = gd.closest('.output');\n",
       "if (outputEl) {{\n",
       "    x.observe(outputEl, {childList: true});\n",
       "}}\n",
       "\n",
       "                        })                };                });            </script>        </div>"
      ]
     },
     "metadata": {},
     "output_type": "display_data"
    }
   ],
   "source": [
    "df.iplot(kind = 'box')"
   ]
  },
  {
   "cell_type": "markdown",
   "id": "5f20459c",
   "metadata": {},
   "source": [
    "# 3rd Surface"
   ]
  },
  {
   "cell_type": "code",
   "execution_count": 60,
   "id": "fd38b007",
   "metadata": {},
   "outputs": [
    {
     "data": {
      "application/vnd.plotly.v1+json": {
       "config": {
        "linkText": "Export to plot.ly",
        "plotlyServerURL": "https://plot.ly",
        "showLink": true
       },
       "data": [
        {
         "colorscale": [
          [
           0,
           "rgb(165,0,38)"
          ],
          [
           0.1,
           "rgb(215,48,39)"
          ],
          [
           0.2,
           "rgb(244,109,67)"
          ],
          [
           0.3,
           "rgb(253,174,97)"
          ],
          [
           0.4,
           "rgb(254,224,144)"
          ],
          [
           0.5,
           "rgb(255,255,191)"
          ],
          [
           0.6,
           "rgb(224,243,248)"
          ],
          [
           0.7,
           "rgb(171,217,233)"
          ],
          [
           0.8,
           "rgb(116,173,209)"
          ],
          [
           0.9,
           "rgb(69,117,180)"
          ],
          [
           1,
           "rgb(49,54,149)"
          ]
         ],
         "type": "surface",
         "x": [
          0,
          1,
          2,
          3,
          4
         ],
         "y": [
          "x",
          "y",
          "z"
         ],
         "z": [
          [
           1,
           2,
           3,
           4,
           5
          ],
          [
           10,
           20,
           30,
           20,
           10
          ],
          [
           5,
           4,
           3,
           2,
           1
          ]
         ]
        }
       ],
       "layout": {
        "legend": {
         "bgcolor": "#F5F6F9",
         "font": {
          "color": "#4D5663"
         }
        },
        "paper_bgcolor": "#F5F6F9",
        "plot_bgcolor": "#F5F6F9",
        "template": {
         "data": {
          "bar": [
           {
            "error_x": {
             "color": "#2a3f5f"
            },
            "error_y": {
             "color": "#2a3f5f"
            },
            "marker": {
             "line": {
              "color": "#E5ECF6",
              "width": 0.5
             },
             "pattern": {
              "fillmode": "overlay",
              "size": 10,
              "solidity": 0.2
             }
            },
            "type": "bar"
           }
          ],
          "barpolar": [
           {
            "marker": {
             "line": {
              "color": "#E5ECF6",
              "width": 0.5
             },
             "pattern": {
              "fillmode": "overlay",
              "size": 10,
              "solidity": 0.2
             }
            },
            "type": "barpolar"
           }
          ],
          "carpet": [
           {
            "aaxis": {
             "endlinecolor": "#2a3f5f",
             "gridcolor": "white",
             "linecolor": "white",
             "minorgridcolor": "white",
             "startlinecolor": "#2a3f5f"
            },
            "baxis": {
             "endlinecolor": "#2a3f5f",
             "gridcolor": "white",
             "linecolor": "white",
             "minorgridcolor": "white",
             "startlinecolor": "#2a3f5f"
            },
            "type": "carpet"
           }
          ],
          "choropleth": [
           {
            "colorbar": {
             "outlinewidth": 0,
             "ticks": ""
            },
            "type": "choropleth"
           }
          ],
          "contour": [
           {
            "colorbar": {
             "outlinewidth": 0,
             "ticks": ""
            },
            "colorscale": [
             [
              0,
              "#0d0887"
             ],
             [
              0.1111111111111111,
              "#46039f"
             ],
             [
              0.2222222222222222,
              "#7201a8"
             ],
             [
              0.3333333333333333,
              "#9c179e"
             ],
             [
              0.4444444444444444,
              "#bd3786"
             ],
             [
              0.5555555555555556,
              "#d8576b"
             ],
             [
              0.6666666666666666,
              "#ed7953"
             ],
             [
              0.7777777777777778,
              "#fb9f3a"
             ],
             [
              0.8888888888888888,
              "#fdca26"
             ],
             [
              1,
              "#f0f921"
             ]
            ],
            "type": "contour"
           }
          ],
          "contourcarpet": [
           {
            "colorbar": {
             "outlinewidth": 0,
             "ticks": ""
            },
            "type": "contourcarpet"
           }
          ],
          "heatmap": [
           {
            "colorbar": {
             "outlinewidth": 0,
             "ticks": ""
            },
            "colorscale": [
             [
              0,
              "#0d0887"
             ],
             [
              0.1111111111111111,
              "#46039f"
             ],
             [
              0.2222222222222222,
              "#7201a8"
             ],
             [
              0.3333333333333333,
              "#9c179e"
             ],
             [
              0.4444444444444444,
              "#bd3786"
             ],
             [
              0.5555555555555556,
              "#d8576b"
             ],
             [
              0.6666666666666666,
              "#ed7953"
             ],
             [
              0.7777777777777778,
              "#fb9f3a"
             ],
             [
              0.8888888888888888,
              "#fdca26"
             ],
             [
              1,
              "#f0f921"
             ]
            ],
            "type": "heatmap"
           }
          ],
          "heatmapgl": [
           {
            "colorbar": {
             "outlinewidth": 0,
             "ticks": ""
            },
            "colorscale": [
             [
              0,
              "#0d0887"
             ],
             [
              0.1111111111111111,
              "#46039f"
             ],
             [
              0.2222222222222222,
              "#7201a8"
             ],
             [
              0.3333333333333333,
              "#9c179e"
             ],
             [
              0.4444444444444444,
              "#bd3786"
             ],
             [
              0.5555555555555556,
              "#d8576b"
             ],
             [
              0.6666666666666666,
              "#ed7953"
             ],
             [
              0.7777777777777778,
              "#fb9f3a"
             ],
             [
              0.8888888888888888,
              "#fdca26"
             ],
             [
              1,
              "#f0f921"
             ]
            ],
            "type": "heatmapgl"
           }
          ],
          "histogram": [
           {
            "marker": {
             "pattern": {
              "fillmode": "overlay",
              "size": 10,
              "solidity": 0.2
             }
            },
            "type": "histogram"
           }
          ],
          "histogram2d": [
           {
            "colorbar": {
             "outlinewidth": 0,
             "ticks": ""
            },
            "colorscale": [
             [
              0,
              "#0d0887"
             ],
             [
              0.1111111111111111,
              "#46039f"
             ],
             [
              0.2222222222222222,
              "#7201a8"
             ],
             [
              0.3333333333333333,
              "#9c179e"
             ],
             [
              0.4444444444444444,
              "#bd3786"
             ],
             [
              0.5555555555555556,
              "#d8576b"
             ],
             [
              0.6666666666666666,
              "#ed7953"
             ],
             [
              0.7777777777777778,
              "#fb9f3a"
             ],
             [
              0.8888888888888888,
              "#fdca26"
             ],
             [
              1,
              "#f0f921"
             ]
            ],
            "type": "histogram2d"
           }
          ],
          "histogram2dcontour": [
           {
            "colorbar": {
             "outlinewidth": 0,
             "ticks": ""
            },
            "colorscale": [
             [
              0,
              "#0d0887"
             ],
             [
              0.1111111111111111,
              "#46039f"
             ],
             [
              0.2222222222222222,
              "#7201a8"
             ],
             [
              0.3333333333333333,
              "#9c179e"
             ],
             [
              0.4444444444444444,
              "#bd3786"
             ],
             [
              0.5555555555555556,
              "#d8576b"
             ],
             [
              0.6666666666666666,
              "#ed7953"
             ],
             [
              0.7777777777777778,
              "#fb9f3a"
             ],
             [
              0.8888888888888888,
              "#fdca26"
             ],
             [
              1,
              "#f0f921"
             ]
            ],
            "type": "histogram2dcontour"
           }
          ],
          "mesh3d": [
           {
            "colorbar": {
             "outlinewidth": 0,
             "ticks": ""
            },
            "type": "mesh3d"
           }
          ],
          "parcoords": [
           {
            "line": {
             "colorbar": {
              "outlinewidth": 0,
              "ticks": ""
             }
            },
            "type": "parcoords"
           }
          ],
          "pie": [
           {
            "automargin": true,
            "type": "pie"
           }
          ],
          "scatter": [
           {
            "fillpattern": {
             "fillmode": "overlay",
             "size": 10,
             "solidity": 0.2
            },
            "type": "scatter"
           }
          ],
          "scatter3d": [
           {
            "line": {
             "colorbar": {
              "outlinewidth": 0,
              "ticks": ""
             }
            },
            "marker": {
             "colorbar": {
              "outlinewidth": 0,
              "ticks": ""
             }
            },
            "type": "scatter3d"
           }
          ],
          "scattercarpet": [
           {
            "marker": {
             "colorbar": {
              "outlinewidth": 0,
              "ticks": ""
             }
            },
            "type": "scattercarpet"
           }
          ],
          "scattergeo": [
           {
            "marker": {
             "colorbar": {
              "outlinewidth": 0,
              "ticks": ""
             }
            },
            "type": "scattergeo"
           }
          ],
          "scattergl": [
           {
            "marker": {
             "colorbar": {
              "outlinewidth": 0,
              "ticks": ""
             }
            },
            "type": "scattergl"
           }
          ],
          "scattermapbox": [
           {
            "marker": {
             "colorbar": {
              "outlinewidth": 0,
              "ticks": ""
             }
            },
            "type": "scattermapbox"
           }
          ],
          "scatterpolar": [
           {
            "marker": {
             "colorbar": {
              "outlinewidth": 0,
              "ticks": ""
             }
            },
            "type": "scatterpolar"
           }
          ],
          "scatterpolargl": [
           {
            "marker": {
             "colorbar": {
              "outlinewidth": 0,
              "ticks": ""
             }
            },
            "type": "scatterpolargl"
           }
          ],
          "scatterternary": [
           {
            "marker": {
             "colorbar": {
              "outlinewidth": 0,
              "ticks": ""
             }
            },
            "type": "scatterternary"
           }
          ],
          "surface": [
           {
            "colorbar": {
             "outlinewidth": 0,
             "ticks": ""
            },
            "colorscale": [
             [
              0,
              "#0d0887"
             ],
             [
              0.1111111111111111,
              "#46039f"
             ],
             [
              0.2222222222222222,
              "#7201a8"
             ],
             [
              0.3333333333333333,
              "#9c179e"
             ],
             [
              0.4444444444444444,
              "#bd3786"
             ],
             [
              0.5555555555555556,
              "#d8576b"
             ],
             [
              0.6666666666666666,
              "#ed7953"
             ],
             [
              0.7777777777777778,
              "#fb9f3a"
             ],
             [
              0.8888888888888888,
              "#fdca26"
             ],
             [
              1,
              "#f0f921"
             ]
            ],
            "type": "surface"
           }
          ],
          "table": [
           {
            "cells": {
             "fill": {
              "color": "#EBF0F8"
             },
             "line": {
              "color": "white"
             }
            },
            "header": {
             "fill": {
              "color": "#C8D4E3"
             },
             "line": {
              "color": "white"
             }
            },
            "type": "table"
           }
          ]
         },
         "layout": {
          "annotationdefaults": {
           "arrowcolor": "#2a3f5f",
           "arrowhead": 0,
           "arrowwidth": 1
          },
          "autotypenumbers": "strict",
          "coloraxis": {
           "colorbar": {
            "outlinewidth": 0,
            "ticks": ""
           }
          },
          "colorscale": {
           "diverging": [
            [
             0,
             "#8e0152"
            ],
            [
             0.1,
             "#c51b7d"
            ],
            [
             0.2,
             "#de77ae"
            ],
            [
             0.3,
             "#f1b6da"
            ],
            [
             0.4,
             "#fde0ef"
            ],
            [
             0.5,
             "#f7f7f7"
            ],
            [
             0.6,
             "#e6f5d0"
            ],
            [
             0.7,
             "#b8e186"
            ],
            [
             0.8,
             "#7fbc41"
            ],
            [
             0.9,
             "#4d9221"
            ],
            [
             1,
             "#276419"
            ]
           ],
           "sequential": [
            [
             0,
             "#0d0887"
            ],
            [
             0.1111111111111111,
             "#46039f"
            ],
            [
             0.2222222222222222,
             "#7201a8"
            ],
            [
             0.3333333333333333,
             "#9c179e"
            ],
            [
             0.4444444444444444,
             "#bd3786"
            ],
            [
             0.5555555555555556,
             "#d8576b"
            ],
            [
             0.6666666666666666,
             "#ed7953"
            ],
            [
             0.7777777777777778,
             "#fb9f3a"
            ],
            [
             0.8888888888888888,
             "#fdca26"
            ],
            [
             1,
             "#f0f921"
            ]
           ],
           "sequentialminus": [
            [
             0,
             "#0d0887"
            ],
            [
             0.1111111111111111,
             "#46039f"
            ],
            [
             0.2222222222222222,
             "#7201a8"
            ],
            [
             0.3333333333333333,
             "#9c179e"
            ],
            [
             0.4444444444444444,
             "#bd3786"
            ],
            [
             0.5555555555555556,
             "#d8576b"
            ],
            [
             0.6666666666666666,
             "#ed7953"
            ],
            [
             0.7777777777777778,
             "#fb9f3a"
            ],
            [
             0.8888888888888888,
             "#fdca26"
            ],
            [
             1,
             "#f0f921"
            ]
           ]
          },
          "colorway": [
           "#636efa",
           "#EF553B",
           "#00cc96",
           "#ab63fa",
           "#FFA15A",
           "#19d3f3",
           "#FF6692",
           "#B6E880",
           "#FF97FF",
           "#FECB52"
          ],
          "font": {
           "color": "#2a3f5f"
          },
          "geo": {
           "bgcolor": "white",
           "lakecolor": "white",
           "landcolor": "#E5ECF6",
           "showlakes": true,
           "showland": true,
           "subunitcolor": "white"
          },
          "hoverlabel": {
           "align": "left"
          },
          "hovermode": "closest",
          "mapbox": {
           "style": "light"
          },
          "paper_bgcolor": "white",
          "plot_bgcolor": "#E5ECF6",
          "polar": {
           "angularaxis": {
            "gridcolor": "white",
            "linecolor": "white",
            "ticks": ""
           },
           "bgcolor": "#E5ECF6",
           "radialaxis": {
            "gridcolor": "white",
            "linecolor": "white",
            "ticks": ""
           }
          },
          "scene": {
           "xaxis": {
            "backgroundcolor": "#E5ECF6",
            "gridcolor": "white",
            "gridwidth": 2,
            "linecolor": "white",
            "showbackground": true,
            "ticks": "",
            "zerolinecolor": "white"
           },
           "yaxis": {
            "backgroundcolor": "#E5ECF6",
            "gridcolor": "white",
            "gridwidth": 2,
            "linecolor": "white",
            "showbackground": true,
            "ticks": "",
            "zerolinecolor": "white"
           },
           "zaxis": {
            "backgroundcolor": "#E5ECF6",
            "gridcolor": "white",
            "gridwidth": 2,
            "linecolor": "white",
            "showbackground": true,
            "ticks": "",
            "zerolinecolor": "white"
           }
          },
          "shapedefaults": {
           "line": {
            "color": "#2a3f5f"
           }
          },
          "ternary": {
           "aaxis": {
            "gridcolor": "white",
            "linecolor": "white",
            "ticks": ""
           },
           "baxis": {
            "gridcolor": "white",
            "linecolor": "white",
            "ticks": ""
           },
           "bgcolor": "#E5ECF6",
           "caxis": {
            "gridcolor": "white",
            "linecolor": "white",
            "ticks": ""
           }
          },
          "title": {
           "x": 0.05
          },
          "xaxis": {
           "automargin": true,
           "gridcolor": "white",
           "linecolor": "white",
           "ticks": "",
           "title": {
            "standoff": 15
           },
           "zerolinecolor": "white",
           "zerolinewidth": 2
          },
          "yaxis": {
           "automargin": true,
           "gridcolor": "white",
           "linecolor": "white",
           "ticks": "",
           "title": {
            "standoff": 15
           },
           "zerolinecolor": "white",
           "zerolinewidth": 2
          }
         }
        },
        "title": {
         "font": {
          "color": "#4D5663"
         }
        },
        "xaxis": {
         "gridcolor": "#E1E5ED",
         "showgrid": true,
         "tickfont": {
          "color": "#4D5663"
         },
         "title": {
          "font": {
           "color": "#4D5663"
          },
          "text": ""
         },
         "zerolinecolor": "#E1E5ED"
        },
        "yaxis": {
         "gridcolor": "#E1E5ED",
         "showgrid": true,
         "tickfont": {
          "color": "#4D5663"
         },
         "title": {
          "font": {
           "color": "#4D5663"
          },
          "text": ""
         },
         "zerolinecolor": "#E1E5ED"
        }
       }
      },
      "text/html": [
       "<div>                            <div id=\"c1bb318e-46cf-406f-ac8e-6dfddcbff181\" class=\"plotly-graph-div\" style=\"height:525px; width:100%;\"></div>            <script type=\"text/javascript\">                require([\"plotly\"], function(Plotly) {                    window.PLOTLYENV=window.PLOTLYENV || {};\n",
       "                    window.PLOTLYENV.BASE_URL='https://plot.ly';                                    if (document.getElementById(\"c1bb318e-46cf-406f-ac8e-6dfddcbff181\")) {                    Plotly.newPlot(                        \"c1bb318e-46cf-406f-ac8e-6dfddcbff181\",                        [{\"colorscale\":[[0.0,\"rgb(165,0,38)\"],[0.1,\"rgb(215,48,39)\"],[0.2,\"rgb(244,109,67)\"],[0.3,\"rgb(253,174,97)\"],[0.4,\"rgb(254,224,144)\"],[0.5,\"rgb(255,255,191)\"],[0.6,\"rgb(224,243,248)\"],[0.7,\"rgb(171,217,233)\"],[0.8,\"rgb(116,173,209)\"],[0.9,\"rgb(69,117,180)\"],[1.0,\"rgb(49,54,149)\"]],\"x\":[0,1,2,3,4],\"y\":[\"x\",\"y\",\"z\"],\"z\":[[1,2,3,4,5],[10,20,30,20,10],[5,4,3,2,1]],\"type\":\"surface\"}],                        {\"legend\":{\"bgcolor\":\"#F5F6F9\",\"font\":{\"color\":\"#4D5663\"}},\"paper_bgcolor\":\"#F5F6F9\",\"plot_bgcolor\":\"#F5F6F9\",\"template\":{\"data\":{\"barpolar\":[{\"marker\":{\"line\":{\"color\":\"#E5ECF6\",\"width\":0.5},\"pattern\":{\"fillmode\":\"overlay\",\"size\":10,\"solidity\":0.2}},\"type\":\"barpolar\"}],\"bar\":[{\"error_x\":{\"color\":\"#2a3f5f\"},\"error_y\":{\"color\":\"#2a3f5f\"},\"marker\":{\"line\":{\"color\":\"#E5ECF6\",\"width\":0.5},\"pattern\":{\"fillmode\":\"overlay\",\"size\":10,\"solidity\":0.2}},\"type\":\"bar\"}],\"carpet\":[{\"aaxis\":{\"endlinecolor\":\"#2a3f5f\",\"gridcolor\":\"white\",\"linecolor\":\"white\",\"minorgridcolor\":\"white\",\"startlinecolor\":\"#2a3f5f\"},\"baxis\":{\"endlinecolor\":\"#2a3f5f\",\"gridcolor\":\"white\",\"linecolor\":\"white\",\"minorgridcolor\":\"white\",\"startlinecolor\":\"#2a3f5f\"},\"type\":\"carpet\"}],\"choropleth\":[{\"colorbar\":{\"outlinewidth\":0,\"ticks\":\"\"},\"type\":\"choropleth\"}],\"contourcarpet\":[{\"colorbar\":{\"outlinewidth\":0,\"ticks\":\"\"},\"type\":\"contourcarpet\"}],\"contour\":[{\"colorbar\":{\"outlinewidth\":0,\"ticks\":\"\"},\"colorscale\":[[0.0,\"#0d0887\"],[0.1111111111111111,\"#46039f\"],[0.2222222222222222,\"#7201a8\"],[0.3333333333333333,\"#9c179e\"],[0.4444444444444444,\"#bd3786\"],[0.5555555555555556,\"#d8576b\"],[0.6666666666666666,\"#ed7953\"],[0.7777777777777778,\"#fb9f3a\"],[0.8888888888888888,\"#fdca26\"],[1.0,\"#f0f921\"]],\"type\":\"contour\"}],\"heatmapgl\":[{\"colorbar\":{\"outlinewidth\":0,\"ticks\":\"\"},\"colorscale\":[[0.0,\"#0d0887\"],[0.1111111111111111,\"#46039f\"],[0.2222222222222222,\"#7201a8\"],[0.3333333333333333,\"#9c179e\"],[0.4444444444444444,\"#bd3786\"],[0.5555555555555556,\"#d8576b\"],[0.6666666666666666,\"#ed7953\"],[0.7777777777777778,\"#fb9f3a\"],[0.8888888888888888,\"#fdca26\"],[1.0,\"#f0f921\"]],\"type\":\"heatmapgl\"}],\"heatmap\":[{\"colorbar\":{\"outlinewidth\":0,\"ticks\":\"\"},\"colorscale\":[[0.0,\"#0d0887\"],[0.1111111111111111,\"#46039f\"],[0.2222222222222222,\"#7201a8\"],[0.3333333333333333,\"#9c179e\"],[0.4444444444444444,\"#bd3786\"],[0.5555555555555556,\"#d8576b\"],[0.6666666666666666,\"#ed7953\"],[0.7777777777777778,\"#fb9f3a\"],[0.8888888888888888,\"#fdca26\"],[1.0,\"#f0f921\"]],\"type\":\"heatmap\"}],\"histogram2dcontour\":[{\"colorbar\":{\"outlinewidth\":0,\"ticks\":\"\"},\"colorscale\":[[0.0,\"#0d0887\"],[0.1111111111111111,\"#46039f\"],[0.2222222222222222,\"#7201a8\"],[0.3333333333333333,\"#9c179e\"],[0.4444444444444444,\"#bd3786\"],[0.5555555555555556,\"#d8576b\"],[0.6666666666666666,\"#ed7953\"],[0.7777777777777778,\"#fb9f3a\"],[0.8888888888888888,\"#fdca26\"],[1.0,\"#f0f921\"]],\"type\":\"histogram2dcontour\"}],\"histogram2d\":[{\"colorbar\":{\"outlinewidth\":0,\"ticks\":\"\"},\"colorscale\":[[0.0,\"#0d0887\"],[0.1111111111111111,\"#46039f\"],[0.2222222222222222,\"#7201a8\"],[0.3333333333333333,\"#9c179e\"],[0.4444444444444444,\"#bd3786\"],[0.5555555555555556,\"#d8576b\"],[0.6666666666666666,\"#ed7953\"],[0.7777777777777778,\"#fb9f3a\"],[0.8888888888888888,\"#fdca26\"],[1.0,\"#f0f921\"]],\"type\":\"histogram2d\"}],\"histogram\":[{\"marker\":{\"pattern\":{\"fillmode\":\"overlay\",\"size\":10,\"solidity\":0.2}},\"type\":\"histogram\"}],\"mesh3d\":[{\"colorbar\":{\"outlinewidth\":0,\"ticks\":\"\"},\"type\":\"mesh3d\"}],\"parcoords\":[{\"line\":{\"colorbar\":{\"outlinewidth\":0,\"ticks\":\"\"}},\"type\":\"parcoords\"}],\"pie\":[{\"automargin\":true,\"type\":\"pie\"}],\"scatter3d\":[{\"line\":{\"colorbar\":{\"outlinewidth\":0,\"ticks\":\"\"}},\"marker\":{\"colorbar\":{\"outlinewidth\":0,\"ticks\":\"\"}},\"type\":\"scatter3d\"}],\"scattercarpet\":[{\"marker\":{\"colorbar\":{\"outlinewidth\":0,\"ticks\":\"\"}},\"type\":\"scattercarpet\"}],\"scattergeo\":[{\"marker\":{\"colorbar\":{\"outlinewidth\":0,\"ticks\":\"\"}},\"type\":\"scattergeo\"}],\"scattergl\":[{\"marker\":{\"colorbar\":{\"outlinewidth\":0,\"ticks\":\"\"}},\"type\":\"scattergl\"}],\"scattermapbox\":[{\"marker\":{\"colorbar\":{\"outlinewidth\":0,\"ticks\":\"\"}},\"type\":\"scattermapbox\"}],\"scatterpolargl\":[{\"marker\":{\"colorbar\":{\"outlinewidth\":0,\"ticks\":\"\"}},\"type\":\"scatterpolargl\"}],\"scatterpolar\":[{\"marker\":{\"colorbar\":{\"outlinewidth\":0,\"ticks\":\"\"}},\"type\":\"scatterpolar\"}],\"scatter\":[{\"fillpattern\":{\"fillmode\":\"overlay\",\"size\":10,\"solidity\":0.2},\"type\":\"scatter\"}],\"scatterternary\":[{\"marker\":{\"colorbar\":{\"outlinewidth\":0,\"ticks\":\"\"}},\"type\":\"scatterternary\"}],\"surface\":[{\"colorbar\":{\"outlinewidth\":0,\"ticks\":\"\"},\"colorscale\":[[0.0,\"#0d0887\"],[0.1111111111111111,\"#46039f\"],[0.2222222222222222,\"#7201a8\"],[0.3333333333333333,\"#9c179e\"],[0.4444444444444444,\"#bd3786\"],[0.5555555555555556,\"#d8576b\"],[0.6666666666666666,\"#ed7953\"],[0.7777777777777778,\"#fb9f3a\"],[0.8888888888888888,\"#fdca26\"],[1.0,\"#f0f921\"]],\"type\":\"surface\"}],\"table\":[{\"cells\":{\"fill\":{\"color\":\"#EBF0F8\"},\"line\":{\"color\":\"white\"}},\"header\":{\"fill\":{\"color\":\"#C8D4E3\"},\"line\":{\"color\":\"white\"}},\"type\":\"table\"}]},\"layout\":{\"annotationdefaults\":{\"arrowcolor\":\"#2a3f5f\",\"arrowhead\":0,\"arrowwidth\":1},\"autotypenumbers\":\"strict\",\"coloraxis\":{\"colorbar\":{\"outlinewidth\":0,\"ticks\":\"\"}},\"colorscale\":{\"diverging\":[[0,\"#8e0152\"],[0.1,\"#c51b7d\"],[0.2,\"#de77ae\"],[0.3,\"#f1b6da\"],[0.4,\"#fde0ef\"],[0.5,\"#f7f7f7\"],[0.6,\"#e6f5d0\"],[0.7,\"#b8e186\"],[0.8,\"#7fbc41\"],[0.9,\"#4d9221\"],[1,\"#276419\"]],\"sequential\":[[0.0,\"#0d0887\"],[0.1111111111111111,\"#46039f\"],[0.2222222222222222,\"#7201a8\"],[0.3333333333333333,\"#9c179e\"],[0.4444444444444444,\"#bd3786\"],[0.5555555555555556,\"#d8576b\"],[0.6666666666666666,\"#ed7953\"],[0.7777777777777778,\"#fb9f3a\"],[0.8888888888888888,\"#fdca26\"],[1.0,\"#f0f921\"]],\"sequentialminus\":[[0.0,\"#0d0887\"],[0.1111111111111111,\"#46039f\"],[0.2222222222222222,\"#7201a8\"],[0.3333333333333333,\"#9c179e\"],[0.4444444444444444,\"#bd3786\"],[0.5555555555555556,\"#d8576b\"],[0.6666666666666666,\"#ed7953\"],[0.7777777777777778,\"#fb9f3a\"],[0.8888888888888888,\"#fdca26\"],[1.0,\"#f0f921\"]]},\"colorway\":[\"#636efa\",\"#EF553B\",\"#00cc96\",\"#ab63fa\",\"#FFA15A\",\"#19d3f3\",\"#FF6692\",\"#B6E880\",\"#FF97FF\",\"#FECB52\"],\"font\":{\"color\":\"#2a3f5f\"},\"geo\":{\"bgcolor\":\"white\",\"lakecolor\":\"white\",\"landcolor\":\"#E5ECF6\",\"showlakes\":true,\"showland\":true,\"subunitcolor\":\"white\"},\"hoverlabel\":{\"align\":\"left\"},\"hovermode\":\"closest\",\"mapbox\":{\"style\":\"light\"},\"paper_bgcolor\":\"white\",\"plot_bgcolor\":\"#E5ECF6\",\"polar\":{\"angularaxis\":{\"gridcolor\":\"white\",\"linecolor\":\"white\",\"ticks\":\"\"},\"bgcolor\":\"#E5ECF6\",\"radialaxis\":{\"gridcolor\":\"white\",\"linecolor\":\"white\",\"ticks\":\"\"}},\"scene\":{\"xaxis\":{\"backgroundcolor\":\"#E5ECF6\",\"gridcolor\":\"white\",\"gridwidth\":2,\"linecolor\":\"white\",\"showbackground\":true,\"ticks\":\"\",\"zerolinecolor\":\"white\"},\"yaxis\":{\"backgroundcolor\":\"#E5ECF6\",\"gridcolor\":\"white\",\"gridwidth\":2,\"linecolor\":\"white\",\"showbackground\":true,\"ticks\":\"\",\"zerolinecolor\":\"white\"},\"zaxis\":{\"backgroundcolor\":\"#E5ECF6\",\"gridcolor\":\"white\",\"gridwidth\":2,\"linecolor\":\"white\",\"showbackground\":true,\"ticks\":\"\",\"zerolinecolor\":\"white\"}},\"shapedefaults\":{\"line\":{\"color\":\"#2a3f5f\"}},\"ternary\":{\"aaxis\":{\"gridcolor\":\"white\",\"linecolor\":\"white\",\"ticks\":\"\"},\"baxis\":{\"gridcolor\":\"white\",\"linecolor\":\"white\",\"ticks\":\"\"},\"bgcolor\":\"#E5ECF6\",\"caxis\":{\"gridcolor\":\"white\",\"linecolor\":\"white\",\"ticks\":\"\"}},\"title\":{\"x\":0.05},\"xaxis\":{\"automargin\":true,\"gridcolor\":\"white\",\"linecolor\":\"white\",\"ticks\":\"\",\"title\":{\"standoff\":15},\"zerolinecolor\":\"white\",\"zerolinewidth\":2},\"yaxis\":{\"automargin\":true,\"gridcolor\":\"white\",\"linecolor\":\"white\",\"ticks\":\"\",\"title\":{\"standoff\":15},\"zerolinecolor\":\"white\",\"zerolinewidth\":2}}},\"title\":{\"font\":{\"color\":\"#4D5663\"}},\"xaxis\":{\"gridcolor\":\"#E1E5ED\",\"showgrid\":true,\"tickfont\":{\"color\":\"#4D5663\"},\"title\":{\"font\":{\"color\":\"#4D5663\"},\"text\":\"\"},\"zerolinecolor\":\"#E1E5ED\"},\"yaxis\":{\"gridcolor\":\"#E1E5ED\",\"showgrid\":true,\"tickfont\":{\"color\":\"#4D5663\"},\"title\":{\"font\":{\"color\":\"#4D5663\"},\"text\":\"\"},\"zerolinecolor\":\"#E1E5ED\"}},                        {\"showLink\": true, \"linkText\": \"Export to plot.ly\", \"plotlyServerURL\": \"https://plot.ly\", \"responsive\": true}                    ).then(function(){\n",
       "                            \n",
       "var gd = document.getElementById('c1bb318e-46cf-406f-ac8e-6dfddcbff181');\n",
       "var x = new MutationObserver(function (mutations, observer) {{\n",
       "        var display = window.getComputedStyle(gd).display;\n",
       "        if (!display || display === 'none') {{\n",
       "            console.log([gd, 'removed!']);\n",
       "            Plotly.purge(gd);\n",
       "            observer.disconnect();\n",
       "        }}\n",
       "}});\n",
       "\n",
       "// Listen for the removal of the full notebook cells\n",
       "var notebookContainer = gd.closest('#notebook-container');\n",
       "if (notebookContainer) {{\n",
       "    x.observe(notebookContainer, {childList: true});\n",
       "}}\n",
       "\n",
       "// Listen for the clearing of the current output cell\n",
       "var outputEl = gd.closest('.output');\n",
       "if (outputEl) {{\n",
       "    x.observe(outputEl, {childList: true});\n",
       "}}\n",
       "\n",
       "                        })                };                });            </script>        </div>"
      ]
     },
     "metadata": {},
     "output_type": "display_data"
    }
   ],
   "source": [
    "df3 = pd.DataFrame({'x':[1,2,3,4,5],'y':[10,20,30,20,10],'z':[5,4,3,2,1]})\n",
    "df3.iplot(kind = 'surface',colorscale = 'rdylbu')"
   ]
  },
  {
   "cell_type": "markdown",
   "id": "423c87d3",
   "metadata": {},
   "source": [
    "# Spread"
   ]
  },
  {
   "cell_type": "code",
   "execution_count": 61,
   "id": "7126e430",
   "metadata": {},
   "outputs": [
    {
     "name": "stderr",
     "output_type": "stream",
     "text": [
      "C:\\Users\\dines\\AppData\\Roaming\\Python\\Python39\\site-packages\\cufflinks\\plotlytools.py:849: FutureWarning:\n",
      "\n",
      "The pandas.np module is deprecated and will be removed from pandas in a future version. Import numpy directly instead.\n",
      "\n",
      "C:\\Users\\dines\\AppData\\Roaming\\Python\\Python39\\site-packages\\cufflinks\\plotlytools.py:850: FutureWarning:\n",
      "\n",
      "The pandas.np module is deprecated and will be removed from pandas in a future version. Import numpy directly instead.\n",
      "\n"
     ]
    },
    {
     "data": {
      "application/vnd.plotly.v1+json": {
       "config": {
        "linkText": "Export to plot.ly",
        "plotlyServerURL": "https://plot.ly",
        "showLink": true
       },
       "data": [
        {
         "line": {
          "color": "rgba(255, 153, 51, 1.0)",
          "dash": "solid",
          "shape": "linear",
          "width": 1.3
         },
         "mode": "lines",
         "name": "A",
         "text": "",
         "type": "scatter",
         "x": [
          0,
          1,
          2,
          3,
          4,
          5,
          6,
          7,
          8,
          9,
          10,
          11,
          12,
          13,
          14,
          15,
          16,
          17,
          18,
          19,
          20,
          21,
          22,
          23,
          24,
          25,
          26,
          27,
          28,
          29,
          30,
          31,
          32,
          33,
          34,
          35,
          36,
          37,
          38,
          39,
          40,
          41,
          42,
          43,
          44,
          45,
          46,
          47,
          48,
          49,
          50,
          51,
          52,
          53,
          54,
          55,
          56,
          57,
          58,
          59,
          60,
          61,
          62,
          63,
          64,
          65,
          66,
          67,
          68,
          69,
          70,
          71,
          72,
          73,
          74,
          75,
          76,
          77,
          78,
          79,
          80,
          81,
          82,
          83,
          84,
          85,
          86,
          87,
          88,
          89,
          90,
          91,
          92,
          93,
          94,
          95,
          96,
          97,
          98,
          99
         ],
         "y": [
          1.703030536865381,
          0.057715736526326965,
          1.806753252426194,
          -0.28507382165451167,
          0.8448103032083629,
          1.9356544563192983,
          0.25265645003993437,
          -0.7108407175975264,
          0.20407341105116586,
          -0.9631835128284022,
          -2.313929528277395,
          1.8504210053906285,
          0.11575887999256226,
          -1.6797795335634507,
          0.32101675906697663,
          -0.029421517263010833,
          0.916862588487737,
          0.5005943184489355,
          0.47748875080863645,
          -1.4445253371836875,
          -0.7490423417159519,
          0.8307497872518788,
          -1.2944740230747616,
          0.562061709877203,
          0.8221148785197783,
          -0.7523094282677261,
          -0.26373004757776175,
          0.5258232470067837,
          0.940979809508781,
          0.23178863608136288,
          -0.3999835749531784,
          -1.5877557479545665,
          1.3117797268833151,
          0.5277915175274164,
          0.055985875744130185,
          0.22757050286605102,
          -1.0518642709521109,
          -2.2809456910838524,
          -0.1304241624464754,
          -0.1908037005073423,
          0.24896485240145314,
          -0.04471771013045752,
          -0.9701184869344839,
          1.0990611188514359,
          0.12340353879664699,
          0.0753800392632158,
          -0.0662171730054763,
          -0.35308229736830216,
          -0.10945749618170171,
          -1.6329769246665042,
          -2.2167020173795096,
          0.2726812030775698,
          -0.1455257739888572,
          0.6511061330588763,
          -0.4401251895987155,
          -0.4561258898920153,
          0.09968968653804522,
          -0.6599742180242933,
          -1.530117369231545,
          -0.6996345378686805,
          1.4655432843735978,
          0.1440603081792614,
          -0.7928080218222593,
          0.9629631226294447,
          0.21702547598133207,
          -0.041302322471019656,
          0.6933637350395077,
          0.15085198288439183,
          -0.5110684458127188,
          0.7423426360891041,
          -0.2790365281483132,
          -0.21438293119597363,
          1.3897821201574414,
          -0.05515767789216785,
          -1.18290717597586,
          1.5145019130226023,
          0.08103465020839139,
          -1.376004787846036,
          1.365053587926242,
          0.18655028290427167,
          0.1568399485803906,
          0.2093824677298707,
          -0.03481088445587469,
          0.9900655976655112,
          0.47820191801570666,
          -1.3762517202742317,
          0.982440826684452,
          0.35343255249727457,
          -0.5787230512640728,
          0.4663012854591553,
          -1.0989913782473266,
          0.4573973997223406,
          -1.6674459041243,
          0.13256166644037015,
          -0.7662112574506679,
          -0.6030276098968368,
          2.324055715057974,
          0.519139017155852,
          1.5854011486856008,
          -0.8140182188847669
         ]
        },
        {
         "line": {
          "color": "rgba(55, 128, 191, 1.0)",
          "dash": "solid",
          "shape": "linear",
          "width": 1.3
         },
         "mode": "lines",
         "name": "B",
         "text": "",
         "type": "scatter",
         "x": [
          0,
          1,
          2,
          3,
          4,
          5,
          6,
          7,
          8,
          9,
          10,
          11,
          12,
          13,
          14,
          15,
          16,
          17,
          18,
          19,
          20,
          21,
          22,
          23,
          24,
          25,
          26,
          27,
          28,
          29,
          30,
          31,
          32,
          33,
          34,
          35,
          36,
          37,
          38,
          39,
          40,
          41,
          42,
          43,
          44,
          45,
          46,
          47,
          48,
          49,
          50,
          51,
          52,
          53,
          54,
          55,
          56,
          57,
          58,
          59,
          60,
          61,
          62,
          63,
          64,
          65,
          66,
          67,
          68,
          69,
          70,
          71,
          72,
          73,
          74,
          75,
          76,
          77,
          78,
          79,
          80,
          81,
          82,
          83,
          84,
          85,
          86,
          87,
          88,
          89,
          90,
          91,
          92,
          93,
          94,
          95,
          96,
          97,
          98,
          99
         ],
         "y": [
          0.020446733117837387,
          -0.13142655753710328,
          2.1552942366317467,
          -0.7368030167193271,
          -0.15647700590177263,
          0.6227231939705729,
          -1.6691369374293619,
          -1.2303447427755323,
          0.643022860548499,
          0.021586526736260724,
          -1.7169237831599646,
          0.22218243580981564,
          0.36584301376601014,
          0.026480636897801314,
          -0.43463437249302705,
          0.6051183133216308,
          -0.04743338759975797,
          -1.0437386290390713,
          0.7634534487337309,
          1.8374145183566533,
          -0.06536138852479652,
          0.7189252425600876,
          1.618990179663656,
          -0.1292282991611609,
          1.1273662797944604,
          0.6190874181543614,
          0.06368225620831357,
          0.46551790697162204,
          1.209953364299594,
          -2.369297044199571,
          0.8474003322921112,
          -0.940570263581015,
          -1.733441623719393,
          0.026841257964993363,
          -1.16890351164535,
          2.444181611176374,
          0.32751014394035766,
          -0.7403796216695913,
          0.974192465330595,
          -1.3419718295456629,
          0.06753401710505501,
          0.3995579413779053,
          1.4715788524730944,
          1.3058590299377058,
          0.47396800523908605,
          -0.8533959337453239,
          -0.04513824946522313,
          1.5989310069722822,
          0.8209975940625924,
          0.9130159745522907,
          0.631805379794073,
          0.6871572685821035,
          0.4045330817197545,
          1.2699208282991628,
          -0.6115479531451279,
          0.888004086618221,
          -0.16824686224817828,
          0.5678427897742637,
          -0.10410397427380996,
          -2.3038112907761277,
          0.41334310863275886,
          1.6928037846747235,
          0.392241308944528,
          -0.60184778036844,
          0.15205225924987986,
          1.6218704586678105,
          0.2201422071654261,
          -1.3786178164447496,
          -0.19056231682640878,
          -1.9889018202432063,
          -0.280718466698838,
          -1.771621395021947,
          1.155531507522197,
          -0.4552613825429717,
          -0.14485092590175166,
          -1.4283535464664365,
          -0.03840435986495959,
          -0.48667075998421944,
          -0.9941041935759036,
          -0.43719948750326876,
          1.2258685272598313,
          0.41068441181305554,
          0.7819145340879001,
          0.38400754270393317,
          -0.2149342584479373,
          -0.06703890319057035,
          0.355262197350419,
          -0.4613181548267008,
          -0.8533370162794723,
          -1.744887650467091,
          -0.7983995491067819,
          0.03200564722701361,
          1.2726655310355808,
          0.1599056042426869,
          0.756455417298015,
          0.5128717405086298,
          1.2974121723462697,
          0.8823627599399996,
          -0.567302174615601,
          0.0697729567365461
         ]
        },
        {
         "connectgaps": false,
         "fill": "tozeroy",
         "line": {
          "color": "green",
          "dash": "solid",
          "shape": "linear",
          "width": 0.5
         },
         "mode": "lines",
         "name": "Spread",
         "showlegend": false,
         "type": "scatter",
         "x": [
          0,
          1,
          2,
          3,
          4,
          5,
          6,
          7,
          8,
          9,
          10,
          11,
          12,
          13,
          14,
          15,
          16,
          17,
          18,
          19,
          20,
          21,
          22,
          23,
          24,
          25,
          26,
          27,
          28,
          29,
          30,
          31,
          32,
          33,
          34,
          35,
          36,
          37,
          38,
          39,
          40,
          41,
          42,
          43,
          44,
          45,
          46,
          47,
          48,
          49,
          50,
          51,
          52,
          53,
          54,
          55,
          56,
          57,
          58,
          59,
          60,
          61,
          62,
          63,
          64,
          65,
          66,
          67,
          68,
          69,
          70,
          71,
          72,
          73,
          74,
          75,
          76,
          77,
          78,
          79,
          80,
          81,
          82,
          83,
          84,
          85,
          86,
          87,
          88,
          89,
          90,
          91,
          92,
          93,
          94,
          95,
          96,
          97,
          98,
          99
         ],
         "xaxis": "x2",
         "y": [
          1.6825838037475438,
          0.18914229406343025,
          "",
          0.45172919506481546,
          1.0012873091101355,
          1.3129312623487255,
          1.9217933874692963,
          0.5195040251780059,
          "",
          "",
          "",
          1.6282385695808128,
          "",
          "",
          0.7556511315600036,
          "",
          0.9642959760874951,
          1.544332947488007,
          "",
          "",
          "",
          0.11182454469179115,
          "",
          0.691290009038364,
          "",
          "",
          "",
          0.06030534003516169,
          "",
          2.601085680280934,
          "",
          "",
          3.0452213506027084,
          0.500950259562423,
          1.2248893873894802,
          "",
          "",
          "",
          "",
          1.1511681290383207,
          0.18143083529639814,
          "",
          "",
          "",
          "",
          0.9287759730085396,
          "",
          "",
          "",
          "",
          "",
          "",
          "",
          "",
          0.1714227635464124,
          "",
          0.2679365487862235,
          "",
          "",
          1.6041767529074473,
          1.052200175740839,
          "",
          "",
          1.5648109029978847,
          0.0649732167314522,
          "",
          0.47322152787408156,
          1.5294697993291413,
          "",
          2.7312444563323104,
          0.0016819385505247864,
          1.5572384638259735,
          0.23425061263524438,
          0.40010370465080386,
          "",
          2.9428554594890386,
          0.11943901007335098,
          "",
          2.3591577815021454,
          0.6237497704075404,
          "",
          "",
          "",
          0.6060580549615779,
          0.6931361764636439,
          "",
          0.627178629334033,
          0.8147507073239754,
          0.2746139650153996,
          2.211188935926246,
          "",
          0.425391752495327,
          "",
          "",
          "",
          "",
          1.0266435427117044,
          "",
          2.1527033233012016,
          ""
         ],
         "yaxis": "y2"
        },
        {
         "connectgaps": false,
         "fill": "tozeroy",
         "line": {
          "color": "red",
          "dash": "solid",
          "shape": "linear",
          "width": 0.5
         },
         "mode": "lines",
         "name": "Spread",
         "showlegend": false,
         "type": "scatter",
         "x": [
          0,
          1,
          2,
          3,
          4,
          5,
          6,
          7,
          8,
          9,
          10,
          11,
          12,
          13,
          14,
          15,
          16,
          17,
          18,
          19,
          20,
          21,
          22,
          23,
          24,
          25,
          26,
          27,
          28,
          29,
          30,
          31,
          32,
          33,
          34,
          35,
          36,
          37,
          38,
          39,
          40,
          41,
          42,
          43,
          44,
          45,
          46,
          47,
          48,
          49,
          50,
          51,
          52,
          53,
          54,
          55,
          56,
          57,
          58,
          59,
          60,
          61,
          62,
          63,
          64,
          65,
          66,
          67,
          68,
          69,
          70,
          71,
          72,
          73,
          74,
          75,
          76,
          77,
          78,
          79,
          80,
          81,
          82,
          83,
          84,
          85,
          86,
          87,
          88,
          89,
          90,
          91,
          92,
          93,
          94,
          95,
          96,
          97,
          98,
          99
         ],
         "xaxis": "x2",
         "y": [
          "",
          "",
          -0.3485409842055527,
          "",
          "",
          "",
          "",
          "",
          -0.43894944949733317,
          -0.9847700395646629,
          -0.5970057451174304,
          "",
          -0.25008413377344785,
          -1.706260170461252,
          "",
          -0.6345398305846416,
          "",
          "",
          -0.28596469792509444,
          -3.2819398555403407,
          -0.6836809531911553,
          "",
          -2.9134642027384174,
          "",
          -0.3052514012746821,
          -1.3713968464220874,
          -0.32741230378607533,
          "",
          -0.2689735547908131,
          "",
          -1.2473839072452897,
          -0.6471854843735515,
          "",
          "",
          "",
          -2.216611108310323,
          -1.3793744148924685,
          -1.540566069414261,
          -1.1046166277770704,
          "",
          "",
          -0.4442756515083628,
          -2.441697339407578,
          -0.20679791108626988,
          -0.35056446644243905,
          "",
          -0.021078923540253175,
          -1.9520133043405843,
          -0.9304550902442942,
          -2.545992899218795,
          -2.8485073971735826,
          -0.41447606550453364,
          -0.5500588557086117,
          -0.6188146952402864,
          "",
          -1.3441299765102364,
          "",
          -1.227817007798557,
          -1.4260133949577352,
          "",
          "",
          -1.5487434764954622,
          -1.1850493307667873,
          "",
          "",
          -1.6631727811388302,
          "",
          "",
          -0.32050612898631003,
          "",
          "",
          "",
          "",
          "",
          -1.0380562500741084,
          "",
          "",
          -0.8893340278618165,
          "",
          "",
          -1.0690285786794407,
          -0.20130194408318483,
          -0.8167254185437748,
          "",
          "",
          -1.3092128170836614,
          "",
          "",
          "",
          "",
          -0.3005918291405447,
          "",
          -2.9401114351598805,
          -0.027343937802316753,
          -1.5226666747486828,
          -1.1158993504054666,
          "",
          -0.3632237427841476,
          "",
          -0.883791175621313
         ],
         "yaxis": "y2"
        }
       ],
       "layout": {
        "hovermode": "x",
        "legend": {
         "bgcolor": "#F5F6F9",
         "font": {
          "color": "#4D5663"
         }
        },
        "paper_bgcolor": "#F5F6F9",
        "plot_bgcolor": "#F5F6F9",
        "template": {
         "data": {
          "bar": [
           {
            "error_x": {
             "color": "#2a3f5f"
            },
            "error_y": {
             "color": "#2a3f5f"
            },
            "marker": {
             "line": {
              "color": "#E5ECF6",
              "width": 0.5
             },
             "pattern": {
              "fillmode": "overlay",
              "size": 10,
              "solidity": 0.2
             }
            },
            "type": "bar"
           }
          ],
          "barpolar": [
           {
            "marker": {
             "line": {
              "color": "#E5ECF6",
              "width": 0.5
             },
             "pattern": {
              "fillmode": "overlay",
              "size": 10,
              "solidity": 0.2
             }
            },
            "type": "barpolar"
           }
          ],
          "carpet": [
           {
            "aaxis": {
             "endlinecolor": "#2a3f5f",
             "gridcolor": "white",
             "linecolor": "white",
             "minorgridcolor": "white",
             "startlinecolor": "#2a3f5f"
            },
            "baxis": {
             "endlinecolor": "#2a3f5f",
             "gridcolor": "white",
             "linecolor": "white",
             "minorgridcolor": "white",
             "startlinecolor": "#2a3f5f"
            },
            "type": "carpet"
           }
          ],
          "choropleth": [
           {
            "colorbar": {
             "outlinewidth": 0,
             "ticks": ""
            },
            "type": "choropleth"
           }
          ],
          "contour": [
           {
            "colorbar": {
             "outlinewidth": 0,
             "ticks": ""
            },
            "colorscale": [
             [
              0,
              "#0d0887"
             ],
             [
              0.1111111111111111,
              "#46039f"
             ],
             [
              0.2222222222222222,
              "#7201a8"
             ],
             [
              0.3333333333333333,
              "#9c179e"
             ],
             [
              0.4444444444444444,
              "#bd3786"
             ],
             [
              0.5555555555555556,
              "#d8576b"
             ],
             [
              0.6666666666666666,
              "#ed7953"
             ],
             [
              0.7777777777777778,
              "#fb9f3a"
             ],
             [
              0.8888888888888888,
              "#fdca26"
             ],
             [
              1,
              "#f0f921"
             ]
            ],
            "type": "contour"
           }
          ],
          "contourcarpet": [
           {
            "colorbar": {
             "outlinewidth": 0,
             "ticks": ""
            },
            "type": "contourcarpet"
           }
          ],
          "heatmap": [
           {
            "colorbar": {
             "outlinewidth": 0,
             "ticks": ""
            },
            "colorscale": [
             [
              0,
              "#0d0887"
             ],
             [
              0.1111111111111111,
              "#46039f"
             ],
             [
              0.2222222222222222,
              "#7201a8"
             ],
             [
              0.3333333333333333,
              "#9c179e"
             ],
             [
              0.4444444444444444,
              "#bd3786"
             ],
             [
              0.5555555555555556,
              "#d8576b"
             ],
             [
              0.6666666666666666,
              "#ed7953"
             ],
             [
              0.7777777777777778,
              "#fb9f3a"
             ],
             [
              0.8888888888888888,
              "#fdca26"
             ],
             [
              1,
              "#f0f921"
             ]
            ],
            "type": "heatmap"
           }
          ],
          "heatmapgl": [
           {
            "colorbar": {
             "outlinewidth": 0,
             "ticks": ""
            },
            "colorscale": [
             [
              0,
              "#0d0887"
             ],
             [
              0.1111111111111111,
              "#46039f"
             ],
             [
              0.2222222222222222,
              "#7201a8"
             ],
             [
              0.3333333333333333,
              "#9c179e"
             ],
             [
              0.4444444444444444,
              "#bd3786"
             ],
             [
              0.5555555555555556,
              "#d8576b"
             ],
             [
              0.6666666666666666,
              "#ed7953"
             ],
             [
              0.7777777777777778,
              "#fb9f3a"
             ],
             [
              0.8888888888888888,
              "#fdca26"
             ],
             [
              1,
              "#f0f921"
             ]
            ],
            "type": "heatmapgl"
           }
          ],
          "histogram": [
           {
            "marker": {
             "pattern": {
              "fillmode": "overlay",
              "size": 10,
              "solidity": 0.2
             }
            },
            "type": "histogram"
           }
          ],
          "histogram2d": [
           {
            "colorbar": {
             "outlinewidth": 0,
             "ticks": ""
            },
            "colorscale": [
             [
              0,
              "#0d0887"
             ],
             [
              0.1111111111111111,
              "#46039f"
             ],
             [
              0.2222222222222222,
              "#7201a8"
             ],
             [
              0.3333333333333333,
              "#9c179e"
             ],
             [
              0.4444444444444444,
              "#bd3786"
             ],
             [
              0.5555555555555556,
              "#d8576b"
             ],
             [
              0.6666666666666666,
              "#ed7953"
             ],
             [
              0.7777777777777778,
              "#fb9f3a"
             ],
             [
              0.8888888888888888,
              "#fdca26"
             ],
             [
              1,
              "#f0f921"
             ]
            ],
            "type": "histogram2d"
           }
          ],
          "histogram2dcontour": [
           {
            "colorbar": {
             "outlinewidth": 0,
             "ticks": ""
            },
            "colorscale": [
             [
              0,
              "#0d0887"
             ],
             [
              0.1111111111111111,
              "#46039f"
             ],
             [
              0.2222222222222222,
              "#7201a8"
             ],
             [
              0.3333333333333333,
              "#9c179e"
             ],
             [
              0.4444444444444444,
              "#bd3786"
             ],
             [
              0.5555555555555556,
              "#d8576b"
             ],
             [
              0.6666666666666666,
              "#ed7953"
             ],
             [
              0.7777777777777778,
              "#fb9f3a"
             ],
             [
              0.8888888888888888,
              "#fdca26"
             ],
             [
              1,
              "#f0f921"
             ]
            ],
            "type": "histogram2dcontour"
           }
          ],
          "mesh3d": [
           {
            "colorbar": {
             "outlinewidth": 0,
             "ticks": ""
            },
            "type": "mesh3d"
           }
          ],
          "parcoords": [
           {
            "line": {
             "colorbar": {
              "outlinewidth": 0,
              "ticks": ""
             }
            },
            "type": "parcoords"
           }
          ],
          "pie": [
           {
            "automargin": true,
            "type": "pie"
           }
          ],
          "scatter": [
           {
            "fillpattern": {
             "fillmode": "overlay",
             "size": 10,
             "solidity": 0.2
            },
            "type": "scatter"
           }
          ],
          "scatter3d": [
           {
            "line": {
             "colorbar": {
              "outlinewidth": 0,
              "ticks": ""
             }
            },
            "marker": {
             "colorbar": {
              "outlinewidth": 0,
              "ticks": ""
             }
            },
            "type": "scatter3d"
           }
          ],
          "scattercarpet": [
           {
            "marker": {
             "colorbar": {
              "outlinewidth": 0,
              "ticks": ""
             }
            },
            "type": "scattercarpet"
           }
          ],
          "scattergeo": [
           {
            "marker": {
             "colorbar": {
              "outlinewidth": 0,
              "ticks": ""
             }
            },
            "type": "scattergeo"
           }
          ],
          "scattergl": [
           {
            "marker": {
             "colorbar": {
              "outlinewidth": 0,
              "ticks": ""
             }
            },
            "type": "scattergl"
           }
          ],
          "scattermapbox": [
           {
            "marker": {
             "colorbar": {
              "outlinewidth": 0,
              "ticks": ""
             }
            },
            "type": "scattermapbox"
           }
          ],
          "scatterpolar": [
           {
            "marker": {
             "colorbar": {
              "outlinewidth": 0,
              "ticks": ""
             }
            },
            "type": "scatterpolar"
           }
          ],
          "scatterpolargl": [
           {
            "marker": {
             "colorbar": {
              "outlinewidth": 0,
              "ticks": ""
             }
            },
            "type": "scatterpolargl"
           }
          ],
          "scatterternary": [
           {
            "marker": {
             "colorbar": {
              "outlinewidth": 0,
              "ticks": ""
             }
            },
            "type": "scatterternary"
           }
          ],
          "surface": [
           {
            "colorbar": {
             "outlinewidth": 0,
             "ticks": ""
            },
            "colorscale": [
             [
              0,
              "#0d0887"
             ],
             [
              0.1111111111111111,
              "#46039f"
             ],
             [
              0.2222222222222222,
              "#7201a8"
             ],
             [
              0.3333333333333333,
              "#9c179e"
             ],
             [
              0.4444444444444444,
              "#bd3786"
             ],
             [
              0.5555555555555556,
              "#d8576b"
             ],
             [
              0.6666666666666666,
              "#ed7953"
             ],
             [
              0.7777777777777778,
              "#fb9f3a"
             ],
             [
              0.8888888888888888,
              "#fdca26"
             ],
             [
              1,
              "#f0f921"
             ]
            ],
            "type": "surface"
           }
          ],
          "table": [
           {
            "cells": {
             "fill": {
              "color": "#EBF0F8"
             },
             "line": {
              "color": "white"
             }
            },
            "header": {
             "fill": {
              "color": "#C8D4E3"
             },
             "line": {
              "color": "white"
             }
            },
            "type": "table"
           }
          ]
         },
         "layout": {
          "annotationdefaults": {
           "arrowcolor": "#2a3f5f",
           "arrowhead": 0,
           "arrowwidth": 1
          },
          "autotypenumbers": "strict",
          "coloraxis": {
           "colorbar": {
            "outlinewidth": 0,
            "ticks": ""
           }
          },
          "colorscale": {
           "diverging": [
            [
             0,
             "#8e0152"
            ],
            [
             0.1,
             "#c51b7d"
            ],
            [
             0.2,
             "#de77ae"
            ],
            [
             0.3,
             "#f1b6da"
            ],
            [
             0.4,
             "#fde0ef"
            ],
            [
             0.5,
             "#f7f7f7"
            ],
            [
             0.6,
             "#e6f5d0"
            ],
            [
             0.7,
             "#b8e186"
            ],
            [
             0.8,
             "#7fbc41"
            ],
            [
             0.9,
             "#4d9221"
            ],
            [
             1,
             "#276419"
            ]
           ],
           "sequential": [
            [
             0,
             "#0d0887"
            ],
            [
             0.1111111111111111,
             "#46039f"
            ],
            [
             0.2222222222222222,
             "#7201a8"
            ],
            [
             0.3333333333333333,
             "#9c179e"
            ],
            [
             0.4444444444444444,
             "#bd3786"
            ],
            [
             0.5555555555555556,
             "#d8576b"
            ],
            [
             0.6666666666666666,
             "#ed7953"
            ],
            [
             0.7777777777777778,
             "#fb9f3a"
            ],
            [
             0.8888888888888888,
             "#fdca26"
            ],
            [
             1,
             "#f0f921"
            ]
           ],
           "sequentialminus": [
            [
             0,
             "#0d0887"
            ],
            [
             0.1111111111111111,
             "#46039f"
            ],
            [
             0.2222222222222222,
             "#7201a8"
            ],
            [
             0.3333333333333333,
             "#9c179e"
            ],
            [
             0.4444444444444444,
             "#bd3786"
            ],
            [
             0.5555555555555556,
             "#d8576b"
            ],
            [
             0.6666666666666666,
             "#ed7953"
            ],
            [
             0.7777777777777778,
             "#fb9f3a"
            ],
            [
             0.8888888888888888,
             "#fdca26"
            ],
            [
             1,
             "#f0f921"
            ]
           ]
          },
          "colorway": [
           "#636efa",
           "#EF553B",
           "#00cc96",
           "#ab63fa",
           "#FFA15A",
           "#19d3f3",
           "#FF6692",
           "#B6E880",
           "#FF97FF",
           "#FECB52"
          ],
          "font": {
           "color": "#2a3f5f"
          },
          "geo": {
           "bgcolor": "white",
           "lakecolor": "white",
           "landcolor": "#E5ECF6",
           "showlakes": true,
           "showland": true,
           "subunitcolor": "white"
          },
          "hoverlabel": {
           "align": "left"
          },
          "hovermode": "closest",
          "mapbox": {
           "style": "light"
          },
          "paper_bgcolor": "white",
          "plot_bgcolor": "#E5ECF6",
          "polar": {
           "angularaxis": {
            "gridcolor": "white",
            "linecolor": "white",
            "ticks": ""
           },
           "bgcolor": "#E5ECF6",
           "radialaxis": {
            "gridcolor": "white",
            "linecolor": "white",
            "ticks": ""
           }
          },
          "scene": {
           "xaxis": {
            "backgroundcolor": "#E5ECF6",
            "gridcolor": "white",
            "gridwidth": 2,
            "linecolor": "white",
            "showbackground": true,
            "ticks": "",
            "zerolinecolor": "white"
           },
           "yaxis": {
            "backgroundcolor": "#E5ECF6",
            "gridcolor": "white",
            "gridwidth": 2,
            "linecolor": "white",
            "showbackground": true,
            "ticks": "",
            "zerolinecolor": "white"
           },
           "zaxis": {
            "backgroundcolor": "#E5ECF6",
            "gridcolor": "white",
            "gridwidth": 2,
            "linecolor": "white",
            "showbackground": true,
            "ticks": "",
            "zerolinecolor": "white"
           }
          },
          "shapedefaults": {
           "line": {
            "color": "#2a3f5f"
           }
          },
          "ternary": {
           "aaxis": {
            "gridcolor": "white",
            "linecolor": "white",
            "ticks": ""
           },
           "baxis": {
            "gridcolor": "white",
            "linecolor": "white",
            "ticks": ""
           },
           "bgcolor": "#E5ECF6",
           "caxis": {
            "gridcolor": "white",
            "linecolor": "white",
            "ticks": ""
           }
          },
          "title": {
           "x": 0.05
          },
          "xaxis": {
           "automargin": true,
           "gridcolor": "white",
           "linecolor": "white",
           "ticks": "",
           "title": {
            "standoff": 15
           },
           "zerolinecolor": "white",
           "zerolinewidth": 2
          },
          "yaxis": {
           "automargin": true,
           "gridcolor": "white",
           "linecolor": "white",
           "ticks": "",
           "title": {
            "standoff": 15
           },
           "zerolinecolor": "white",
           "zerolinewidth": 2
          }
         }
        },
        "title": {
         "font": {
          "color": "#4D5663"
         }
        },
        "xaxis": {
         "gridcolor": "#E1E5ED",
         "showgrid": true,
         "tickfont": {
          "color": "#4D5663"
         },
         "title": {
          "font": {
           "color": "#4D5663"
          },
          "text": ""
         },
         "zerolinecolor": "#E1E5ED"
        },
        "xaxis2": {
         "anchor": "y2",
         "gridcolor": "#E1E5ED",
         "showgrid": true,
         "showticklabels": false,
         "tickfont": {
          "color": "#4D5663"
         },
         "title": {
          "font": {
           "color": "#4D5663"
          },
          "text": ""
         },
         "zerolinecolor": "#E1E5ED"
        },
        "yaxis": {
         "domain": [
          0.3,
          1
         ],
         "gridcolor": "#E1E5ED",
         "showgrid": true,
         "tickfont": {
          "color": "#4D5663"
         },
         "title": {
          "font": {
           "color": "#4D5663"
          },
          "text": ""
         },
         "zerolinecolor": "#E1E5ED"
        },
        "yaxis2": {
         "domain": [
          0,
          0.25
         ],
         "gridcolor": "#E1E5ED",
         "showgrid": true,
         "tickfont": {
          "color": "#4D5663"
         },
         "title": {
          "font": {
           "color": "#4D5663"
          },
          "text": "Spread"
         },
         "zerolinecolor": "#E1E5ED"
        }
       }
      },
      "text/html": [
       "<div>                            <div id=\"c769366c-1d62-4d03-bb29-48cd6affae95\" class=\"plotly-graph-div\" style=\"height:525px; width:100%;\"></div>            <script type=\"text/javascript\">                require([\"plotly\"], function(Plotly) {                    window.PLOTLYENV=window.PLOTLYENV || {};\n",
       "                    window.PLOTLYENV.BASE_URL='https://plot.ly';                                    if (document.getElementById(\"c769366c-1d62-4d03-bb29-48cd6affae95\")) {                    Plotly.newPlot(                        \"c769366c-1d62-4d03-bb29-48cd6affae95\",                        [{\"line\":{\"color\":\"rgba(255, 153, 51, 1.0)\",\"dash\":\"solid\",\"shape\":\"linear\",\"width\":1.3},\"mode\":\"lines\",\"name\":\"A\",\"text\":\"\",\"x\":[0,1,2,3,4,5,6,7,8,9,10,11,12,13,14,15,16,17,18,19,20,21,22,23,24,25,26,27,28,29,30,31,32,33,34,35,36,37,38,39,40,41,42,43,44,45,46,47,48,49,50,51,52,53,54,55,56,57,58,59,60,61,62,63,64,65,66,67,68,69,70,71,72,73,74,75,76,77,78,79,80,81,82,83,84,85,86,87,88,89,90,91,92,93,94,95,96,97,98,99],\"y\":[1.703030536865381,0.057715736526326965,1.806753252426194,-0.28507382165451167,0.8448103032083629,1.9356544563192983,0.25265645003993437,-0.7108407175975264,0.20407341105116586,-0.9631835128284022,-2.313929528277395,1.8504210053906285,0.11575887999256226,-1.6797795335634507,0.32101675906697663,-0.029421517263010833,0.916862588487737,0.5005943184489355,0.47748875080863645,-1.4445253371836875,-0.7490423417159519,0.8307497872518788,-1.2944740230747616,0.562061709877203,0.8221148785197783,-0.7523094282677261,-0.26373004757776175,0.5258232470067837,0.940979809508781,0.23178863608136288,-0.3999835749531784,-1.5877557479545665,1.3117797268833151,0.5277915175274164,0.055985875744130185,0.22757050286605102,-1.0518642709521109,-2.2809456910838524,-0.1304241624464754,-0.1908037005073423,0.24896485240145314,-0.04471771013045752,-0.9701184869344839,1.0990611188514359,0.12340353879664699,0.0753800392632158,-0.0662171730054763,-0.35308229736830216,-0.10945749618170171,-1.6329769246665042,-2.2167020173795096,0.2726812030775698,-0.1455257739888572,0.6511061330588763,-0.4401251895987155,-0.4561258898920153,0.09968968653804522,-0.6599742180242933,-1.530117369231545,-0.6996345378686805,1.4655432843735978,0.1440603081792614,-0.7928080218222593,0.9629631226294447,0.21702547598133207,-0.041302322471019656,0.6933637350395077,0.15085198288439183,-0.5110684458127188,0.7423426360891041,-0.2790365281483132,-0.21438293119597363,1.3897821201574414,-0.05515767789216785,-1.18290717597586,1.5145019130226023,0.08103465020839139,-1.376004787846036,1.365053587926242,0.18655028290427167,0.1568399485803906,0.2093824677298707,-0.03481088445587469,0.9900655976655112,0.47820191801570666,-1.3762517202742317,0.982440826684452,0.35343255249727457,-0.5787230512640728,0.4663012854591553,-1.0989913782473266,0.4573973997223406,-1.6674459041243,0.13256166644037015,-0.7662112574506679,-0.6030276098968368,2.324055715057974,0.519139017155852,1.5854011486856008,-0.8140182188847669],\"type\":\"scatter\"},{\"line\":{\"color\":\"rgba(55, 128, 191, 1.0)\",\"dash\":\"solid\",\"shape\":\"linear\",\"width\":1.3},\"mode\":\"lines\",\"name\":\"B\",\"text\":\"\",\"x\":[0,1,2,3,4,5,6,7,8,9,10,11,12,13,14,15,16,17,18,19,20,21,22,23,24,25,26,27,28,29,30,31,32,33,34,35,36,37,38,39,40,41,42,43,44,45,46,47,48,49,50,51,52,53,54,55,56,57,58,59,60,61,62,63,64,65,66,67,68,69,70,71,72,73,74,75,76,77,78,79,80,81,82,83,84,85,86,87,88,89,90,91,92,93,94,95,96,97,98,99],\"y\":[0.020446733117837387,-0.13142655753710328,2.1552942366317467,-0.7368030167193271,-0.15647700590177263,0.6227231939705729,-1.6691369374293619,-1.2303447427755323,0.643022860548499,0.021586526736260724,-1.7169237831599646,0.22218243580981564,0.36584301376601014,0.026480636897801314,-0.43463437249302705,0.6051183133216308,-0.04743338759975797,-1.0437386290390713,0.7634534487337309,1.8374145183566533,-0.06536138852479652,0.7189252425600876,1.618990179663656,-0.1292282991611609,1.1273662797944604,0.6190874181543614,0.06368225620831357,0.46551790697162204,1.209953364299594,-2.369297044199571,0.8474003322921112,-0.940570263581015,-1.733441623719393,0.026841257964993363,-1.16890351164535,2.444181611176374,0.32751014394035766,-0.7403796216695913,0.974192465330595,-1.3419718295456629,0.06753401710505501,0.3995579413779053,1.4715788524730944,1.3058590299377058,0.47396800523908605,-0.8533959337453239,-0.04513824946522313,1.5989310069722822,0.8209975940625924,0.9130159745522907,0.631805379794073,0.6871572685821035,0.4045330817197545,1.2699208282991628,-0.6115479531451279,0.888004086618221,-0.16824686224817828,0.5678427897742637,-0.10410397427380996,-2.3038112907761277,0.41334310863275886,1.6928037846747235,0.392241308944528,-0.60184778036844,0.15205225924987986,1.6218704586678105,0.2201422071654261,-1.3786178164447496,-0.19056231682640878,-1.9889018202432063,-0.280718466698838,-1.771621395021947,1.155531507522197,-0.4552613825429717,-0.14485092590175166,-1.4283535464664365,-0.03840435986495959,-0.48667075998421944,-0.9941041935759036,-0.43719948750326876,1.2258685272598313,0.41068441181305554,0.7819145340879001,0.38400754270393317,-0.2149342584479373,-0.06703890319057035,0.355262197350419,-0.4613181548267008,-0.8533370162794723,-1.744887650467091,-0.7983995491067819,0.03200564722701361,1.2726655310355808,0.1599056042426869,0.756455417298015,0.5128717405086298,1.2974121723462697,0.8823627599399996,-0.567302174615601,0.0697729567365461],\"type\":\"scatter\"},{\"connectgaps\":false,\"fill\":\"tozeroy\",\"line\":{\"color\":\"green\",\"dash\":\"solid\",\"shape\":\"linear\",\"width\":0.5},\"mode\":\"lines\",\"name\":\"Spread\",\"showlegend\":false,\"x\":[0,1,2,3,4,5,6,7,8,9,10,11,12,13,14,15,16,17,18,19,20,21,22,23,24,25,26,27,28,29,30,31,32,33,34,35,36,37,38,39,40,41,42,43,44,45,46,47,48,49,50,51,52,53,54,55,56,57,58,59,60,61,62,63,64,65,66,67,68,69,70,71,72,73,74,75,76,77,78,79,80,81,82,83,84,85,86,87,88,89,90,91,92,93,94,95,96,97,98,99],\"xaxis\":\"x2\",\"y\":[1.6825838037475438,0.18914229406343025,\"\",0.45172919506481546,1.0012873091101355,1.3129312623487255,1.9217933874692963,0.5195040251780059,\"\",\"\",\"\",1.6282385695808128,\"\",\"\",0.7556511315600036,\"\",0.9642959760874951,1.544332947488007,\"\",\"\",\"\",0.11182454469179115,\"\",0.691290009038364,\"\",\"\",\"\",0.06030534003516169,\"\",2.601085680280934,\"\",\"\",3.0452213506027084,0.500950259562423,1.2248893873894802,\"\",\"\",\"\",\"\",1.1511681290383207,0.18143083529639814,\"\",\"\",\"\",\"\",0.9287759730085396,\"\",\"\",\"\",\"\",\"\",\"\",\"\",\"\",0.1714227635464124,\"\",0.2679365487862235,\"\",\"\",1.6041767529074473,1.052200175740839,\"\",\"\",1.5648109029978847,0.0649732167314522,\"\",0.47322152787408156,1.5294697993291413,\"\",2.7312444563323104,0.0016819385505247864,1.5572384638259735,0.23425061263524438,0.40010370465080386,\"\",2.9428554594890386,0.11943901007335098,\"\",2.3591577815021454,0.6237497704075404,\"\",\"\",\"\",0.6060580549615779,0.6931361764636439,\"\",0.627178629334033,0.8147507073239754,0.2746139650153996,2.211188935926246,\"\",0.425391752495327,\"\",\"\",\"\",\"\",1.0266435427117044,\"\",2.1527033233012016,\"\"],\"yaxis\":\"y2\",\"type\":\"scatter\"},{\"connectgaps\":false,\"fill\":\"tozeroy\",\"line\":{\"color\":\"red\",\"dash\":\"solid\",\"shape\":\"linear\",\"width\":0.5},\"mode\":\"lines\",\"name\":\"Spread\",\"showlegend\":false,\"x\":[0,1,2,3,4,5,6,7,8,9,10,11,12,13,14,15,16,17,18,19,20,21,22,23,24,25,26,27,28,29,30,31,32,33,34,35,36,37,38,39,40,41,42,43,44,45,46,47,48,49,50,51,52,53,54,55,56,57,58,59,60,61,62,63,64,65,66,67,68,69,70,71,72,73,74,75,76,77,78,79,80,81,82,83,84,85,86,87,88,89,90,91,92,93,94,95,96,97,98,99],\"xaxis\":\"x2\",\"y\":[\"\",\"\",-0.3485409842055527,\"\",\"\",\"\",\"\",\"\",-0.43894944949733317,-0.9847700395646629,-0.5970057451174304,\"\",-0.25008413377344785,-1.706260170461252,\"\",-0.6345398305846416,\"\",\"\",-0.28596469792509444,-3.2819398555403407,-0.6836809531911553,\"\",-2.9134642027384174,\"\",-0.3052514012746821,-1.3713968464220874,-0.32741230378607533,\"\",-0.2689735547908131,\"\",-1.2473839072452897,-0.6471854843735515,\"\",\"\",\"\",-2.216611108310323,-1.3793744148924685,-1.540566069414261,-1.1046166277770704,\"\",\"\",-0.4442756515083628,-2.441697339407578,-0.20679791108626988,-0.35056446644243905,\"\",-0.021078923540253175,-1.9520133043405843,-0.9304550902442942,-2.545992899218795,-2.8485073971735826,-0.41447606550453364,-0.5500588557086117,-0.6188146952402864,\"\",-1.3441299765102364,\"\",-1.227817007798557,-1.4260133949577352,\"\",\"\",-1.5487434764954622,-1.1850493307667873,\"\",\"\",-1.6631727811388302,\"\",\"\",-0.32050612898631003,\"\",\"\",\"\",\"\",\"\",-1.0380562500741084,\"\",\"\",-0.8893340278618165,\"\",\"\",-1.0690285786794407,-0.20130194408318483,-0.8167254185437748,\"\",\"\",-1.3092128170836614,\"\",\"\",\"\",\"\",-0.3005918291405447,\"\",-2.9401114351598805,-0.027343937802316753,-1.5226666747486828,-1.1158993504054666,\"\",-0.3632237427841476,\"\",-0.883791175621313],\"yaxis\":\"y2\",\"type\":\"scatter\"}],                        {\"hovermode\":\"x\",\"legend\":{\"bgcolor\":\"#F5F6F9\",\"font\":{\"color\":\"#4D5663\"}},\"paper_bgcolor\":\"#F5F6F9\",\"plot_bgcolor\":\"#F5F6F9\",\"template\":{\"data\":{\"barpolar\":[{\"marker\":{\"line\":{\"color\":\"#E5ECF6\",\"width\":0.5},\"pattern\":{\"fillmode\":\"overlay\",\"size\":10,\"solidity\":0.2}},\"type\":\"barpolar\"}],\"bar\":[{\"error_x\":{\"color\":\"#2a3f5f\"},\"error_y\":{\"color\":\"#2a3f5f\"},\"marker\":{\"line\":{\"color\":\"#E5ECF6\",\"width\":0.5},\"pattern\":{\"fillmode\":\"overlay\",\"size\":10,\"solidity\":0.2}},\"type\":\"bar\"}],\"carpet\":[{\"aaxis\":{\"endlinecolor\":\"#2a3f5f\",\"gridcolor\":\"white\",\"linecolor\":\"white\",\"minorgridcolor\":\"white\",\"startlinecolor\":\"#2a3f5f\"},\"baxis\":{\"endlinecolor\":\"#2a3f5f\",\"gridcolor\":\"white\",\"linecolor\":\"white\",\"minorgridcolor\":\"white\",\"startlinecolor\":\"#2a3f5f\"},\"type\":\"carpet\"}],\"choropleth\":[{\"colorbar\":{\"outlinewidth\":0,\"ticks\":\"\"},\"type\":\"choropleth\"}],\"contourcarpet\":[{\"colorbar\":{\"outlinewidth\":0,\"ticks\":\"\"},\"type\":\"contourcarpet\"}],\"contour\":[{\"colorbar\":{\"outlinewidth\":0,\"ticks\":\"\"},\"colorscale\":[[0.0,\"#0d0887\"],[0.1111111111111111,\"#46039f\"],[0.2222222222222222,\"#7201a8\"],[0.3333333333333333,\"#9c179e\"],[0.4444444444444444,\"#bd3786\"],[0.5555555555555556,\"#d8576b\"],[0.6666666666666666,\"#ed7953\"],[0.7777777777777778,\"#fb9f3a\"],[0.8888888888888888,\"#fdca26\"],[1.0,\"#f0f921\"]],\"type\":\"contour\"}],\"heatmapgl\":[{\"colorbar\":{\"outlinewidth\":0,\"ticks\":\"\"},\"colorscale\":[[0.0,\"#0d0887\"],[0.1111111111111111,\"#46039f\"],[0.2222222222222222,\"#7201a8\"],[0.3333333333333333,\"#9c179e\"],[0.4444444444444444,\"#bd3786\"],[0.5555555555555556,\"#d8576b\"],[0.6666666666666666,\"#ed7953\"],[0.7777777777777778,\"#fb9f3a\"],[0.8888888888888888,\"#fdca26\"],[1.0,\"#f0f921\"]],\"type\":\"heatmapgl\"}],\"heatmap\":[{\"colorbar\":{\"outlinewidth\":0,\"ticks\":\"\"},\"colorscale\":[[0.0,\"#0d0887\"],[0.1111111111111111,\"#46039f\"],[0.2222222222222222,\"#7201a8\"],[0.3333333333333333,\"#9c179e\"],[0.4444444444444444,\"#bd3786\"],[0.5555555555555556,\"#d8576b\"],[0.6666666666666666,\"#ed7953\"],[0.7777777777777778,\"#fb9f3a\"],[0.8888888888888888,\"#fdca26\"],[1.0,\"#f0f921\"]],\"type\":\"heatmap\"}],\"histogram2dcontour\":[{\"colorbar\":{\"outlinewidth\":0,\"ticks\":\"\"},\"colorscale\":[[0.0,\"#0d0887\"],[0.1111111111111111,\"#46039f\"],[0.2222222222222222,\"#7201a8\"],[0.3333333333333333,\"#9c179e\"],[0.4444444444444444,\"#bd3786\"],[0.5555555555555556,\"#d8576b\"],[0.6666666666666666,\"#ed7953\"],[0.7777777777777778,\"#fb9f3a\"],[0.8888888888888888,\"#fdca26\"],[1.0,\"#f0f921\"]],\"type\":\"histogram2dcontour\"}],\"histogram2d\":[{\"colorbar\":{\"outlinewidth\":0,\"ticks\":\"\"},\"colorscale\":[[0.0,\"#0d0887\"],[0.1111111111111111,\"#46039f\"],[0.2222222222222222,\"#7201a8\"],[0.3333333333333333,\"#9c179e\"],[0.4444444444444444,\"#bd3786\"],[0.5555555555555556,\"#d8576b\"],[0.6666666666666666,\"#ed7953\"],[0.7777777777777778,\"#fb9f3a\"],[0.8888888888888888,\"#fdca26\"],[1.0,\"#f0f921\"]],\"type\":\"histogram2d\"}],\"histogram\":[{\"marker\":{\"pattern\":{\"fillmode\":\"overlay\",\"size\":10,\"solidity\":0.2}},\"type\":\"histogram\"}],\"mesh3d\":[{\"colorbar\":{\"outlinewidth\":0,\"ticks\":\"\"},\"type\":\"mesh3d\"}],\"parcoords\":[{\"line\":{\"colorbar\":{\"outlinewidth\":0,\"ticks\":\"\"}},\"type\":\"parcoords\"}],\"pie\":[{\"automargin\":true,\"type\":\"pie\"}],\"scatter3d\":[{\"line\":{\"colorbar\":{\"outlinewidth\":0,\"ticks\":\"\"}},\"marker\":{\"colorbar\":{\"outlinewidth\":0,\"ticks\":\"\"}},\"type\":\"scatter3d\"}],\"scattercarpet\":[{\"marker\":{\"colorbar\":{\"outlinewidth\":0,\"ticks\":\"\"}},\"type\":\"scattercarpet\"}],\"scattergeo\":[{\"marker\":{\"colorbar\":{\"outlinewidth\":0,\"ticks\":\"\"}},\"type\":\"scattergeo\"}],\"scattergl\":[{\"marker\":{\"colorbar\":{\"outlinewidth\":0,\"ticks\":\"\"}},\"type\":\"scattergl\"}],\"scattermapbox\":[{\"marker\":{\"colorbar\":{\"outlinewidth\":0,\"ticks\":\"\"}},\"type\":\"scattermapbox\"}],\"scatterpolargl\":[{\"marker\":{\"colorbar\":{\"outlinewidth\":0,\"ticks\":\"\"}},\"type\":\"scatterpolargl\"}],\"scatterpolar\":[{\"marker\":{\"colorbar\":{\"outlinewidth\":0,\"ticks\":\"\"}},\"type\":\"scatterpolar\"}],\"scatter\":[{\"fillpattern\":{\"fillmode\":\"overlay\",\"size\":10,\"solidity\":0.2},\"type\":\"scatter\"}],\"scatterternary\":[{\"marker\":{\"colorbar\":{\"outlinewidth\":0,\"ticks\":\"\"}},\"type\":\"scatterternary\"}],\"surface\":[{\"colorbar\":{\"outlinewidth\":0,\"ticks\":\"\"},\"colorscale\":[[0.0,\"#0d0887\"],[0.1111111111111111,\"#46039f\"],[0.2222222222222222,\"#7201a8\"],[0.3333333333333333,\"#9c179e\"],[0.4444444444444444,\"#bd3786\"],[0.5555555555555556,\"#d8576b\"],[0.6666666666666666,\"#ed7953\"],[0.7777777777777778,\"#fb9f3a\"],[0.8888888888888888,\"#fdca26\"],[1.0,\"#f0f921\"]],\"type\":\"surface\"}],\"table\":[{\"cells\":{\"fill\":{\"color\":\"#EBF0F8\"},\"line\":{\"color\":\"white\"}},\"header\":{\"fill\":{\"color\":\"#C8D4E3\"},\"line\":{\"color\":\"white\"}},\"type\":\"table\"}]},\"layout\":{\"annotationdefaults\":{\"arrowcolor\":\"#2a3f5f\",\"arrowhead\":0,\"arrowwidth\":1},\"autotypenumbers\":\"strict\",\"coloraxis\":{\"colorbar\":{\"outlinewidth\":0,\"ticks\":\"\"}},\"colorscale\":{\"diverging\":[[0,\"#8e0152\"],[0.1,\"#c51b7d\"],[0.2,\"#de77ae\"],[0.3,\"#f1b6da\"],[0.4,\"#fde0ef\"],[0.5,\"#f7f7f7\"],[0.6,\"#e6f5d0\"],[0.7,\"#b8e186\"],[0.8,\"#7fbc41\"],[0.9,\"#4d9221\"],[1,\"#276419\"]],\"sequential\":[[0.0,\"#0d0887\"],[0.1111111111111111,\"#46039f\"],[0.2222222222222222,\"#7201a8\"],[0.3333333333333333,\"#9c179e\"],[0.4444444444444444,\"#bd3786\"],[0.5555555555555556,\"#d8576b\"],[0.6666666666666666,\"#ed7953\"],[0.7777777777777778,\"#fb9f3a\"],[0.8888888888888888,\"#fdca26\"],[1.0,\"#f0f921\"]],\"sequentialminus\":[[0.0,\"#0d0887\"],[0.1111111111111111,\"#46039f\"],[0.2222222222222222,\"#7201a8\"],[0.3333333333333333,\"#9c179e\"],[0.4444444444444444,\"#bd3786\"],[0.5555555555555556,\"#d8576b\"],[0.6666666666666666,\"#ed7953\"],[0.7777777777777778,\"#fb9f3a\"],[0.8888888888888888,\"#fdca26\"],[1.0,\"#f0f921\"]]},\"colorway\":[\"#636efa\",\"#EF553B\",\"#00cc96\",\"#ab63fa\",\"#FFA15A\",\"#19d3f3\",\"#FF6692\",\"#B6E880\",\"#FF97FF\",\"#FECB52\"],\"font\":{\"color\":\"#2a3f5f\"},\"geo\":{\"bgcolor\":\"white\",\"lakecolor\":\"white\",\"landcolor\":\"#E5ECF6\",\"showlakes\":true,\"showland\":true,\"subunitcolor\":\"white\"},\"hoverlabel\":{\"align\":\"left\"},\"hovermode\":\"closest\",\"mapbox\":{\"style\":\"light\"},\"paper_bgcolor\":\"white\",\"plot_bgcolor\":\"#E5ECF6\",\"polar\":{\"angularaxis\":{\"gridcolor\":\"white\",\"linecolor\":\"white\",\"ticks\":\"\"},\"bgcolor\":\"#E5ECF6\",\"radialaxis\":{\"gridcolor\":\"white\",\"linecolor\":\"white\",\"ticks\":\"\"}},\"scene\":{\"xaxis\":{\"backgroundcolor\":\"#E5ECF6\",\"gridcolor\":\"white\",\"gridwidth\":2,\"linecolor\":\"white\",\"showbackground\":true,\"ticks\":\"\",\"zerolinecolor\":\"white\"},\"yaxis\":{\"backgroundcolor\":\"#E5ECF6\",\"gridcolor\":\"white\",\"gridwidth\":2,\"linecolor\":\"white\",\"showbackground\":true,\"ticks\":\"\",\"zerolinecolor\":\"white\"},\"zaxis\":{\"backgroundcolor\":\"#E5ECF6\",\"gridcolor\":\"white\",\"gridwidth\":2,\"linecolor\":\"white\",\"showbackground\":true,\"ticks\":\"\",\"zerolinecolor\":\"white\"}},\"shapedefaults\":{\"line\":{\"color\":\"#2a3f5f\"}},\"ternary\":{\"aaxis\":{\"gridcolor\":\"white\",\"linecolor\":\"white\",\"ticks\":\"\"},\"baxis\":{\"gridcolor\":\"white\",\"linecolor\":\"white\",\"ticks\":\"\"},\"bgcolor\":\"#E5ECF6\",\"caxis\":{\"gridcolor\":\"white\",\"linecolor\":\"white\",\"ticks\":\"\"}},\"title\":{\"x\":0.05},\"xaxis\":{\"automargin\":true,\"gridcolor\":\"white\",\"linecolor\":\"white\",\"ticks\":\"\",\"title\":{\"standoff\":15},\"zerolinecolor\":\"white\",\"zerolinewidth\":2},\"yaxis\":{\"automargin\":true,\"gridcolor\":\"white\",\"linecolor\":\"white\",\"ticks\":\"\",\"title\":{\"standoff\":15},\"zerolinecolor\":\"white\",\"zerolinewidth\":2}}},\"title\":{\"font\":{\"color\":\"#4D5663\"}},\"xaxis\":{\"gridcolor\":\"#E1E5ED\",\"showgrid\":true,\"tickfont\":{\"color\":\"#4D5663\"},\"title\":{\"font\":{\"color\":\"#4D5663\"},\"text\":\"\"},\"zerolinecolor\":\"#E1E5ED\"},\"yaxis\":{\"domain\":[0.3,1],\"gridcolor\":\"#E1E5ED\",\"showgrid\":true,\"tickfont\":{\"color\":\"#4D5663\"},\"title\":{\"font\":{\"color\":\"#4D5663\"},\"text\":\"\"},\"zerolinecolor\":\"#E1E5ED\"},\"yaxis2\":{\"domain\":[0,0.25],\"gridcolor\":\"#E1E5ED\",\"showgrid\":true,\"tickfont\":{\"color\":\"#4D5663\"},\"title\":{\"font\":{\"color\":\"#4D5663\"},\"text\":\"Spread\"},\"zerolinecolor\":\"#E1E5ED\"},\"xaxis2\":{\"anchor\":\"y2\",\"gridcolor\":\"#E1E5ED\",\"showgrid\":true,\"showticklabels\":false,\"tickfont\":{\"color\":\"#4D5663\"},\"title\":{\"font\":{\"color\":\"#4D5663\"},\"text\":\"\"},\"zerolinecolor\":\"#E1E5ED\"}},                        {\"showLink\": true, \"linkText\": \"Export to plot.ly\", \"plotlyServerURL\": \"https://plot.ly\", \"responsive\": true}                    ).then(function(){\n",
       "                            \n",
       "var gd = document.getElementById('c769366c-1d62-4d03-bb29-48cd6affae95');\n",
       "var x = new MutationObserver(function (mutations, observer) {{\n",
       "        var display = window.getComputedStyle(gd).display;\n",
       "        if (!display || display === 'none') {{\n",
       "            console.log([gd, 'removed!']);\n",
       "            Plotly.purge(gd);\n",
       "            observer.disconnect();\n",
       "        }}\n",
       "}});\n",
       "\n",
       "// Listen for the removal of the full notebook cells\n",
       "var notebookContainer = gd.closest('#notebook-container');\n",
       "if (notebookContainer) {{\n",
       "    x.observe(notebookContainer, {childList: true});\n",
       "}}\n",
       "\n",
       "// Listen for the clearing of the current output cell\n",
       "var outputEl = gd.closest('.output');\n",
       "if (outputEl) {{\n",
       "    x.observe(outputEl, {childList: true});\n",
       "}}\n",
       "\n",
       "                        })                };                });            </script>        </div>"
      ]
     },
     "metadata": {},
     "output_type": "display_data"
    }
   ],
   "source": [
    "df[['A','B']].iplot(kind = 'spread')"
   ]
  },
  {
   "cell_type": "markdown",
   "id": "8a70258e",
   "metadata": {},
   "source": [
    "# histogram"
   ]
  },
  {
   "cell_type": "code",
   "execution_count": 62,
   "id": "2a25e274",
   "metadata": {},
   "outputs": [
    {
     "data": {
      "application/vnd.plotly.v1+json": {
       "config": {
        "linkText": "Export to plot.ly",
        "plotlyServerURL": "https://plot.ly",
        "showLink": true
       },
       "data": [
        {
         "histfunc": "count",
         "histnorm": "",
         "marker": {
          "color": "rgba(255, 153, 51, 1.0)",
          "line": {
           "color": "#4D5663",
           "width": 1.3
          }
         },
         "name": "A",
         "nbinsx": 25,
         "opacity": 0.8,
         "orientation": "v",
         "type": "histogram",
         "x": [
          1.703030536865381,
          0.057715736526326965,
          1.806753252426194,
          -0.28507382165451167,
          0.8448103032083629,
          1.9356544563192983,
          0.25265645003993437,
          -0.7108407175975264,
          0.20407341105116586,
          -0.9631835128284022,
          -2.313929528277395,
          1.8504210053906285,
          0.11575887999256226,
          -1.6797795335634507,
          0.32101675906697663,
          -0.029421517263010833,
          0.916862588487737,
          0.5005943184489355,
          0.47748875080863645,
          -1.4445253371836875,
          -0.7490423417159519,
          0.8307497872518788,
          -1.2944740230747616,
          0.562061709877203,
          0.8221148785197783,
          -0.7523094282677261,
          -0.26373004757776175,
          0.5258232470067837,
          0.940979809508781,
          0.23178863608136288,
          -0.3999835749531784,
          -1.5877557479545665,
          1.3117797268833151,
          0.5277915175274164,
          0.055985875744130185,
          0.22757050286605102,
          -1.0518642709521109,
          -2.2809456910838524,
          -0.1304241624464754,
          -0.1908037005073423,
          0.24896485240145314,
          -0.04471771013045752,
          -0.9701184869344839,
          1.0990611188514359,
          0.12340353879664699,
          0.0753800392632158,
          -0.0662171730054763,
          -0.35308229736830216,
          -0.10945749618170171,
          -1.6329769246665042,
          -2.2167020173795096,
          0.2726812030775698,
          -0.1455257739888572,
          0.6511061330588763,
          -0.4401251895987155,
          -0.4561258898920153,
          0.09968968653804522,
          -0.6599742180242933,
          -1.530117369231545,
          -0.6996345378686805,
          1.4655432843735978,
          0.1440603081792614,
          -0.7928080218222593,
          0.9629631226294447,
          0.21702547598133207,
          -0.041302322471019656,
          0.6933637350395077,
          0.15085198288439183,
          -0.5110684458127188,
          0.7423426360891041,
          -0.2790365281483132,
          -0.21438293119597363,
          1.3897821201574414,
          -0.05515767789216785,
          -1.18290717597586,
          1.5145019130226023,
          0.08103465020839139,
          -1.376004787846036,
          1.365053587926242,
          0.18655028290427167,
          0.1568399485803906,
          0.2093824677298707,
          -0.03481088445587469,
          0.9900655976655112,
          0.47820191801570666,
          -1.3762517202742317,
          0.982440826684452,
          0.35343255249727457,
          -0.5787230512640728,
          0.4663012854591553,
          -1.0989913782473266,
          0.4573973997223406,
          -1.6674459041243,
          0.13256166644037015,
          -0.7662112574506679,
          -0.6030276098968368,
          2.324055715057974,
          0.519139017155852,
          1.5854011486856008,
          -0.8140182188847669
         ]
        }
       ],
       "layout": {
        "barmode": "overlay",
        "legend": {
         "bgcolor": "#F5F6F9",
         "font": {
          "color": "#4D5663"
         }
        },
        "paper_bgcolor": "#F5F6F9",
        "plot_bgcolor": "#F5F6F9",
        "template": {
         "data": {
          "bar": [
           {
            "error_x": {
             "color": "#2a3f5f"
            },
            "error_y": {
             "color": "#2a3f5f"
            },
            "marker": {
             "line": {
              "color": "#E5ECF6",
              "width": 0.5
             },
             "pattern": {
              "fillmode": "overlay",
              "size": 10,
              "solidity": 0.2
             }
            },
            "type": "bar"
           }
          ],
          "barpolar": [
           {
            "marker": {
             "line": {
              "color": "#E5ECF6",
              "width": 0.5
             },
             "pattern": {
              "fillmode": "overlay",
              "size": 10,
              "solidity": 0.2
             }
            },
            "type": "barpolar"
           }
          ],
          "carpet": [
           {
            "aaxis": {
             "endlinecolor": "#2a3f5f",
             "gridcolor": "white",
             "linecolor": "white",
             "minorgridcolor": "white",
             "startlinecolor": "#2a3f5f"
            },
            "baxis": {
             "endlinecolor": "#2a3f5f",
             "gridcolor": "white",
             "linecolor": "white",
             "minorgridcolor": "white",
             "startlinecolor": "#2a3f5f"
            },
            "type": "carpet"
           }
          ],
          "choropleth": [
           {
            "colorbar": {
             "outlinewidth": 0,
             "ticks": ""
            },
            "type": "choropleth"
           }
          ],
          "contour": [
           {
            "colorbar": {
             "outlinewidth": 0,
             "ticks": ""
            },
            "colorscale": [
             [
              0,
              "#0d0887"
             ],
             [
              0.1111111111111111,
              "#46039f"
             ],
             [
              0.2222222222222222,
              "#7201a8"
             ],
             [
              0.3333333333333333,
              "#9c179e"
             ],
             [
              0.4444444444444444,
              "#bd3786"
             ],
             [
              0.5555555555555556,
              "#d8576b"
             ],
             [
              0.6666666666666666,
              "#ed7953"
             ],
             [
              0.7777777777777778,
              "#fb9f3a"
             ],
             [
              0.8888888888888888,
              "#fdca26"
             ],
             [
              1,
              "#f0f921"
             ]
            ],
            "type": "contour"
           }
          ],
          "contourcarpet": [
           {
            "colorbar": {
             "outlinewidth": 0,
             "ticks": ""
            },
            "type": "contourcarpet"
           }
          ],
          "heatmap": [
           {
            "colorbar": {
             "outlinewidth": 0,
             "ticks": ""
            },
            "colorscale": [
             [
              0,
              "#0d0887"
             ],
             [
              0.1111111111111111,
              "#46039f"
             ],
             [
              0.2222222222222222,
              "#7201a8"
             ],
             [
              0.3333333333333333,
              "#9c179e"
             ],
             [
              0.4444444444444444,
              "#bd3786"
             ],
             [
              0.5555555555555556,
              "#d8576b"
             ],
             [
              0.6666666666666666,
              "#ed7953"
             ],
             [
              0.7777777777777778,
              "#fb9f3a"
             ],
             [
              0.8888888888888888,
              "#fdca26"
             ],
             [
              1,
              "#f0f921"
             ]
            ],
            "type": "heatmap"
           }
          ],
          "heatmapgl": [
           {
            "colorbar": {
             "outlinewidth": 0,
             "ticks": ""
            },
            "colorscale": [
             [
              0,
              "#0d0887"
             ],
             [
              0.1111111111111111,
              "#46039f"
             ],
             [
              0.2222222222222222,
              "#7201a8"
             ],
             [
              0.3333333333333333,
              "#9c179e"
             ],
             [
              0.4444444444444444,
              "#bd3786"
             ],
             [
              0.5555555555555556,
              "#d8576b"
             ],
             [
              0.6666666666666666,
              "#ed7953"
             ],
             [
              0.7777777777777778,
              "#fb9f3a"
             ],
             [
              0.8888888888888888,
              "#fdca26"
             ],
             [
              1,
              "#f0f921"
             ]
            ],
            "type": "heatmapgl"
           }
          ],
          "histogram": [
           {
            "marker": {
             "pattern": {
              "fillmode": "overlay",
              "size": 10,
              "solidity": 0.2
             }
            },
            "type": "histogram"
           }
          ],
          "histogram2d": [
           {
            "colorbar": {
             "outlinewidth": 0,
             "ticks": ""
            },
            "colorscale": [
             [
              0,
              "#0d0887"
             ],
             [
              0.1111111111111111,
              "#46039f"
             ],
             [
              0.2222222222222222,
              "#7201a8"
             ],
             [
              0.3333333333333333,
              "#9c179e"
             ],
             [
              0.4444444444444444,
              "#bd3786"
             ],
             [
              0.5555555555555556,
              "#d8576b"
             ],
             [
              0.6666666666666666,
              "#ed7953"
             ],
             [
              0.7777777777777778,
              "#fb9f3a"
             ],
             [
              0.8888888888888888,
              "#fdca26"
             ],
             [
              1,
              "#f0f921"
             ]
            ],
            "type": "histogram2d"
           }
          ],
          "histogram2dcontour": [
           {
            "colorbar": {
             "outlinewidth": 0,
             "ticks": ""
            },
            "colorscale": [
             [
              0,
              "#0d0887"
             ],
             [
              0.1111111111111111,
              "#46039f"
             ],
             [
              0.2222222222222222,
              "#7201a8"
             ],
             [
              0.3333333333333333,
              "#9c179e"
             ],
             [
              0.4444444444444444,
              "#bd3786"
             ],
             [
              0.5555555555555556,
              "#d8576b"
             ],
             [
              0.6666666666666666,
              "#ed7953"
             ],
             [
              0.7777777777777778,
              "#fb9f3a"
             ],
             [
              0.8888888888888888,
              "#fdca26"
             ],
             [
              1,
              "#f0f921"
             ]
            ],
            "type": "histogram2dcontour"
           }
          ],
          "mesh3d": [
           {
            "colorbar": {
             "outlinewidth": 0,
             "ticks": ""
            },
            "type": "mesh3d"
           }
          ],
          "parcoords": [
           {
            "line": {
             "colorbar": {
              "outlinewidth": 0,
              "ticks": ""
             }
            },
            "type": "parcoords"
           }
          ],
          "pie": [
           {
            "automargin": true,
            "type": "pie"
           }
          ],
          "scatter": [
           {
            "fillpattern": {
             "fillmode": "overlay",
             "size": 10,
             "solidity": 0.2
            },
            "type": "scatter"
           }
          ],
          "scatter3d": [
           {
            "line": {
             "colorbar": {
              "outlinewidth": 0,
              "ticks": ""
             }
            },
            "marker": {
             "colorbar": {
              "outlinewidth": 0,
              "ticks": ""
             }
            },
            "type": "scatter3d"
           }
          ],
          "scattercarpet": [
           {
            "marker": {
             "colorbar": {
              "outlinewidth": 0,
              "ticks": ""
             }
            },
            "type": "scattercarpet"
           }
          ],
          "scattergeo": [
           {
            "marker": {
             "colorbar": {
              "outlinewidth": 0,
              "ticks": ""
             }
            },
            "type": "scattergeo"
           }
          ],
          "scattergl": [
           {
            "marker": {
             "colorbar": {
              "outlinewidth": 0,
              "ticks": ""
             }
            },
            "type": "scattergl"
           }
          ],
          "scattermapbox": [
           {
            "marker": {
             "colorbar": {
              "outlinewidth": 0,
              "ticks": ""
             }
            },
            "type": "scattermapbox"
           }
          ],
          "scatterpolar": [
           {
            "marker": {
             "colorbar": {
              "outlinewidth": 0,
              "ticks": ""
             }
            },
            "type": "scatterpolar"
           }
          ],
          "scatterpolargl": [
           {
            "marker": {
             "colorbar": {
              "outlinewidth": 0,
              "ticks": ""
             }
            },
            "type": "scatterpolargl"
           }
          ],
          "scatterternary": [
           {
            "marker": {
             "colorbar": {
              "outlinewidth": 0,
              "ticks": ""
             }
            },
            "type": "scatterternary"
           }
          ],
          "surface": [
           {
            "colorbar": {
             "outlinewidth": 0,
             "ticks": ""
            },
            "colorscale": [
             [
              0,
              "#0d0887"
             ],
             [
              0.1111111111111111,
              "#46039f"
             ],
             [
              0.2222222222222222,
              "#7201a8"
             ],
             [
              0.3333333333333333,
              "#9c179e"
             ],
             [
              0.4444444444444444,
              "#bd3786"
             ],
             [
              0.5555555555555556,
              "#d8576b"
             ],
             [
              0.6666666666666666,
              "#ed7953"
             ],
             [
              0.7777777777777778,
              "#fb9f3a"
             ],
             [
              0.8888888888888888,
              "#fdca26"
             ],
             [
              1,
              "#f0f921"
             ]
            ],
            "type": "surface"
           }
          ],
          "table": [
           {
            "cells": {
             "fill": {
              "color": "#EBF0F8"
             },
             "line": {
              "color": "white"
             }
            },
            "header": {
             "fill": {
              "color": "#C8D4E3"
             },
             "line": {
              "color": "white"
             }
            },
            "type": "table"
           }
          ]
         },
         "layout": {
          "annotationdefaults": {
           "arrowcolor": "#2a3f5f",
           "arrowhead": 0,
           "arrowwidth": 1
          },
          "autotypenumbers": "strict",
          "coloraxis": {
           "colorbar": {
            "outlinewidth": 0,
            "ticks": ""
           }
          },
          "colorscale": {
           "diverging": [
            [
             0,
             "#8e0152"
            ],
            [
             0.1,
             "#c51b7d"
            ],
            [
             0.2,
             "#de77ae"
            ],
            [
             0.3,
             "#f1b6da"
            ],
            [
             0.4,
             "#fde0ef"
            ],
            [
             0.5,
             "#f7f7f7"
            ],
            [
             0.6,
             "#e6f5d0"
            ],
            [
             0.7,
             "#b8e186"
            ],
            [
             0.8,
             "#7fbc41"
            ],
            [
             0.9,
             "#4d9221"
            ],
            [
             1,
             "#276419"
            ]
           ],
           "sequential": [
            [
             0,
             "#0d0887"
            ],
            [
             0.1111111111111111,
             "#46039f"
            ],
            [
             0.2222222222222222,
             "#7201a8"
            ],
            [
             0.3333333333333333,
             "#9c179e"
            ],
            [
             0.4444444444444444,
             "#bd3786"
            ],
            [
             0.5555555555555556,
             "#d8576b"
            ],
            [
             0.6666666666666666,
             "#ed7953"
            ],
            [
             0.7777777777777778,
             "#fb9f3a"
            ],
            [
             0.8888888888888888,
             "#fdca26"
            ],
            [
             1,
             "#f0f921"
            ]
           ],
           "sequentialminus": [
            [
             0,
             "#0d0887"
            ],
            [
             0.1111111111111111,
             "#46039f"
            ],
            [
             0.2222222222222222,
             "#7201a8"
            ],
            [
             0.3333333333333333,
             "#9c179e"
            ],
            [
             0.4444444444444444,
             "#bd3786"
            ],
            [
             0.5555555555555556,
             "#d8576b"
            ],
            [
             0.6666666666666666,
             "#ed7953"
            ],
            [
             0.7777777777777778,
             "#fb9f3a"
            ],
            [
             0.8888888888888888,
             "#fdca26"
            ],
            [
             1,
             "#f0f921"
            ]
           ]
          },
          "colorway": [
           "#636efa",
           "#EF553B",
           "#00cc96",
           "#ab63fa",
           "#FFA15A",
           "#19d3f3",
           "#FF6692",
           "#B6E880",
           "#FF97FF",
           "#FECB52"
          ],
          "font": {
           "color": "#2a3f5f"
          },
          "geo": {
           "bgcolor": "white",
           "lakecolor": "white",
           "landcolor": "#E5ECF6",
           "showlakes": true,
           "showland": true,
           "subunitcolor": "white"
          },
          "hoverlabel": {
           "align": "left"
          },
          "hovermode": "closest",
          "mapbox": {
           "style": "light"
          },
          "paper_bgcolor": "white",
          "plot_bgcolor": "#E5ECF6",
          "polar": {
           "angularaxis": {
            "gridcolor": "white",
            "linecolor": "white",
            "ticks": ""
           },
           "bgcolor": "#E5ECF6",
           "radialaxis": {
            "gridcolor": "white",
            "linecolor": "white",
            "ticks": ""
           }
          },
          "scene": {
           "xaxis": {
            "backgroundcolor": "#E5ECF6",
            "gridcolor": "white",
            "gridwidth": 2,
            "linecolor": "white",
            "showbackground": true,
            "ticks": "",
            "zerolinecolor": "white"
           },
           "yaxis": {
            "backgroundcolor": "#E5ECF6",
            "gridcolor": "white",
            "gridwidth": 2,
            "linecolor": "white",
            "showbackground": true,
            "ticks": "",
            "zerolinecolor": "white"
           },
           "zaxis": {
            "backgroundcolor": "#E5ECF6",
            "gridcolor": "white",
            "gridwidth": 2,
            "linecolor": "white",
            "showbackground": true,
            "ticks": "",
            "zerolinecolor": "white"
           }
          },
          "shapedefaults": {
           "line": {
            "color": "#2a3f5f"
           }
          },
          "ternary": {
           "aaxis": {
            "gridcolor": "white",
            "linecolor": "white",
            "ticks": ""
           },
           "baxis": {
            "gridcolor": "white",
            "linecolor": "white",
            "ticks": ""
           },
           "bgcolor": "#E5ECF6",
           "caxis": {
            "gridcolor": "white",
            "linecolor": "white",
            "ticks": ""
           }
          },
          "title": {
           "x": 0.05
          },
          "xaxis": {
           "automargin": true,
           "gridcolor": "white",
           "linecolor": "white",
           "ticks": "",
           "title": {
            "standoff": 15
           },
           "zerolinecolor": "white",
           "zerolinewidth": 2
          },
          "yaxis": {
           "automargin": true,
           "gridcolor": "white",
           "linecolor": "white",
           "ticks": "",
           "title": {
            "standoff": 15
           },
           "zerolinecolor": "white",
           "zerolinewidth": 2
          }
         }
        },
        "title": {
         "font": {
          "color": "#4D5663"
         }
        },
        "xaxis": {
         "gridcolor": "#E1E5ED",
         "showgrid": true,
         "tickfont": {
          "color": "#4D5663"
         },
         "title": {
          "font": {
           "color": "#4D5663"
          },
          "text": ""
         },
         "zerolinecolor": "#E1E5ED"
        },
        "yaxis": {
         "gridcolor": "#E1E5ED",
         "showgrid": true,
         "tickfont": {
          "color": "#4D5663"
         },
         "title": {
          "font": {
           "color": "#4D5663"
          },
          "text": ""
         },
         "zerolinecolor": "#E1E5ED"
        }
       }
      },
      "text/html": [
       "<div>                            <div id=\"35986468-20c4-42be-a360-112b5deca0e4\" class=\"plotly-graph-div\" style=\"height:525px; width:100%;\"></div>            <script type=\"text/javascript\">                require([\"plotly\"], function(Plotly) {                    window.PLOTLYENV=window.PLOTLYENV || {};\n",
       "                    window.PLOTLYENV.BASE_URL='https://plot.ly';                                    if (document.getElementById(\"35986468-20c4-42be-a360-112b5deca0e4\")) {                    Plotly.newPlot(                        \"35986468-20c4-42be-a360-112b5deca0e4\",                        [{\"histfunc\":\"count\",\"histnorm\":\"\",\"marker\":{\"color\":\"rgba(255, 153, 51, 1.0)\",\"line\":{\"color\":\"#4D5663\",\"width\":1.3}},\"name\":\"A\",\"nbinsx\":25,\"opacity\":0.8,\"orientation\":\"v\",\"x\":[1.703030536865381,0.057715736526326965,1.806753252426194,-0.28507382165451167,0.8448103032083629,1.9356544563192983,0.25265645003993437,-0.7108407175975264,0.20407341105116586,-0.9631835128284022,-2.313929528277395,1.8504210053906285,0.11575887999256226,-1.6797795335634507,0.32101675906697663,-0.029421517263010833,0.916862588487737,0.5005943184489355,0.47748875080863645,-1.4445253371836875,-0.7490423417159519,0.8307497872518788,-1.2944740230747616,0.562061709877203,0.8221148785197783,-0.7523094282677261,-0.26373004757776175,0.5258232470067837,0.940979809508781,0.23178863608136288,-0.3999835749531784,-1.5877557479545665,1.3117797268833151,0.5277915175274164,0.055985875744130185,0.22757050286605102,-1.0518642709521109,-2.2809456910838524,-0.1304241624464754,-0.1908037005073423,0.24896485240145314,-0.04471771013045752,-0.9701184869344839,1.0990611188514359,0.12340353879664699,0.0753800392632158,-0.0662171730054763,-0.35308229736830216,-0.10945749618170171,-1.6329769246665042,-2.2167020173795096,0.2726812030775698,-0.1455257739888572,0.6511061330588763,-0.4401251895987155,-0.4561258898920153,0.09968968653804522,-0.6599742180242933,-1.530117369231545,-0.6996345378686805,1.4655432843735978,0.1440603081792614,-0.7928080218222593,0.9629631226294447,0.21702547598133207,-0.041302322471019656,0.6933637350395077,0.15085198288439183,-0.5110684458127188,0.7423426360891041,-0.2790365281483132,-0.21438293119597363,1.3897821201574414,-0.05515767789216785,-1.18290717597586,1.5145019130226023,0.08103465020839139,-1.376004787846036,1.365053587926242,0.18655028290427167,0.1568399485803906,0.2093824677298707,-0.03481088445587469,0.9900655976655112,0.47820191801570666,-1.3762517202742317,0.982440826684452,0.35343255249727457,-0.5787230512640728,0.4663012854591553,-1.0989913782473266,0.4573973997223406,-1.6674459041243,0.13256166644037015,-0.7662112574506679,-0.6030276098968368,2.324055715057974,0.519139017155852,1.5854011486856008,-0.8140182188847669],\"type\":\"histogram\"}],                        {\"barmode\":\"overlay\",\"legend\":{\"bgcolor\":\"#F5F6F9\",\"font\":{\"color\":\"#4D5663\"}},\"paper_bgcolor\":\"#F5F6F9\",\"plot_bgcolor\":\"#F5F6F9\",\"template\":{\"data\":{\"barpolar\":[{\"marker\":{\"line\":{\"color\":\"#E5ECF6\",\"width\":0.5},\"pattern\":{\"fillmode\":\"overlay\",\"size\":10,\"solidity\":0.2}},\"type\":\"barpolar\"}],\"bar\":[{\"error_x\":{\"color\":\"#2a3f5f\"},\"error_y\":{\"color\":\"#2a3f5f\"},\"marker\":{\"line\":{\"color\":\"#E5ECF6\",\"width\":0.5},\"pattern\":{\"fillmode\":\"overlay\",\"size\":10,\"solidity\":0.2}},\"type\":\"bar\"}],\"carpet\":[{\"aaxis\":{\"endlinecolor\":\"#2a3f5f\",\"gridcolor\":\"white\",\"linecolor\":\"white\",\"minorgridcolor\":\"white\",\"startlinecolor\":\"#2a3f5f\"},\"baxis\":{\"endlinecolor\":\"#2a3f5f\",\"gridcolor\":\"white\",\"linecolor\":\"white\",\"minorgridcolor\":\"white\",\"startlinecolor\":\"#2a3f5f\"},\"type\":\"carpet\"}],\"choropleth\":[{\"colorbar\":{\"outlinewidth\":0,\"ticks\":\"\"},\"type\":\"choropleth\"}],\"contourcarpet\":[{\"colorbar\":{\"outlinewidth\":0,\"ticks\":\"\"},\"type\":\"contourcarpet\"}],\"contour\":[{\"colorbar\":{\"outlinewidth\":0,\"ticks\":\"\"},\"colorscale\":[[0.0,\"#0d0887\"],[0.1111111111111111,\"#46039f\"],[0.2222222222222222,\"#7201a8\"],[0.3333333333333333,\"#9c179e\"],[0.4444444444444444,\"#bd3786\"],[0.5555555555555556,\"#d8576b\"],[0.6666666666666666,\"#ed7953\"],[0.7777777777777778,\"#fb9f3a\"],[0.8888888888888888,\"#fdca26\"],[1.0,\"#f0f921\"]],\"type\":\"contour\"}],\"heatmapgl\":[{\"colorbar\":{\"outlinewidth\":0,\"ticks\":\"\"},\"colorscale\":[[0.0,\"#0d0887\"],[0.1111111111111111,\"#46039f\"],[0.2222222222222222,\"#7201a8\"],[0.3333333333333333,\"#9c179e\"],[0.4444444444444444,\"#bd3786\"],[0.5555555555555556,\"#d8576b\"],[0.6666666666666666,\"#ed7953\"],[0.7777777777777778,\"#fb9f3a\"],[0.8888888888888888,\"#fdca26\"],[1.0,\"#f0f921\"]],\"type\":\"heatmapgl\"}],\"heatmap\":[{\"colorbar\":{\"outlinewidth\":0,\"ticks\":\"\"},\"colorscale\":[[0.0,\"#0d0887\"],[0.1111111111111111,\"#46039f\"],[0.2222222222222222,\"#7201a8\"],[0.3333333333333333,\"#9c179e\"],[0.4444444444444444,\"#bd3786\"],[0.5555555555555556,\"#d8576b\"],[0.6666666666666666,\"#ed7953\"],[0.7777777777777778,\"#fb9f3a\"],[0.8888888888888888,\"#fdca26\"],[1.0,\"#f0f921\"]],\"type\":\"heatmap\"}],\"histogram2dcontour\":[{\"colorbar\":{\"outlinewidth\":0,\"ticks\":\"\"},\"colorscale\":[[0.0,\"#0d0887\"],[0.1111111111111111,\"#46039f\"],[0.2222222222222222,\"#7201a8\"],[0.3333333333333333,\"#9c179e\"],[0.4444444444444444,\"#bd3786\"],[0.5555555555555556,\"#d8576b\"],[0.6666666666666666,\"#ed7953\"],[0.7777777777777778,\"#fb9f3a\"],[0.8888888888888888,\"#fdca26\"],[1.0,\"#f0f921\"]],\"type\":\"histogram2dcontour\"}],\"histogram2d\":[{\"colorbar\":{\"outlinewidth\":0,\"ticks\":\"\"},\"colorscale\":[[0.0,\"#0d0887\"],[0.1111111111111111,\"#46039f\"],[0.2222222222222222,\"#7201a8\"],[0.3333333333333333,\"#9c179e\"],[0.4444444444444444,\"#bd3786\"],[0.5555555555555556,\"#d8576b\"],[0.6666666666666666,\"#ed7953\"],[0.7777777777777778,\"#fb9f3a\"],[0.8888888888888888,\"#fdca26\"],[1.0,\"#f0f921\"]],\"type\":\"histogram2d\"}],\"histogram\":[{\"marker\":{\"pattern\":{\"fillmode\":\"overlay\",\"size\":10,\"solidity\":0.2}},\"type\":\"histogram\"}],\"mesh3d\":[{\"colorbar\":{\"outlinewidth\":0,\"ticks\":\"\"},\"type\":\"mesh3d\"}],\"parcoords\":[{\"line\":{\"colorbar\":{\"outlinewidth\":0,\"ticks\":\"\"}},\"type\":\"parcoords\"}],\"pie\":[{\"automargin\":true,\"type\":\"pie\"}],\"scatter3d\":[{\"line\":{\"colorbar\":{\"outlinewidth\":0,\"ticks\":\"\"}},\"marker\":{\"colorbar\":{\"outlinewidth\":0,\"ticks\":\"\"}},\"type\":\"scatter3d\"}],\"scattercarpet\":[{\"marker\":{\"colorbar\":{\"outlinewidth\":0,\"ticks\":\"\"}},\"type\":\"scattercarpet\"}],\"scattergeo\":[{\"marker\":{\"colorbar\":{\"outlinewidth\":0,\"ticks\":\"\"}},\"type\":\"scattergeo\"}],\"scattergl\":[{\"marker\":{\"colorbar\":{\"outlinewidth\":0,\"ticks\":\"\"}},\"type\":\"scattergl\"}],\"scattermapbox\":[{\"marker\":{\"colorbar\":{\"outlinewidth\":0,\"ticks\":\"\"}},\"type\":\"scattermapbox\"}],\"scatterpolargl\":[{\"marker\":{\"colorbar\":{\"outlinewidth\":0,\"ticks\":\"\"}},\"type\":\"scatterpolargl\"}],\"scatterpolar\":[{\"marker\":{\"colorbar\":{\"outlinewidth\":0,\"ticks\":\"\"}},\"type\":\"scatterpolar\"}],\"scatter\":[{\"fillpattern\":{\"fillmode\":\"overlay\",\"size\":10,\"solidity\":0.2},\"type\":\"scatter\"}],\"scatterternary\":[{\"marker\":{\"colorbar\":{\"outlinewidth\":0,\"ticks\":\"\"}},\"type\":\"scatterternary\"}],\"surface\":[{\"colorbar\":{\"outlinewidth\":0,\"ticks\":\"\"},\"colorscale\":[[0.0,\"#0d0887\"],[0.1111111111111111,\"#46039f\"],[0.2222222222222222,\"#7201a8\"],[0.3333333333333333,\"#9c179e\"],[0.4444444444444444,\"#bd3786\"],[0.5555555555555556,\"#d8576b\"],[0.6666666666666666,\"#ed7953\"],[0.7777777777777778,\"#fb9f3a\"],[0.8888888888888888,\"#fdca26\"],[1.0,\"#f0f921\"]],\"type\":\"surface\"}],\"table\":[{\"cells\":{\"fill\":{\"color\":\"#EBF0F8\"},\"line\":{\"color\":\"white\"}},\"header\":{\"fill\":{\"color\":\"#C8D4E3\"},\"line\":{\"color\":\"white\"}},\"type\":\"table\"}]},\"layout\":{\"annotationdefaults\":{\"arrowcolor\":\"#2a3f5f\",\"arrowhead\":0,\"arrowwidth\":1},\"autotypenumbers\":\"strict\",\"coloraxis\":{\"colorbar\":{\"outlinewidth\":0,\"ticks\":\"\"}},\"colorscale\":{\"diverging\":[[0,\"#8e0152\"],[0.1,\"#c51b7d\"],[0.2,\"#de77ae\"],[0.3,\"#f1b6da\"],[0.4,\"#fde0ef\"],[0.5,\"#f7f7f7\"],[0.6,\"#e6f5d0\"],[0.7,\"#b8e186\"],[0.8,\"#7fbc41\"],[0.9,\"#4d9221\"],[1,\"#276419\"]],\"sequential\":[[0.0,\"#0d0887\"],[0.1111111111111111,\"#46039f\"],[0.2222222222222222,\"#7201a8\"],[0.3333333333333333,\"#9c179e\"],[0.4444444444444444,\"#bd3786\"],[0.5555555555555556,\"#d8576b\"],[0.6666666666666666,\"#ed7953\"],[0.7777777777777778,\"#fb9f3a\"],[0.8888888888888888,\"#fdca26\"],[1.0,\"#f0f921\"]],\"sequentialminus\":[[0.0,\"#0d0887\"],[0.1111111111111111,\"#46039f\"],[0.2222222222222222,\"#7201a8\"],[0.3333333333333333,\"#9c179e\"],[0.4444444444444444,\"#bd3786\"],[0.5555555555555556,\"#d8576b\"],[0.6666666666666666,\"#ed7953\"],[0.7777777777777778,\"#fb9f3a\"],[0.8888888888888888,\"#fdca26\"],[1.0,\"#f0f921\"]]},\"colorway\":[\"#636efa\",\"#EF553B\",\"#00cc96\",\"#ab63fa\",\"#FFA15A\",\"#19d3f3\",\"#FF6692\",\"#B6E880\",\"#FF97FF\",\"#FECB52\"],\"font\":{\"color\":\"#2a3f5f\"},\"geo\":{\"bgcolor\":\"white\",\"lakecolor\":\"white\",\"landcolor\":\"#E5ECF6\",\"showlakes\":true,\"showland\":true,\"subunitcolor\":\"white\"},\"hoverlabel\":{\"align\":\"left\"},\"hovermode\":\"closest\",\"mapbox\":{\"style\":\"light\"},\"paper_bgcolor\":\"white\",\"plot_bgcolor\":\"#E5ECF6\",\"polar\":{\"angularaxis\":{\"gridcolor\":\"white\",\"linecolor\":\"white\",\"ticks\":\"\"},\"bgcolor\":\"#E5ECF6\",\"radialaxis\":{\"gridcolor\":\"white\",\"linecolor\":\"white\",\"ticks\":\"\"}},\"scene\":{\"xaxis\":{\"backgroundcolor\":\"#E5ECF6\",\"gridcolor\":\"white\",\"gridwidth\":2,\"linecolor\":\"white\",\"showbackground\":true,\"ticks\":\"\",\"zerolinecolor\":\"white\"},\"yaxis\":{\"backgroundcolor\":\"#E5ECF6\",\"gridcolor\":\"white\",\"gridwidth\":2,\"linecolor\":\"white\",\"showbackground\":true,\"ticks\":\"\",\"zerolinecolor\":\"white\"},\"zaxis\":{\"backgroundcolor\":\"#E5ECF6\",\"gridcolor\":\"white\",\"gridwidth\":2,\"linecolor\":\"white\",\"showbackground\":true,\"ticks\":\"\",\"zerolinecolor\":\"white\"}},\"shapedefaults\":{\"line\":{\"color\":\"#2a3f5f\"}},\"ternary\":{\"aaxis\":{\"gridcolor\":\"white\",\"linecolor\":\"white\",\"ticks\":\"\"},\"baxis\":{\"gridcolor\":\"white\",\"linecolor\":\"white\",\"ticks\":\"\"},\"bgcolor\":\"#E5ECF6\",\"caxis\":{\"gridcolor\":\"white\",\"linecolor\":\"white\",\"ticks\":\"\"}},\"title\":{\"x\":0.05},\"xaxis\":{\"automargin\":true,\"gridcolor\":\"white\",\"linecolor\":\"white\",\"ticks\":\"\",\"title\":{\"standoff\":15},\"zerolinecolor\":\"white\",\"zerolinewidth\":2},\"yaxis\":{\"automargin\":true,\"gridcolor\":\"white\",\"linecolor\":\"white\",\"ticks\":\"\",\"title\":{\"standoff\":15},\"zerolinecolor\":\"white\",\"zerolinewidth\":2}}},\"title\":{\"font\":{\"color\":\"#4D5663\"}},\"xaxis\":{\"gridcolor\":\"#E1E5ED\",\"showgrid\":true,\"tickfont\":{\"color\":\"#4D5663\"},\"title\":{\"font\":{\"color\":\"#4D5663\"},\"text\":\"\"},\"zerolinecolor\":\"#E1E5ED\"},\"yaxis\":{\"gridcolor\":\"#E1E5ED\",\"showgrid\":true,\"tickfont\":{\"color\":\"#4D5663\"},\"title\":{\"font\":{\"color\":\"#4D5663\"},\"text\":\"\"},\"zerolinecolor\":\"#E1E5ED\"}},                        {\"showLink\": true, \"linkText\": \"Export to plot.ly\", \"plotlyServerURL\": \"https://plot.ly\", \"responsive\": true}                    ).then(function(){\n",
       "                            \n",
       "var gd = document.getElementById('35986468-20c4-42be-a360-112b5deca0e4');\n",
       "var x = new MutationObserver(function (mutations, observer) {{\n",
       "        var display = window.getComputedStyle(gd).display;\n",
       "        if (!display || display === 'none') {{\n",
       "            console.log([gd, 'removed!']);\n",
       "            Plotly.purge(gd);\n",
       "            observer.disconnect();\n",
       "        }}\n",
       "}});\n",
       "\n",
       "// Listen for the removal of the full notebook cells\n",
       "var notebookContainer = gd.closest('#notebook-container');\n",
       "if (notebookContainer) {{\n",
       "    x.observe(notebookContainer, {childList: true});\n",
       "}}\n",
       "\n",
       "// Listen for the clearing of the current output cell\n",
       "var outputEl = gd.closest('.output');\n",
       "if (outputEl) {{\n",
       "    x.observe(outputEl, {childList: true});\n",
       "}}\n",
       "\n",
       "                        })                };                });            </script>        </div>"
      ]
     },
     "metadata": {},
     "output_type": "display_data"
    }
   ],
   "source": [
    "df['A'].iplot(kind = 'hist',bins = 25)"
   ]
  },
  {
   "cell_type": "code",
   "execution_count": 63,
   "id": "0c4875fc",
   "metadata": {},
   "outputs": [
    {
     "data": {
      "application/vnd.plotly.v1+json": {
       "config": {
        "linkText": "Export to plot.ly",
        "plotlyServerURL": "https://plot.ly",
        "showLink": true
       },
       "data": [
        {
         "marker": {
          "color": [
           "rgb(255, 153, 51)",
           "rgb(55, 128, 191)",
           "rgb(50, 171, 96)",
           "rgb(128, 0, 128)",
           "rgb(219, 64, 82)",
           "rgb(0, 128, 128)",
           "rgb(255, 255, 51)",
           "rgb(128, 128, 0)",
           "rgb(251, 128, 114)",
           "rgb(128, 177, 211)"
          ],
          "line": {
           "width": 1.3
          },
          "size": [
           57,
           40,
           24,
           74,
           63,
           65,
           54,
           69,
           18,
           65,
           29,
           15,
           65,
           51,
           54,
           49,
           59,
           21,
           36,
           30,
           67,
           59,
           45,
           91,
           60,
           43,
           38,
           28,
           29,
           61,
           80,
           76,
           35,
           39,
           33,
           69,
           83,
           40,
           66,
           91,
           45,
           101,
           60,
           74,
           67,
           64,
           50,
           29,
           49,
           69,
           68,
           51,
           51,
           40,
           106,
           34,
           59,
           63,
           50,
           29,
           58,
           31,
           106,
           12,
           48,
           48,
           54,
           54,
           112,
           32,
           27,
           42,
           52,
           58,
           17,
           61,
           32,
           47,
           33,
           37,
           17,
           34,
           79,
           61,
           70,
           48,
           84,
           59,
           25,
           58,
           45,
           13,
           25,
           27,
           48,
           29,
           43,
           58,
           64,
           17
          ],
          "symbol": "circle"
         },
         "mode": "markers",
         "text": "",
         "type": "scatter",
         "x": [
          1.703030536865381,
          0.057715736526326965,
          1.806753252426194,
          -0.28507382165451167,
          0.8448103032083629,
          1.9356544563192983,
          0.25265645003993437,
          -0.7108407175975264,
          0.20407341105116586,
          -0.9631835128284022,
          -2.313929528277395,
          1.8504210053906285,
          0.11575887999256226,
          -1.6797795335634507,
          0.32101675906697663,
          -0.029421517263010833,
          0.916862588487737,
          0.5005943184489355,
          0.47748875080863645,
          -1.4445253371836875,
          -0.7490423417159519,
          0.8307497872518788,
          -1.2944740230747616,
          0.562061709877203,
          0.8221148785197783,
          -0.7523094282677261,
          -0.26373004757776175,
          0.5258232470067837,
          0.940979809508781,
          0.23178863608136288,
          -0.3999835749531784,
          -1.5877557479545665,
          1.3117797268833151,
          0.5277915175274164,
          0.055985875744130185,
          0.22757050286605102,
          -1.0518642709521109,
          -2.2809456910838524,
          -0.1304241624464754,
          -0.1908037005073423,
          0.24896485240145314,
          -0.04471771013045752,
          -0.9701184869344839,
          1.0990611188514359,
          0.12340353879664699,
          0.0753800392632158,
          -0.0662171730054763,
          -0.35308229736830216,
          -0.10945749618170171,
          -1.6329769246665042,
          -2.2167020173795096,
          0.2726812030775698,
          -0.1455257739888572,
          0.6511061330588763,
          -0.4401251895987155,
          -0.4561258898920153,
          0.09968968653804522,
          -0.6599742180242933,
          -1.530117369231545,
          -0.6996345378686805,
          1.4655432843735978,
          0.1440603081792614,
          -0.7928080218222593,
          0.9629631226294447,
          0.21702547598133207,
          -0.041302322471019656,
          0.6933637350395077,
          0.15085198288439183,
          -0.5110684458127188,
          0.7423426360891041,
          -0.2790365281483132,
          -0.21438293119597363,
          1.3897821201574414,
          -0.05515767789216785,
          -1.18290717597586,
          1.5145019130226023,
          0.08103465020839139,
          -1.376004787846036,
          1.365053587926242,
          0.18655028290427167,
          0.1568399485803906,
          0.2093824677298707,
          -0.03481088445587469,
          0.9900655976655112,
          0.47820191801570666,
          -1.3762517202742317,
          0.982440826684452,
          0.35343255249727457,
          -0.5787230512640728,
          0.4663012854591553,
          -1.0989913782473266,
          0.4573973997223406,
          -1.6674459041243,
          0.13256166644037015,
          -0.7662112574506679,
          -0.6030276098968368,
          2.324055715057974,
          0.519139017155852,
          1.5854011486856008,
          -0.8140182188847669
         ],
         "y": [
          0.020446733117837387,
          -0.13142655753710328,
          2.1552942366317467,
          -0.7368030167193271,
          -0.15647700590177263,
          0.6227231939705729,
          -1.6691369374293619,
          -1.2303447427755323,
          0.643022860548499,
          0.021586526736260724,
          -1.7169237831599646,
          0.22218243580981564,
          0.36584301376601014,
          0.026480636897801314,
          -0.43463437249302705,
          0.6051183133216308,
          -0.04743338759975797,
          -1.0437386290390713,
          0.7634534487337309,
          1.8374145183566533,
          -0.06536138852479652,
          0.7189252425600876,
          1.618990179663656,
          -0.1292282991611609,
          1.1273662797944604,
          0.6190874181543614,
          0.06368225620831357,
          0.46551790697162204,
          1.209953364299594,
          -2.369297044199571,
          0.8474003322921112,
          -0.940570263581015,
          -1.733441623719393,
          0.026841257964993363,
          -1.16890351164535,
          2.444181611176374,
          0.32751014394035766,
          -0.7403796216695913,
          0.974192465330595,
          -1.3419718295456629,
          0.06753401710505501,
          0.3995579413779053,
          1.4715788524730944,
          1.3058590299377058,
          0.47396800523908605,
          -0.8533959337453239,
          -0.04513824946522313,
          1.5989310069722822,
          0.8209975940625924,
          0.9130159745522907,
          0.631805379794073,
          0.6871572685821035,
          0.4045330817197545,
          1.2699208282991628,
          -0.6115479531451279,
          0.888004086618221,
          -0.16824686224817828,
          0.5678427897742637,
          -0.10410397427380996,
          -2.3038112907761277,
          0.41334310863275886,
          1.6928037846747235,
          0.392241308944528,
          -0.60184778036844,
          0.15205225924987986,
          1.6218704586678105,
          0.2201422071654261,
          -1.3786178164447496,
          -0.19056231682640878,
          -1.9889018202432063,
          -0.280718466698838,
          -1.771621395021947,
          1.155531507522197,
          -0.4552613825429717,
          -0.14485092590175166,
          -1.4283535464664365,
          -0.03840435986495959,
          -0.48667075998421944,
          -0.9941041935759036,
          -0.43719948750326876,
          1.2258685272598313,
          0.41068441181305554,
          0.7819145340879001,
          0.38400754270393317,
          -0.2149342584479373,
          -0.06703890319057035,
          0.355262197350419,
          -0.4613181548267008,
          -0.8533370162794723,
          -1.744887650467091,
          -0.7983995491067819,
          0.03200564722701361,
          1.2726655310355808,
          0.1599056042426869,
          0.756455417298015,
          0.5128717405086298,
          1.2974121723462697,
          0.8823627599399996,
          -0.567302174615601,
          0.0697729567365461
         ]
        }
       ],
       "layout": {
        "legend": {
         "bgcolor": "#F5F6F9",
         "font": {
          "color": "#4D5663"
         }
        },
        "paper_bgcolor": "#F5F6F9",
        "plot_bgcolor": "#F5F6F9",
        "template": {
         "data": {
          "bar": [
           {
            "error_x": {
             "color": "#2a3f5f"
            },
            "error_y": {
             "color": "#2a3f5f"
            },
            "marker": {
             "line": {
              "color": "#E5ECF6",
              "width": 0.5
             },
             "pattern": {
              "fillmode": "overlay",
              "size": 10,
              "solidity": 0.2
             }
            },
            "type": "bar"
           }
          ],
          "barpolar": [
           {
            "marker": {
             "line": {
              "color": "#E5ECF6",
              "width": 0.5
             },
             "pattern": {
              "fillmode": "overlay",
              "size": 10,
              "solidity": 0.2
             }
            },
            "type": "barpolar"
           }
          ],
          "carpet": [
           {
            "aaxis": {
             "endlinecolor": "#2a3f5f",
             "gridcolor": "white",
             "linecolor": "white",
             "minorgridcolor": "white",
             "startlinecolor": "#2a3f5f"
            },
            "baxis": {
             "endlinecolor": "#2a3f5f",
             "gridcolor": "white",
             "linecolor": "white",
             "minorgridcolor": "white",
             "startlinecolor": "#2a3f5f"
            },
            "type": "carpet"
           }
          ],
          "choropleth": [
           {
            "colorbar": {
             "outlinewidth": 0,
             "ticks": ""
            },
            "type": "choropleth"
           }
          ],
          "contour": [
           {
            "colorbar": {
             "outlinewidth": 0,
             "ticks": ""
            },
            "colorscale": [
             [
              0,
              "#0d0887"
             ],
             [
              0.1111111111111111,
              "#46039f"
             ],
             [
              0.2222222222222222,
              "#7201a8"
             ],
             [
              0.3333333333333333,
              "#9c179e"
             ],
             [
              0.4444444444444444,
              "#bd3786"
             ],
             [
              0.5555555555555556,
              "#d8576b"
             ],
             [
              0.6666666666666666,
              "#ed7953"
             ],
             [
              0.7777777777777778,
              "#fb9f3a"
             ],
             [
              0.8888888888888888,
              "#fdca26"
             ],
             [
              1,
              "#f0f921"
             ]
            ],
            "type": "contour"
           }
          ],
          "contourcarpet": [
           {
            "colorbar": {
             "outlinewidth": 0,
             "ticks": ""
            },
            "type": "contourcarpet"
           }
          ],
          "heatmap": [
           {
            "colorbar": {
             "outlinewidth": 0,
             "ticks": ""
            },
            "colorscale": [
             [
              0,
              "#0d0887"
             ],
             [
              0.1111111111111111,
              "#46039f"
             ],
             [
              0.2222222222222222,
              "#7201a8"
             ],
             [
              0.3333333333333333,
              "#9c179e"
             ],
             [
              0.4444444444444444,
              "#bd3786"
             ],
             [
              0.5555555555555556,
              "#d8576b"
             ],
             [
              0.6666666666666666,
              "#ed7953"
             ],
             [
              0.7777777777777778,
              "#fb9f3a"
             ],
             [
              0.8888888888888888,
              "#fdca26"
             ],
             [
              1,
              "#f0f921"
             ]
            ],
            "type": "heatmap"
           }
          ],
          "heatmapgl": [
           {
            "colorbar": {
             "outlinewidth": 0,
             "ticks": ""
            },
            "colorscale": [
             [
              0,
              "#0d0887"
             ],
             [
              0.1111111111111111,
              "#46039f"
             ],
             [
              0.2222222222222222,
              "#7201a8"
             ],
             [
              0.3333333333333333,
              "#9c179e"
             ],
             [
              0.4444444444444444,
              "#bd3786"
             ],
             [
              0.5555555555555556,
              "#d8576b"
             ],
             [
              0.6666666666666666,
              "#ed7953"
             ],
             [
              0.7777777777777778,
              "#fb9f3a"
             ],
             [
              0.8888888888888888,
              "#fdca26"
             ],
             [
              1,
              "#f0f921"
             ]
            ],
            "type": "heatmapgl"
           }
          ],
          "histogram": [
           {
            "marker": {
             "pattern": {
              "fillmode": "overlay",
              "size": 10,
              "solidity": 0.2
             }
            },
            "type": "histogram"
           }
          ],
          "histogram2d": [
           {
            "colorbar": {
             "outlinewidth": 0,
             "ticks": ""
            },
            "colorscale": [
             [
              0,
              "#0d0887"
             ],
             [
              0.1111111111111111,
              "#46039f"
             ],
             [
              0.2222222222222222,
              "#7201a8"
             ],
             [
              0.3333333333333333,
              "#9c179e"
             ],
             [
              0.4444444444444444,
              "#bd3786"
             ],
             [
              0.5555555555555556,
              "#d8576b"
             ],
             [
              0.6666666666666666,
              "#ed7953"
             ],
             [
              0.7777777777777778,
              "#fb9f3a"
             ],
             [
              0.8888888888888888,
              "#fdca26"
             ],
             [
              1,
              "#f0f921"
             ]
            ],
            "type": "histogram2d"
           }
          ],
          "histogram2dcontour": [
           {
            "colorbar": {
             "outlinewidth": 0,
             "ticks": ""
            },
            "colorscale": [
             [
              0,
              "#0d0887"
             ],
             [
              0.1111111111111111,
              "#46039f"
             ],
             [
              0.2222222222222222,
              "#7201a8"
             ],
             [
              0.3333333333333333,
              "#9c179e"
             ],
             [
              0.4444444444444444,
              "#bd3786"
             ],
             [
              0.5555555555555556,
              "#d8576b"
             ],
             [
              0.6666666666666666,
              "#ed7953"
             ],
             [
              0.7777777777777778,
              "#fb9f3a"
             ],
             [
              0.8888888888888888,
              "#fdca26"
             ],
             [
              1,
              "#f0f921"
             ]
            ],
            "type": "histogram2dcontour"
           }
          ],
          "mesh3d": [
           {
            "colorbar": {
             "outlinewidth": 0,
             "ticks": ""
            },
            "type": "mesh3d"
           }
          ],
          "parcoords": [
           {
            "line": {
             "colorbar": {
              "outlinewidth": 0,
              "ticks": ""
             }
            },
            "type": "parcoords"
           }
          ],
          "pie": [
           {
            "automargin": true,
            "type": "pie"
           }
          ],
          "scatter": [
           {
            "fillpattern": {
             "fillmode": "overlay",
             "size": 10,
             "solidity": 0.2
            },
            "type": "scatter"
           }
          ],
          "scatter3d": [
           {
            "line": {
             "colorbar": {
              "outlinewidth": 0,
              "ticks": ""
             }
            },
            "marker": {
             "colorbar": {
              "outlinewidth": 0,
              "ticks": ""
             }
            },
            "type": "scatter3d"
           }
          ],
          "scattercarpet": [
           {
            "marker": {
             "colorbar": {
              "outlinewidth": 0,
              "ticks": ""
             }
            },
            "type": "scattercarpet"
           }
          ],
          "scattergeo": [
           {
            "marker": {
             "colorbar": {
              "outlinewidth": 0,
              "ticks": ""
             }
            },
            "type": "scattergeo"
           }
          ],
          "scattergl": [
           {
            "marker": {
             "colorbar": {
              "outlinewidth": 0,
              "ticks": ""
             }
            },
            "type": "scattergl"
           }
          ],
          "scattermapbox": [
           {
            "marker": {
             "colorbar": {
              "outlinewidth": 0,
              "ticks": ""
             }
            },
            "type": "scattermapbox"
           }
          ],
          "scatterpolar": [
           {
            "marker": {
             "colorbar": {
              "outlinewidth": 0,
              "ticks": ""
             }
            },
            "type": "scatterpolar"
           }
          ],
          "scatterpolargl": [
           {
            "marker": {
             "colorbar": {
              "outlinewidth": 0,
              "ticks": ""
             }
            },
            "type": "scatterpolargl"
           }
          ],
          "scatterternary": [
           {
            "marker": {
             "colorbar": {
              "outlinewidth": 0,
              "ticks": ""
             }
            },
            "type": "scatterternary"
           }
          ],
          "surface": [
           {
            "colorbar": {
             "outlinewidth": 0,
             "ticks": ""
            },
            "colorscale": [
             [
              0,
              "#0d0887"
             ],
             [
              0.1111111111111111,
              "#46039f"
             ],
             [
              0.2222222222222222,
              "#7201a8"
             ],
             [
              0.3333333333333333,
              "#9c179e"
             ],
             [
              0.4444444444444444,
              "#bd3786"
             ],
             [
              0.5555555555555556,
              "#d8576b"
             ],
             [
              0.6666666666666666,
              "#ed7953"
             ],
             [
              0.7777777777777778,
              "#fb9f3a"
             ],
             [
              0.8888888888888888,
              "#fdca26"
             ],
             [
              1,
              "#f0f921"
             ]
            ],
            "type": "surface"
           }
          ],
          "table": [
           {
            "cells": {
             "fill": {
              "color": "#EBF0F8"
             },
             "line": {
              "color": "white"
             }
            },
            "header": {
             "fill": {
              "color": "#C8D4E3"
             },
             "line": {
              "color": "white"
             }
            },
            "type": "table"
           }
          ]
         },
         "layout": {
          "annotationdefaults": {
           "arrowcolor": "#2a3f5f",
           "arrowhead": 0,
           "arrowwidth": 1
          },
          "autotypenumbers": "strict",
          "coloraxis": {
           "colorbar": {
            "outlinewidth": 0,
            "ticks": ""
           }
          },
          "colorscale": {
           "diverging": [
            [
             0,
             "#8e0152"
            ],
            [
             0.1,
             "#c51b7d"
            ],
            [
             0.2,
             "#de77ae"
            ],
            [
             0.3,
             "#f1b6da"
            ],
            [
             0.4,
             "#fde0ef"
            ],
            [
             0.5,
             "#f7f7f7"
            ],
            [
             0.6,
             "#e6f5d0"
            ],
            [
             0.7,
             "#b8e186"
            ],
            [
             0.8,
             "#7fbc41"
            ],
            [
             0.9,
             "#4d9221"
            ],
            [
             1,
             "#276419"
            ]
           ],
           "sequential": [
            [
             0,
             "#0d0887"
            ],
            [
             0.1111111111111111,
             "#46039f"
            ],
            [
             0.2222222222222222,
             "#7201a8"
            ],
            [
             0.3333333333333333,
             "#9c179e"
            ],
            [
             0.4444444444444444,
             "#bd3786"
            ],
            [
             0.5555555555555556,
             "#d8576b"
            ],
            [
             0.6666666666666666,
             "#ed7953"
            ],
            [
             0.7777777777777778,
             "#fb9f3a"
            ],
            [
             0.8888888888888888,
             "#fdca26"
            ],
            [
             1,
             "#f0f921"
            ]
           ],
           "sequentialminus": [
            [
             0,
             "#0d0887"
            ],
            [
             0.1111111111111111,
             "#46039f"
            ],
            [
             0.2222222222222222,
             "#7201a8"
            ],
            [
             0.3333333333333333,
             "#9c179e"
            ],
            [
             0.4444444444444444,
             "#bd3786"
            ],
            [
             0.5555555555555556,
             "#d8576b"
            ],
            [
             0.6666666666666666,
             "#ed7953"
            ],
            [
             0.7777777777777778,
             "#fb9f3a"
            ],
            [
             0.8888888888888888,
             "#fdca26"
            ],
            [
             1,
             "#f0f921"
            ]
           ]
          },
          "colorway": [
           "#636efa",
           "#EF553B",
           "#00cc96",
           "#ab63fa",
           "#FFA15A",
           "#19d3f3",
           "#FF6692",
           "#B6E880",
           "#FF97FF",
           "#FECB52"
          ],
          "font": {
           "color": "#2a3f5f"
          },
          "geo": {
           "bgcolor": "white",
           "lakecolor": "white",
           "landcolor": "#E5ECF6",
           "showlakes": true,
           "showland": true,
           "subunitcolor": "white"
          },
          "hoverlabel": {
           "align": "left"
          },
          "hovermode": "closest",
          "mapbox": {
           "style": "light"
          },
          "paper_bgcolor": "white",
          "plot_bgcolor": "#E5ECF6",
          "polar": {
           "angularaxis": {
            "gridcolor": "white",
            "linecolor": "white",
            "ticks": ""
           },
           "bgcolor": "#E5ECF6",
           "radialaxis": {
            "gridcolor": "white",
            "linecolor": "white",
            "ticks": ""
           }
          },
          "scene": {
           "xaxis": {
            "backgroundcolor": "#E5ECF6",
            "gridcolor": "white",
            "gridwidth": 2,
            "linecolor": "white",
            "showbackground": true,
            "ticks": "",
            "zerolinecolor": "white"
           },
           "yaxis": {
            "backgroundcolor": "#E5ECF6",
            "gridcolor": "white",
            "gridwidth": 2,
            "linecolor": "white",
            "showbackground": true,
            "ticks": "",
            "zerolinecolor": "white"
           },
           "zaxis": {
            "backgroundcolor": "#E5ECF6",
            "gridcolor": "white",
            "gridwidth": 2,
            "linecolor": "white",
            "showbackground": true,
            "ticks": "",
            "zerolinecolor": "white"
           }
          },
          "shapedefaults": {
           "line": {
            "color": "#2a3f5f"
           }
          },
          "ternary": {
           "aaxis": {
            "gridcolor": "white",
            "linecolor": "white",
            "ticks": ""
           },
           "baxis": {
            "gridcolor": "white",
            "linecolor": "white",
            "ticks": ""
           },
           "bgcolor": "#E5ECF6",
           "caxis": {
            "gridcolor": "white",
            "linecolor": "white",
            "ticks": ""
           }
          },
          "title": {
           "x": 0.05
          },
          "xaxis": {
           "automargin": true,
           "gridcolor": "white",
           "linecolor": "white",
           "ticks": "",
           "title": {
            "standoff": 15
           },
           "zerolinecolor": "white",
           "zerolinewidth": 2
          },
          "yaxis": {
           "automargin": true,
           "gridcolor": "white",
           "linecolor": "white",
           "ticks": "",
           "title": {
            "standoff": 15
           },
           "zerolinecolor": "white",
           "zerolinewidth": 2
          }
         }
        },
        "title": {
         "font": {
          "color": "#4D5663"
         }
        },
        "xaxis": {
         "gridcolor": "#E1E5ED",
         "showgrid": true,
         "tickfont": {
          "color": "#4D5663"
         },
         "title": {
          "font": {
           "color": "#4D5663"
          },
          "text": ""
         },
         "zerolinecolor": "#E1E5ED"
        },
        "yaxis": {
         "gridcolor": "#E1E5ED",
         "showgrid": true,
         "tickfont": {
          "color": "#4D5663"
         },
         "title": {
          "font": {
           "color": "#4D5663"
          },
          "text": ""
         },
         "zerolinecolor": "#E1E5ED"
        }
       }
      },
      "text/html": [
       "<div>                            <div id=\"6720bcf4-cf2d-449e-8fa7-9a4850e35877\" class=\"plotly-graph-div\" style=\"height:525px; width:100%;\"></div>            <script type=\"text/javascript\">                require([\"plotly\"], function(Plotly) {                    window.PLOTLYENV=window.PLOTLYENV || {};\n",
       "                    window.PLOTLYENV.BASE_URL='https://plot.ly';                                    if (document.getElementById(\"6720bcf4-cf2d-449e-8fa7-9a4850e35877\")) {                    Plotly.newPlot(                        \"6720bcf4-cf2d-449e-8fa7-9a4850e35877\",                        [{\"marker\":{\"color\":[\"rgb(255, 153, 51)\",\"rgb(55, 128, 191)\",\"rgb(50, 171, 96)\",\"rgb(128, 0, 128)\",\"rgb(219, 64, 82)\",\"rgb(0, 128, 128)\",\"rgb(255, 255, 51)\",\"rgb(128, 128, 0)\",\"rgb(251, 128, 114)\",\"rgb(128, 177, 211)\"],\"line\":{\"width\":1.3},\"size\":[57,40,24,74,63,65,54,69,18,65,29,15,65,51,54,49,59,21,36,30,67,59,45,91,60,43,38,28,29,61,80,76,35,39,33,69,83,40,66,91,45,101,60,74,67,64,50,29,49,69,68,51,51,40,106,34,59,63,50,29,58,31,106,12,48,48,54,54,112,32,27,42,52,58,17,61,32,47,33,37,17,34,79,61,70,48,84,59,25,58,45,13,25,27,48,29,43,58,64,17],\"symbol\":\"circle\"},\"mode\":\"markers\",\"text\":\"\",\"x\":[1.703030536865381,0.057715736526326965,1.806753252426194,-0.28507382165451167,0.8448103032083629,1.9356544563192983,0.25265645003993437,-0.7108407175975264,0.20407341105116586,-0.9631835128284022,-2.313929528277395,1.8504210053906285,0.11575887999256226,-1.6797795335634507,0.32101675906697663,-0.029421517263010833,0.916862588487737,0.5005943184489355,0.47748875080863645,-1.4445253371836875,-0.7490423417159519,0.8307497872518788,-1.2944740230747616,0.562061709877203,0.8221148785197783,-0.7523094282677261,-0.26373004757776175,0.5258232470067837,0.940979809508781,0.23178863608136288,-0.3999835749531784,-1.5877557479545665,1.3117797268833151,0.5277915175274164,0.055985875744130185,0.22757050286605102,-1.0518642709521109,-2.2809456910838524,-0.1304241624464754,-0.1908037005073423,0.24896485240145314,-0.04471771013045752,-0.9701184869344839,1.0990611188514359,0.12340353879664699,0.0753800392632158,-0.0662171730054763,-0.35308229736830216,-0.10945749618170171,-1.6329769246665042,-2.2167020173795096,0.2726812030775698,-0.1455257739888572,0.6511061330588763,-0.4401251895987155,-0.4561258898920153,0.09968968653804522,-0.6599742180242933,-1.530117369231545,-0.6996345378686805,1.4655432843735978,0.1440603081792614,-0.7928080218222593,0.9629631226294447,0.21702547598133207,-0.041302322471019656,0.6933637350395077,0.15085198288439183,-0.5110684458127188,0.7423426360891041,-0.2790365281483132,-0.21438293119597363,1.3897821201574414,-0.05515767789216785,-1.18290717597586,1.5145019130226023,0.08103465020839139,-1.376004787846036,1.365053587926242,0.18655028290427167,0.1568399485803906,0.2093824677298707,-0.03481088445587469,0.9900655976655112,0.47820191801570666,-1.3762517202742317,0.982440826684452,0.35343255249727457,-0.5787230512640728,0.4663012854591553,-1.0989913782473266,0.4573973997223406,-1.6674459041243,0.13256166644037015,-0.7662112574506679,-0.6030276098968368,2.324055715057974,0.519139017155852,1.5854011486856008,-0.8140182188847669],\"y\":[0.020446733117837387,-0.13142655753710328,2.1552942366317467,-0.7368030167193271,-0.15647700590177263,0.6227231939705729,-1.6691369374293619,-1.2303447427755323,0.643022860548499,0.021586526736260724,-1.7169237831599646,0.22218243580981564,0.36584301376601014,0.026480636897801314,-0.43463437249302705,0.6051183133216308,-0.04743338759975797,-1.0437386290390713,0.7634534487337309,1.8374145183566533,-0.06536138852479652,0.7189252425600876,1.618990179663656,-0.1292282991611609,1.1273662797944604,0.6190874181543614,0.06368225620831357,0.46551790697162204,1.209953364299594,-2.369297044199571,0.8474003322921112,-0.940570263581015,-1.733441623719393,0.026841257964993363,-1.16890351164535,2.444181611176374,0.32751014394035766,-0.7403796216695913,0.974192465330595,-1.3419718295456629,0.06753401710505501,0.3995579413779053,1.4715788524730944,1.3058590299377058,0.47396800523908605,-0.8533959337453239,-0.04513824946522313,1.5989310069722822,0.8209975940625924,0.9130159745522907,0.631805379794073,0.6871572685821035,0.4045330817197545,1.2699208282991628,-0.6115479531451279,0.888004086618221,-0.16824686224817828,0.5678427897742637,-0.10410397427380996,-2.3038112907761277,0.41334310863275886,1.6928037846747235,0.392241308944528,-0.60184778036844,0.15205225924987986,1.6218704586678105,0.2201422071654261,-1.3786178164447496,-0.19056231682640878,-1.9889018202432063,-0.280718466698838,-1.771621395021947,1.155531507522197,-0.4552613825429717,-0.14485092590175166,-1.4283535464664365,-0.03840435986495959,-0.48667075998421944,-0.9941041935759036,-0.43719948750326876,1.2258685272598313,0.41068441181305554,0.7819145340879001,0.38400754270393317,-0.2149342584479373,-0.06703890319057035,0.355262197350419,-0.4613181548267008,-0.8533370162794723,-1.744887650467091,-0.7983995491067819,0.03200564722701361,1.2726655310355808,0.1599056042426869,0.756455417298015,0.5128717405086298,1.2974121723462697,0.8823627599399996,-0.567302174615601,0.0697729567365461],\"type\":\"scatter\"}],                        {\"legend\":{\"bgcolor\":\"#F5F6F9\",\"font\":{\"color\":\"#4D5663\"}},\"paper_bgcolor\":\"#F5F6F9\",\"plot_bgcolor\":\"#F5F6F9\",\"template\":{\"data\":{\"barpolar\":[{\"marker\":{\"line\":{\"color\":\"#E5ECF6\",\"width\":0.5},\"pattern\":{\"fillmode\":\"overlay\",\"size\":10,\"solidity\":0.2}},\"type\":\"barpolar\"}],\"bar\":[{\"error_x\":{\"color\":\"#2a3f5f\"},\"error_y\":{\"color\":\"#2a3f5f\"},\"marker\":{\"line\":{\"color\":\"#E5ECF6\",\"width\":0.5},\"pattern\":{\"fillmode\":\"overlay\",\"size\":10,\"solidity\":0.2}},\"type\":\"bar\"}],\"carpet\":[{\"aaxis\":{\"endlinecolor\":\"#2a3f5f\",\"gridcolor\":\"white\",\"linecolor\":\"white\",\"minorgridcolor\":\"white\",\"startlinecolor\":\"#2a3f5f\"},\"baxis\":{\"endlinecolor\":\"#2a3f5f\",\"gridcolor\":\"white\",\"linecolor\":\"white\",\"minorgridcolor\":\"white\",\"startlinecolor\":\"#2a3f5f\"},\"type\":\"carpet\"}],\"choropleth\":[{\"colorbar\":{\"outlinewidth\":0,\"ticks\":\"\"},\"type\":\"choropleth\"}],\"contourcarpet\":[{\"colorbar\":{\"outlinewidth\":0,\"ticks\":\"\"},\"type\":\"contourcarpet\"}],\"contour\":[{\"colorbar\":{\"outlinewidth\":0,\"ticks\":\"\"},\"colorscale\":[[0.0,\"#0d0887\"],[0.1111111111111111,\"#46039f\"],[0.2222222222222222,\"#7201a8\"],[0.3333333333333333,\"#9c179e\"],[0.4444444444444444,\"#bd3786\"],[0.5555555555555556,\"#d8576b\"],[0.6666666666666666,\"#ed7953\"],[0.7777777777777778,\"#fb9f3a\"],[0.8888888888888888,\"#fdca26\"],[1.0,\"#f0f921\"]],\"type\":\"contour\"}],\"heatmapgl\":[{\"colorbar\":{\"outlinewidth\":0,\"ticks\":\"\"},\"colorscale\":[[0.0,\"#0d0887\"],[0.1111111111111111,\"#46039f\"],[0.2222222222222222,\"#7201a8\"],[0.3333333333333333,\"#9c179e\"],[0.4444444444444444,\"#bd3786\"],[0.5555555555555556,\"#d8576b\"],[0.6666666666666666,\"#ed7953\"],[0.7777777777777778,\"#fb9f3a\"],[0.8888888888888888,\"#fdca26\"],[1.0,\"#f0f921\"]],\"type\":\"heatmapgl\"}],\"heatmap\":[{\"colorbar\":{\"outlinewidth\":0,\"ticks\":\"\"},\"colorscale\":[[0.0,\"#0d0887\"],[0.1111111111111111,\"#46039f\"],[0.2222222222222222,\"#7201a8\"],[0.3333333333333333,\"#9c179e\"],[0.4444444444444444,\"#bd3786\"],[0.5555555555555556,\"#d8576b\"],[0.6666666666666666,\"#ed7953\"],[0.7777777777777778,\"#fb9f3a\"],[0.8888888888888888,\"#fdca26\"],[1.0,\"#f0f921\"]],\"type\":\"heatmap\"}],\"histogram2dcontour\":[{\"colorbar\":{\"outlinewidth\":0,\"ticks\":\"\"},\"colorscale\":[[0.0,\"#0d0887\"],[0.1111111111111111,\"#46039f\"],[0.2222222222222222,\"#7201a8\"],[0.3333333333333333,\"#9c179e\"],[0.4444444444444444,\"#bd3786\"],[0.5555555555555556,\"#d8576b\"],[0.6666666666666666,\"#ed7953\"],[0.7777777777777778,\"#fb9f3a\"],[0.8888888888888888,\"#fdca26\"],[1.0,\"#f0f921\"]],\"type\":\"histogram2dcontour\"}],\"histogram2d\":[{\"colorbar\":{\"outlinewidth\":0,\"ticks\":\"\"},\"colorscale\":[[0.0,\"#0d0887\"],[0.1111111111111111,\"#46039f\"],[0.2222222222222222,\"#7201a8\"],[0.3333333333333333,\"#9c179e\"],[0.4444444444444444,\"#bd3786\"],[0.5555555555555556,\"#d8576b\"],[0.6666666666666666,\"#ed7953\"],[0.7777777777777778,\"#fb9f3a\"],[0.8888888888888888,\"#fdca26\"],[1.0,\"#f0f921\"]],\"type\":\"histogram2d\"}],\"histogram\":[{\"marker\":{\"pattern\":{\"fillmode\":\"overlay\",\"size\":10,\"solidity\":0.2}},\"type\":\"histogram\"}],\"mesh3d\":[{\"colorbar\":{\"outlinewidth\":0,\"ticks\":\"\"},\"type\":\"mesh3d\"}],\"parcoords\":[{\"line\":{\"colorbar\":{\"outlinewidth\":0,\"ticks\":\"\"}},\"type\":\"parcoords\"}],\"pie\":[{\"automargin\":true,\"type\":\"pie\"}],\"scatter3d\":[{\"line\":{\"colorbar\":{\"outlinewidth\":0,\"ticks\":\"\"}},\"marker\":{\"colorbar\":{\"outlinewidth\":0,\"ticks\":\"\"}},\"type\":\"scatter3d\"}],\"scattercarpet\":[{\"marker\":{\"colorbar\":{\"outlinewidth\":0,\"ticks\":\"\"}},\"type\":\"scattercarpet\"}],\"scattergeo\":[{\"marker\":{\"colorbar\":{\"outlinewidth\":0,\"ticks\":\"\"}},\"type\":\"scattergeo\"}],\"scattergl\":[{\"marker\":{\"colorbar\":{\"outlinewidth\":0,\"ticks\":\"\"}},\"type\":\"scattergl\"}],\"scattermapbox\":[{\"marker\":{\"colorbar\":{\"outlinewidth\":0,\"ticks\":\"\"}},\"type\":\"scattermapbox\"}],\"scatterpolargl\":[{\"marker\":{\"colorbar\":{\"outlinewidth\":0,\"ticks\":\"\"}},\"type\":\"scatterpolargl\"}],\"scatterpolar\":[{\"marker\":{\"colorbar\":{\"outlinewidth\":0,\"ticks\":\"\"}},\"type\":\"scatterpolar\"}],\"scatter\":[{\"fillpattern\":{\"fillmode\":\"overlay\",\"size\":10,\"solidity\":0.2},\"type\":\"scatter\"}],\"scatterternary\":[{\"marker\":{\"colorbar\":{\"outlinewidth\":0,\"ticks\":\"\"}},\"type\":\"scatterternary\"}],\"surface\":[{\"colorbar\":{\"outlinewidth\":0,\"ticks\":\"\"},\"colorscale\":[[0.0,\"#0d0887\"],[0.1111111111111111,\"#46039f\"],[0.2222222222222222,\"#7201a8\"],[0.3333333333333333,\"#9c179e\"],[0.4444444444444444,\"#bd3786\"],[0.5555555555555556,\"#d8576b\"],[0.6666666666666666,\"#ed7953\"],[0.7777777777777778,\"#fb9f3a\"],[0.8888888888888888,\"#fdca26\"],[1.0,\"#f0f921\"]],\"type\":\"surface\"}],\"table\":[{\"cells\":{\"fill\":{\"color\":\"#EBF0F8\"},\"line\":{\"color\":\"white\"}},\"header\":{\"fill\":{\"color\":\"#C8D4E3\"},\"line\":{\"color\":\"white\"}},\"type\":\"table\"}]},\"layout\":{\"annotationdefaults\":{\"arrowcolor\":\"#2a3f5f\",\"arrowhead\":0,\"arrowwidth\":1},\"autotypenumbers\":\"strict\",\"coloraxis\":{\"colorbar\":{\"outlinewidth\":0,\"ticks\":\"\"}},\"colorscale\":{\"diverging\":[[0,\"#8e0152\"],[0.1,\"#c51b7d\"],[0.2,\"#de77ae\"],[0.3,\"#f1b6da\"],[0.4,\"#fde0ef\"],[0.5,\"#f7f7f7\"],[0.6,\"#e6f5d0\"],[0.7,\"#b8e186\"],[0.8,\"#7fbc41\"],[0.9,\"#4d9221\"],[1,\"#276419\"]],\"sequential\":[[0.0,\"#0d0887\"],[0.1111111111111111,\"#46039f\"],[0.2222222222222222,\"#7201a8\"],[0.3333333333333333,\"#9c179e\"],[0.4444444444444444,\"#bd3786\"],[0.5555555555555556,\"#d8576b\"],[0.6666666666666666,\"#ed7953\"],[0.7777777777777778,\"#fb9f3a\"],[0.8888888888888888,\"#fdca26\"],[1.0,\"#f0f921\"]],\"sequentialminus\":[[0.0,\"#0d0887\"],[0.1111111111111111,\"#46039f\"],[0.2222222222222222,\"#7201a8\"],[0.3333333333333333,\"#9c179e\"],[0.4444444444444444,\"#bd3786\"],[0.5555555555555556,\"#d8576b\"],[0.6666666666666666,\"#ed7953\"],[0.7777777777777778,\"#fb9f3a\"],[0.8888888888888888,\"#fdca26\"],[1.0,\"#f0f921\"]]},\"colorway\":[\"#636efa\",\"#EF553B\",\"#00cc96\",\"#ab63fa\",\"#FFA15A\",\"#19d3f3\",\"#FF6692\",\"#B6E880\",\"#FF97FF\",\"#FECB52\"],\"font\":{\"color\":\"#2a3f5f\"},\"geo\":{\"bgcolor\":\"white\",\"lakecolor\":\"white\",\"landcolor\":\"#E5ECF6\",\"showlakes\":true,\"showland\":true,\"subunitcolor\":\"white\"},\"hoverlabel\":{\"align\":\"left\"},\"hovermode\":\"closest\",\"mapbox\":{\"style\":\"light\"},\"paper_bgcolor\":\"white\",\"plot_bgcolor\":\"#E5ECF6\",\"polar\":{\"angularaxis\":{\"gridcolor\":\"white\",\"linecolor\":\"white\",\"ticks\":\"\"},\"bgcolor\":\"#E5ECF6\",\"radialaxis\":{\"gridcolor\":\"white\",\"linecolor\":\"white\",\"ticks\":\"\"}},\"scene\":{\"xaxis\":{\"backgroundcolor\":\"#E5ECF6\",\"gridcolor\":\"white\",\"gridwidth\":2,\"linecolor\":\"white\",\"showbackground\":true,\"ticks\":\"\",\"zerolinecolor\":\"white\"},\"yaxis\":{\"backgroundcolor\":\"#E5ECF6\",\"gridcolor\":\"white\",\"gridwidth\":2,\"linecolor\":\"white\",\"showbackground\":true,\"ticks\":\"\",\"zerolinecolor\":\"white\"},\"zaxis\":{\"backgroundcolor\":\"#E5ECF6\",\"gridcolor\":\"white\",\"gridwidth\":2,\"linecolor\":\"white\",\"showbackground\":true,\"ticks\":\"\",\"zerolinecolor\":\"white\"}},\"shapedefaults\":{\"line\":{\"color\":\"#2a3f5f\"}},\"ternary\":{\"aaxis\":{\"gridcolor\":\"white\",\"linecolor\":\"white\",\"ticks\":\"\"},\"baxis\":{\"gridcolor\":\"white\",\"linecolor\":\"white\",\"ticks\":\"\"},\"bgcolor\":\"#E5ECF6\",\"caxis\":{\"gridcolor\":\"white\",\"linecolor\":\"white\",\"ticks\":\"\"}},\"title\":{\"x\":0.05},\"xaxis\":{\"automargin\":true,\"gridcolor\":\"white\",\"linecolor\":\"white\",\"ticks\":\"\",\"title\":{\"standoff\":15},\"zerolinecolor\":\"white\",\"zerolinewidth\":2},\"yaxis\":{\"automargin\":true,\"gridcolor\":\"white\",\"linecolor\":\"white\",\"ticks\":\"\",\"title\":{\"standoff\":15},\"zerolinecolor\":\"white\",\"zerolinewidth\":2}}},\"title\":{\"font\":{\"color\":\"#4D5663\"}},\"xaxis\":{\"gridcolor\":\"#E1E5ED\",\"showgrid\":true,\"tickfont\":{\"color\":\"#4D5663\"},\"title\":{\"font\":{\"color\":\"#4D5663\"},\"text\":\"\"},\"zerolinecolor\":\"#E1E5ED\"},\"yaxis\":{\"gridcolor\":\"#E1E5ED\",\"showgrid\":true,\"tickfont\":{\"color\":\"#4D5663\"},\"title\":{\"font\":{\"color\":\"#4D5663\"},\"text\":\"\"},\"zerolinecolor\":\"#E1E5ED\"}},                        {\"showLink\": true, \"linkText\": \"Export to plot.ly\", \"plotlyServerURL\": \"https://plot.ly\", \"responsive\": true}                    ).then(function(){\n",
       "                            \n",
       "var gd = document.getElementById('6720bcf4-cf2d-449e-8fa7-9a4850e35877');\n",
       "var x = new MutationObserver(function (mutations, observer) {{\n",
       "        var display = window.getComputedStyle(gd).display;\n",
       "        if (!display || display === 'none') {{\n",
       "            console.log([gd, 'removed!']);\n",
       "            Plotly.purge(gd);\n",
       "            observer.disconnect();\n",
       "        }}\n",
       "}});\n",
       "\n",
       "// Listen for the removal of the full notebook cells\n",
       "var notebookContainer = gd.closest('#notebook-container');\n",
       "if (notebookContainer) {{\n",
       "    x.observe(notebookContainer, {childList: true});\n",
       "}}\n",
       "\n",
       "// Listen for the clearing of the current output cell\n",
       "var outputEl = gd.closest('.output');\n",
       "if (outputEl) {{\n",
       "    x.observe(outputEl, {childList: true});\n",
       "}}\n",
       "\n",
       "                        })                };                });            </script>        </div>"
      ]
     },
     "metadata": {},
     "output_type": "display_data"
    }
   ],
   "source": [
    "df.iplot(kind='bubble',x='A',y='B',size = 'C')"
   ]
  },
  {
   "cell_type": "markdown",
   "id": "5342d024",
   "metadata": {},
   "source": [
    "# scatter_matrix()\n",
    "\n",
    "Similar to sns.pairplot()"
   ]
  },
  {
   "cell_type": "code",
   "execution_count": 64,
   "id": "23a65df5",
   "metadata": {},
   "outputs": [
    {
     "data": {
      "application/vnd.plotly.v1+json": {
       "config": {
        "linkText": "Export to plot.ly",
        "plotlyServerURL": "https://plot.ly",
        "showLink": true
       },
       "data": [
        {
         "histfunc": "count",
         "histnorm": "",
         "marker": {
          "color": "rgba(255, 153, 51, 1.0)",
          "line": {
           "color": "#4D5663",
           "width": 1.3
          }
         },
         "name": "A",
         "nbinsx": 10,
         "opacity": 0.8,
         "orientation": "v",
         "type": "histogram",
         "x": [
          1.703030536865381,
          0.057715736526326965,
          1.806753252426194,
          -0.28507382165451167,
          0.8448103032083629,
          1.9356544563192983,
          0.25265645003993437,
          -0.7108407175975264,
          0.20407341105116586,
          -0.9631835128284022,
          -2.313929528277395,
          1.8504210053906285,
          0.11575887999256226,
          -1.6797795335634507,
          0.32101675906697663,
          -0.029421517263010833,
          0.916862588487737,
          0.5005943184489355,
          0.47748875080863645,
          -1.4445253371836875,
          -0.7490423417159519,
          0.8307497872518788,
          -1.2944740230747616,
          0.562061709877203,
          0.8221148785197783,
          -0.7523094282677261,
          -0.26373004757776175,
          0.5258232470067837,
          0.940979809508781,
          0.23178863608136288,
          -0.3999835749531784,
          -1.5877557479545665,
          1.3117797268833151,
          0.5277915175274164,
          0.055985875744130185,
          0.22757050286605102,
          -1.0518642709521109,
          -2.2809456910838524,
          -0.1304241624464754,
          -0.1908037005073423,
          0.24896485240145314,
          -0.04471771013045752,
          -0.9701184869344839,
          1.0990611188514359,
          0.12340353879664699,
          0.0753800392632158,
          -0.0662171730054763,
          -0.35308229736830216,
          -0.10945749618170171,
          -1.6329769246665042,
          -2.2167020173795096,
          0.2726812030775698,
          -0.1455257739888572,
          0.6511061330588763,
          -0.4401251895987155,
          -0.4561258898920153,
          0.09968968653804522,
          -0.6599742180242933,
          -1.530117369231545,
          -0.6996345378686805,
          1.4655432843735978,
          0.1440603081792614,
          -0.7928080218222593,
          0.9629631226294447,
          0.21702547598133207,
          -0.041302322471019656,
          0.6933637350395077,
          0.15085198288439183,
          -0.5110684458127188,
          0.7423426360891041,
          -0.2790365281483132,
          -0.21438293119597363,
          1.3897821201574414,
          -0.05515767789216785,
          -1.18290717597586,
          1.5145019130226023,
          0.08103465020839139,
          -1.376004787846036,
          1.365053587926242,
          0.18655028290427167,
          0.1568399485803906,
          0.2093824677298707,
          -0.03481088445587469,
          0.9900655976655112,
          0.47820191801570666,
          -1.3762517202742317,
          0.982440826684452,
          0.35343255249727457,
          -0.5787230512640728,
          0.4663012854591553,
          -1.0989913782473266,
          0.4573973997223406,
          -1.6674459041243,
          0.13256166644037015,
          -0.7662112574506679,
          -0.6030276098968368,
          2.324055715057974,
          0.519139017155852,
          1.5854011486856008,
          -0.8140182188847669
         ],
         "xaxis": "x",
         "yaxis": "y"
        },
        {
         "line": {
          "color": "rgba(128, 128, 128, 1.0)",
          "dash": "solid",
          "shape": "linear",
          "width": 1.3
         },
         "marker": {
          "size": 2,
          "symbol": "circle"
         },
         "mode": "markers",
         "name": "A",
         "text": "",
         "type": "scatter",
         "x": [
          0.020446733117837387,
          -0.13142655753710328,
          2.1552942366317467,
          -0.7368030167193271,
          -0.15647700590177263,
          0.6227231939705729,
          -1.6691369374293619,
          -1.2303447427755323,
          0.643022860548499,
          0.021586526736260724,
          -1.7169237831599646,
          0.22218243580981564,
          0.36584301376601014,
          0.026480636897801314,
          -0.43463437249302705,
          0.6051183133216308,
          -0.04743338759975797,
          -1.0437386290390713,
          0.7634534487337309,
          1.8374145183566533,
          -0.06536138852479652,
          0.7189252425600876,
          1.618990179663656,
          -0.1292282991611609,
          1.1273662797944604,
          0.6190874181543614,
          0.06368225620831357,
          0.46551790697162204,
          1.209953364299594,
          -2.369297044199571,
          0.8474003322921112,
          -0.940570263581015,
          -1.733441623719393,
          0.026841257964993363,
          -1.16890351164535,
          2.444181611176374,
          0.32751014394035766,
          -0.7403796216695913,
          0.974192465330595,
          -1.3419718295456629,
          0.06753401710505501,
          0.3995579413779053,
          1.4715788524730944,
          1.3058590299377058,
          0.47396800523908605,
          -0.8533959337453239,
          -0.04513824946522313,
          1.5989310069722822,
          0.8209975940625924,
          0.9130159745522907,
          0.631805379794073,
          0.6871572685821035,
          0.4045330817197545,
          1.2699208282991628,
          -0.6115479531451279,
          0.888004086618221,
          -0.16824686224817828,
          0.5678427897742637,
          -0.10410397427380996,
          -2.3038112907761277,
          0.41334310863275886,
          1.6928037846747235,
          0.392241308944528,
          -0.60184778036844,
          0.15205225924987986,
          1.6218704586678105,
          0.2201422071654261,
          -1.3786178164447496,
          -0.19056231682640878,
          -1.9889018202432063,
          -0.280718466698838,
          -1.771621395021947,
          1.155531507522197,
          -0.4552613825429717,
          -0.14485092590175166,
          -1.4283535464664365,
          -0.03840435986495959,
          -0.48667075998421944,
          -0.9941041935759036,
          -0.43719948750326876,
          1.2258685272598313,
          0.41068441181305554,
          0.7819145340879001,
          0.38400754270393317,
          -0.2149342584479373,
          -0.06703890319057035,
          0.355262197350419,
          -0.4613181548267008,
          -0.8533370162794723,
          -1.744887650467091,
          -0.7983995491067819,
          0.03200564722701361,
          1.2726655310355808,
          0.1599056042426869,
          0.756455417298015,
          0.5128717405086298,
          1.2974121723462697,
          0.8823627599399996,
          -0.567302174615601,
          0.0697729567365461
         ],
         "xaxis": "x2",
         "y": [
          1.703030536865381,
          0.057715736526326965,
          1.806753252426194,
          -0.28507382165451167,
          0.8448103032083629,
          1.9356544563192983,
          0.25265645003993437,
          -0.7108407175975264,
          0.20407341105116586,
          -0.9631835128284022,
          -2.313929528277395,
          1.8504210053906285,
          0.11575887999256226,
          -1.6797795335634507,
          0.32101675906697663,
          -0.029421517263010833,
          0.916862588487737,
          0.5005943184489355,
          0.47748875080863645,
          -1.4445253371836875,
          -0.7490423417159519,
          0.8307497872518788,
          -1.2944740230747616,
          0.562061709877203,
          0.8221148785197783,
          -0.7523094282677261,
          -0.26373004757776175,
          0.5258232470067837,
          0.940979809508781,
          0.23178863608136288,
          -0.3999835749531784,
          -1.5877557479545665,
          1.3117797268833151,
          0.5277915175274164,
          0.055985875744130185,
          0.22757050286605102,
          -1.0518642709521109,
          -2.2809456910838524,
          -0.1304241624464754,
          -0.1908037005073423,
          0.24896485240145314,
          -0.04471771013045752,
          -0.9701184869344839,
          1.0990611188514359,
          0.12340353879664699,
          0.0753800392632158,
          -0.0662171730054763,
          -0.35308229736830216,
          -0.10945749618170171,
          -1.6329769246665042,
          -2.2167020173795096,
          0.2726812030775698,
          -0.1455257739888572,
          0.6511061330588763,
          -0.4401251895987155,
          -0.4561258898920153,
          0.09968968653804522,
          -0.6599742180242933,
          -1.530117369231545,
          -0.6996345378686805,
          1.4655432843735978,
          0.1440603081792614,
          -0.7928080218222593,
          0.9629631226294447,
          0.21702547598133207,
          -0.041302322471019656,
          0.6933637350395077,
          0.15085198288439183,
          -0.5110684458127188,
          0.7423426360891041,
          -0.2790365281483132,
          -0.21438293119597363,
          1.3897821201574414,
          -0.05515767789216785,
          -1.18290717597586,
          1.5145019130226023,
          0.08103465020839139,
          -1.376004787846036,
          1.365053587926242,
          0.18655028290427167,
          0.1568399485803906,
          0.2093824677298707,
          -0.03481088445587469,
          0.9900655976655112,
          0.47820191801570666,
          -1.3762517202742317,
          0.982440826684452,
          0.35343255249727457,
          -0.5787230512640728,
          0.4663012854591553,
          -1.0989913782473266,
          0.4573973997223406,
          -1.6674459041243,
          0.13256166644037015,
          -0.7662112574506679,
          -0.6030276098968368,
          2.324055715057974,
          0.519139017155852,
          1.5854011486856008,
          -0.8140182188847669
         ],
         "yaxis": "y2"
        },
        {
         "line": {
          "color": "rgba(128, 128, 128, 1.0)",
          "dash": "solid",
          "shape": "linear",
          "width": 1.3
         },
         "marker": {
          "size": 2,
          "symbol": "circle"
         },
         "mode": "markers",
         "name": "A",
         "text": "",
         "type": "scatter",
         "x": [
          0.22732938506030448,
          -0.5643669302842955,
          -1.313722011081908,
          1.0163970133207245,
          0.5229582751053584,
          0.595833021756602,
          0.11344979750684121,
          0.7747931294729858,
          -1.568519653457817,
          0.6187789381697351,
          -1.0383969049034958,
          -1.6875743505925955,
          0.6186950148297927,
          -0.04204938040299849,
          0.09662339062791474,
          -0.1568688808670259,
          0.346524119463329,
          -1.429493553357895,
          -0.7466904358430473,
          -1.0180672553465524,
          0.7008780191227159,
          0.30696332826553274,
          -0.31143775218437814,
          1.825488504701764,
          0.35516864391917474,
          -0.38946556987045367,
          -0.6392573005794727,
          -1.091679868647396,
          -1.0446751563544818,
          0.4325562578560166,
          1.3018270911586034,
          1.112556888348836,
          -0.7731044626717067,
          -0.614744560394022,
          -0.8695130832810692,
          0.7871129659713763,
          1.452485209986683,
          -0.562010754629272,
          0.6573493790409521,
          1.815247685635861,
          -0.326140134461283,
          2.2714807032998694,
          0.38365460401999896,
          1.020130050934682,
          0.697603120171272,
          0.5795947310854617,
          -0.08591242375449441,
          -1.057789044213953,
          -0.1114765716237359,
          0.777809823132227,
          0.7685945504497308,
          -0.030538124608908396,
          -0.018533530874105784,
          -0.5692750110003424,
          2.5255605365251323,
          -0.8212829782259444,
          0.3321730707361428,
          0.5333999185030921,
          -0.08706769349988827,
          -1.0485261616848858,
          0.30040476151573203,
          -0.9458791527522263,
          2.489871585940211,
          -1.8713242575511513,
          -0.1616233238488484,
          -0.17112135867959025,
          0.09838102764715186,
          0.10023229886659617,
          2.762206064299176,
          -0.9417919800836461,
          -1.1413166219516113,
          -0.4664334734813527,
          0.004734173816949858,
          0.27625032417049566,
          -1.612359086650145,
          0.4080191930426905,
          -0.9092042775507635,
          -0.2035328180827829,
          -0.8644537681515296,
          -0.711102715034272,
          -1.610044441107284,
          -0.8342944210699971,
          1.2713088416439782,
          0.434400974815181,
          0.8443958621352657,
          -0.16525839864417344,
          1.5080985276725194,
          0.3470001222237344,
          -1.2288651037203575,
          0.293108662128752,
          -0.3305845512896531,
          -1.780722721415806,
          -1.2311573483105316,
          -1.1466498341572549,
          -0.16712154575823085,
          -1.0748903216037546,
          -0.399294360798341,
          0.29726369047821,
          0.5637649065705606,
          -1.6124846290428798
         ],
         "xaxis": "x3",
         "y": [
          1.703030536865381,
          0.057715736526326965,
          1.806753252426194,
          -0.28507382165451167,
          0.8448103032083629,
          1.9356544563192983,
          0.25265645003993437,
          -0.7108407175975264,
          0.20407341105116586,
          -0.9631835128284022,
          -2.313929528277395,
          1.8504210053906285,
          0.11575887999256226,
          -1.6797795335634507,
          0.32101675906697663,
          -0.029421517263010833,
          0.916862588487737,
          0.5005943184489355,
          0.47748875080863645,
          -1.4445253371836875,
          -0.7490423417159519,
          0.8307497872518788,
          -1.2944740230747616,
          0.562061709877203,
          0.8221148785197783,
          -0.7523094282677261,
          -0.26373004757776175,
          0.5258232470067837,
          0.940979809508781,
          0.23178863608136288,
          -0.3999835749531784,
          -1.5877557479545665,
          1.3117797268833151,
          0.5277915175274164,
          0.055985875744130185,
          0.22757050286605102,
          -1.0518642709521109,
          -2.2809456910838524,
          -0.1304241624464754,
          -0.1908037005073423,
          0.24896485240145314,
          -0.04471771013045752,
          -0.9701184869344839,
          1.0990611188514359,
          0.12340353879664699,
          0.0753800392632158,
          -0.0662171730054763,
          -0.35308229736830216,
          -0.10945749618170171,
          -1.6329769246665042,
          -2.2167020173795096,
          0.2726812030775698,
          -0.1455257739888572,
          0.6511061330588763,
          -0.4401251895987155,
          -0.4561258898920153,
          0.09968968653804522,
          -0.6599742180242933,
          -1.530117369231545,
          -0.6996345378686805,
          1.4655432843735978,
          0.1440603081792614,
          -0.7928080218222593,
          0.9629631226294447,
          0.21702547598133207,
          -0.041302322471019656,
          0.6933637350395077,
          0.15085198288439183,
          -0.5110684458127188,
          0.7423426360891041,
          -0.2790365281483132,
          -0.21438293119597363,
          1.3897821201574414,
          -0.05515767789216785,
          -1.18290717597586,
          1.5145019130226023,
          0.08103465020839139,
          -1.376004787846036,
          1.365053587926242,
          0.18655028290427167,
          0.1568399485803906,
          0.2093824677298707,
          -0.03481088445587469,
          0.9900655976655112,
          0.47820191801570666,
          -1.3762517202742317,
          0.982440826684452,
          0.35343255249727457,
          -0.5787230512640728,
          0.4663012854591553,
          -1.0989913782473266,
          0.4573973997223406,
          -1.6674459041243,
          0.13256166644037015,
          -0.7662112574506679,
          -0.6030276098968368,
          2.324055715057974,
          0.519139017155852,
          1.5854011486856008,
          -0.8140182188847669
         ],
         "yaxis": "y3"
        },
        {
         "line": {
          "color": "rgba(128, 128, 128, 1.0)",
          "dash": "solid",
          "shape": "linear",
          "width": 1.3
         },
         "marker": {
          "size": 2,
          "symbol": "circle"
         },
         "mode": "markers",
         "name": "A",
         "text": "",
         "type": "scatter",
         "x": [
          0.11217771970799818,
          0.39477392305306097,
          -0.6359822678110904,
          -0.17596600208882143,
          1.0905878457835223,
          -0.21352131965121662,
          -0.016626607222570096,
          -1.1133666517931138,
          0.4525476031536588,
          -1.2510496534635616,
          2.918575284528553,
          0.12805362295907827,
          -0.16201779720114132,
          -1.6132198624318677,
          -0.35277979723911507,
          -1.1362752153118836,
          1.368161680526287,
          -1.0437923672559235,
          -0.7398038635483111,
          0.00459272667543897,
          0.875489098040318,
          -0.4893680617860016,
          0.4576602143537095,
          1.894714670073871,
          0.14983496682169892,
          1.4075540868517387,
          1.2033377322553152,
          2.1859911780898575,
          -0.45081763797717067,
          -0.2025028100014118,
          1.01149308161552,
          0.6964239541863181,
          0.7883417392529258,
          -0.007985737874252082,
          1.1458029482951884,
          -0.40235737437457925,
          -1.8355464509386143,
          1.2902283139453403,
          -0.3515926552114298,
          0.025628821213945503,
          0.9077766275682648,
          -2.0057443039000935,
          0.3837364593184679,
          1.7664451480034642,
          -0.800134531633424,
          0.48568720261757,
          0.49643773643784755,
          0.12317982550121122,
          0.3720751006775519,
          -0.37483094708892506,
          1.494865905332058,
          1.453972813605369,
          -1.1321177408728615,
          0.8321134858548878,
          -0.3789547830190396,
          0.8112663382216834,
          -2.1567893714755715,
          1.222028931609825,
          -1.1279953086462295,
          0.47202666348057615,
          -0.010321353996273118,
          -0.27291938273255617,
          -0.8669337703947283,
          -0.2030125878043635,
          -0.2909312007530726,
          0.8225310825414889,
          0.10905235941003295,
          0.44089934178858253,
          0.760699307521531,
          -0.40083305559310706,
          -2.4821152430767532,
          0.596903430626642,
          0.37683664931203636,
          1.3437503100681012,
          -1.2720862912169242,
          -0.3736302716050329,
          0.3093762055520044,
          0.7706661965543218,
          0.7635088052740517,
          -0.24992815278168945,
          0.08287011750932755,
          0.5357142688268939,
          -0.13432890079377094,
          -0.3530411912246393,
          -0.4773793846878311,
          -0.7343947951715286,
          0.6473540733438989,
          0.18341366164022121,
          0.5031180260567227,
          -0.16985512294781832,
          0.5287611207169758,
          1.5523393053212802,
          0.23336625645824333,
          0.012565043064252893,
          -0.8822423606821992,
          0.3716550653445206,
          0.8422688943004077,
          -1.6773495783230186,
          0.2421018678565944,
          -1.3883186278227082
         ],
         "xaxis": "x4",
         "y": [
          1.703030536865381,
          0.057715736526326965,
          1.806753252426194,
          -0.28507382165451167,
          0.8448103032083629,
          1.9356544563192983,
          0.25265645003993437,
          -0.7108407175975264,
          0.20407341105116586,
          -0.9631835128284022,
          -2.313929528277395,
          1.8504210053906285,
          0.11575887999256226,
          -1.6797795335634507,
          0.32101675906697663,
          -0.029421517263010833,
          0.916862588487737,
          0.5005943184489355,
          0.47748875080863645,
          -1.4445253371836875,
          -0.7490423417159519,
          0.8307497872518788,
          -1.2944740230747616,
          0.562061709877203,
          0.8221148785197783,
          -0.7523094282677261,
          -0.26373004757776175,
          0.5258232470067837,
          0.940979809508781,
          0.23178863608136288,
          -0.3999835749531784,
          -1.5877557479545665,
          1.3117797268833151,
          0.5277915175274164,
          0.055985875744130185,
          0.22757050286605102,
          -1.0518642709521109,
          -2.2809456910838524,
          -0.1304241624464754,
          -0.1908037005073423,
          0.24896485240145314,
          -0.04471771013045752,
          -0.9701184869344839,
          1.0990611188514359,
          0.12340353879664699,
          0.0753800392632158,
          -0.0662171730054763,
          -0.35308229736830216,
          -0.10945749618170171,
          -1.6329769246665042,
          -2.2167020173795096,
          0.2726812030775698,
          -0.1455257739888572,
          0.6511061330588763,
          -0.4401251895987155,
          -0.4561258898920153,
          0.09968968653804522,
          -0.6599742180242933,
          -1.530117369231545,
          -0.6996345378686805,
          1.4655432843735978,
          0.1440603081792614,
          -0.7928080218222593,
          0.9629631226294447,
          0.21702547598133207,
          -0.041302322471019656,
          0.6933637350395077,
          0.15085198288439183,
          -0.5110684458127188,
          0.7423426360891041,
          -0.2790365281483132,
          -0.21438293119597363,
          1.3897821201574414,
          -0.05515767789216785,
          -1.18290717597586,
          1.5145019130226023,
          0.08103465020839139,
          -1.376004787846036,
          1.365053587926242,
          0.18655028290427167,
          0.1568399485803906,
          0.2093824677298707,
          -0.03481088445587469,
          0.9900655976655112,
          0.47820191801570666,
          -1.3762517202742317,
          0.982440826684452,
          0.35343255249727457,
          -0.5787230512640728,
          0.4663012854591553,
          -1.0989913782473266,
          0.4573973997223406,
          -1.6674459041243,
          0.13256166644037015,
          -0.7662112574506679,
          -0.6030276098968368,
          2.324055715057974,
          0.519139017155852,
          1.5854011486856008,
          -0.8140182188847669
         ],
         "yaxis": "y4"
        },
        {
         "line": {
          "color": "rgba(128, 128, 128, 1.0)",
          "dash": "solid",
          "shape": "linear",
          "width": 1.3
         },
         "marker": {
          "size": 2,
          "symbol": "circle"
         },
         "mode": "markers",
         "name": "B",
         "text": "",
         "type": "scatter",
         "x": [
          1.703030536865381,
          0.057715736526326965,
          1.806753252426194,
          -0.28507382165451167,
          0.8448103032083629,
          1.9356544563192983,
          0.25265645003993437,
          -0.7108407175975264,
          0.20407341105116586,
          -0.9631835128284022,
          -2.313929528277395,
          1.8504210053906285,
          0.11575887999256226,
          -1.6797795335634507,
          0.32101675906697663,
          -0.029421517263010833,
          0.916862588487737,
          0.5005943184489355,
          0.47748875080863645,
          -1.4445253371836875,
          -0.7490423417159519,
          0.8307497872518788,
          -1.2944740230747616,
          0.562061709877203,
          0.8221148785197783,
          -0.7523094282677261,
          -0.26373004757776175,
          0.5258232470067837,
          0.940979809508781,
          0.23178863608136288,
          -0.3999835749531784,
          -1.5877557479545665,
          1.3117797268833151,
          0.5277915175274164,
          0.055985875744130185,
          0.22757050286605102,
          -1.0518642709521109,
          -2.2809456910838524,
          -0.1304241624464754,
          -0.1908037005073423,
          0.24896485240145314,
          -0.04471771013045752,
          -0.9701184869344839,
          1.0990611188514359,
          0.12340353879664699,
          0.0753800392632158,
          -0.0662171730054763,
          -0.35308229736830216,
          -0.10945749618170171,
          -1.6329769246665042,
          -2.2167020173795096,
          0.2726812030775698,
          -0.1455257739888572,
          0.6511061330588763,
          -0.4401251895987155,
          -0.4561258898920153,
          0.09968968653804522,
          -0.6599742180242933,
          -1.530117369231545,
          -0.6996345378686805,
          1.4655432843735978,
          0.1440603081792614,
          -0.7928080218222593,
          0.9629631226294447,
          0.21702547598133207,
          -0.041302322471019656,
          0.6933637350395077,
          0.15085198288439183,
          -0.5110684458127188,
          0.7423426360891041,
          -0.2790365281483132,
          -0.21438293119597363,
          1.3897821201574414,
          -0.05515767789216785,
          -1.18290717597586,
          1.5145019130226023,
          0.08103465020839139,
          -1.376004787846036,
          1.365053587926242,
          0.18655028290427167,
          0.1568399485803906,
          0.2093824677298707,
          -0.03481088445587469,
          0.9900655976655112,
          0.47820191801570666,
          -1.3762517202742317,
          0.982440826684452,
          0.35343255249727457,
          -0.5787230512640728,
          0.4663012854591553,
          -1.0989913782473266,
          0.4573973997223406,
          -1.6674459041243,
          0.13256166644037015,
          -0.7662112574506679,
          -0.6030276098968368,
          2.324055715057974,
          0.519139017155852,
          1.5854011486856008,
          -0.8140182188847669
         ],
         "xaxis": "x5",
         "y": [
          0.020446733117837387,
          -0.13142655753710328,
          2.1552942366317467,
          -0.7368030167193271,
          -0.15647700590177263,
          0.6227231939705729,
          -1.6691369374293619,
          -1.2303447427755323,
          0.643022860548499,
          0.021586526736260724,
          -1.7169237831599646,
          0.22218243580981564,
          0.36584301376601014,
          0.026480636897801314,
          -0.43463437249302705,
          0.6051183133216308,
          -0.04743338759975797,
          -1.0437386290390713,
          0.7634534487337309,
          1.8374145183566533,
          -0.06536138852479652,
          0.7189252425600876,
          1.618990179663656,
          -0.1292282991611609,
          1.1273662797944604,
          0.6190874181543614,
          0.06368225620831357,
          0.46551790697162204,
          1.209953364299594,
          -2.369297044199571,
          0.8474003322921112,
          -0.940570263581015,
          -1.733441623719393,
          0.026841257964993363,
          -1.16890351164535,
          2.444181611176374,
          0.32751014394035766,
          -0.7403796216695913,
          0.974192465330595,
          -1.3419718295456629,
          0.06753401710505501,
          0.3995579413779053,
          1.4715788524730944,
          1.3058590299377058,
          0.47396800523908605,
          -0.8533959337453239,
          -0.04513824946522313,
          1.5989310069722822,
          0.8209975940625924,
          0.9130159745522907,
          0.631805379794073,
          0.6871572685821035,
          0.4045330817197545,
          1.2699208282991628,
          -0.6115479531451279,
          0.888004086618221,
          -0.16824686224817828,
          0.5678427897742637,
          -0.10410397427380996,
          -2.3038112907761277,
          0.41334310863275886,
          1.6928037846747235,
          0.392241308944528,
          -0.60184778036844,
          0.15205225924987986,
          1.6218704586678105,
          0.2201422071654261,
          -1.3786178164447496,
          -0.19056231682640878,
          -1.9889018202432063,
          -0.280718466698838,
          -1.771621395021947,
          1.155531507522197,
          -0.4552613825429717,
          -0.14485092590175166,
          -1.4283535464664365,
          -0.03840435986495959,
          -0.48667075998421944,
          -0.9941041935759036,
          -0.43719948750326876,
          1.2258685272598313,
          0.41068441181305554,
          0.7819145340879001,
          0.38400754270393317,
          -0.2149342584479373,
          -0.06703890319057035,
          0.355262197350419,
          -0.4613181548267008,
          -0.8533370162794723,
          -1.744887650467091,
          -0.7983995491067819,
          0.03200564722701361,
          1.2726655310355808,
          0.1599056042426869,
          0.756455417298015,
          0.5128717405086298,
          1.2974121723462697,
          0.8823627599399996,
          -0.567302174615601,
          0.0697729567365461
         ],
         "yaxis": "y5"
        },
        {
         "histfunc": "count",
         "histnorm": "",
         "marker": {
          "color": "rgba(55, 128, 191, 1.0)",
          "line": {
           "color": "#4D5663",
           "width": 1.3
          }
         },
         "name": "B",
         "nbinsx": 10,
         "opacity": 0.8,
         "orientation": "v",
         "type": "histogram",
         "x": [
          0.020446733117837387,
          -0.13142655753710328,
          2.1552942366317467,
          -0.7368030167193271,
          -0.15647700590177263,
          0.6227231939705729,
          -1.6691369374293619,
          -1.2303447427755323,
          0.643022860548499,
          0.021586526736260724,
          -1.7169237831599646,
          0.22218243580981564,
          0.36584301376601014,
          0.026480636897801314,
          -0.43463437249302705,
          0.6051183133216308,
          -0.04743338759975797,
          -1.0437386290390713,
          0.7634534487337309,
          1.8374145183566533,
          -0.06536138852479652,
          0.7189252425600876,
          1.618990179663656,
          -0.1292282991611609,
          1.1273662797944604,
          0.6190874181543614,
          0.06368225620831357,
          0.46551790697162204,
          1.209953364299594,
          -2.369297044199571,
          0.8474003322921112,
          -0.940570263581015,
          -1.733441623719393,
          0.026841257964993363,
          -1.16890351164535,
          2.444181611176374,
          0.32751014394035766,
          -0.7403796216695913,
          0.974192465330595,
          -1.3419718295456629,
          0.06753401710505501,
          0.3995579413779053,
          1.4715788524730944,
          1.3058590299377058,
          0.47396800523908605,
          -0.8533959337453239,
          -0.04513824946522313,
          1.5989310069722822,
          0.8209975940625924,
          0.9130159745522907,
          0.631805379794073,
          0.6871572685821035,
          0.4045330817197545,
          1.2699208282991628,
          -0.6115479531451279,
          0.888004086618221,
          -0.16824686224817828,
          0.5678427897742637,
          -0.10410397427380996,
          -2.3038112907761277,
          0.41334310863275886,
          1.6928037846747235,
          0.392241308944528,
          -0.60184778036844,
          0.15205225924987986,
          1.6218704586678105,
          0.2201422071654261,
          -1.3786178164447496,
          -0.19056231682640878,
          -1.9889018202432063,
          -0.280718466698838,
          -1.771621395021947,
          1.155531507522197,
          -0.4552613825429717,
          -0.14485092590175166,
          -1.4283535464664365,
          -0.03840435986495959,
          -0.48667075998421944,
          -0.9941041935759036,
          -0.43719948750326876,
          1.2258685272598313,
          0.41068441181305554,
          0.7819145340879001,
          0.38400754270393317,
          -0.2149342584479373,
          -0.06703890319057035,
          0.355262197350419,
          -0.4613181548267008,
          -0.8533370162794723,
          -1.744887650467091,
          -0.7983995491067819,
          0.03200564722701361,
          1.2726655310355808,
          0.1599056042426869,
          0.756455417298015,
          0.5128717405086298,
          1.2974121723462697,
          0.8823627599399996,
          -0.567302174615601,
          0.0697729567365461
         ],
         "xaxis": "x6",
         "yaxis": "y6"
        },
        {
         "line": {
          "color": "rgba(128, 128, 128, 1.0)",
          "dash": "solid",
          "shape": "linear",
          "width": 1.3
         },
         "marker": {
          "size": 2,
          "symbol": "circle"
         },
         "mode": "markers",
         "name": "B",
         "text": "",
         "type": "scatter",
         "x": [
          0.22732938506030448,
          -0.5643669302842955,
          -1.313722011081908,
          1.0163970133207245,
          0.5229582751053584,
          0.595833021756602,
          0.11344979750684121,
          0.7747931294729858,
          -1.568519653457817,
          0.6187789381697351,
          -1.0383969049034958,
          -1.6875743505925955,
          0.6186950148297927,
          -0.04204938040299849,
          0.09662339062791474,
          -0.1568688808670259,
          0.346524119463329,
          -1.429493553357895,
          -0.7466904358430473,
          -1.0180672553465524,
          0.7008780191227159,
          0.30696332826553274,
          -0.31143775218437814,
          1.825488504701764,
          0.35516864391917474,
          -0.38946556987045367,
          -0.6392573005794727,
          -1.091679868647396,
          -1.0446751563544818,
          0.4325562578560166,
          1.3018270911586034,
          1.112556888348836,
          -0.7731044626717067,
          -0.614744560394022,
          -0.8695130832810692,
          0.7871129659713763,
          1.452485209986683,
          -0.562010754629272,
          0.6573493790409521,
          1.815247685635861,
          -0.326140134461283,
          2.2714807032998694,
          0.38365460401999896,
          1.020130050934682,
          0.697603120171272,
          0.5795947310854617,
          -0.08591242375449441,
          -1.057789044213953,
          -0.1114765716237359,
          0.777809823132227,
          0.7685945504497308,
          -0.030538124608908396,
          -0.018533530874105784,
          -0.5692750110003424,
          2.5255605365251323,
          -0.8212829782259444,
          0.3321730707361428,
          0.5333999185030921,
          -0.08706769349988827,
          -1.0485261616848858,
          0.30040476151573203,
          -0.9458791527522263,
          2.489871585940211,
          -1.8713242575511513,
          -0.1616233238488484,
          -0.17112135867959025,
          0.09838102764715186,
          0.10023229886659617,
          2.762206064299176,
          -0.9417919800836461,
          -1.1413166219516113,
          -0.4664334734813527,
          0.004734173816949858,
          0.27625032417049566,
          -1.612359086650145,
          0.4080191930426905,
          -0.9092042775507635,
          -0.2035328180827829,
          -0.8644537681515296,
          -0.711102715034272,
          -1.610044441107284,
          -0.8342944210699971,
          1.2713088416439782,
          0.434400974815181,
          0.8443958621352657,
          -0.16525839864417344,
          1.5080985276725194,
          0.3470001222237344,
          -1.2288651037203575,
          0.293108662128752,
          -0.3305845512896531,
          -1.780722721415806,
          -1.2311573483105316,
          -1.1466498341572549,
          -0.16712154575823085,
          -1.0748903216037546,
          -0.399294360798341,
          0.29726369047821,
          0.5637649065705606,
          -1.6124846290428798
         ],
         "xaxis": "x7",
         "y": [
          0.020446733117837387,
          -0.13142655753710328,
          2.1552942366317467,
          -0.7368030167193271,
          -0.15647700590177263,
          0.6227231939705729,
          -1.6691369374293619,
          -1.2303447427755323,
          0.643022860548499,
          0.021586526736260724,
          -1.7169237831599646,
          0.22218243580981564,
          0.36584301376601014,
          0.026480636897801314,
          -0.43463437249302705,
          0.6051183133216308,
          -0.04743338759975797,
          -1.0437386290390713,
          0.7634534487337309,
          1.8374145183566533,
          -0.06536138852479652,
          0.7189252425600876,
          1.618990179663656,
          -0.1292282991611609,
          1.1273662797944604,
          0.6190874181543614,
          0.06368225620831357,
          0.46551790697162204,
          1.209953364299594,
          -2.369297044199571,
          0.8474003322921112,
          -0.940570263581015,
          -1.733441623719393,
          0.026841257964993363,
          -1.16890351164535,
          2.444181611176374,
          0.32751014394035766,
          -0.7403796216695913,
          0.974192465330595,
          -1.3419718295456629,
          0.06753401710505501,
          0.3995579413779053,
          1.4715788524730944,
          1.3058590299377058,
          0.47396800523908605,
          -0.8533959337453239,
          -0.04513824946522313,
          1.5989310069722822,
          0.8209975940625924,
          0.9130159745522907,
          0.631805379794073,
          0.6871572685821035,
          0.4045330817197545,
          1.2699208282991628,
          -0.6115479531451279,
          0.888004086618221,
          -0.16824686224817828,
          0.5678427897742637,
          -0.10410397427380996,
          -2.3038112907761277,
          0.41334310863275886,
          1.6928037846747235,
          0.392241308944528,
          -0.60184778036844,
          0.15205225924987986,
          1.6218704586678105,
          0.2201422071654261,
          -1.3786178164447496,
          -0.19056231682640878,
          -1.9889018202432063,
          -0.280718466698838,
          -1.771621395021947,
          1.155531507522197,
          -0.4552613825429717,
          -0.14485092590175166,
          -1.4283535464664365,
          -0.03840435986495959,
          -0.48667075998421944,
          -0.9941041935759036,
          -0.43719948750326876,
          1.2258685272598313,
          0.41068441181305554,
          0.7819145340879001,
          0.38400754270393317,
          -0.2149342584479373,
          -0.06703890319057035,
          0.355262197350419,
          -0.4613181548267008,
          -0.8533370162794723,
          -1.744887650467091,
          -0.7983995491067819,
          0.03200564722701361,
          1.2726655310355808,
          0.1599056042426869,
          0.756455417298015,
          0.5128717405086298,
          1.2974121723462697,
          0.8823627599399996,
          -0.567302174615601,
          0.0697729567365461
         ],
         "yaxis": "y7"
        },
        {
         "line": {
          "color": "rgba(128, 128, 128, 1.0)",
          "dash": "solid",
          "shape": "linear",
          "width": 1.3
         },
         "marker": {
          "size": 2,
          "symbol": "circle"
         },
         "mode": "markers",
         "name": "B",
         "text": "",
         "type": "scatter",
         "x": [
          0.11217771970799818,
          0.39477392305306097,
          -0.6359822678110904,
          -0.17596600208882143,
          1.0905878457835223,
          -0.21352131965121662,
          -0.016626607222570096,
          -1.1133666517931138,
          0.4525476031536588,
          -1.2510496534635616,
          2.918575284528553,
          0.12805362295907827,
          -0.16201779720114132,
          -1.6132198624318677,
          -0.35277979723911507,
          -1.1362752153118836,
          1.368161680526287,
          -1.0437923672559235,
          -0.7398038635483111,
          0.00459272667543897,
          0.875489098040318,
          -0.4893680617860016,
          0.4576602143537095,
          1.894714670073871,
          0.14983496682169892,
          1.4075540868517387,
          1.2033377322553152,
          2.1859911780898575,
          -0.45081763797717067,
          -0.2025028100014118,
          1.01149308161552,
          0.6964239541863181,
          0.7883417392529258,
          -0.007985737874252082,
          1.1458029482951884,
          -0.40235737437457925,
          -1.8355464509386143,
          1.2902283139453403,
          -0.3515926552114298,
          0.025628821213945503,
          0.9077766275682648,
          -2.0057443039000935,
          0.3837364593184679,
          1.7664451480034642,
          -0.800134531633424,
          0.48568720261757,
          0.49643773643784755,
          0.12317982550121122,
          0.3720751006775519,
          -0.37483094708892506,
          1.494865905332058,
          1.453972813605369,
          -1.1321177408728615,
          0.8321134858548878,
          -0.3789547830190396,
          0.8112663382216834,
          -2.1567893714755715,
          1.222028931609825,
          -1.1279953086462295,
          0.47202666348057615,
          -0.010321353996273118,
          -0.27291938273255617,
          -0.8669337703947283,
          -0.2030125878043635,
          -0.2909312007530726,
          0.8225310825414889,
          0.10905235941003295,
          0.44089934178858253,
          0.760699307521531,
          -0.40083305559310706,
          -2.4821152430767532,
          0.596903430626642,
          0.37683664931203636,
          1.3437503100681012,
          -1.2720862912169242,
          -0.3736302716050329,
          0.3093762055520044,
          0.7706661965543218,
          0.7635088052740517,
          -0.24992815278168945,
          0.08287011750932755,
          0.5357142688268939,
          -0.13432890079377094,
          -0.3530411912246393,
          -0.4773793846878311,
          -0.7343947951715286,
          0.6473540733438989,
          0.18341366164022121,
          0.5031180260567227,
          -0.16985512294781832,
          0.5287611207169758,
          1.5523393053212802,
          0.23336625645824333,
          0.012565043064252893,
          -0.8822423606821992,
          0.3716550653445206,
          0.8422688943004077,
          -1.6773495783230186,
          0.2421018678565944,
          -1.3883186278227082
         ],
         "xaxis": "x8",
         "y": [
          0.020446733117837387,
          -0.13142655753710328,
          2.1552942366317467,
          -0.7368030167193271,
          -0.15647700590177263,
          0.6227231939705729,
          -1.6691369374293619,
          -1.2303447427755323,
          0.643022860548499,
          0.021586526736260724,
          -1.7169237831599646,
          0.22218243580981564,
          0.36584301376601014,
          0.026480636897801314,
          -0.43463437249302705,
          0.6051183133216308,
          -0.04743338759975797,
          -1.0437386290390713,
          0.7634534487337309,
          1.8374145183566533,
          -0.06536138852479652,
          0.7189252425600876,
          1.618990179663656,
          -0.1292282991611609,
          1.1273662797944604,
          0.6190874181543614,
          0.06368225620831357,
          0.46551790697162204,
          1.209953364299594,
          -2.369297044199571,
          0.8474003322921112,
          -0.940570263581015,
          -1.733441623719393,
          0.026841257964993363,
          -1.16890351164535,
          2.444181611176374,
          0.32751014394035766,
          -0.7403796216695913,
          0.974192465330595,
          -1.3419718295456629,
          0.06753401710505501,
          0.3995579413779053,
          1.4715788524730944,
          1.3058590299377058,
          0.47396800523908605,
          -0.8533959337453239,
          -0.04513824946522313,
          1.5989310069722822,
          0.8209975940625924,
          0.9130159745522907,
          0.631805379794073,
          0.6871572685821035,
          0.4045330817197545,
          1.2699208282991628,
          -0.6115479531451279,
          0.888004086618221,
          -0.16824686224817828,
          0.5678427897742637,
          -0.10410397427380996,
          -2.3038112907761277,
          0.41334310863275886,
          1.6928037846747235,
          0.392241308944528,
          -0.60184778036844,
          0.15205225924987986,
          1.6218704586678105,
          0.2201422071654261,
          -1.3786178164447496,
          -0.19056231682640878,
          -1.9889018202432063,
          -0.280718466698838,
          -1.771621395021947,
          1.155531507522197,
          -0.4552613825429717,
          -0.14485092590175166,
          -1.4283535464664365,
          -0.03840435986495959,
          -0.48667075998421944,
          -0.9941041935759036,
          -0.43719948750326876,
          1.2258685272598313,
          0.41068441181305554,
          0.7819145340879001,
          0.38400754270393317,
          -0.2149342584479373,
          -0.06703890319057035,
          0.355262197350419,
          -0.4613181548267008,
          -0.8533370162794723,
          -1.744887650467091,
          -0.7983995491067819,
          0.03200564722701361,
          1.2726655310355808,
          0.1599056042426869,
          0.756455417298015,
          0.5128717405086298,
          1.2974121723462697,
          0.8823627599399996,
          -0.567302174615601,
          0.0697729567365461
         ],
         "yaxis": "y8"
        },
        {
         "line": {
          "color": "rgba(128, 128, 128, 1.0)",
          "dash": "solid",
          "shape": "linear",
          "width": 1.3
         },
         "marker": {
          "size": 2,
          "symbol": "circle"
         },
         "mode": "markers",
         "name": "C",
         "text": "",
         "type": "scatter",
         "x": [
          1.703030536865381,
          0.057715736526326965,
          1.806753252426194,
          -0.28507382165451167,
          0.8448103032083629,
          1.9356544563192983,
          0.25265645003993437,
          -0.7108407175975264,
          0.20407341105116586,
          -0.9631835128284022,
          -2.313929528277395,
          1.8504210053906285,
          0.11575887999256226,
          -1.6797795335634507,
          0.32101675906697663,
          -0.029421517263010833,
          0.916862588487737,
          0.5005943184489355,
          0.47748875080863645,
          -1.4445253371836875,
          -0.7490423417159519,
          0.8307497872518788,
          -1.2944740230747616,
          0.562061709877203,
          0.8221148785197783,
          -0.7523094282677261,
          -0.26373004757776175,
          0.5258232470067837,
          0.940979809508781,
          0.23178863608136288,
          -0.3999835749531784,
          -1.5877557479545665,
          1.3117797268833151,
          0.5277915175274164,
          0.055985875744130185,
          0.22757050286605102,
          -1.0518642709521109,
          -2.2809456910838524,
          -0.1304241624464754,
          -0.1908037005073423,
          0.24896485240145314,
          -0.04471771013045752,
          -0.9701184869344839,
          1.0990611188514359,
          0.12340353879664699,
          0.0753800392632158,
          -0.0662171730054763,
          -0.35308229736830216,
          -0.10945749618170171,
          -1.6329769246665042,
          -2.2167020173795096,
          0.2726812030775698,
          -0.1455257739888572,
          0.6511061330588763,
          -0.4401251895987155,
          -0.4561258898920153,
          0.09968968653804522,
          -0.6599742180242933,
          -1.530117369231545,
          -0.6996345378686805,
          1.4655432843735978,
          0.1440603081792614,
          -0.7928080218222593,
          0.9629631226294447,
          0.21702547598133207,
          -0.041302322471019656,
          0.6933637350395077,
          0.15085198288439183,
          -0.5110684458127188,
          0.7423426360891041,
          -0.2790365281483132,
          -0.21438293119597363,
          1.3897821201574414,
          -0.05515767789216785,
          -1.18290717597586,
          1.5145019130226023,
          0.08103465020839139,
          -1.376004787846036,
          1.365053587926242,
          0.18655028290427167,
          0.1568399485803906,
          0.2093824677298707,
          -0.03481088445587469,
          0.9900655976655112,
          0.47820191801570666,
          -1.3762517202742317,
          0.982440826684452,
          0.35343255249727457,
          -0.5787230512640728,
          0.4663012854591553,
          -1.0989913782473266,
          0.4573973997223406,
          -1.6674459041243,
          0.13256166644037015,
          -0.7662112574506679,
          -0.6030276098968368,
          2.324055715057974,
          0.519139017155852,
          1.5854011486856008,
          -0.8140182188847669
         ],
         "xaxis": "x9",
         "y": [
          0.22732938506030448,
          -0.5643669302842955,
          -1.313722011081908,
          1.0163970133207245,
          0.5229582751053584,
          0.595833021756602,
          0.11344979750684121,
          0.7747931294729858,
          -1.568519653457817,
          0.6187789381697351,
          -1.0383969049034958,
          -1.6875743505925955,
          0.6186950148297927,
          -0.04204938040299849,
          0.09662339062791474,
          -0.1568688808670259,
          0.346524119463329,
          -1.429493553357895,
          -0.7466904358430473,
          -1.0180672553465524,
          0.7008780191227159,
          0.30696332826553274,
          -0.31143775218437814,
          1.825488504701764,
          0.35516864391917474,
          -0.38946556987045367,
          -0.6392573005794727,
          -1.091679868647396,
          -1.0446751563544818,
          0.4325562578560166,
          1.3018270911586034,
          1.112556888348836,
          -0.7731044626717067,
          -0.614744560394022,
          -0.8695130832810692,
          0.7871129659713763,
          1.452485209986683,
          -0.562010754629272,
          0.6573493790409521,
          1.815247685635861,
          -0.326140134461283,
          2.2714807032998694,
          0.38365460401999896,
          1.020130050934682,
          0.697603120171272,
          0.5795947310854617,
          -0.08591242375449441,
          -1.057789044213953,
          -0.1114765716237359,
          0.777809823132227,
          0.7685945504497308,
          -0.030538124608908396,
          -0.018533530874105784,
          -0.5692750110003424,
          2.5255605365251323,
          -0.8212829782259444,
          0.3321730707361428,
          0.5333999185030921,
          -0.08706769349988827,
          -1.0485261616848858,
          0.30040476151573203,
          -0.9458791527522263,
          2.489871585940211,
          -1.8713242575511513,
          -0.1616233238488484,
          -0.17112135867959025,
          0.09838102764715186,
          0.10023229886659617,
          2.762206064299176,
          -0.9417919800836461,
          -1.1413166219516113,
          -0.4664334734813527,
          0.004734173816949858,
          0.27625032417049566,
          -1.612359086650145,
          0.4080191930426905,
          -0.9092042775507635,
          -0.2035328180827829,
          -0.8644537681515296,
          -0.711102715034272,
          -1.610044441107284,
          -0.8342944210699971,
          1.2713088416439782,
          0.434400974815181,
          0.8443958621352657,
          -0.16525839864417344,
          1.5080985276725194,
          0.3470001222237344,
          -1.2288651037203575,
          0.293108662128752,
          -0.3305845512896531,
          -1.780722721415806,
          -1.2311573483105316,
          -1.1466498341572549,
          -0.16712154575823085,
          -1.0748903216037546,
          -0.399294360798341,
          0.29726369047821,
          0.5637649065705606,
          -1.6124846290428798
         ],
         "yaxis": "y9"
        },
        {
         "line": {
          "color": "rgba(128, 128, 128, 1.0)",
          "dash": "solid",
          "shape": "linear",
          "width": 1.3
         },
         "marker": {
          "size": 2,
          "symbol": "circle"
         },
         "mode": "markers",
         "name": "C",
         "text": "",
         "type": "scatter",
         "x": [
          0.020446733117837387,
          -0.13142655753710328,
          2.1552942366317467,
          -0.7368030167193271,
          -0.15647700590177263,
          0.6227231939705729,
          -1.6691369374293619,
          -1.2303447427755323,
          0.643022860548499,
          0.021586526736260724,
          -1.7169237831599646,
          0.22218243580981564,
          0.36584301376601014,
          0.026480636897801314,
          -0.43463437249302705,
          0.6051183133216308,
          -0.04743338759975797,
          -1.0437386290390713,
          0.7634534487337309,
          1.8374145183566533,
          -0.06536138852479652,
          0.7189252425600876,
          1.618990179663656,
          -0.1292282991611609,
          1.1273662797944604,
          0.6190874181543614,
          0.06368225620831357,
          0.46551790697162204,
          1.209953364299594,
          -2.369297044199571,
          0.8474003322921112,
          -0.940570263581015,
          -1.733441623719393,
          0.026841257964993363,
          -1.16890351164535,
          2.444181611176374,
          0.32751014394035766,
          -0.7403796216695913,
          0.974192465330595,
          -1.3419718295456629,
          0.06753401710505501,
          0.3995579413779053,
          1.4715788524730944,
          1.3058590299377058,
          0.47396800523908605,
          -0.8533959337453239,
          -0.04513824946522313,
          1.5989310069722822,
          0.8209975940625924,
          0.9130159745522907,
          0.631805379794073,
          0.6871572685821035,
          0.4045330817197545,
          1.2699208282991628,
          -0.6115479531451279,
          0.888004086618221,
          -0.16824686224817828,
          0.5678427897742637,
          -0.10410397427380996,
          -2.3038112907761277,
          0.41334310863275886,
          1.6928037846747235,
          0.392241308944528,
          -0.60184778036844,
          0.15205225924987986,
          1.6218704586678105,
          0.2201422071654261,
          -1.3786178164447496,
          -0.19056231682640878,
          -1.9889018202432063,
          -0.280718466698838,
          -1.771621395021947,
          1.155531507522197,
          -0.4552613825429717,
          -0.14485092590175166,
          -1.4283535464664365,
          -0.03840435986495959,
          -0.48667075998421944,
          -0.9941041935759036,
          -0.43719948750326876,
          1.2258685272598313,
          0.41068441181305554,
          0.7819145340879001,
          0.38400754270393317,
          -0.2149342584479373,
          -0.06703890319057035,
          0.355262197350419,
          -0.4613181548267008,
          -0.8533370162794723,
          -1.744887650467091,
          -0.7983995491067819,
          0.03200564722701361,
          1.2726655310355808,
          0.1599056042426869,
          0.756455417298015,
          0.5128717405086298,
          1.2974121723462697,
          0.8823627599399996,
          -0.567302174615601,
          0.0697729567365461
         ],
         "xaxis": "x10",
         "y": [
          0.22732938506030448,
          -0.5643669302842955,
          -1.313722011081908,
          1.0163970133207245,
          0.5229582751053584,
          0.595833021756602,
          0.11344979750684121,
          0.7747931294729858,
          -1.568519653457817,
          0.6187789381697351,
          -1.0383969049034958,
          -1.6875743505925955,
          0.6186950148297927,
          -0.04204938040299849,
          0.09662339062791474,
          -0.1568688808670259,
          0.346524119463329,
          -1.429493553357895,
          -0.7466904358430473,
          -1.0180672553465524,
          0.7008780191227159,
          0.30696332826553274,
          -0.31143775218437814,
          1.825488504701764,
          0.35516864391917474,
          -0.38946556987045367,
          -0.6392573005794727,
          -1.091679868647396,
          -1.0446751563544818,
          0.4325562578560166,
          1.3018270911586034,
          1.112556888348836,
          -0.7731044626717067,
          -0.614744560394022,
          -0.8695130832810692,
          0.7871129659713763,
          1.452485209986683,
          -0.562010754629272,
          0.6573493790409521,
          1.815247685635861,
          -0.326140134461283,
          2.2714807032998694,
          0.38365460401999896,
          1.020130050934682,
          0.697603120171272,
          0.5795947310854617,
          -0.08591242375449441,
          -1.057789044213953,
          -0.1114765716237359,
          0.777809823132227,
          0.7685945504497308,
          -0.030538124608908396,
          -0.018533530874105784,
          -0.5692750110003424,
          2.5255605365251323,
          -0.8212829782259444,
          0.3321730707361428,
          0.5333999185030921,
          -0.08706769349988827,
          -1.0485261616848858,
          0.30040476151573203,
          -0.9458791527522263,
          2.489871585940211,
          -1.8713242575511513,
          -0.1616233238488484,
          -0.17112135867959025,
          0.09838102764715186,
          0.10023229886659617,
          2.762206064299176,
          -0.9417919800836461,
          -1.1413166219516113,
          -0.4664334734813527,
          0.004734173816949858,
          0.27625032417049566,
          -1.612359086650145,
          0.4080191930426905,
          -0.9092042775507635,
          -0.2035328180827829,
          -0.8644537681515296,
          -0.711102715034272,
          -1.610044441107284,
          -0.8342944210699971,
          1.2713088416439782,
          0.434400974815181,
          0.8443958621352657,
          -0.16525839864417344,
          1.5080985276725194,
          0.3470001222237344,
          -1.2288651037203575,
          0.293108662128752,
          -0.3305845512896531,
          -1.780722721415806,
          -1.2311573483105316,
          -1.1466498341572549,
          -0.16712154575823085,
          -1.0748903216037546,
          -0.399294360798341,
          0.29726369047821,
          0.5637649065705606,
          -1.6124846290428798
         ],
         "yaxis": "y10"
        },
        {
         "histfunc": "count",
         "histnorm": "",
         "marker": {
          "color": "rgba(50, 171, 96, 1.0)",
          "line": {
           "color": "#4D5663",
           "width": 1.3
          }
         },
         "name": "C",
         "nbinsx": 10,
         "opacity": 0.8,
         "orientation": "v",
         "type": "histogram",
         "x": [
          0.22732938506030448,
          -0.5643669302842955,
          -1.313722011081908,
          1.0163970133207245,
          0.5229582751053584,
          0.595833021756602,
          0.11344979750684121,
          0.7747931294729858,
          -1.568519653457817,
          0.6187789381697351,
          -1.0383969049034958,
          -1.6875743505925955,
          0.6186950148297927,
          -0.04204938040299849,
          0.09662339062791474,
          -0.1568688808670259,
          0.346524119463329,
          -1.429493553357895,
          -0.7466904358430473,
          -1.0180672553465524,
          0.7008780191227159,
          0.30696332826553274,
          -0.31143775218437814,
          1.825488504701764,
          0.35516864391917474,
          -0.38946556987045367,
          -0.6392573005794727,
          -1.091679868647396,
          -1.0446751563544818,
          0.4325562578560166,
          1.3018270911586034,
          1.112556888348836,
          -0.7731044626717067,
          -0.614744560394022,
          -0.8695130832810692,
          0.7871129659713763,
          1.452485209986683,
          -0.562010754629272,
          0.6573493790409521,
          1.815247685635861,
          -0.326140134461283,
          2.2714807032998694,
          0.38365460401999896,
          1.020130050934682,
          0.697603120171272,
          0.5795947310854617,
          -0.08591242375449441,
          -1.057789044213953,
          -0.1114765716237359,
          0.777809823132227,
          0.7685945504497308,
          -0.030538124608908396,
          -0.018533530874105784,
          -0.5692750110003424,
          2.5255605365251323,
          -0.8212829782259444,
          0.3321730707361428,
          0.5333999185030921,
          -0.08706769349988827,
          -1.0485261616848858,
          0.30040476151573203,
          -0.9458791527522263,
          2.489871585940211,
          -1.8713242575511513,
          -0.1616233238488484,
          -0.17112135867959025,
          0.09838102764715186,
          0.10023229886659617,
          2.762206064299176,
          -0.9417919800836461,
          -1.1413166219516113,
          -0.4664334734813527,
          0.004734173816949858,
          0.27625032417049566,
          -1.612359086650145,
          0.4080191930426905,
          -0.9092042775507635,
          -0.2035328180827829,
          -0.8644537681515296,
          -0.711102715034272,
          -1.610044441107284,
          -0.8342944210699971,
          1.2713088416439782,
          0.434400974815181,
          0.8443958621352657,
          -0.16525839864417344,
          1.5080985276725194,
          0.3470001222237344,
          -1.2288651037203575,
          0.293108662128752,
          -0.3305845512896531,
          -1.780722721415806,
          -1.2311573483105316,
          -1.1466498341572549,
          -0.16712154575823085,
          -1.0748903216037546,
          -0.399294360798341,
          0.29726369047821,
          0.5637649065705606,
          -1.6124846290428798
         ],
         "xaxis": "x11",
         "yaxis": "y11"
        },
        {
         "line": {
          "color": "rgba(128, 128, 128, 1.0)",
          "dash": "solid",
          "shape": "linear",
          "width": 1.3
         },
         "marker": {
          "size": 2,
          "symbol": "circle"
         },
         "mode": "markers",
         "name": "C",
         "text": "",
         "type": "scatter",
         "x": [
          0.11217771970799818,
          0.39477392305306097,
          -0.6359822678110904,
          -0.17596600208882143,
          1.0905878457835223,
          -0.21352131965121662,
          -0.016626607222570096,
          -1.1133666517931138,
          0.4525476031536588,
          -1.2510496534635616,
          2.918575284528553,
          0.12805362295907827,
          -0.16201779720114132,
          -1.6132198624318677,
          -0.35277979723911507,
          -1.1362752153118836,
          1.368161680526287,
          -1.0437923672559235,
          -0.7398038635483111,
          0.00459272667543897,
          0.875489098040318,
          -0.4893680617860016,
          0.4576602143537095,
          1.894714670073871,
          0.14983496682169892,
          1.4075540868517387,
          1.2033377322553152,
          2.1859911780898575,
          -0.45081763797717067,
          -0.2025028100014118,
          1.01149308161552,
          0.6964239541863181,
          0.7883417392529258,
          -0.007985737874252082,
          1.1458029482951884,
          -0.40235737437457925,
          -1.8355464509386143,
          1.2902283139453403,
          -0.3515926552114298,
          0.025628821213945503,
          0.9077766275682648,
          -2.0057443039000935,
          0.3837364593184679,
          1.7664451480034642,
          -0.800134531633424,
          0.48568720261757,
          0.49643773643784755,
          0.12317982550121122,
          0.3720751006775519,
          -0.37483094708892506,
          1.494865905332058,
          1.453972813605369,
          -1.1321177408728615,
          0.8321134858548878,
          -0.3789547830190396,
          0.8112663382216834,
          -2.1567893714755715,
          1.222028931609825,
          -1.1279953086462295,
          0.47202666348057615,
          -0.010321353996273118,
          -0.27291938273255617,
          -0.8669337703947283,
          -0.2030125878043635,
          -0.2909312007530726,
          0.8225310825414889,
          0.10905235941003295,
          0.44089934178858253,
          0.760699307521531,
          -0.40083305559310706,
          -2.4821152430767532,
          0.596903430626642,
          0.37683664931203636,
          1.3437503100681012,
          -1.2720862912169242,
          -0.3736302716050329,
          0.3093762055520044,
          0.7706661965543218,
          0.7635088052740517,
          -0.24992815278168945,
          0.08287011750932755,
          0.5357142688268939,
          -0.13432890079377094,
          -0.3530411912246393,
          -0.4773793846878311,
          -0.7343947951715286,
          0.6473540733438989,
          0.18341366164022121,
          0.5031180260567227,
          -0.16985512294781832,
          0.5287611207169758,
          1.5523393053212802,
          0.23336625645824333,
          0.012565043064252893,
          -0.8822423606821992,
          0.3716550653445206,
          0.8422688943004077,
          -1.6773495783230186,
          0.2421018678565944,
          -1.3883186278227082
         ],
         "xaxis": "x12",
         "y": [
          0.22732938506030448,
          -0.5643669302842955,
          -1.313722011081908,
          1.0163970133207245,
          0.5229582751053584,
          0.595833021756602,
          0.11344979750684121,
          0.7747931294729858,
          -1.568519653457817,
          0.6187789381697351,
          -1.0383969049034958,
          -1.6875743505925955,
          0.6186950148297927,
          -0.04204938040299849,
          0.09662339062791474,
          -0.1568688808670259,
          0.346524119463329,
          -1.429493553357895,
          -0.7466904358430473,
          -1.0180672553465524,
          0.7008780191227159,
          0.30696332826553274,
          -0.31143775218437814,
          1.825488504701764,
          0.35516864391917474,
          -0.38946556987045367,
          -0.6392573005794727,
          -1.091679868647396,
          -1.0446751563544818,
          0.4325562578560166,
          1.3018270911586034,
          1.112556888348836,
          -0.7731044626717067,
          -0.614744560394022,
          -0.8695130832810692,
          0.7871129659713763,
          1.452485209986683,
          -0.562010754629272,
          0.6573493790409521,
          1.815247685635861,
          -0.326140134461283,
          2.2714807032998694,
          0.38365460401999896,
          1.020130050934682,
          0.697603120171272,
          0.5795947310854617,
          -0.08591242375449441,
          -1.057789044213953,
          -0.1114765716237359,
          0.777809823132227,
          0.7685945504497308,
          -0.030538124608908396,
          -0.018533530874105784,
          -0.5692750110003424,
          2.5255605365251323,
          -0.8212829782259444,
          0.3321730707361428,
          0.5333999185030921,
          -0.08706769349988827,
          -1.0485261616848858,
          0.30040476151573203,
          -0.9458791527522263,
          2.489871585940211,
          -1.8713242575511513,
          -0.1616233238488484,
          -0.17112135867959025,
          0.09838102764715186,
          0.10023229886659617,
          2.762206064299176,
          -0.9417919800836461,
          -1.1413166219516113,
          -0.4664334734813527,
          0.004734173816949858,
          0.27625032417049566,
          -1.612359086650145,
          0.4080191930426905,
          -0.9092042775507635,
          -0.2035328180827829,
          -0.8644537681515296,
          -0.711102715034272,
          -1.610044441107284,
          -0.8342944210699971,
          1.2713088416439782,
          0.434400974815181,
          0.8443958621352657,
          -0.16525839864417344,
          1.5080985276725194,
          0.3470001222237344,
          -1.2288651037203575,
          0.293108662128752,
          -0.3305845512896531,
          -1.780722721415806,
          -1.2311573483105316,
          -1.1466498341572549,
          -0.16712154575823085,
          -1.0748903216037546,
          -0.399294360798341,
          0.29726369047821,
          0.5637649065705606,
          -1.6124846290428798
         ],
         "yaxis": "y12"
        },
        {
         "line": {
          "color": "rgba(128, 128, 128, 1.0)",
          "dash": "solid",
          "shape": "linear",
          "width": 1.3
         },
         "marker": {
          "size": 2,
          "symbol": "circle"
         },
         "mode": "markers",
         "name": "D",
         "text": "",
         "type": "scatter",
         "x": [
          1.703030536865381,
          0.057715736526326965,
          1.806753252426194,
          -0.28507382165451167,
          0.8448103032083629,
          1.9356544563192983,
          0.25265645003993437,
          -0.7108407175975264,
          0.20407341105116586,
          -0.9631835128284022,
          -2.313929528277395,
          1.8504210053906285,
          0.11575887999256226,
          -1.6797795335634507,
          0.32101675906697663,
          -0.029421517263010833,
          0.916862588487737,
          0.5005943184489355,
          0.47748875080863645,
          -1.4445253371836875,
          -0.7490423417159519,
          0.8307497872518788,
          -1.2944740230747616,
          0.562061709877203,
          0.8221148785197783,
          -0.7523094282677261,
          -0.26373004757776175,
          0.5258232470067837,
          0.940979809508781,
          0.23178863608136288,
          -0.3999835749531784,
          -1.5877557479545665,
          1.3117797268833151,
          0.5277915175274164,
          0.055985875744130185,
          0.22757050286605102,
          -1.0518642709521109,
          -2.2809456910838524,
          -0.1304241624464754,
          -0.1908037005073423,
          0.24896485240145314,
          -0.04471771013045752,
          -0.9701184869344839,
          1.0990611188514359,
          0.12340353879664699,
          0.0753800392632158,
          -0.0662171730054763,
          -0.35308229736830216,
          -0.10945749618170171,
          -1.6329769246665042,
          -2.2167020173795096,
          0.2726812030775698,
          -0.1455257739888572,
          0.6511061330588763,
          -0.4401251895987155,
          -0.4561258898920153,
          0.09968968653804522,
          -0.6599742180242933,
          -1.530117369231545,
          -0.6996345378686805,
          1.4655432843735978,
          0.1440603081792614,
          -0.7928080218222593,
          0.9629631226294447,
          0.21702547598133207,
          -0.041302322471019656,
          0.6933637350395077,
          0.15085198288439183,
          -0.5110684458127188,
          0.7423426360891041,
          -0.2790365281483132,
          -0.21438293119597363,
          1.3897821201574414,
          -0.05515767789216785,
          -1.18290717597586,
          1.5145019130226023,
          0.08103465020839139,
          -1.376004787846036,
          1.365053587926242,
          0.18655028290427167,
          0.1568399485803906,
          0.2093824677298707,
          -0.03481088445587469,
          0.9900655976655112,
          0.47820191801570666,
          -1.3762517202742317,
          0.982440826684452,
          0.35343255249727457,
          -0.5787230512640728,
          0.4663012854591553,
          -1.0989913782473266,
          0.4573973997223406,
          -1.6674459041243,
          0.13256166644037015,
          -0.7662112574506679,
          -0.6030276098968368,
          2.324055715057974,
          0.519139017155852,
          1.5854011486856008,
          -0.8140182188847669
         ],
         "xaxis": "x13",
         "y": [
          0.11217771970799818,
          0.39477392305306097,
          -0.6359822678110904,
          -0.17596600208882143,
          1.0905878457835223,
          -0.21352131965121662,
          -0.016626607222570096,
          -1.1133666517931138,
          0.4525476031536588,
          -1.2510496534635616,
          2.918575284528553,
          0.12805362295907827,
          -0.16201779720114132,
          -1.6132198624318677,
          -0.35277979723911507,
          -1.1362752153118836,
          1.368161680526287,
          -1.0437923672559235,
          -0.7398038635483111,
          0.00459272667543897,
          0.875489098040318,
          -0.4893680617860016,
          0.4576602143537095,
          1.894714670073871,
          0.14983496682169892,
          1.4075540868517387,
          1.2033377322553152,
          2.1859911780898575,
          -0.45081763797717067,
          -0.2025028100014118,
          1.01149308161552,
          0.6964239541863181,
          0.7883417392529258,
          -0.007985737874252082,
          1.1458029482951884,
          -0.40235737437457925,
          -1.8355464509386143,
          1.2902283139453403,
          -0.3515926552114298,
          0.025628821213945503,
          0.9077766275682648,
          -2.0057443039000935,
          0.3837364593184679,
          1.7664451480034642,
          -0.800134531633424,
          0.48568720261757,
          0.49643773643784755,
          0.12317982550121122,
          0.3720751006775519,
          -0.37483094708892506,
          1.494865905332058,
          1.453972813605369,
          -1.1321177408728615,
          0.8321134858548878,
          -0.3789547830190396,
          0.8112663382216834,
          -2.1567893714755715,
          1.222028931609825,
          -1.1279953086462295,
          0.47202666348057615,
          -0.010321353996273118,
          -0.27291938273255617,
          -0.8669337703947283,
          -0.2030125878043635,
          -0.2909312007530726,
          0.8225310825414889,
          0.10905235941003295,
          0.44089934178858253,
          0.760699307521531,
          -0.40083305559310706,
          -2.4821152430767532,
          0.596903430626642,
          0.37683664931203636,
          1.3437503100681012,
          -1.2720862912169242,
          -0.3736302716050329,
          0.3093762055520044,
          0.7706661965543218,
          0.7635088052740517,
          -0.24992815278168945,
          0.08287011750932755,
          0.5357142688268939,
          -0.13432890079377094,
          -0.3530411912246393,
          -0.4773793846878311,
          -0.7343947951715286,
          0.6473540733438989,
          0.18341366164022121,
          0.5031180260567227,
          -0.16985512294781832,
          0.5287611207169758,
          1.5523393053212802,
          0.23336625645824333,
          0.012565043064252893,
          -0.8822423606821992,
          0.3716550653445206,
          0.8422688943004077,
          -1.6773495783230186,
          0.2421018678565944,
          -1.3883186278227082
         ],
         "yaxis": "y13"
        },
        {
         "line": {
          "color": "rgba(128, 128, 128, 1.0)",
          "dash": "solid",
          "shape": "linear",
          "width": 1.3
         },
         "marker": {
          "size": 2,
          "symbol": "circle"
         },
         "mode": "markers",
         "name": "D",
         "text": "",
         "type": "scatter",
         "x": [
          0.020446733117837387,
          -0.13142655753710328,
          2.1552942366317467,
          -0.7368030167193271,
          -0.15647700590177263,
          0.6227231939705729,
          -1.6691369374293619,
          -1.2303447427755323,
          0.643022860548499,
          0.021586526736260724,
          -1.7169237831599646,
          0.22218243580981564,
          0.36584301376601014,
          0.026480636897801314,
          -0.43463437249302705,
          0.6051183133216308,
          -0.04743338759975797,
          -1.0437386290390713,
          0.7634534487337309,
          1.8374145183566533,
          -0.06536138852479652,
          0.7189252425600876,
          1.618990179663656,
          -0.1292282991611609,
          1.1273662797944604,
          0.6190874181543614,
          0.06368225620831357,
          0.46551790697162204,
          1.209953364299594,
          -2.369297044199571,
          0.8474003322921112,
          -0.940570263581015,
          -1.733441623719393,
          0.026841257964993363,
          -1.16890351164535,
          2.444181611176374,
          0.32751014394035766,
          -0.7403796216695913,
          0.974192465330595,
          -1.3419718295456629,
          0.06753401710505501,
          0.3995579413779053,
          1.4715788524730944,
          1.3058590299377058,
          0.47396800523908605,
          -0.8533959337453239,
          -0.04513824946522313,
          1.5989310069722822,
          0.8209975940625924,
          0.9130159745522907,
          0.631805379794073,
          0.6871572685821035,
          0.4045330817197545,
          1.2699208282991628,
          -0.6115479531451279,
          0.888004086618221,
          -0.16824686224817828,
          0.5678427897742637,
          -0.10410397427380996,
          -2.3038112907761277,
          0.41334310863275886,
          1.6928037846747235,
          0.392241308944528,
          -0.60184778036844,
          0.15205225924987986,
          1.6218704586678105,
          0.2201422071654261,
          -1.3786178164447496,
          -0.19056231682640878,
          -1.9889018202432063,
          -0.280718466698838,
          -1.771621395021947,
          1.155531507522197,
          -0.4552613825429717,
          -0.14485092590175166,
          -1.4283535464664365,
          -0.03840435986495959,
          -0.48667075998421944,
          -0.9941041935759036,
          -0.43719948750326876,
          1.2258685272598313,
          0.41068441181305554,
          0.7819145340879001,
          0.38400754270393317,
          -0.2149342584479373,
          -0.06703890319057035,
          0.355262197350419,
          -0.4613181548267008,
          -0.8533370162794723,
          -1.744887650467091,
          -0.7983995491067819,
          0.03200564722701361,
          1.2726655310355808,
          0.1599056042426869,
          0.756455417298015,
          0.5128717405086298,
          1.2974121723462697,
          0.8823627599399996,
          -0.567302174615601,
          0.0697729567365461
         ],
         "xaxis": "x14",
         "y": [
          0.11217771970799818,
          0.39477392305306097,
          -0.6359822678110904,
          -0.17596600208882143,
          1.0905878457835223,
          -0.21352131965121662,
          -0.016626607222570096,
          -1.1133666517931138,
          0.4525476031536588,
          -1.2510496534635616,
          2.918575284528553,
          0.12805362295907827,
          -0.16201779720114132,
          -1.6132198624318677,
          -0.35277979723911507,
          -1.1362752153118836,
          1.368161680526287,
          -1.0437923672559235,
          -0.7398038635483111,
          0.00459272667543897,
          0.875489098040318,
          -0.4893680617860016,
          0.4576602143537095,
          1.894714670073871,
          0.14983496682169892,
          1.4075540868517387,
          1.2033377322553152,
          2.1859911780898575,
          -0.45081763797717067,
          -0.2025028100014118,
          1.01149308161552,
          0.6964239541863181,
          0.7883417392529258,
          -0.007985737874252082,
          1.1458029482951884,
          -0.40235737437457925,
          -1.8355464509386143,
          1.2902283139453403,
          -0.3515926552114298,
          0.025628821213945503,
          0.9077766275682648,
          -2.0057443039000935,
          0.3837364593184679,
          1.7664451480034642,
          -0.800134531633424,
          0.48568720261757,
          0.49643773643784755,
          0.12317982550121122,
          0.3720751006775519,
          -0.37483094708892506,
          1.494865905332058,
          1.453972813605369,
          -1.1321177408728615,
          0.8321134858548878,
          -0.3789547830190396,
          0.8112663382216834,
          -2.1567893714755715,
          1.222028931609825,
          -1.1279953086462295,
          0.47202666348057615,
          -0.010321353996273118,
          -0.27291938273255617,
          -0.8669337703947283,
          -0.2030125878043635,
          -0.2909312007530726,
          0.8225310825414889,
          0.10905235941003295,
          0.44089934178858253,
          0.760699307521531,
          -0.40083305559310706,
          -2.4821152430767532,
          0.596903430626642,
          0.37683664931203636,
          1.3437503100681012,
          -1.2720862912169242,
          -0.3736302716050329,
          0.3093762055520044,
          0.7706661965543218,
          0.7635088052740517,
          -0.24992815278168945,
          0.08287011750932755,
          0.5357142688268939,
          -0.13432890079377094,
          -0.3530411912246393,
          -0.4773793846878311,
          -0.7343947951715286,
          0.6473540733438989,
          0.18341366164022121,
          0.5031180260567227,
          -0.16985512294781832,
          0.5287611207169758,
          1.5523393053212802,
          0.23336625645824333,
          0.012565043064252893,
          -0.8822423606821992,
          0.3716550653445206,
          0.8422688943004077,
          -1.6773495783230186,
          0.2421018678565944,
          -1.3883186278227082
         ],
         "yaxis": "y14"
        },
        {
         "line": {
          "color": "rgba(128, 128, 128, 1.0)",
          "dash": "solid",
          "shape": "linear",
          "width": 1.3
         },
         "marker": {
          "size": 2,
          "symbol": "circle"
         },
         "mode": "markers",
         "name": "D",
         "text": "",
         "type": "scatter",
         "x": [
          0.22732938506030448,
          -0.5643669302842955,
          -1.313722011081908,
          1.0163970133207245,
          0.5229582751053584,
          0.595833021756602,
          0.11344979750684121,
          0.7747931294729858,
          -1.568519653457817,
          0.6187789381697351,
          -1.0383969049034958,
          -1.6875743505925955,
          0.6186950148297927,
          -0.04204938040299849,
          0.09662339062791474,
          -0.1568688808670259,
          0.346524119463329,
          -1.429493553357895,
          -0.7466904358430473,
          -1.0180672553465524,
          0.7008780191227159,
          0.30696332826553274,
          -0.31143775218437814,
          1.825488504701764,
          0.35516864391917474,
          -0.38946556987045367,
          -0.6392573005794727,
          -1.091679868647396,
          -1.0446751563544818,
          0.4325562578560166,
          1.3018270911586034,
          1.112556888348836,
          -0.7731044626717067,
          -0.614744560394022,
          -0.8695130832810692,
          0.7871129659713763,
          1.452485209986683,
          -0.562010754629272,
          0.6573493790409521,
          1.815247685635861,
          -0.326140134461283,
          2.2714807032998694,
          0.38365460401999896,
          1.020130050934682,
          0.697603120171272,
          0.5795947310854617,
          -0.08591242375449441,
          -1.057789044213953,
          -0.1114765716237359,
          0.777809823132227,
          0.7685945504497308,
          -0.030538124608908396,
          -0.018533530874105784,
          -0.5692750110003424,
          2.5255605365251323,
          -0.8212829782259444,
          0.3321730707361428,
          0.5333999185030921,
          -0.08706769349988827,
          -1.0485261616848858,
          0.30040476151573203,
          -0.9458791527522263,
          2.489871585940211,
          -1.8713242575511513,
          -0.1616233238488484,
          -0.17112135867959025,
          0.09838102764715186,
          0.10023229886659617,
          2.762206064299176,
          -0.9417919800836461,
          -1.1413166219516113,
          -0.4664334734813527,
          0.004734173816949858,
          0.27625032417049566,
          -1.612359086650145,
          0.4080191930426905,
          -0.9092042775507635,
          -0.2035328180827829,
          -0.8644537681515296,
          -0.711102715034272,
          -1.610044441107284,
          -0.8342944210699971,
          1.2713088416439782,
          0.434400974815181,
          0.8443958621352657,
          -0.16525839864417344,
          1.5080985276725194,
          0.3470001222237344,
          -1.2288651037203575,
          0.293108662128752,
          -0.3305845512896531,
          -1.780722721415806,
          -1.2311573483105316,
          -1.1466498341572549,
          -0.16712154575823085,
          -1.0748903216037546,
          -0.399294360798341,
          0.29726369047821,
          0.5637649065705606,
          -1.6124846290428798
         ],
         "xaxis": "x15",
         "y": [
          0.11217771970799818,
          0.39477392305306097,
          -0.6359822678110904,
          -0.17596600208882143,
          1.0905878457835223,
          -0.21352131965121662,
          -0.016626607222570096,
          -1.1133666517931138,
          0.4525476031536588,
          -1.2510496534635616,
          2.918575284528553,
          0.12805362295907827,
          -0.16201779720114132,
          -1.6132198624318677,
          -0.35277979723911507,
          -1.1362752153118836,
          1.368161680526287,
          -1.0437923672559235,
          -0.7398038635483111,
          0.00459272667543897,
          0.875489098040318,
          -0.4893680617860016,
          0.4576602143537095,
          1.894714670073871,
          0.14983496682169892,
          1.4075540868517387,
          1.2033377322553152,
          2.1859911780898575,
          -0.45081763797717067,
          -0.2025028100014118,
          1.01149308161552,
          0.6964239541863181,
          0.7883417392529258,
          -0.007985737874252082,
          1.1458029482951884,
          -0.40235737437457925,
          -1.8355464509386143,
          1.2902283139453403,
          -0.3515926552114298,
          0.025628821213945503,
          0.9077766275682648,
          -2.0057443039000935,
          0.3837364593184679,
          1.7664451480034642,
          -0.800134531633424,
          0.48568720261757,
          0.49643773643784755,
          0.12317982550121122,
          0.3720751006775519,
          -0.37483094708892506,
          1.494865905332058,
          1.453972813605369,
          -1.1321177408728615,
          0.8321134858548878,
          -0.3789547830190396,
          0.8112663382216834,
          -2.1567893714755715,
          1.222028931609825,
          -1.1279953086462295,
          0.47202666348057615,
          -0.010321353996273118,
          -0.27291938273255617,
          -0.8669337703947283,
          -0.2030125878043635,
          -0.2909312007530726,
          0.8225310825414889,
          0.10905235941003295,
          0.44089934178858253,
          0.760699307521531,
          -0.40083305559310706,
          -2.4821152430767532,
          0.596903430626642,
          0.37683664931203636,
          1.3437503100681012,
          -1.2720862912169242,
          -0.3736302716050329,
          0.3093762055520044,
          0.7706661965543218,
          0.7635088052740517,
          -0.24992815278168945,
          0.08287011750932755,
          0.5357142688268939,
          -0.13432890079377094,
          -0.3530411912246393,
          -0.4773793846878311,
          -0.7343947951715286,
          0.6473540733438989,
          0.18341366164022121,
          0.5031180260567227,
          -0.16985512294781832,
          0.5287611207169758,
          1.5523393053212802,
          0.23336625645824333,
          0.012565043064252893,
          -0.8822423606821992,
          0.3716550653445206,
          0.8422688943004077,
          -1.6773495783230186,
          0.2421018678565944,
          -1.3883186278227082
         ],
         "yaxis": "y15"
        },
        {
         "histfunc": "count",
         "histnorm": "",
         "marker": {
          "color": "rgba(128, 0, 128, 1.0)",
          "line": {
           "color": "#4D5663",
           "width": 1.3
          }
         },
         "name": "D",
         "nbinsx": 10,
         "opacity": 0.8,
         "orientation": "v",
         "type": "histogram",
         "x": [
          0.11217771970799818,
          0.39477392305306097,
          -0.6359822678110904,
          -0.17596600208882143,
          1.0905878457835223,
          -0.21352131965121662,
          -0.016626607222570096,
          -1.1133666517931138,
          0.4525476031536588,
          -1.2510496534635616,
          2.918575284528553,
          0.12805362295907827,
          -0.16201779720114132,
          -1.6132198624318677,
          -0.35277979723911507,
          -1.1362752153118836,
          1.368161680526287,
          -1.0437923672559235,
          -0.7398038635483111,
          0.00459272667543897,
          0.875489098040318,
          -0.4893680617860016,
          0.4576602143537095,
          1.894714670073871,
          0.14983496682169892,
          1.4075540868517387,
          1.2033377322553152,
          2.1859911780898575,
          -0.45081763797717067,
          -0.2025028100014118,
          1.01149308161552,
          0.6964239541863181,
          0.7883417392529258,
          -0.007985737874252082,
          1.1458029482951884,
          -0.40235737437457925,
          -1.8355464509386143,
          1.2902283139453403,
          -0.3515926552114298,
          0.025628821213945503,
          0.9077766275682648,
          -2.0057443039000935,
          0.3837364593184679,
          1.7664451480034642,
          -0.800134531633424,
          0.48568720261757,
          0.49643773643784755,
          0.12317982550121122,
          0.3720751006775519,
          -0.37483094708892506,
          1.494865905332058,
          1.453972813605369,
          -1.1321177408728615,
          0.8321134858548878,
          -0.3789547830190396,
          0.8112663382216834,
          -2.1567893714755715,
          1.222028931609825,
          -1.1279953086462295,
          0.47202666348057615,
          -0.010321353996273118,
          -0.27291938273255617,
          -0.8669337703947283,
          -0.2030125878043635,
          -0.2909312007530726,
          0.8225310825414889,
          0.10905235941003295,
          0.44089934178858253,
          0.760699307521531,
          -0.40083305559310706,
          -2.4821152430767532,
          0.596903430626642,
          0.37683664931203636,
          1.3437503100681012,
          -1.2720862912169242,
          -0.3736302716050329,
          0.3093762055520044,
          0.7706661965543218,
          0.7635088052740517,
          -0.24992815278168945,
          0.08287011750932755,
          0.5357142688268939,
          -0.13432890079377094,
          -0.3530411912246393,
          -0.4773793846878311,
          -0.7343947951715286,
          0.6473540733438989,
          0.18341366164022121,
          0.5031180260567227,
          -0.16985512294781832,
          0.5287611207169758,
          1.5523393053212802,
          0.23336625645824333,
          0.012565043064252893,
          -0.8822423606821992,
          0.3716550653445206,
          0.8422688943004077,
          -1.6773495783230186,
          0.2421018678565944,
          -1.3883186278227082
         ],
         "xaxis": "x16",
         "yaxis": "y16"
        }
       ],
       "layout": {
        "bargap": 0.02,
        "legend": {
         "bgcolor": "#F5F6F9",
         "font": {
          "color": "#4D5663"
         }
        },
        "paper_bgcolor": "#F5F6F9",
        "plot_bgcolor": "#F5F6F9",
        "showlegend": false,
        "template": {
         "data": {
          "bar": [
           {
            "error_x": {
             "color": "#2a3f5f"
            },
            "error_y": {
             "color": "#2a3f5f"
            },
            "marker": {
             "line": {
              "color": "#E5ECF6",
              "width": 0.5
             },
             "pattern": {
              "fillmode": "overlay",
              "size": 10,
              "solidity": 0.2
             }
            },
            "type": "bar"
           }
          ],
          "barpolar": [
           {
            "marker": {
             "line": {
              "color": "#E5ECF6",
              "width": 0.5
             },
             "pattern": {
              "fillmode": "overlay",
              "size": 10,
              "solidity": 0.2
             }
            },
            "type": "barpolar"
           }
          ],
          "carpet": [
           {
            "aaxis": {
             "endlinecolor": "#2a3f5f",
             "gridcolor": "white",
             "linecolor": "white",
             "minorgridcolor": "white",
             "startlinecolor": "#2a3f5f"
            },
            "baxis": {
             "endlinecolor": "#2a3f5f",
             "gridcolor": "white",
             "linecolor": "white",
             "minorgridcolor": "white",
             "startlinecolor": "#2a3f5f"
            },
            "type": "carpet"
           }
          ],
          "choropleth": [
           {
            "colorbar": {
             "outlinewidth": 0,
             "ticks": ""
            },
            "type": "choropleth"
           }
          ],
          "contour": [
           {
            "colorbar": {
             "outlinewidth": 0,
             "ticks": ""
            },
            "colorscale": [
             [
              0,
              "#0d0887"
             ],
             [
              0.1111111111111111,
              "#46039f"
             ],
             [
              0.2222222222222222,
              "#7201a8"
             ],
             [
              0.3333333333333333,
              "#9c179e"
             ],
             [
              0.4444444444444444,
              "#bd3786"
             ],
             [
              0.5555555555555556,
              "#d8576b"
             ],
             [
              0.6666666666666666,
              "#ed7953"
             ],
             [
              0.7777777777777778,
              "#fb9f3a"
             ],
             [
              0.8888888888888888,
              "#fdca26"
             ],
             [
              1,
              "#f0f921"
             ]
            ],
            "type": "contour"
           }
          ],
          "contourcarpet": [
           {
            "colorbar": {
             "outlinewidth": 0,
             "ticks": ""
            },
            "type": "contourcarpet"
           }
          ],
          "heatmap": [
           {
            "colorbar": {
             "outlinewidth": 0,
             "ticks": ""
            },
            "colorscale": [
             [
              0,
              "#0d0887"
             ],
             [
              0.1111111111111111,
              "#46039f"
             ],
             [
              0.2222222222222222,
              "#7201a8"
             ],
             [
              0.3333333333333333,
              "#9c179e"
             ],
             [
              0.4444444444444444,
              "#bd3786"
             ],
             [
              0.5555555555555556,
              "#d8576b"
             ],
             [
              0.6666666666666666,
              "#ed7953"
             ],
             [
              0.7777777777777778,
              "#fb9f3a"
             ],
             [
              0.8888888888888888,
              "#fdca26"
             ],
             [
              1,
              "#f0f921"
             ]
            ],
            "type": "heatmap"
           }
          ],
          "heatmapgl": [
           {
            "colorbar": {
             "outlinewidth": 0,
             "ticks": ""
            },
            "colorscale": [
             [
              0,
              "#0d0887"
             ],
             [
              0.1111111111111111,
              "#46039f"
             ],
             [
              0.2222222222222222,
              "#7201a8"
             ],
             [
              0.3333333333333333,
              "#9c179e"
             ],
             [
              0.4444444444444444,
              "#bd3786"
             ],
             [
              0.5555555555555556,
              "#d8576b"
             ],
             [
              0.6666666666666666,
              "#ed7953"
             ],
             [
              0.7777777777777778,
              "#fb9f3a"
             ],
             [
              0.8888888888888888,
              "#fdca26"
             ],
             [
              1,
              "#f0f921"
             ]
            ],
            "type": "heatmapgl"
           }
          ],
          "histogram": [
           {
            "marker": {
             "pattern": {
              "fillmode": "overlay",
              "size": 10,
              "solidity": 0.2
             }
            },
            "type": "histogram"
           }
          ],
          "histogram2d": [
           {
            "colorbar": {
             "outlinewidth": 0,
             "ticks": ""
            },
            "colorscale": [
             [
              0,
              "#0d0887"
             ],
             [
              0.1111111111111111,
              "#46039f"
             ],
             [
              0.2222222222222222,
              "#7201a8"
             ],
             [
              0.3333333333333333,
              "#9c179e"
             ],
             [
              0.4444444444444444,
              "#bd3786"
             ],
             [
              0.5555555555555556,
              "#d8576b"
             ],
             [
              0.6666666666666666,
              "#ed7953"
             ],
             [
              0.7777777777777778,
              "#fb9f3a"
             ],
             [
              0.8888888888888888,
              "#fdca26"
             ],
             [
              1,
              "#f0f921"
             ]
            ],
            "type": "histogram2d"
           }
          ],
          "histogram2dcontour": [
           {
            "colorbar": {
             "outlinewidth": 0,
             "ticks": ""
            },
            "colorscale": [
             [
              0,
              "#0d0887"
             ],
             [
              0.1111111111111111,
              "#46039f"
             ],
             [
              0.2222222222222222,
              "#7201a8"
             ],
             [
              0.3333333333333333,
              "#9c179e"
             ],
             [
              0.4444444444444444,
              "#bd3786"
             ],
             [
              0.5555555555555556,
              "#d8576b"
             ],
             [
              0.6666666666666666,
              "#ed7953"
             ],
             [
              0.7777777777777778,
              "#fb9f3a"
             ],
             [
              0.8888888888888888,
              "#fdca26"
             ],
             [
              1,
              "#f0f921"
             ]
            ],
            "type": "histogram2dcontour"
           }
          ],
          "mesh3d": [
           {
            "colorbar": {
             "outlinewidth": 0,
             "ticks": ""
            },
            "type": "mesh3d"
           }
          ],
          "parcoords": [
           {
            "line": {
             "colorbar": {
              "outlinewidth": 0,
              "ticks": ""
             }
            },
            "type": "parcoords"
           }
          ],
          "pie": [
           {
            "automargin": true,
            "type": "pie"
           }
          ],
          "scatter": [
           {
            "fillpattern": {
             "fillmode": "overlay",
             "size": 10,
             "solidity": 0.2
            },
            "type": "scatter"
           }
          ],
          "scatter3d": [
           {
            "line": {
             "colorbar": {
              "outlinewidth": 0,
              "ticks": ""
             }
            },
            "marker": {
             "colorbar": {
              "outlinewidth": 0,
              "ticks": ""
             }
            },
            "type": "scatter3d"
           }
          ],
          "scattercarpet": [
           {
            "marker": {
             "colorbar": {
              "outlinewidth": 0,
              "ticks": ""
             }
            },
            "type": "scattercarpet"
           }
          ],
          "scattergeo": [
           {
            "marker": {
             "colorbar": {
              "outlinewidth": 0,
              "ticks": ""
             }
            },
            "type": "scattergeo"
           }
          ],
          "scattergl": [
           {
            "marker": {
             "colorbar": {
              "outlinewidth": 0,
              "ticks": ""
             }
            },
            "type": "scattergl"
           }
          ],
          "scattermapbox": [
           {
            "marker": {
             "colorbar": {
              "outlinewidth": 0,
              "ticks": ""
             }
            },
            "type": "scattermapbox"
           }
          ],
          "scatterpolar": [
           {
            "marker": {
             "colorbar": {
              "outlinewidth": 0,
              "ticks": ""
             }
            },
            "type": "scatterpolar"
           }
          ],
          "scatterpolargl": [
           {
            "marker": {
             "colorbar": {
              "outlinewidth": 0,
              "ticks": ""
             }
            },
            "type": "scatterpolargl"
           }
          ],
          "scatterternary": [
           {
            "marker": {
             "colorbar": {
              "outlinewidth": 0,
              "ticks": ""
             }
            },
            "type": "scatterternary"
           }
          ],
          "surface": [
           {
            "colorbar": {
             "outlinewidth": 0,
             "ticks": ""
            },
            "colorscale": [
             [
              0,
              "#0d0887"
             ],
             [
              0.1111111111111111,
              "#46039f"
             ],
             [
              0.2222222222222222,
              "#7201a8"
             ],
             [
              0.3333333333333333,
              "#9c179e"
             ],
             [
              0.4444444444444444,
              "#bd3786"
             ],
             [
              0.5555555555555556,
              "#d8576b"
             ],
             [
              0.6666666666666666,
              "#ed7953"
             ],
             [
              0.7777777777777778,
              "#fb9f3a"
             ],
             [
              0.8888888888888888,
              "#fdca26"
             ],
             [
              1,
              "#f0f921"
             ]
            ],
            "type": "surface"
           }
          ],
          "table": [
           {
            "cells": {
             "fill": {
              "color": "#EBF0F8"
             },
             "line": {
              "color": "white"
             }
            },
            "header": {
             "fill": {
              "color": "#C8D4E3"
             },
             "line": {
              "color": "white"
             }
            },
            "type": "table"
           }
          ]
         },
         "layout": {
          "annotationdefaults": {
           "arrowcolor": "#2a3f5f",
           "arrowhead": 0,
           "arrowwidth": 1
          },
          "autotypenumbers": "strict",
          "coloraxis": {
           "colorbar": {
            "outlinewidth": 0,
            "ticks": ""
           }
          },
          "colorscale": {
           "diverging": [
            [
             0,
             "#8e0152"
            ],
            [
             0.1,
             "#c51b7d"
            ],
            [
             0.2,
             "#de77ae"
            ],
            [
             0.3,
             "#f1b6da"
            ],
            [
             0.4,
             "#fde0ef"
            ],
            [
             0.5,
             "#f7f7f7"
            ],
            [
             0.6,
             "#e6f5d0"
            ],
            [
             0.7,
             "#b8e186"
            ],
            [
             0.8,
             "#7fbc41"
            ],
            [
             0.9,
             "#4d9221"
            ],
            [
             1,
             "#276419"
            ]
           ],
           "sequential": [
            [
             0,
             "#0d0887"
            ],
            [
             0.1111111111111111,
             "#46039f"
            ],
            [
             0.2222222222222222,
             "#7201a8"
            ],
            [
             0.3333333333333333,
             "#9c179e"
            ],
            [
             0.4444444444444444,
             "#bd3786"
            ],
            [
             0.5555555555555556,
             "#d8576b"
            ],
            [
             0.6666666666666666,
             "#ed7953"
            ],
            [
             0.7777777777777778,
             "#fb9f3a"
            ],
            [
             0.8888888888888888,
             "#fdca26"
            ],
            [
             1,
             "#f0f921"
            ]
           ],
           "sequentialminus": [
            [
             0,
             "#0d0887"
            ],
            [
             0.1111111111111111,
             "#46039f"
            ],
            [
             0.2222222222222222,
             "#7201a8"
            ],
            [
             0.3333333333333333,
             "#9c179e"
            ],
            [
             0.4444444444444444,
             "#bd3786"
            ],
            [
             0.5555555555555556,
             "#d8576b"
            ],
            [
             0.6666666666666666,
             "#ed7953"
            ],
            [
             0.7777777777777778,
             "#fb9f3a"
            ],
            [
             0.8888888888888888,
             "#fdca26"
            ],
            [
             1,
             "#f0f921"
            ]
           ]
          },
          "colorway": [
           "#636efa",
           "#EF553B",
           "#00cc96",
           "#ab63fa",
           "#FFA15A",
           "#19d3f3",
           "#FF6692",
           "#B6E880",
           "#FF97FF",
           "#FECB52"
          ],
          "font": {
           "color": "#2a3f5f"
          },
          "geo": {
           "bgcolor": "white",
           "lakecolor": "white",
           "landcolor": "#E5ECF6",
           "showlakes": true,
           "showland": true,
           "subunitcolor": "white"
          },
          "hoverlabel": {
           "align": "left"
          },
          "hovermode": "closest",
          "mapbox": {
           "style": "light"
          },
          "paper_bgcolor": "white",
          "plot_bgcolor": "#E5ECF6",
          "polar": {
           "angularaxis": {
            "gridcolor": "white",
            "linecolor": "white",
            "ticks": ""
           },
           "bgcolor": "#E5ECF6",
           "radialaxis": {
            "gridcolor": "white",
            "linecolor": "white",
            "ticks": ""
           }
          },
          "scene": {
           "xaxis": {
            "backgroundcolor": "#E5ECF6",
            "gridcolor": "white",
            "gridwidth": 2,
            "linecolor": "white",
            "showbackground": true,
            "ticks": "",
            "zerolinecolor": "white"
           },
           "yaxis": {
            "backgroundcolor": "#E5ECF6",
            "gridcolor": "white",
            "gridwidth": 2,
            "linecolor": "white",
            "showbackground": true,
            "ticks": "",
            "zerolinecolor": "white"
           },
           "zaxis": {
            "backgroundcolor": "#E5ECF6",
            "gridcolor": "white",
            "gridwidth": 2,
            "linecolor": "white",
            "showbackground": true,
            "ticks": "",
            "zerolinecolor": "white"
           }
          },
          "shapedefaults": {
           "line": {
            "color": "#2a3f5f"
           }
          },
          "ternary": {
           "aaxis": {
            "gridcolor": "white",
            "linecolor": "white",
            "ticks": ""
           },
           "baxis": {
            "gridcolor": "white",
            "linecolor": "white",
            "ticks": ""
           },
           "bgcolor": "#E5ECF6",
           "caxis": {
            "gridcolor": "white",
            "linecolor": "white",
            "ticks": ""
           }
          },
          "title": {
           "x": 0.05
          },
          "xaxis": {
           "automargin": true,
           "gridcolor": "white",
           "linecolor": "white",
           "ticks": "",
           "title": {
            "standoff": 15
           },
           "zerolinecolor": "white",
           "zerolinewidth": 2
          },
          "yaxis": {
           "automargin": true,
           "gridcolor": "white",
           "linecolor": "white",
           "ticks": "",
           "title": {
            "standoff": 15
           },
           "zerolinecolor": "white",
           "zerolinewidth": 2
          }
         }
        },
        "title": {
         "font": {
          "color": "#4D5663"
         }
        },
        "xaxis": {
         "anchor": "y",
         "domain": [
          0,
          0.2125
         ],
         "gridcolor": "#E1E5ED",
         "showgrid": false,
         "tickfont": {
          "color": "#4D5663"
         },
         "title": {
          "font": {
           "color": "#4D5663"
          },
          "text": ""
         },
         "zerolinecolor": "#E1E5ED"
        },
        "xaxis10": {
         "anchor": "y10",
         "domain": [
          0.2625,
          0.475
         ],
         "gridcolor": "#E1E5ED",
         "showgrid": false,
         "tickfont": {
          "color": "#4D5663"
         },
         "title": {
          "font": {
           "color": "#4D5663"
          },
          "text": ""
         },
         "zerolinecolor": "#E1E5ED"
        },
        "xaxis11": {
         "anchor": "y11",
         "domain": [
          0.525,
          0.7375
         ],
         "gridcolor": "#E1E5ED",
         "showgrid": false,
         "tickfont": {
          "color": "#4D5663"
         },
         "title": {
          "font": {
           "color": "#4D5663"
          },
          "text": ""
         },
         "zerolinecolor": "#E1E5ED"
        },
        "xaxis12": {
         "anchor": "y12",
         "domain": [
          0.7875,
          1
         ],
         "gridcolor": "#E1E5ED",
         "showgrid": false,
         "tickfont": {
          "color": "#4D5663"
         },
         "title": {
          "font": {
           "color": "#4D5663"
          },
          "text": ""
         },
         "zerolinecolor": "#E1E5ED"
        },
        "xaxis13": {
         "anchor": "y13",
         "domain": [
          0,
          0.2125
         ],
         "gridcolor": "#E1E5ED",
         "showgrid": false,
         "tickfont": {
          "color": "#4D5663"
         },
         "title": {
          "font": {
           "color": "#4D5663"
          },
          "text": ""
         },
         "zerolinecolor": "#E1E5ED"
        },
        "xaxis14": {
         "anchor": "y14",
         "domain": [
          0.2625,
          0.475
         ],
         "gridcolor": "#E1E5ED",
         "showgrid": false,
         "tickfont": {
          "color": "#4D5663"
         },
         "title": {
          "font": {
           "color": "#4D5663"
          },
          "text": ""
         },
         "zerolinecolor": "#E1E5ED"
        },
        "xaxis15": {
         "anchor": "y15",
         "domain": [
          0.525,
          0.7375
         ],
         "gridcolor": "#E1E5ED",
         "showgrid": false,
         "tickfont": {
          "color": "#4D5663"
         },
         "title": {
          "font": {
           "color": "#4D5663"
          },
          "text": ""
         },
         "zerolinecolor": "#E1E5ED"
        },
        "xaxis16": {
         "anchor": "y16",
         "domain": [
          0.7875,
          1
         ],
         "gridcolor": "#E1E5ED",
         "showgrid": false,
         "tickfont": {
          "color": "#4D5663"
         },
         "title": {
          "font": {
           "color": "#4D5663"
          },
          "text": ""
         },
         "zerolinecolor": "#E1E5ED"
        },
        "xaxis2": {
         "anchor": "y2",
         "domain": [
          0.2625,
          0.475
         ],
         "gridcolor": "#E1E5ED",
         "showgrid": false,
         "tickfont": {
          "color": "#4D5663"
         },
         "title": {
          "font": {
           "color": "#4D5663"
          },
          "text": ""
         },
         "zerolinecolor": "#E1E5ED"
        },
        "xaxis3": {
         "anchor": "y3",
         "domain": [
          0.525,
          0.7375
         ],
         "gridcolor": "#E1E5ED",
         "showgrid": false,
         "tickfont": {
          "color": "#4D5663"
         },
         "title": {
          "font": {
           "color": "#4D5663"
          },
          "text": ""
         },
         "zerolinecolor": "#E1E5ED"
        },
        "xaxis4": {
         "anchor": "y4",
         "domain": [
          0.7875,
          1
         ],
         "gridcolor": "#E1E5ED",
         "showgrid": false,
         "tickfont": {
          "color": "#4D5663"
         },
         "title": {
          "font": {
           "color": "#4D5663"
          },
          "text": ""
         },
         "zerolinecolor": "#E1E5ED"
        },
        "xaxis5": {
         "anchor": "y5",
         "domain": [
          0,
          0.2125
         ],
         "gridcolor": "#E1E5ED",
         "showgrid": false,
         "tickfont": {
          "color": "#4D5663"
         },
         "title": {
          "font": {
           "color": "#4D5663"
          },
          "text": ""
         },
         "zerolinecolor": "#E1E5ED"
        },
        "xaxis6": {
         "anchor": "y6",
         "domain": [
          0.2625,
          0.475
         ],
         "gridcolor": "#E1E5ED",
         "showgrid": false,
         "tickfont": {
          "color": "#4D5663"
         },
         "title": {
          "font": {
           "color": "#4D5663"
          },
          "text": ""
         },
         "zerolinecolor": "#E1E5ED"
        },
        "xaxis7": {
         "anchor": "y7",
         "domain": [
          0.525,
          0.7375
         ],
         "gridcolor": "#E1E5ED",
         "showgrid": false,
         "tickfont": {
          "color": "#4D5663"
         },
         "title": {
          "font": {
           "color": "#4D5663"
          },
          "text": ""
         },
         "zerolinecolor": "#E1E5ED"
        },
        "xaxis8": {
         "anchor": "y8",
         "domain": [
          0.7875,
          1
         ],
         "gridcolor": "#E1E5ED",
         "showgrid": false,
         "tickfont": {
          "color": "#4D5663"
         },
         "title": {
          "font": {
           "color": "#4D5663"
          },
          "text": ""
         },
         "zerolinecolor": "#E1E5ED"
        },
        "xaxis9": {
         "anchor": "y9",
         "domain": [
          0,
          0.2125
         ],
         "gridcolor": "#E1E5ED",
         "showgrid": false,
         "tickfont": {
          "color": "#4D5663"
         },
         "title": {
          "font": {
           "color": "#4D5663"
          },
          "text": ""
         },
         "zerolinecolor": "#E1E5ED"
        },
        "yaxis": {
         "anchor": "x",
         "domain": [
          0.8025,
          1
         ],
         "gridcolor": "#E1E5ED",
         "showgrid": false,
         "tickfont": {
          "color": "#4D5663"
         },
         "title": {
          "font": {
           "color": "#4D5663"
          },
          "text": ""
         },
         "zerolinecolor": "#E1E5ED"
        },
        "yaxis10": {
         "anchor": "x10",
         "domain": [
          0.2675,
          0.465
         ],
         "gridcolor": "#E1E5ED",
         "showgrid": false,
         "tickfont": {
          "color": "#4D5663"
         },
         "title": {
          "font": {
           "color": "#4D5663"
          },
          "text": ""
         },
         "zerolinecolor": "#E1E5ED"
        },
        "yaxis11": {
         "anchor": "x11",
         "domain": [
          0.2675,
          0.465
         ],
         "gridcolor": "#E1E5ED",
         "showgrid": false,
         "tickfont": {
          "color": "#4D5663"
         },
         "title": {
          "font": {
           "color": "#4D5663"
          },
          "text": ""
         },
         "zerolinecolor": "#E1E5ED"
        },
        "yaxis12": {
         "anchor": "x12",
         "domain": [
          0.2675,
          0.465
         ],
         "gridcolor": "#E1E5ED",
         "showgrid": false,
         "tickfont": {
          "color": "#4D5663"
         },
         "title": {
          "font": {
           "color": "#4D5663"
          },
          "text": ""
         },
         "zerolinecolor": "#E1E5ED"
        },
        "yaxis13": {
         "anchor": "x13",
         "domain": [
          0,
          0.1975
         ],
         "gridcolor": "#E1E5ED",
         "showgrid": false,
         "tickfont": {
          "color": "#4D5663"
         },
         "title": {
          "font": {
           "color": "#4D5663"
          },
          "text": ""
         },
         "zerolinecolor": "#E1E5ED"
        },
        "yaxis14": {
         "anchor": "x14",
         "domain": [
          0,
          0.1975
         ],
         "gridcolor": "#E1E5ED",
         "showgrid": false,
         "tickfont": {
          "color": "#4D5663"
         },
         "title": {
          "font": {
           "color": "#4D5663"
          },
          "text": ""
         },
         "zerolinecolor": "#E1E5ED"
        },
        "yaxis15": {
         "anchor": "x15",
         "domain": [
          0,
          0.1975
         ],
         "gridcolor": "#E1E5ED",
         "showgrid": false,
         "tickfont": {
          "color": "#4D5663"
         },
         "title": {
          "font": {
           "color": "#4D5663"
          },
          "text": ""
         },
         "zerolinecolor": "#E1E5ED"
        },
        "yaxis16": {
         "anchor": "x16",
         "domain": [
          0,
          0.1975
         ],
         "gridcolor": "#E1E5ED",
         "showgrid": false,
         "tickfont": {
          "color": "#4D5663"
         },
         "title": {
          "font": {
           "color": "#4D5663"
          },
          "text": ""
         },
         "zerolinecolor": "#E1E5ED"
        },
        "yaxis2": {
         "anchor": "x2",
         "domain": [
          0.8025,
          1
         ],
         "gridcolor": "#E1E5ED",
         "showgrid": false,
         "tickfont": {
          "color": "#4D5663"
         },
         "title": {
          "font": {
           "color": "#4D5663"
          },
          "text": ""
         },
         "zerolinecolor": "#E1E5ED"
        },
        "yaxis3": {
         "anchor": "x3",
         "domain": [
          0.8025,
          1
         ],
         "gridcolor": "#E1E5ED",
         "showgrid": false,
         "tickfont": {
          "color": "#4D5663"
         },
         "title": {
          "font": {
           "color": "#4D5663"
          },
          "text": ""
         },
         "zerolinecolor": "#E1E5ED"
        },
        "yaxis4": {
         "anchor": "x4",
         "domain": [
          0.8025,
          1
         ],
         "gridcolor": "#E1E5ED",
         "showgrid": false,
         "tickfont": {
          "color": "#4D5663"
         },
         "title": {
          "font": {
           "color": "#4D5663"
          },
          "text": ""
         },
         "zerolinecolor": "#E1E5ED"
        },
        "yaxis5": {
         "anchor": "x5",
         "domain": [
          0.535,
          0.7325
         ],
         "gridcolor": "#E1E5ED",
         "showgrid": false,
         "tickfont": {
          "color": "#4D5663"
         },
         "title": {
          "font": {
           "color": "#4D5663"
          },
          "text": ""
         },
         "zerolinecolor": "#E1E5ED"
        },
        "yaxis6": {
         "anchor": "x6",
         "domain": [
          0.535,
          0.7325
         ],
         "gridcolor": "#E1E5ED",
         "showgrid": false,
         "tickfont": {
          "color": "#4D5663"
         },
         "title": {
          "font": {
           "color": "#4D5663"
          },
          "text": ""
         },
         "zerolinecolor": "#E1E5ED"
        },
        "yaxis7": {
         "anchor": "x7",
         "domain": [
          0.535,
          0.7325
         ],
         "gridcolor": "#E1E5ED",
         "showgrid": false,
         "tickfont": {
          "color": "#4D5663"
         },
         "title": {
          "font": {
           "color": "#4D5663"
          },
          "text": ""
         },
         "zerolinecolor": "#E1E5ED"
        },
        "yaxis8": {
         "anchor": "x8",
         "domain": [
          0.535,
          0.7325
         ],
         "gridcolor": "#E1E5ED",
         "showgrid": false,
         "tickfont": {
          "color": "#4D5663"
         },
         "title": {
          "font": {
           "color": "#4D5663"
          },
          "text": ""
         },
         "zerolinecolor": "#E1E5ED"
        },
        "yaxis9": {
         "anchor": "x9",
         "domain": [
          0.2675,
          0.465
         ],
         "gridcolor": "#E1E5ED",
         "showgrid": false,
         "tickfont": {
          "color": "#4D5663"
         },
         "title": {
          "font": {
           "color": "#4D5663"
          },
          "text": ""
         },
         "zerolinecolor": "#E1E5ED"
        }
       }
      },
      "text/html": [
       "<div>                            <div id=\"d1330eae-59ed-4892-9182-16edb0f62501\" class=\"plotly-graph-div\" style=\"height:525px; width:100%;\"></div>            <script type=\"text/javascript\">                require([\"plotly\"], function(Plotly) {                    window.PLOTLYENV=window.PLOTLYENV || {};\n",
       "                    window.PLOTLYENV.BASE_URL='https://plot.ly';                                    if (document.getElementById(\"d1330eae-59ed-4892-9182-16edb0f62501\")) {                    Plotly.newPlot(                        \"d1330eae-59ed-4892-9182-16edb0f62501\",                        [{\"histfunc\":\"count\",\"histnorm\":\"\",\"marker\":{\"color\":\"rgba(255, 153, 51, 1.0)\",\"line\":{\"color\":\"#4D5663\",\"width\":1.3}},\"name\":\"A\",\"nbinsx\":10,\"opacity\":0.8,\"orientation\":\"v\",\"x\":[1.703030536865381,0.057715736526326965,1.806753252426194,-0.28507382165451167,0.8448103032083629,1.9356544563192983,0.25265645003993437,-0.7108407175975264,0.20407341105116586,-0.9631835128284022,-2.313929528277395,1.8504210053906285,0.11575887999256226,-1.6797795335634507,0.32101675906697663,-0.029421517263010833,0.916862588487737,0.5005943184489355,0.47748875080863645,-1.4445253371836875,-0.7490423417159519,0.8307497872518788,-1.2944740230747616,0.562061709877203,0.8221148785197783,-0.7523094282677261,-0.26373004757776175,0.5258232470067837,0.940979809508781,0.23178863608136288,-0.3999835749531784,-1.5877557479545665,1.3117797268833151,0.5277915175274164,0.055985875744130185,0.22757050286605102,-1.0518642709521109,-2.2809456910838524,-0.1304241624464754,-0.1908037005073423,0.24896485240145314,-0.04471771013045752,-0.9701184869344839,1.0990611188514359,0.12340353879664699,0.0753800392632158,-0.0662171730054763,-0.35308229736830216,-0.10945749618170171,-1.6329769246665042,-2.2167020173795096,0.2726812030775698,-0.1455257739888572,0.6511061330588763,-0.4401251895987155,-0.4561258898920153,0.09968968653804522,-0.6599742180242933,-1.530117369231545,-0.6996345378686805,1.4655432843735978,0.1440603081792614,-0.7928080218222593,0.9629631226294447,0.21702547598133207,-0.041302322471019656,0.6933637350395077,0.15085198288439183,-0.5110684458127188,0.7423426360891041,-0.2790365281483132,-0.21438293119597363,1.3897821201574414,-0.05515767789216785,-1.18290717597586,1.5145019130226023,0.08103465020839139,-1.376004787846036,1.365053587926242,0.18655028290427167,0.1568399485803906,0.2093824677298707,-0.03481088445587469,0.9900655976655112,0.47820191801570666,-1.3762517202742317,0.982440826684452,0.35343255249727457,-0.5787230512640728,0.4663012854591553,-1.0989913782473266,0.4573973997223406,-1.6674459041243,0.13256166644037015,-0.7662112574506679,-0.6030276098968368,2.324055715057974,0.519139017155852,1.5854011486856008,-0.8140182188847669],\"xaxis\":\"x\",\"yaxis\":\"y\",\"type\":\"histogram\"},{\"line\":{\"color\":\"rgba(128, 128, 128, 1.0)\",\"dash\":\"solid\",\"shape\":\"linear\",\"width\":1.3},\"marker\":{\"size\":2,\"symbol\":\"circle\"},\"mode\":\"markers\",\"name\":\"A\",\"text\":\"\",\"x\":[0.020446733117837387,-0.13142655753710328,2.1552942366317467,-0.7368030167193271,-0.15647700590177263,0.6227231939705729,-1.6691369374293619,-1.2303447427755323,0.643022860548499,0.021586526736260724,-1.7169237831599646,0.22218243580981564,0.36584301376601014,0.026480636897801314,-0.43463437249302705,0.6051183133216308,-0.04743338759975797,-1.0437386290390713,0.7634534487337309,1.8374145183566533,-0.06536138852479652,0.7189252425600876,1.618990179663656,-0.1292282991611609,1.1273662797944604,0.6190874181543614,0.06368225620831357,0.46551790697162204,1.209953364299594,-2.369297044199571,0.8474003322921112,-0.940570263581015,-1.733441623719393,0.026841257964993363,-1.16890351164535,2.444181611176374,0.32751014394035766,-0.7403796216695913,0.974192465330595,-1.3419718295456629,0.06753401710505501,0.3995579413779053,1.4715788524730944,1.3058590299377058,0.47396800523908605,-0.8533959337453239,-0.04513824946522313,1.5989310069722822,0.8209975940625924,0.9130159745522907,0.631805379794073,0.6871572685821035,0.4045330817197545,1.2699208282991628,-0.6115479531451279,0.888004086618221,-0.16824686224817828,0.5678427897742637,-0.10410397427380996,-2.3038112907761277,0.41334310863275886,1.6928037846747235,0.392241308944528,-0.60184778036844,0.15205225924987986,1.6218704586678105,0.2201422071654261,-1.3786178164447496,-0.19056231682640878,-1.9889018202432063,-0.280718466698838,-1.771621395021947,1.155531507522197,-0.4552613825429717,-0.14485092590175166,-1.4283535464664365,-0.03840435986495959,-0.48667075998421944,-0.9941041935759036,-0.43719948750326876,1.2258685272598313,0.41068441181305554,0.7819145340879001,0.38400754270393317,-0.2149342584479373,-0.06703890319057035,0.355262197350419,-0.4613181548267008,-0.8533370162794723,-1.744887650467091,-0.7983995491067819,0.03200564722701361,1.2726655310355808,0.1599056042426869,0.756455417298015,0.5128717405086298,1.2974121723462697,0.8823627599399996,-0.567302174615601,0.0697729567365461],\"xaxis\":\"x2\",\"y\":[1.703030536865381,0.057715736526326965,1.806753252426194,-0.28507382165451167,0.8448103032083629,1.9356544563192983,0.25265645003993437,-0.7108407175975264,0.20407341105116586,-0.9631835128284022,-2.313929528277395,1.8504210053906285,0.11575887999256226,-1.6797795335634507,0.32101675906697663,-0.029421517263010833,0.916862588487737,0.5005943184489355,0.47748875080863645,-1.4445253371836875,-0.7490423417159519,0.8307497872518788,-1.2944740230747616,0.562061709877203,0.8221148785197783,-0.7523094282677261,-0.26373004757776175,0.5258232470067837,0.940979809508781,0.23178863608136288,-0.3999835749531784,-1.5877557479545665,1.3117797268833151,0.5277915175274164,0.055985875744130185,0.22757050286605102,-1.0518642709521109,-2.2809456910838524,-0.1304241624464754,-0.1908037005073423,0.24896485240145314,-0.04471771013045752,-0.9701184869344839,1.0990611188514359,0.12340353879664699,0.0753800392632158,-0.0662171730054763,-0.35308229736830216,-0.10945749618170171,-1.6329769246665042,-2.2167020173795096,0.2726812030775698,-0.1455257739888572,0.6511061330588763,-0.4401251895987155,-0.4561258898920153,0.09968968653804522,-0.6599742180242933,-1.530117369231545,-0.6996345378686805,1.4655432843735978,0.1440603081792614,-0.7928080218222593,0.9629631226294447,0.21702547598133207,-0.041302322471019656,0.6933637350395077,0.15085198288439183,-0.5110684458127188,0.7423426360891041,-0.2790365281483132,-0.21438293119597363,1.3897821201574414,-0.05515767789216785,-1.18290717597586,1.5145019130226023,0.08103465020839139,-1.376004787846036,1.365053587926242,0.18655028290427167,0.1568399485803906,0.2093824677298707,-0.03481088445587469,0.9900655976655112,0.47820191801570666,-1.3762517202742317,0.982440826684452,0.35343255249727457,-0.5787230512640728,0.4663012854591553,-1.0989913782473266,0.4573973997223406,-1.6674459041243,0.13256166644037015,-0.7662112574506679,-0.6030276098968368,2.324055715057974,0.519139017155852,1.5854011486856008,-0.8140182188847669],\"yaxis\":\"y2\",\"type\":\"scatter\"},{\"line\":{\"color\":\"rgba(128, 128, 128, 1.0)\",\"dash\":\"solid\",\"shape\":\"linear\",\"width\":1.3},\"marker\":{\"size\":2,\"symbol\":\"circle\"},\"mode\":\"markers\",\"name\":\"A\",\"text\":\"\",\"x\":[0.22732938506030448,-0.5643669302842955,-1.313722011081908,1.0163970133207245,0.5229582751053584,0.595833021756602,0.11344979750684121,0.7747931294729858,-1.568519653457817,0.6187789381697351,-1.0383969049034958,-1.6875743505925955,0.6186950148297927,-0.04204938040299849,0.09662339062791474,-0.1568688808670259,0.346524119463329,-1.429493553357895,-0.7466904358430473,-1.0180672553465524,0.7008780191227159,0.30696332826553274,-0.31143775218437814,1.825488504701764,0.35516864391917474,-0.38946556987045367,-0.6392573005794727,-1.091679868647396,-1.0446751563544818,0.4325562578560166,1.3018270911586034,1.112556888348836,-0.7731044626717067,-0.614744560394022,-0.8695130832810692,0.7871129659713763,1.452485209986683,-0.562010754629272,0.6573493790409521,1.815247685635861,-0.326140134461283,2.2714807032998694,0.38365460401999896,1.020130050934682,0.697603120171272,0.5795947310854617,-0.08591242375449441,-1.057789044213953,-0.1114765716237359,0.777809823132227,0.7685945504497308,-0.030538124608908396,-0.018533530874105784,-0.5692750110003424,2.5255605365251323,-0.8212829782259444,0.3321730707361428,0.5333999185030921,-0.08706769349988827,-1.0485261616848858,0.30040476151573203,-0.9458791527522263,2.489871585940211,-1.8713242575511513,-0.1616233238488484,-0.17112135867959025,0.09838102764715186,0.10023229886659617,2.762206064299176,-0.9417919800836461,-1.1413166219516113,-0.4664334734813527,0.004734173816949858,0.27625032417049566,-1.612359086650145,0.4080191930426905,-0.9092042775507635,-0.2035328180827829,-0.8644537681515296,-0.711102715034272,-1.610044441107284,-0.8342944210699971,1.2713088416439782,0.434400974815181,0.8443958621352657,-0.16525839864417344,1.5080985276725194,0.3470001222237344,-1.2288651037203575,0.293108662128752,-0.3305845512896531,-1.780722721415806,-1.2311573483105316,-1.1466498341572549,-0.16712154575823085,-1.0748903216037546,-0.399294360798341,0.29726369047821,0.5637649065705606,-1.6124846290428798],\"xaxis\":\"x3\",\"y\":[1.703030536865381,0.057715736526326965,1.806753252426194,-0.28507382165451167,0.8448103032083629,1.9356544563192983,0.25265645003993437,-0.7108407175975264,0.20407341105116586,-0.9631835128284022,-2.313929528277395,1.8504210053906285,0.11575887999256226,-1.6797795335634507,0.32101675906697663,-0.029421517263010833,0.916862588487737,0.5005943184489355,0.47748875080863645,-1.4445253371836875,-0.7490423417159519,0.8307497872518788,-1.2944740230747616,0.562061709877203,0.8221148785197783,-0.7523094282677261,-0.26373004757776175,0.5258232470067837,0.940979809508781,0.23178863608136288,-0.3999835749531784,-1.5877557479545665,1.3117797268833151,0.5277915175274164,0.055985875744130185,0.22757050286605102,-1.0518642709521109,-2.2809456910838524,-0.1304241624464754,-0.1908037005073423,0.24896485240145314,-0.04471771013045752,-0.9701184869344839,1.0990611188514359,0.12340353879664699,0.0753800392632158,-0.0662171730054763,-0.35308229736830216,-0.10945749618170171,-1.6329769246665042,-2.2167020173795096,0.2726812030775698,-0.1455257739888572,0.6511061330588763,-0.4401251895987155,-0.4561258898920153,0.09968968653804522,-0.6599742180242933,-1.530117369231545,-0.6996345378686805,1.4655432843735978,0.1440603081792614,-0.7928080218222593,0.9629631226294447,0.21702547598133207,-0.041302322471019656,0.6933637350395077,0.15085198288439183,-0.5110684458127188,0.7423426360891041,-0.2790365281483132,-0.21438293119597363,1.3897821201574414,-0.05515767789216785,-1.18290717597586,1.5145019130226023,0.08103465020839139,-1.376004787846036,1.365053587926242,0.18655028290427167,0.1568399485803906,0.2093824677298707,-0.03481088445587469,0.9900655976655112,0.47820191801570666,-1.3762517202742317,0.982440826684452,0.35343255249727457,-0.5787230512640728,0.4663012854591553,-1.0989913782473266,0.4573973997223406,-1.6674459041243,0.13256166644037015,-0.7662112574506679,-0.6030276098968368,2.324055715057974,0.519139017155852,1.5854011486856008,-0.8140182188847669],\"yaxis\":\"y3\",\"type\":\"scatter\"},{\"line\":{\"color\":\"rgba(128, 128, 128, 1.0)\",\"dash\":\"solid\",\"shape\":\"linear\",\"width\":1.3},\"marker\":{\"size\":2,\"symbol\":\"circle\"},\"mode\":\"markers\",\"name\":\"A\",\"text\":\"\",\"x\":[0.11217771970799818,0.39477392305306097,-0.6359822678110904,-0.17596600208882143,1.0905878457835223,-0.21352131965121662,-0.016626607222570096,-1.1133666517931138,0.4525476031536588,-1.2510496534635616,2.918575284528553,0.12805362295907827,-0.16201779720114132,-1.6132198624318677,-0.35277979723911507,-1.1362752153118836,1.368161680526287,-1.0437923672559235,-0.7398038635483111,0.00459272667543897,0.875489098040318,-0.4893680617860016,0.4576602143537095,1.894714670073871,0.14983496682169892,1.4075540868517387,1.2033377322553152,2.1859911780898575,-0.45081763797717067,-0.2025028100014118,1.01149308161552,0.6964239541863181,0.7883417392529258,-0.007985737874252082,1.1458029482951884,-0.40235737437457925,-1.8355464509386143,1.2902283139453403,-0.3515926552114298,0.025628821213945503,0.9077766275682648,-2.0057443039000935,0.3837364593184679,1.7664451480034642,-0.800134531633424,0.48568720261757,0.49643773643784755,0.12317982550121122,0.3720751006775519,-0.37483094708892506,1.494865905332058,1.453972813605369,-1.1321177408728615,0.8321134858548878,-0.3789547830190396,0.8112663382216834,-2.1567893714755715,1.222028931609825,-1.1279953086462295,0.47202666348057615,-0.010321353996273118,-0.27291938273255617,-0.8669337703947283,-0.2030125878043635,-0.2909312007530726,0.8225310825414889,0.10905235941003295,0.44089934178858253,0.760699307521531,-0.40083305559310706,-2.4821152430767532,0.596903430626642,0.37683664931203636,1.3437503100681012,-1.2720862912169242,-0.3736302716050329,0.3093762055520044,0.7706661965543218,0.7635088052740517,-0.24992815278168945,0.08287011750932755,0.5357142688268939,-0.13432890079377094,-0.3530411912246393,-0.4773793846878311,-0.7343947951715286,0.6473540733438989,0.18341366164022121,0.5031180260567227,-0.16985512294781832,0.5287611207169758,1.5523393053212802,0.23336625645824333,0.012565043064252893,-0.8822423606821992,0.3716550653445206,0.8422688943004077,-1.6773495783230186,0.2421018678565944,-1.3883186278227082],\"xaxis\":\"x4\",\"y\":[1.703030536865381,0.057715736526326965,1.806753252426194,-0.28507382165451167,0.8448103032083629,1.9356544563192983,0.25265645003993437,-0.7108407175975264,0.20407341105116586,-0.9631835128284022,-2.313929528277395,1.8504210053906285,0.11575887999256226,-1.6797795335634507,0.32101675906697663,-0.029421517263010833,0.916862588487737,0.5005943184489355,0.47748875080863645,-1.4445253371836875,-0.7490423417159519,0.8307497872518788,-1.2944740230747616,0.562061709877203,0.8221148785197783,-0.7523094282677261,-0.26373004757776175,0.5258232470067837,0.940979809508781,0.23178863608136288,-0.3999835749531784,-1.5877557479545665,1.3117797268833151,0.5277915175274164,0.055985875744130185,0.22757050286605102,-1.0518642709521109,-2.2809456910838524,-0.1304241624464754,-0.1908037005073423,0.24896485240145314,-0.04471771013045752,-0.9701184869344839,1.0990611188514359,0.12340353879664699,0.0753800392632158,-0.0662171730054763,-0.35308229736830216,-0.10945749618170171,-1.6329769246665042,-2.2167020173795096,0.2726812030775698,-0.1455257739888572,0.6511061330588763,-0.4401251895987155,-0.4561258898920153,0.09968968653804522,-0.6599742180242933,-1.530117369231545,-0.6996345378686805,1.4655432843735978,0.1440603081792614,-0.7928080218222593,0.9629631226294447,0.21702547598133207,-0.041302322471019656,0.6933637350395077,0.15085198288439183,-0.5110684458127188,0.7423426360891041,-0.2790365281483132,-0.21438293119597363,1.3897821201574414,-0.05515767789216785,-1.18290717597586,1.5145019130226023,0.08103465020839139,-1.376004787846036,1.365053587926242,0.18655028290427167,0.1568399485803906,0.2093824677298707,-0.03481088445587469,0.9900655976655112,0.47820191801570666,-1.3762517202742317,0.982440826684452,0.35343255249727457,-0.5787230512640728,0.4663012854591553,-1.0989913782473266,0.4573973997223406,-1.6674459041243,0.13256166644037015,-0.7662112574506679,-0.6030276098968368,2.324055715057974,0.519139017155852,1.5854011486856008,-0.8140182188847669],\"yaxis\":\"y4\",\"type\":\"scatter\"},{\"line\":{\"color\":\"rgba(128, 128, 128, 1.0)\",\"dash\":\"solid\",\"shape\":\"linear\",\"width\":1.3},\"marker\":{\"size\":2,\"symbol\":\"circle\"},\"mode\":\"markers\",\"name\":\"B\",\"text\":\"\",\"x\":[1.703030536865381,0.057715736526326965,1.806753252426194,-0.28507382165451167,0.8448103032083629,1.9356544563192983,0.25265645003993437,-0.7108407175975264,0.20407341105116586,-0.9631835128284022,-2.313929528277395,1.8504210053906285,0.11575887999256226,-1.6797795335634507,0.32101675906697663,-0.029421517263010833,0.916862588487737,0.5005943184489355,0.47748875080863645,-1.4445253371836875,-0.7490423417159519,0.8307497872518788,-1.2944740230747616,0.562061709877203,0.8221148785197783,-0.7523094282677261,-0.26373004757776175,0.5258232470067837,0.940979809508781,0.23178863608136288,-0.3999835749531784,-1.5877557479545665,1.3117797268833151,0.5277915175274164,0.055985875744130185,0.22757050286605102,-1.0518642709521109,-2.2809456910838524,-0.1304241624464754,-0.1908037005073423,0.24896485240145314,-0.04471771013045752,-0.9701184869344839,1.0990611188514359,0.12340353879664699,0.0753800392632158,-0.0662171730054763,-0.35308229736830216,-0.10945749618170171,-1.6329769246665042,-2.2167020173795096,0.2726812030775698,-0.1455257739888572,0.6511061330588763,-0.4401251895987155,-0.4561258898920153,0.09968968653804522,-0.6599742180242933,-1.530117369231545,-0.6996345378686805,1.4655432843735978,0.1440603081792614,-0.7928080218222593,0.9629631226294447,0.21702547598133207,-0.041302322471019656,0.6933637350395077,0.15085198288439183,-0.5110684458127188,0.7423426360891041,-0.2790365281483132,-0.21438293119597363,1.3897821201574414,-0.05515767789216785,-1.18290717597586,1.5145019130226023,0.08103465020839139,-1.376004787846036,1.365053587926242,0.18655028290427167,0.1568399485803906,0.2093824677298707,-0.03481088445587469,0.9900655976655112,0.47820191801570666,-1.3762517202742317,0.982440826684452,0.35343255249727457,-0.5787230512640728,0.4663012854591553,-1.0989913782473266,0.4573973997223406,-1.6674459041243,0.13256166644037015,-0.7662112574506679,-0.6030276098968368,2.324055715057974,0.519139017155852,1.5854011486856008,-0.8140182188847669],\"xaxis\":\"x5\",\"y\":[0.020446733117837387,-0.13142655753710328,2.1552942366317467,-0.7368030167193271,-0.15647700590177263,0.6227231939705729,-1.6691369374293619,-1.2303447427755323,0.643022860548499,0.021586526736260724,-1.7169237831599646,0.22218243580981564,0.36584301376601014,0.026480636897801314,-0.43463437249302705,0.6051183133216308,-0.04743338759975797,-1.0437386290390713,0.7634534487337309,1.8374145183566533,-0.06536138852479652,0.7189252425600876,1.618990179663656,-0.1292282991611609,1.1273662797944604,0.6190874181543614,0.06368225620831357,0.46551790697162204,1.209953364299594,-2.369297044199571,0.8474003322921112,-0.940570263581015,-1.733441623719393,0.026841257964993363,-1.16890351164535,2.444181611176374,0.32751014394035766,-0.7403796216695913,0.974192465330595,-1.3419718295456629,0.06753401710505501,0.3995579413779053,1.4715788524730944,1.3058590299377058,0.47396800523908605,-0.8533959337453239,-0.04513824946522313,1.5989310069722822,0.8209975940625924,0.9130159745522907,0.631805379794073,0.6871572685821035,0.4045330817197545,1.2699208282991628,-0.6115479531451279,0.888004086618221,-0.16824686224817828,0.5678427897742637,-0.10410397427380996,-2.3038112907761277,0.41334310863275886,1.6928037846747235,0.392241308944528,-0.60184778036844,0.15205225924987986,1.6218704586678105,0.2201422071654261,-1.3786178164447496,-0.19056231682640878,-1.9889018202432063,-0.280718466698838,-1.771621395021947,1.155531507522197,-0.4552613825429717,-0.14485092590175166,-1.4283535464664365,-0.03840435986495959,-0.48667075998421944,-0.9941041935759036,-0.43719948750326876,1.2258685272598313,0.41068441181305554,0.7819145340879001,0.38400754270393317,-0.2149342584479373,-0.06703890319057035,0.355262197350419,-0.4613181548267008,-0.8533370162794723,-1.744887650467091,-0.7983995491067819,0.03200564722701361,1.2726655310355808,0.1599056042426869,0.756455417298015,0.5128717405086298,1.2974121723462697,0.8823627599399996,-0.567302174615601,0.0697729567365461],\"yaxis\":\"y5\",\"type\":\"scatter\"},{\"histfunc\":\"count\",\"histnorm\":\"\",\"marker\":{\"color\":\"rgba(55, 128, 191, 1.0)\",\"line\":{\"color\":\"#4D5663\",\"width\":1.3}},\"name\":\"B\",\"nbinsx\":10,\"opacity\":0.8,\"orientation\":\"v\",\"x\":[0.020446733117837387,-0.13142655753710328,2.1552942366317467,-0.7368030167193271,-0.15647700590177263,0.6227231939705729,-1.6691369374293619,-1.2303447427755323,0.643022860548499,0.021586526736260724,-1.7169237831599646,0.22218243580981564,0.36584301376601014,0.026480636897801314,-0.43463437249302705,0.6051183133216308,-0.04743338759975797,-1.0437386290390713,0.7634534487337309,1.8374145183566533,-0.06536138852479652,0.7189252425600876,1.618990179663656,-0.1292282991611609,1.1273662797944604,0.6190874181543614,0.06368225620831357,0.46551790697162204,1.209953364299594,-2.369297044199571,0.8474003322921112,-0.940570263581015,-1.733441623719393,0.026841257964993363,-1.16890351164535,2.444181611176374,0.32751014394035766,-0.7403796216695913,0.974192465330595,-1.3419718295456629,0.06753401710505501,0.3995579413779053,1.4715788524730944,1.3058590299377058,0.47396800523908605,-0.8533959337453239,-0.04513824946522313,1.5989310069722822,0.8209975940625924,0.9130159745522907,0.631805379794073,0.6871572685821035,0.4045330817197545,1.2699208282991628,-0.6115479531451279,0.888004086618221,-0.16824686224817828,0.5678427897742637,-0.10410397427380996,-2.3038112907761277,0.41334310863275886,1.6928037846747235,0.392241308944528,-0.60184778036844,0.15205225924987986,1.6218704586678105,0.2201422071654261,-1.3786178164447496,-0.19056231682640878,-1.9889018202432063,-0.280718466698838,-1.771621395021947,1.155531507522197,-0.4552613825429717,-0.14485092590175166,-1.4283535464664365,-0.03840435986495959,-0.48667075998421944,-0.9941041935759036,-0.43719948750326876,1.2258685272598313,0.41068441181305554,0.7819145340879001,0.38400754270393317,-0.2149342584479373,-0.06703890319057035,0.355262197350419,-0.4613181548267008,-0.8533370162794723,-1.744887650467091,-0.7983995491067819,0.03200564722701361,1.2726655310355808,0.1599056042426869,0.756455417298015,0.5128717405086298,1.2974121723462697,0.8823627599399996,-0.567302174615601,0.0697729567365461],\"xaxis\":\"x6\",\"yaxis\":\"y6\",\"type\":\"histogram\"},{\"line\":{\"color\":\"rgba(128, 128, 128, 1.0)\",\"dash\":\"solid\",\"shape\":\"linear\",\"width\":1.3},\"marker\":{\"size\":2,\"symbol\":\"circle\"},\"mode\":\"markers\",\"name\":\"B\",\"text\":\"\",\"x\":[0.22732938506030448,-0.5643669302842955,-1.313722011081908,1.0163970133207245,0.5229582751053584,0.595833021756602,0.11344979750684121,0.7747931294729858,-1.568519653457817,0.6187789381697351,-1.0383969049034958,-1.6875743505925955,0.6186950148297927,-0.04204938040299849,0.09662339062791474,-0.1568688808670259,0.346524119463329,-1.429493553357895,-0.7466904358430473,-1.0180672553465524,0.7008780191227159,0.30696332826553274,-0.31143775218437814,1.825488504701764,0.35516864391917474,-0.38946556987045367,-0.6392573005794727,-1.091679868647396,-1.0446751563544818,0.4325562578560166,1.3018270911586034,1.112556888348836,-0.7731044626717067,-0.614744560394022,-0.8695130832810692,0.7871129659713763,1.452485209986683,-0.562010754629272,0.6573493790409521,1.815247685635861,-0.326140134461283,2.2714807032998694,0.38365460401999896,1.020130050934682,0.697603120171272,0.5795947310854617,-0.08591242375449441,-1.057789044213953,-0.1114765716237359,0.777809823132227,0.7685945504497308,-0.030538124608908396,-0.018533530874105784,-0.5692750110003424,2.5255605365251323,-0.8212829782259444,0.3321730707361428,0.5333999185030921,-0.08706769349988827,-1.0485261616848858,0.30040476151573203,-0.9458791527522263,2.489871585940211,-1.8713242575511513,-0.1616233238488484,-0.17112135867959025,0.09838102764715186,0.10023229886659617,2.762206064299176,-0.9417919800836461,-1.1413166219516113,-0.4664334734813527,0.004734173816949858,0.27625032417049566,-1.612359086650145,0.4080191930426905,-0.9092042775507635,-0.2035328180827829,-0.8644537681515296,-0.711102715034272,-1.610044441107284,-0.8342944210699971,1.2713088416439782,0.434400974815181,0.8443958621352657,-0.16525839864417344,1.5080985276725194,0.3470001222237344,-1.2288651037203575,0.293108662128752,-0.3305845512896531,-1.780722721415806,-1.2311573483105316,-1.1466498341572549,-0.16712154575823085,-1.0748903216037546,-0.399294360798341,0.29726369047821,0.5637649065705606,-1.6124846290428798],\"xaxis\":\"x7\",\"y\":[0.020446733117837387,-0.13142655753710328,2.1552942366317467,-0.7368030167193271,-0.15647700590177263,0.6227231939705729,-1.6691369374293619,-1.2303447427755323,0.643022860548499,0.021586526736260724,-1.7169237831599646,0.22218243580981564,0.36584301376601014,0.026480636897801314,-0.43463437249302705,0.6051183133216308,-0.04743338759975797,-1.0437386290390713,0.7634534487337309,1.8374145183566533,-0.06536138852479652,0.7189252425600876,1.618990179663656,-0.1292282991611609,1.1273662797944604,0.6190874181543614,0.06368225620831357,0.46551790697162204,1.209953364299594,-2.369297044199571,0.8474003322921112,-0.940570263581015,-1.733441623719393,0.026841257964993363,-1.16890351164535,2.444181611176374,0.32751014394035766,-0.7403796216695913,0.974192465330595,-1.3419718295456629,0.06753401710505501,0.3995579413779053,1.4715788524730944,1.3058590299377058,0.47396800523908605,-0.8533959337453239,-0.04513824946522313,1.5989310069722822,0.8209975940625924,0.9130159745522907,0.631805379794073,0.6871572685821035,0.4045330817197545,1.2699208282991628,-0.6115479531451279,0.888004086618221,-0.16824686224817828,0.5678427897742637,-0.10410397427380996,-2.3038112907761277,0.41334310863275886,1.6928037846747235,0.392241308944528,-0.60184778036844,0.15205225924987986,1.6218704586678105,0.2201422071654261,-1.3786178164447496,-0.19056231682640878,-1.9889018202432063,-0.280718466698838,-1.771621395021947,1.155531507522197,-0.4552613825429717,-0.14485092590175166,-1.4283535464664365,-0.03840435986495959,-0.48667075998421944,-0.9941041935759036,-0.43719948750326876,1.2258685272598313,0.41068441181305554,0.7819145340879001,0.38400754270393317,-0.2149342584479373,-0.06703890319057035,0.355262197350419,-0.4613181548267008,-0.8533370162794723,-1.744887650467091,-0.7983995491067819,0.03200564722701361,1.2726655310355808,0.1599056042426869,0.756455417298015,0.5128717405086298,1.2974121723462697,0.8823627599399996,-0.567302174615601,0.0697729567365461],\"yaxis\":\"y7\",\"type\":\"scatter\"},{\"line\":{\"color\":\"rgba(128, 128, 128, 1.0)\",\"dash\":\"solid\",\"shape\":\"linear\",\"width\":1.3},\"marker\":{\"size\":2,\"symbol\":\"circle\"},\"mode\":\"markers\",\"name\":\"B\",\"text\":\"\",\"x\":[0.11217771970799818,0.39477392305306097,-0.6359822678110904,-0.17596600208882143,1.0905878457835223,-0.21352131965121662,-0.016626607222570096,-1.1133666517931138,0.4525476031536588,-1.2510496534635616,2.918575284528553,0.12805362295907827,-0.16201779720114132,-1.6132198624318677,-0.35277979723911507,-1.1362752153118836,1.368161680526287,-1.0437923672559235,-0.7398038635483111,0.00459272667543897,0.875489098040318,-0.4893680617860016,0.4576602143537095,1.894714670073871,0.14983496682169892,1.4075540868517387,1.2033377322553152,2.1859911780898575,-0.45081763797717067,-0.2025028100014118,1.01149308161552,0.6964239541863181,0.7883417392529258,-0.007985737874252082,1.1458029482951884,-0.40235737437457925,-1.8355464509386143,1.2902283139453403,-0.3515926552114298,0.025628821213945503,0.9077766275682648,-2.0057443039000935,0.3837364593184679,1.7664451480034642,-0.800134531633424,0.48568720261757,0.49643773643784755,0.12317982550121122,0.3720751006775519,-0.37483094708892506,1.494865905332058,1.453972813605369,-1.1321177408728615,0.8321134858548878,-0.3789547830190396,0.8112663382216834,-2.1567893714755715,1.222028931609825,-1.1279953086462295,0.47202666348057615,-0.010321353996273118,-0.27291938273255617,-0.8669337703947283,-0.2030125878043635,-0.2909312007530726,0.8225310825414889,0.10905235941003295,0.44089934178858253,0.760699307521531,-0.40083305559310706,-2.4821152430767532,0.596903430626642,0.37683664931203636,1.3437503100681012,-1.2720862912169242,-0.3736302716050329,0.3093762055520044,0.7706661965543218,0.7635088052740517,-0.24992815278168945,0.08287011750932755,0.5357142688268939,-0.13432890079377094,-0.3530411912246393,-0.4773793846878311,-0.7343947951715286,0.6473540733438989,0.18341366164022121,0.5031180260567227,-0.16985512294781832,0.5287611207169758,1.5523393053212802,0.23336625645824333,0.012565043064252893,-0.8822423606821992,0.3716550653445206,0.8422688943004077,-1.6773495783230186,0.2421018678565944,-1.3883186278227082],\"xaxis\":\"x8\",\"y\":[0.020446733117837387,-0.13142655753710328,2.1552942366317467,-0.7368030167193271,-0.15647700590177263,0.6227231939705729,-1.6691369374293619,-1.2303447427755323,0.643022860548499,0.021586526736260724,-1.7169237831599646,0.22218243580981564,0.36584301376601014,0.026480636897801314,-0.43463437249302705,0.6051183133216308,-0.04743338759975797,-1.0437386290390713,0.7634534487337309,1.8374145183566533,-0.06536138852479652,0.7189252425600876,1.618990179663656,-0.1292282991611609,1.1273662797944604,0.6190874181543614,0.06368225620831357,0.46551790697162204,1.209953364299594,-2.369297044199571,0.8474003322921112,-0.940570263581015,-1.733441623719393,0.026841257964993363,-1.16890351164535,2.444181611176374,0.32751014394035766,-0.7403796216695913,0.974192465330595,-1.3419718295456629,0.06753401710505501,0.3995579413779053,1.4715788524730944,1.3058590299377058,0.47396800523908605,-0.8533959337453239,-0.04513824946522313,1.5989310069722822,0.8209975940625924,0.9130159745522907,0.631805379794073,0.6871572685821035,0.4045330817197545,1.2699208282991628,-0.6115479531451279,0.888004086618221,-0.16824686224817828,0.5678427897742637,-0.10410397427380996,-2.3038112907761277,0.41334310863275886,1.6928037846747235,0.392241308944528,-0.60184778036844,0.15205225924987986,1.6218704586678105,0.2201422071654261,-1.3786178164447496,-0.19056231682640878,-1.9889018202432063,-0.280718466698838,-1.771621395021947,1.155531507522197,-0.4552613825429717,-0.14485092590175166,-1.4283535464664365,-0.03840435986495959,-0.48667075998421944,-0.9941041935759036,-0.43719948750326876,1.2258685272598313,0.41068441181305554,0.7819145340879001,0.38400754270393317,-0.2149342584479373,-0.06703890319057035,0.355262197350419,-0.4613181548267008,-0.8533370162794723,-1.744887650467091,-0.7983995491067819,0.03200564722701361,1.2726655310355808,0.1599056042426869,0.756455417298015,0.5128717405086298,1.2974121723462697,0.8823627599399996,-0.567302174615601,0.0697729567365461],\"yaxis\":\"y8\",\"type\":\"scatter\"},{\"line\":{\"color\":\"rgba(128, 128, 128, 1.0)\",\"dash\":\"solid\",\"shape\":\"linear\",\"width\":1.3},\"marker\":{\"size\":2,\"symbol\":\"circle\"},\"mode\":\"markers\",\"name\":\"C\",\"text\":\"\",\"x\":[1.703030536865381,0.057715736526326965,1.806753252426194,-0.28507382165451167,0.8448103032083629,1.9356544563192983,0.25265645003993437,-0.7108407175975264,0.20407341105116586,-0.9631835128284022,-2.313929528277395,1.8504210053906285,0.11575887999256226,-1.6797795335634507,0.32101675906697663,-0.029421517263010833,0.916862588487737,0.5005943184489355,0.47748875080863645,-1.4445253371836875,-0.7490423417159519,0.8307497872518788,-1.2944740230747616,0.562061709877203,0.8221148785197783,-0.7523094282677261,-0.26373004757776175,0.5258232470067837,0.940979809508781,0.23178863608136288,-0.3999835749531784,-1.5877557479545665,1.3117797268833151,0.5277915175274164,0.055985875744130185,0.22757050286605102,-1.0518642709521109,-2.2809456910838524,-0.1304241624464754,-0.1908037005073423,0.24896485240145314,-0.04471771013045752,-0.9701184869344839,1.0990611188514359,0.12340353879664699,0.0753800392632158,-0.0662171730054763,-0.35308229736830216,-0.10945749618170171,-1.6329769246665042,-2.2167020173795096,0.2726812030775698,-0.1455257739888572,0.6511061330588763,-0.4401251895987155,-0.4561258898920153,0.09968968653804522,-0.6599742180242933,-1.530117369231545,-0.6996345378686805,1.4655432843735978,0.1440603081792614,-0.7928080218222593,0.9629631226294447,0.21702547598133207,-0.041302322471019656,0.6933637350395077,0.15085198288439183,-0.5110684458127188,0.7423426360891041,-0.2790365281483132,-0.21438293119597363,1.3897821201574414,-0.05515767789216785,-1.18290717597586,1.5145019130226023,0.08103465020839139,-1.376004787846036,1.365053587926242,0.18655028290427167,0.1568399485803906,0.2093824677298707,-0.03481088445587469,0.9900655976655112,0.47820191801570666,-1.3762517202742317,0.982440826684452,0.35343255249727457,-0.5787230512640728,0.4663012854591553,-1.0989913782473266,0.4573973997223406,-1.6674459041243,0.13256166644037015,-0.7662112574506679,-0.6030276098968368,2.324055715057974,0.519139017155852,1.5854011486856008,-0.8140182188847669],\"xaxis\":\"x9\",\"y\":[0.22732938506030448,-0.5643669302842955,-1.313722011081908,1.0163970133207245,0.5229582751053584,0.595833021756602,0.11344979750684121,0.7747931294729858,-1.568519653457817,0.6187789381697351,-1.0383969049034958,-1.6875743505925955,0.6186950148297927,-0.04204938040299849,0.09662339062791474,-0.1568688808670259,0.346524119463329,-1.429493553357895,-0.7466904358430473,-1.0180672553465524,0.7008780191227159,0.30696332826553274,-0.31143775218437814,1.825488504701764,0.35516864391917474,-0.38946556987045367,-0.6392573005794727,-1.091679868647396,-1.0446751563544818,0.4325562578560166,1.3018270911586034,1.112556888348836,-0.7731044626717067,-0.614744560394022,-0.8695130832810692,0.7871129659713763,1.452485209986683,-0.562010754629272,0.6573493790409521,1.815247685635861,-0.326140134461283,2.2714807032998694,0.38365460401999896,1.020130050934682,0.697603120171272,0.5795947310854617,-0.08591242375449441,-1.057789044213953,-0.1114765716237359,0.777809823132227,0.7685945504497308,-0.030538124608908396,-0.018533530874105784,-0.5692750110003424,2.5255605365251323,-0.8212829782259444,0.3321730707361428,0.5333999185030921,-0.08706769349988827,-1.0485261616848858,0.30040476151573203,-0.9458791527522263,2.489871585940211,-1.8713242575511513,-0.1616233238488484,-0.17112135867959025,0.09838102764715186,0.10023229886659617,2.762206064299176,-0.9417919800836461,-1.1413166219516113,-0.4664334734813527,0.004734173816949858,0.27625032417049566,-1.612359086650145,0.4080191930426905,-0.9092042775507635,-0.2035328180827829,-0.8644537681515296,-0.711102715034272,-1.610044441107284,-0.8342944210699971,1.2713088416439782,0.434400974815181,0.8443958621352657,-0.16525839864417344,1.5080985276725194,0.3470001222237344,-1.2288651037203575,0.293108662128752,-0.3305845512896531,-1.780722721415806,-1.2311573483105316,-1.1466498341572549,-0.16712154575823085,-1.0748903216037546,-0.399294360798341,0.29726369047821,0.5637649065705606,-1.6124846290428798],\"yaxis\":\"y9\",\"type\":\"scatter\"},{\"line\":{\"color\":\"rgba(128, 128, 128, 1.0)\",\"dash\":\"solid\",\"shape\":\"linear\",\"width\":1.3},\"marker\":{\"size\":2,\"symbol\":\"circle\"},\"mode\":\"markers\",\"name\":\"C\",\"text\":\"\",\"x\":[0.020446733117837387,-0.13142655753710328,2.1552942366317467,-0.7368030167193271,-0.15647700590177263,0.6227231939705729,-1.6691369374293619,-1.2303447427755323,0.643022860548499,0.021586526736260724,-1.7169237831599646,0.22218243580981564,0.36584301376601014,0.026480636897801314,-0.43463437249302705,0.6051183133216308,-0.04743338759975797,-1.0437386290390713,0.7634534487337309,1.8374145183566533,-0.06536138852479652,0.7189252425600876,1.618990179663656,-0.1292282991611609,1.1273662797944604,0.6190874181543614,0.06368225620831357,0.46551790697162204,1.209953364299594,-2.369297044199571,0.8474003322921112,-0.940570263581015,-1.733441623719393,0.026841257964993363,-1.16890351164535,2.444181611176374,0.32751014394035766,-0.7403796216695913,0.974192465330595,-1.3419718295456629,0.06753401710505501,0.3995579413779053,1.4715788524730944,1.3058590299377058,0.47396800523908605,-0.8533959337453239,-0.04513824946522313,1.5989310069722822,0.8209975940625924,0.9130159745522907,0.631805379794073,0.6871572685821035,0.4045330817197545,1.2699208282991628,-0.6115479531451279,0.888004086618221,-0.16824686224817828,0.5678427897742637,-0.10410397427380996,-2.3038112907761277,0.41334310863275886,1.6928037846747235,0.392241308944528,-0.60184778036844,0.15205225924987986,1.6218704586678105,0.2201422071654261,-1.3786178164447496,-0.19056231682640878,-1.9889018202432063,-0.280718466698838,-1.771621395021947,1.155531507522197,-0.4552613825429717,-0.14485092590175166,-1.4283535464664365,-0.03840435986495959,-0.48667075998421944,-0.9941041935759036,-0.43719948750326876,1.2258685272598313,0.41068441181305554,0.7819145340879001,0.38400754270393317,-0.2149342584479373,-0.06703890319057035,0.355262197350419,-0.4613181548267008,-0.8533370162794723,-1.744887650467091,-0.7983995491067819,0.03200564722701361,1.2726655310355808,0.1599056042426869,0.756455417298015,0.5128717405086298,1.2974121723462697,0.8823627599399996,-0.567302174615601,0.0697729567365461],\"xaxis\":\"x10\",\"y\":[0.22732938506030448,-0.5643669302842955,-1.313722011081908,1.0163970133207245,0.5229582751053584,0.595833021756602,0.11344979750684121,0.7747931294729858,-1.568519653457817,0.6187789381697351,-1.0383969049034958,-1.6875743505925955,0.6186950148297927,-0.04204938040299849,0.09662339062791474,-0.1568688808670259,0.346524119463329,-1.429493553357895,-0.7466904358430473,-1.0180672553465524,0.7008780191227159,0.30696332826553274,-0.31143775218437814,1.825488504701764,0.35516864391917474,-0.38946556987045367,-0.6392573005794727,-1.091679868647396,-1.0446751563544818,0.4325562578560166,1.3018270911586034,1.112556888348836,-0.7731044626717067,-0.614744560394022,-0.8695130832810692,0.7871129659713763,1.452485209986683,-0.562010754629272,0.6573493790409521,1.815247685635861,-0.326140134461283,2.2714807032998694,0.38365460401999896,1.020130050934682,0.697603120171272,0.5795947310854617,-0.08591242375449441,-1.057789044213953,-0.1114765716237359,0.777809823132227,0.7685945504497308,-0.030538124608908396,-0.018533530874105784,-0.5692750110003424,2.5255605365251323,-0.8212829782259444,0.3321730707361428,0.5333999185030921,-0.08706769349988827,-1.0485261616848858,0.30040476151573203,-0.9458791527522263,2.489871585940211,-1.8713242575511513,-0.1616233238488484,-0.17112135867959025,0.09838102764715186,0.10023229886659617,2.762206064299176,-0.9417919800836461,-1.1413166219516113,-0.4664334734813527,0.004734173816949858,0.27625032417049566,-1.612359086650145,0.4080191930426905,-0.9092042775507635,-0.2035328180827829,-0.8644537681515296,-0.711102715034272,-1.610044441107284,-0.8342944210699971,1.2713088416439782,0.434400974815181,0.8443958621352657,-0.16525839864417344,1.5080985276725194,0.3470001222237344,-1.2288651037203575,0.293108662128752,-0.3305845512896531,-1.780722721415806,-1.2311573483105316,-1.1466498341572549,-0.16712154575823085,-1.0748903216037546,-0.399294360798341,0.29726369047821,0.5637649065705606,-1.6124846290428798],\"yaxis\":\"y10\",\"type\":\"scatter\"},{\"histfunc\":\"count\",\"histnorm\":\"\",\"marker\":{\"color\":\"rgba(50, 171, 96, 1.0)\",\"line\":{\"color\":\"#4D5663\",\"width\":1.3}},\"name\":\"C\",\"nbinsx\":10,\"opacity\":0.8,\"orientation\":\"v\",\"x\":[0.22732938506030448,-0.5643669302842955,-1.313722011081908,1.0163970133207245,0.5229582751053584,0.595833021756602,0.11344979750684121,0.7747931294729858,-1.568519653457817,0.6187789381697351,-1.0383969049034958,-1.6875743505925955,0.6186950148297927,-0.04204938040299849,0.09662339062791474,-0.1568688808670259,0.346524119463329,-1.429493553357895,-0.7466904358430473,-1.0180672553465524,0.7008780191227159,0.30696332826553274,-0.31143775218437814,1.825488504701764,0.35516864391917474,-0.38946556987045367,-0.6392573005794727,-1.091679868647396,-1.0446751563544818,0.4325562578560166,1.3018270911586034,1.112556888348836,-0.7731044626717067,-0.614744560394022,-0.8695130832810692,0.7871129659713763,1.452485209986683,-0.562010754629272,0.6573493790409521,1.815247685635861,-0.326140134461283,2.2714807032998694,0.38365460401999896,1.020130050934682,0.697603120171272,0.5795947310854617,-0.08591242375449441,-1.057789044213953,-0.1114765716237359,0.777809823132227,0.7685945504497308,-0.030538124608908396,-0.018533530874105784,-0.5692750110003424,2.5255605365251323,-0.8212829782259444,0.3321730707361428,0.5333999185030921,-0.08706769349988827,-1.0485261616848858,0.30040476151573203,-0.9458791527522263,2.489871585940211,-1.8713242575511513,-0.1616233238488484,-0.17112135867959025,0.09838102764715186,0.10023229886659617,2.762206064299176,-0.9417919800836461,-1.1413166219516113,-0.4664334734813527,0.004734173816949858,0.27625032417049566,-1.612359086650145,0.4080191930426905,-0.9092042775507635,-0.2035328180827829,-0.8644537681515296,-0.711102715034272,-1.610044441107284,-0.8342944210699971,1.2713088416439782,0.434400974815181,0.8443958621352657,-0.16525839864417344,1.5080985276725194,0.3470001222237344,-1.2288651037203575,0.293108662128752,-0.3305845512896531,-1.780722721415806,-1.2311573483105316,-1.1466498341572549,-0.16712154575823085,-1.0748903216037546,-0.399294360798341,0.29726369047821,0.5637649065705606,-1.6124846290428798],\"xaxis\":\"x11\",\"yaxis\":\"y11\",\"type\":\"histogram\"},{\"line\":{\"color\":\"rgba(128, 128, 128, 1.0)\",\"dash\":\"solid\",\"shape\":\"linear\",\"width\":1.3},\"marker\":{\"size\":2,\"symbol\":\"circle\"},\"mode\":\"markers\",\"name\":\"C\",\"text\":\"\",\"x\":[0.11217771970799818,0.39477392305306097,-0.6359822678110904,-0.17596600208882143,1.0905878457835223,-0.21352131965121662,-0.016626607222570096,-1.1133666517931138,0.4525476031536588,-1.2510496534635616,2.918575284528553,0.12805362295907827,-0.16201779720114132,-1.6132198624318677,-0.35277979723911507,-1.1362752153118836,1.368161680526287,-1.0437923672559235,-0.7398038635483111,0.00459272667543897,0.875489098040318,-0.4893680617860016,0.4576602143537095,1.894714670073871,0.14983496682169892,1.4075540868517387,1.2033377322553152,2.1859911780898575,-0.45081763797717067,-0.2025028100014118,1.01149308161552,0.6964239541863181,0.7883417392529258,-0.007985737874252082,1.1458029482951884,-0.40235737437457925,-1.8355464509386143,1.2902283139453403,-0.3515926552114298,0.025628821213945503,0.9077766275682648,-2.0057443039000935,0.3837364593184679,1.7664451480034642,-0.800134531633424,0.48568720261757,0.49643773643784755,0.12317982550121122,0.3720751006775519,-0.37483094708892506,1.494865905332058,1.453972813605369,-1.1321177408728615,0.8321134858548878,-0.3789547830190396,0.8112663382216834,-2.1567893714755715,1.222028931609825,-1.1279953086462295,0.47202666348057615,-0.010321353996273118,-0.27291938273255617,-0.8669337703947283,-0.2030125878043635,-0.2909312007530726,0.8225310825414889,0.10905235941003295,0.44089934178858253,0.760699307521531,-0.40083305559310706,-2.4821152430767532,0.596903430626642,0.37683664931203636,1.3437503100681012,-1.2720862912169242,-0.3736302716050329,0.3093762055520044,0.7706661965543218,0.7635088052740517,-0.24992815278168945,0.08287011750932755,0.5357142688268939,-0.13432890079377094,-0.3530411912246393,-0.4773793846878311,-0.7343947951715286,0.6473540733438989,0.18341366164022121,0.5031180260567227,-0.16985512294781832,0.5287611207169758,1.5523393053212802,0.23336625645824333,0.012565043064252893,-0.8822423606821992,0.3716550653445206,0.8422688943004077,-1.6773495783230186,0.2421018678565944,-1.3883186278227082],\"xaxis\":\"x12\",\"y\":[0.22732938506030448,-0.5643669302842955,-1.313722011081908,1.0163970133207245,0.5229582751053584,0.595833021756602,0.11344979750684121,0.7747931294729858,-1.568519653457817,0.6187789381697351,-1.0383969049034958,-1.6875743505925955,0.6186950148297927,-0.04204938040299849,0.09662339062791474,-0.1568688808670259,0.346524119463329,-1.429493553357895,-0.7466904358430473,-1.0180672553465524,0.7008780191227159,0.30696332826553274,-0.31143775218437814,1.825488504701764,0.35516864391917474,-0.38946556987045367,-0.6392573005794727,-1.091679868647396,-1.0446751563544818,0.4325562578560166,1.3018270911586034,1.112556888348836,-0.7731044626717067,-0.614744560394022,-0.8695130832810692,0.7871129659713763,1.452485209986683,-0.562010754629272,0.6573493790409521,1.815247685635861,-0.326140134461283,2.2714807032998694,0.38365460401999896,1.020130050934682,0.697603120171272,0.5795947310854617,-0.08591242375449441,-1.057789044213953,-0.1114765716237359,0.777809823132227,0.7685945504497308,-0.030538124608908396,-0.018533530874105784,-0.5692750110003424,2.5255605365251323,-0.8212829782259444,0.3321730707361428,0.5333999185030921,-0.08706769349988827,-1.0485261616848858,0.30040476151573203,-0.9458791527522263,2.489871585940211,-1.8713242575511513,-0.1616233238488484,-0.17112135867959025,0.09838102764715186,0.10023229886659617,2.762206064299176,-0.9417919800836461,-1.1413166219516113,-0.4664334734813527,0.004734173816949858,0.27625032417049566,-1.612359086650145,0.4080191930426905,-0.9092042775507635,-0.2035328180827829,-0.8644537681515296,-0.711102715034272,-1.610044441107284,-0.8342944210699971,1.2713088416439782,0.434400974815181,0.8443958621352657,-0.16525839864417344,1.5080985276725194,0.3470001222237344,-1.2288651037203575,0.293108662128752,-0.3305845512896531,-1.780722721415806,-1.2311573483105316,-1.1466498341572549,-0.16712154575823085,-1.0748903216037546,-0.399294360798341,0.29726369047821,0.5637649065705606,-1.6124846290428798],\"yaxis\":\"y12\",\"type\":\"scatter\"},{\"line\":{\"color\":\"rgba(128, 128, 128, 1.0)\",\"dash\":\"solid\",\"shape\":\"linear\",\"width\":1.3},\"marker\":{\"size\":2,\"symbol\":\"circle\"},\"mode\":\"markers\",\"name\":\"D\",\"text\":\"\",\"x\":[1.703030536865381,0.057715736526326965,1.806753252426194,-0.28507382165451167,0.8448103032083629,1.9356544563192983,0.25265645003993437,-0.7108407175975264,0.20407341105116586,-0.9631835128284022,-2.313929528277395,1.8504210053906285,0.11575887999256226,-1.6797795335634507,0.32101675906697663,-0.029421517263010833,0.916862588487737,0.5005943184489355,0.47748875080863645,-1.4445253371836875,-0.7490423417159519,0.8307497872518788,-1.2944740230747616,0.562061709877203,0.8221148785197783,-0.7523094282677261,-0.26373004757776175,0.5258232470067837,0.940979809508781,0.23178863608136288,-0.3999835749531784,-1.5877557479545665,1.3117797268833151,0.5277915175274164,0.055985875744130185,0.22757050286605102,-1.0518642709521109,-2.2809456910838524,-0.1304241624464754,-0.1908037005073423,0.24896485240145314,-0.04471771013045752,-0.9701184869344839,1.0990611188514359,0.12340353879664699,0.0753800392632158,-0.0662171730054763,-0.35308229736830216,-0.10945749618170171,-1.6329769246665042,-2.2167020173795096,0.2726812030775698,-0.1455257739888572,0.6511061330588763,-0.4401251895987155,-0.4561258898920153,0.09968968653804522,-0.6599742180242933,-1.530117369231545,-0.6996345378686805,1.4655432843735978,0.1440603081792614,-0.7928080218222593,0.9629631226294447,0.21702547598133207,-0.041302322471019656,0.6933637350395077,0.15085198288439183,-0.5110684458127188,0.7423426360891041,-0.2790365281483132,-0.21438293119597363,1.3897821201574414,-0.05515767789216785,-1.18290717597586,1.5145019130226023,0.08103465020839139,-1.376004787846036,1.365053587926242,0.18655028290427167,0.1568399485803906,0.2093824677298707,-0.03481088445587469,0.9900655976655112,0.47820191801570666,-1.3762517202742317,0.982440826684452,0.35343255249727457,-0.5787230512640728,0.4663012854591553,-1.0989913782473266,0.4573973997223406,-1.6674459041243,0.13256166644037015,-0.7662112574506679,-0.6030276098968368,2.324055715057974,0.519139017155852,1.5854011486856008,-0.8140182188847669],\"xaxis\":\"x13\",\"y\":[0.11217771970799818,0.39477392305306097,-0.6359822678110904,-0.17596600208882143,1.0905878457835223,-0.21352131965121662,-0.016626607222570096,-1.1133666517931138,0.4525476031536588,-1.2510496534635616,2.918575284528553,0.12805362295907827,-0.16201779720114132,-1.6132198624318677,-0.35277979723911507,-1.1362752153118836,1.368161680526287,-1.0437923672559235,-0.7398038635483111,0.00459272667543897,0.875489098040318,-0.4893680617860016,0.4576602143537095,1.894714670073871,0.14983496682169892,1.4075540868517387,1.2033377322553152,2.1859911780898575,-0.45081763797717067,-0.2025028100014118,1.01149308161552,0.6964239541863181,0.7883417392529258,-0.007985737874252082,1.1458029482951884,-0.40235737437457925,-1.8355464509386143,1.2902283139453403,-0.3515926552114298,0.025628821213945503,0.9077766275682648,-2.0057443039000935,0.3837364593184679,1.7664451480034642,-0.800134531633424,0.48568720261757,0.49643773643784755,0.12317982550121122,0.3720751006775519,-0.37483094708892506,1.494865905332058,1.453972813605369,-1.1321177408728615,0.8321134858548878,-0.3789547830190396,0.8112663382216834,-2.1567893714755715,1.222028931609825,-1.1279953086462295,0.47202666348057615,-0.010321353996273118,-0.27291938273255617,-0.8669337703947283,-0.2030125878043635,-0.2909312007530726,0.8225310825414889,0.10905235941003295,0.44089934178858253,0.760699307521531,-0.40083305559310706,-2.4821152430767532,0.596903430626642,0.37683664931203636,1.3437503100681012,-1.2720862912169242,-0.3736302716050329,0.3093762055520044,0.7706661965543218,0.7635088052740517,-0.24992815278168945,0.08287011750932755,0.5357142688268939,-0.13432890079377094,-0.3530411912246393,-0.4773793846878311,-0.7343947951715286,0.6473540733438989,0.18341366164022121,0.5031180260567227,-0.16985512294781832,0.5287611207169758,1.5523393053212802,0.23336625645824333,0.012565043064252893,-0.8822423606821992,0.3716550653445206,0.8422688943004077,-1.6773495783230186,0.2421018678565944,-1.3883186278227082],\"yaxis\":\"y13\",\"type\":\"scatter\"},{\"line\":{\"color\":\"rgba(128, 128, 128, 1.0)\",\"dash\":\"solid\",\"shape\":\"linear\",\"width\":1.3},\"marker\":{\"size\":2,\"symbol\":\"circle\"},\"mode\":\"markers\",\"name\":\"D\",\"text\":\"\",\"x\":[0.020446733117837387,-0.13142655753710328,2.1552942366317467,-0.7368030167193271,-0.15647700590177263,0.6227231939705729,-1.6691369374293619,-1.2303447427755323,0.643022860548499,0.021586526736260724,-1.7169237831599646,0.22218243580981564,0.36584301376601014,0.026480636897801314,-0.43463437249302705,0.6051183133216308,-0.04743338759975797,-1.0437386290390713,0.7634534487337309,1.8374145183566533,-0.06536138852479652,0.7189252425600876,1.618990179663656,-0.1292282991611609,1.1273662797944604,0.6190874181543614,0.06368225620831357,0.46551790697162204,1.209953364299594,-2.369297044199571,0.8474003322921112,-0.940570263581015,-1.733441623719393,0.026841257964993363,-1.16890351164535,2.444181611176374,0.32751014394035766,-0.7403796216695913,0.974192465330595,-1.3419718295456629,0.06753401710505501,0.3995579413779053,1.4715788524730944,1.3058590299377058,0.47396800523908605,-0.8533959337453239,-0.04513824946522313,1.5989310069722822,0.8209975940625924,0.9130159745522907,0.631805379794073,0.6871572685821035,0.4045330817197545,1.2699208282991628,-0.6115479531451279,0.888004086618221,-0.16824686224817828,0.5678427897742637,-0.10410397427380996,-2.3038112907761277,0.41334310863275886,1.6928037846747235,0.392241308944528,-0.60184778036844,0.15205225924987986,1.6218704586678105,0.2201422071654261,-1.3786178164447496,-0.19056231682640878,-1.9889018202432063,-0.280718466698838,-1.771621395021947,1.155531507522197,-0.4552613825429717,-0.14485092590175166,-1.4283535464664365,-0.03840435986495959,-0.48667075998421944,-0.9941041935759036,-0.43719948750326876,1.2258685272598313,0.41068441181305554,0.7819145340879001,0.38400754270393317,-0.2149342584479373,-0.06703890319057035,0.355262197350419,-0.4613181548267008,-0.8533370162794723,-1.744887650467091,-0.7983995491067819,0.03200564722701361,1.2726655310355808,0.1599056042426869,0.756455417298015,0.5128717405086298,1.2974121723462697,0.8823627599399996,-0.567302174615601,0.0697729567365461],\"xaxis\":\"x14\",\"y\":[0.11217771970799818,0.39477392305306097,-0.6359822678110904,-0.17596600208882143,1.0905878457835223,-0.21352131965121662,-0.016626607222570096,-1.1133666517931138,0.4525476031536588,-1.2510496534635616,2.918575284528553,0.12805362295907827,-0.16201779720114132,-1.6132198624318677,-0.35277979723911507,-1.1362752153118836,1.368161680526287,-1.0437923672559235,-0.7398038635483111,0.00459272667543897,0.875489098040318,-0.4893680617860016,0.4576602143537095,1.894714670073871,0.14983496682169892,1.4075540868517387,1.2033377322553152,2.1859911780898575,-0.45081763797717067,-0.2025028100014118,1.01149308161552,0.6964239541863181,0.7883417392529258,-0.007985737874252082,1.1458029482951884,-0.40235737437457925,-1.8355464509386143,1.2902283139453403,-0.3515926552114298,0.025628821213945503,0.9077766275682648,-2.0057443039000935,0.3837364593184679,1.7664451480034642,-0.800134531633424,0.48568720261757,0.49643773643784755,0.12317982550121122,0.3720751006775519,-0.37483094708892506,1.494865905332058,1.453972813605369,-1.1321177408728615,0.8321134858548878,-0.3789547830190396,0.8112663382216834,-2.1567893714755715,1.222028931609825,-1.1279953086462295,0.47202666348057615,-0.010321353996273118,-0.27291938273255617,-0.8669337703947283,-0.2030125878043635,-0.2909312007530726,0.8225310825414889,0.10905235941003295,0.44089934178858253,0.760699307521531,-0.40083305559310706,-2.4821152430767532,0.596903430626642,0.37683664931203636,1.3437503100681012,-1.2720862912169242,-0.3736302716050329,0.3093762055520044,0.7706661965543218,0.7635088052740517,-0.24992815278168945,0.08287011750932755,0.5357142688268939,-0.13432890079377094,-0.3530411912246393,-0.4773793846878311,-0.7343947951715286,0.6473540733438989,0.18341366164022121,0.5031180260567227,-0.16985512294781832,0.5287611207169758,1.5523393053212802,0.23336625645824333,0.012565043064252893,-0.8822423606821992,0.3716550653445206,0.8422688943004077,-1.6773495783230186,0.2421018678565944,-1.3883186278227082],\"yaxis\":\"y14\",\"type\":\"scatter\"},{\"line\":{\"color\":\"rgba(128, 128, 128, 1.0)\",\"dash\":\"solid\",\"shape\":\"linear\",\"width\":1.3},\"marker\":{\"size\":2,\"symbol\":\"circle\"},\"mode\":\"markers\",\"name\":\"D\",\"text\":\"\",\"x\":[0.22732938506030448,-0.5643669302842955,-1.313722011081908,1.0163970133207245,0.5229582751053584,0.595833021756602,0.11344979750684121,0.7747931294729858,-1.568519653457817,0.6187789381697351,-1.0383969049034958,-1.6875743505925955,0.6186950148297927,-0.04204938040299849,0.09662339062791474,-0.1568688808670259,0.346524119463329,-1.429493553357895,-0.7466904358430473,-1.0180672553465524,0.7008780191227159,0.30696332826553274,-0.31143775218437814,1.825488504701764,0.35516864391917474,-0.38946556987045367,-0.6392573005794727,-1.091679868647396,-1.0446751563544818,0.4325562578560166,1.3018270911586034,1.112556888348836,-0.7731044626717067,-0.614744560394022,-0.8695130832810692,0.7871129659713763,1.452485209986683,-0.562010754629272,0.6573493790409521,1.815247685635861,-0.326140134461283,2.2714807032998694,0.38365460401999896,1.020130050934682,0.697603120171272,0.5795947310854617,-0.08591242375449441,-1.057789044213953,-0.1114765716237359,0.777809823132227,0.7685945504497308,-0.030538124608908396,-0.018533530874105784,-0.5692750110003424,2.5255605365251323,-0.8212829782259444,0.3321730707361428,0.5333999185030921,-0.08706769349988827,-1.0485261616848858,0.30040476151573203,-0.9458791527522263,2.489871585940211,-1.8713242575511513,-0.1616233238488484,-0.17112135867959025,0.09838102764715186,0.10023229886659617,2.762206064299176,-0.9417919800836461,-1.1413166219516113,-0.4664334734813527,0.004734173816949858,0.27625032417049566,-1.612359086650145,0.4080191930426905,-0.9092042775507635,-0.2035328180827829,-0.8644537681515296,-0.711102715034272,-1.610044441107284,-0.8342944210699971,1.2713088416439782,0.434400974815181,0.8443958621352657,-0.16525839864417344,1.5080985276725194,0.3470001222237344,-1.2288651037203575,0.293108662128752,-0.3305845512896531,-1.780722721415806,-1.2311573483105316,-1.1466498341572549,-0.16712154575823085,-1.0748903216037546,-0.399294360798341,0.29726369047821,0.5637649065705606,-1.6124846290428798],\"xaxis\":\"x15\",\"y\":[0.11217771970799818,0.39477392305306097,-0.6359822678110904,-0.17596600208882143,1.0905878457835223,-0.21352131965121662,-0.016626607222570096,-1.1133666517931138,0.4525476031536588,-1.2510496534635616,2.918575284528553,0.12805362295907827,-0.16201779720114132,-1.6132198624318677,-0.35277979723911507,-1.1362752153118836,1.368161680526287,-1.0437923672559235,-0.7398038635483111,0.00459272667543897,0.875489098040318,-0.4893680617860016,0.4576602143537095,1.894714670073871,0.14983496682169892,1.4075540868517387,1.2033377322553152,2.1859911780898575,-0.45081763797717067,-0.2025028100014118,1.01149308161552,0.6964239541863181,0.7883417392529258,-0.007985737874252082,1.1458029482951884,-0.40235737437457925,-1.8355464509386143,1.2902283139453403,-0.3515926552114298,0.025628821213945503,0.9077766275682648,-2.0057443039000935,0.3837364593184679,1.7664451480034642,-0.800134531633424,0.48568720261757,0.49643773643784755,0.12317982550121122,0.3720751006775519,-0.37483094708892506,1.494865905332058,1.453972813605369,-1.1321177408728615,0.8321134858548878,-0.3789547830190396,0.8112663382216834,-2.1567893714755715,1.222028931609825,-1.1279953086462295,0.47202666348057615,-0.010321353996273118,-0.27291938273255617,-0.8669337703947283,-0.2030125878043635,-0.2909312007530726,0.8225310825414889,0.10905235941003295,0.44089934178858253,0.760699307521531,-0.40083305559310706,-2.4821152430767532,0.596903430626642,0.37683664931203636,1.3437503100681012,-1.2720862912169242,-0.3736302716050329,0.3093762055520044,0.7706661965543218,0.7635088052740517,-0.24992815278168945,0.08287011750932755,0.5357142688268939,-0.13432890079377094,-0.3530411912246393,-0.4773793846878311,-0.7343947951715286,0.6473540733438989,0.18341366164022121,0.5031180260567227,-0.16985512294781832,0.5287611207169758,1.5523393053212802,0.23336625645824333,0.012565043064252893,-0.8822423606821992,0.3716550653445206,0.8422688943004077,-1.6773495783230186,0.2421018678565944,-1.3883186278227082],\"yaxis\":\"y15\",\"type\":\"scatter\"},{\"histfunc\":\"count\",\"histnorm\":\"\",\"marker\":{\"color\":\"rgba(128, 0, 128, 1.0)\",\"line\":{\"color\":\"#4D5663\",\"width\":1.3}},\"name\":\"D\",\"nbinsx\":10,\"opacity\":0.8,\"orientation\":\"v\",\"x\":[0.11217771970799818,0.39477392305306097,-0.6359822678110904,-0.17596600208882143,1.0905878457835223,-0.21352131965121662,-0.016626607222570096,-1.1133666517931138,0.4525476031536588,-1.2510496534635616,2.918575284528553,0.12805362295907827,-0.16201779720114132,-1.6132198624318677,-0.35277979723911507,-1.1362752153118836,1.368161680526287,-1.0437923672559235,-0.7398038635483111,0.00459272667543897,0.875489098040318,-0.4893680617860016,0.4576602143537095,1.894714670073871,0.14983496682169892,1.4075540868517387,1.2033377322553152,2.1859911780898575,-0.45081763797717067,-0.2025028100014118,1.01149308161552,0.6964239541863181,0.7883417392529258,-0.007985737874252082,1.1458029482951884,-0.40235737437457925,-1.8355464509386143,1.2902283139453403,-0.3515926552114298,0.025628821213945503,0.9077766275682648,-2.0057443039000935,0.3837364593184679,1.7664451480034642,-0.800134531633424,0.48568720261757,0.49643773643784755,0.12317982550121122,0.3720751006775519,-0.37483094708892506,1.494865905332058,1.453972813605369,-1.1321177408728615,0.8321134858548878,-0.3789547830190396,0.8112663382216834,-2.1567893714755715,1.222028931609825,-1.1279953086462295,0.47202666348057615,-0.010321353996273118,-0.27291938273255617,-0.8669337703947283,-0.2030125878043635,-0.2909312007530726,0.8225310825414889,0.10905235941003295,0.44089934178858253,0.760699307521531,-0.40083305559310706,-2.4821152430767532,0.596903430626642,0.37683664931203636,1.3437503100681012,-1.2720862912169242,-0.3736302716050329,0.3093762055520044,0.7706661965543218,0.7635088052740517,-0.24992815278168945,0.08287011750932755,0.5357142688268939,-0.13432890079377094,-0.3530411912246393,-0.4773793846878311,-0.7343947951715286,0.6473540733438989,0.18341366164022121,0.5031180260567227,-0.16985512294781832,0.5287611207169758,1.5523393053212802,0.23336625645824333,0.012565043064252893,-0.8822423606821992,0.3716550653445206,0.8422688943004077,-1.6773495783230186,0.2421018678565944,-1.3883186278227082],\"xaxis\":\"x16\",\"yaxis\":\"y16\",\"type\":\"histogram\"}],                        {\"bargap\":0.02,\"legend\":{\"bgcolor\":\"#F5F6F9\",\"font\":{\"color\":\"#4D5663\"}},\"paper_bgcolor\":\"#F5F6F9\",\"plot_bgcolor\":\"#F5F6F9\",\"showlegend\":false,\"template\":{\"data\":{\"barpolar\":[{\"marker\":{\"line\":{\"color\":\"#E5ECF6\",\"width\":0.5},\"pattern\":{\"fillmode\":\"overlay\",\"size\":10,\"solidity\":0.2}},\"type\":\"barpolar\"}],\"bar\":[{\"error_x\":{\"color\":\"#2a3f5f\"},\"error_y\":{\"color\":\"#2a3f5f\"},\"marker\":{\"line\":{\"color\":\"#E5ECF6\",\"width\":0.5},\"pattern\":{\"fillmode\":\"overlay\",\"size\":10,\"solidity\":0.2}},\"type\":\"bar\"}],\"carpet\":[{\"aaxis\":{\"endlinecolor\":\"#2a3f5f\",\"gridcolor\":\"white\",\"linecolor\":\"white\",\"minorgridcolor\":\"white\",\"startlinecolor\":\"#2a3f5f\"},\"baxis\":{\"endlinecolor\":\"#2a3f5f\",\"gridcolor\":\"white\",\"linecolor\":\"white\",\"minorgridcolor\":\"white\",\"startlinecolor\":\"#2a3f5f\"},\"type\":\"carpet\"}],\"choropleth\":[{\"colorbar\":{\"outlinewidth\":0,\"ticks\":\"\"},\"type\":\"choropleth\"}],\"contourcarpet\":[{\"colorbar\":{\"outlinewidth\":0,\"ticks\":\"\"},\"type\":\"contourcarpet\"}],\"contour\":[{\"colorbar\":{\"outlinewidth\":0,\"ticks\":\"\"},\"colorscale\":[[0.0,\"#0d0887\"],[0.1111111111111111,\"#46039f\"],[0.2222222222222222,\"#7201a8\"],[0.3333333333333333,\"#9c179e\"],[0.4444444444444444,\"#bd3786\"],[0.5555555555555556,\"#d8576b\"],[0.6666666666666666,\"#ed7953\"],[0.7777777777777778,\"#fb9f3a\"],[0.8888888888888888,\"#fdca26\"],[1.0,\"#f0f921\"]],\"type\":\"contour\"}],\"heatmapgl\":[{\"colorbar\":{\"outlinewidth\":0,\"ticks\":\"\"},\"colorscale\":[[0.0,\"#0d0887\"],[0.1111111111111111,\"#46039f\"],[0.2222222222222222,\"#7201a8\"],[0.3333333333333333,\"#9c179e\"],[0.4444444444444444,\"#bd3786\"],[0.5555555555555556,\"#d8576b\"],[0.6666666666666666,\"#ed7953\"],[0.7777777777777778,\"#fb9f3a\"],[0.8888888888888888,\"#fdca26\"],[1.0,\"#f0f921\"]],\"type\":\"heatmapgl\"}],\"heatmap\":[{\"colorbar\":{\"outlinewidth\":0,\"ticks\":\"\"},\"colorscale\":[[0.0,\"#0d0887\"],[0.1111111111111111,\"#46039f\"],[0.2222222222222222,\"#7201a8\"],[0.3333333333333333,\"#9c179e\"],[0.4444444444444444,\"#bd3786\"],[0.5555555555555556,\"#d8576b\"],[0.6666666666666666,\"#ed7953\"],[0.7777777777777778,\"#fb9f3a\"],[0.8888888888888888,\"#fdca26\"],[1.0,\"#f0f921\"]],\"type\":\"heatmap\"}],\"histogram2dcontour\":[{\"colorbar\":{\"outlinewidth\":0,\"ticks\":\"\"},\"colorscale\":[[0.0,\"#0d0887\"],[0.1111111111111111,\"#46039f\"],[0.2222222222222222,\"#7201a8\"],[0.3333333333333333,\"#9c179e\"],[0.4444444444444444,\"#bd3786\"],[0.5555555555555556,\"#d8576b\"],[0.6666666666666666,\"#ed7953\"],[0.7777777777777778,\"#fb9f3a\"],[0.8888888888888888,\"#fdca26\"],[1.0,\"#f0f921\"]],\"type\":\"histogram2dcontour\"}],\"histogram2d\":[{\"colorbar\":{\"outlinewidth\":0,\"ticks\":\"\"},\"colorscale\":[[0.0,\"#0d0887\"],[0.1111111111111111,\"#46039f\"],[0.2222222222222222,\"#7201a8\"],[0.3333333333333333,\"#9c179e\"],[0.4444444444444444,\"#bd3786\"],[0.5555555555555556,\"#d8576b\"],[0.6666666666666666,\"#ed7953\"],[0.7777777777777778,\"#fb9f3a\"],[0.8888888888888888,\"#fdca26\"],[1.0,\"#f0f921\"]],\"type\":\"histogram2d\"}],\"histogram\":[{\"marker\":{\"pattern\":{\"fillmode\":\"overlay\",\"size\":10,\"solidity\":0.2}},\"type\":\"histogram\"}],\"mesh3d\":[{\"colorbar\":{\"outlinewidth\":0,\"ticks\":\"\"},\"type\":\"mesh3d\"}],\"parcoords\":[{\"line\":{\"colorbar\":{\"outlinewidth\":0,\"ticks\":\"\"}},\"type\":\"parcoords\"}],\"pie\":[{\"automargin\":true,\"type\":\"pie\"}],\"scatter3d\":[{\"line\":{\"colorbar\":{\"outlinewidth\":0,\"ticks\":\"\"}},\"marker\":{\"colorbar\":{\"outlinewidth\":0,\"ticks\":\"\"}},\"type\":\"scatter3d\"}],\"scattercarpet\":[{\"marker\":{\"colorbar\":{\"outlinewidth\":0,\"ticks\":\"\"}},\"type\":\"scattercarpet\"}],\"scattergeo\":[{\"marker\":{\"colorbar\":{\"outlinewidth\":0,\"ticks\":\"\"}},\"type\":\"scattergeo\"}],\"scattergl\":[{\"marker\":{\"colorbar\":{\"outlinewidth\":0,\"ticks\":\"\"}},\"type\":\"scattergl\"}],\"scattermapbox\":[{\"marker\":{\"colorbar\":{\"outlinewidth\":0,\"ticks\":\"\"}},\"type\":\"scattermapbox\"}],\"scatterpolargl\":[{\"marker\":{\"colorbar\":{\"outlinewidth\":0,\"ticks\":\"\"}},\"type\":\"scatterpolargl\"}],\"scatterpolar\":[{\"marker\":{\"colorbar\":{\"outlinewidth\":0,\"ticks\":\"\"}},\"type\":\"scatterpolar\"}],\"scatter\":[{\"fillpattern\":{\"fillmode\":\"overlay\",\"size\":10,\"solidity\":0.2},\"type\":\"scatter\"}],\"scatterternary\":[{\"marker\":{\"colorbar\":{\"outlinewidth\":0,\"ticks\":\"\"}},\"type\":\"scatterternary\"}],\"surface\":[{\"colorbar\":{\"outlinewidth\":0,\"ticks\":\"\"},\"colorscale\":[[0.0,\"#0d0887\"],[0.1111111111111111,\"#46039f\"],[0.2222222222222222,\"#7201a8\"],[0.3333333333333333,\"#9c179e\"],[0.4444444444444444,\"#bd3786\"],[0.5555555555555556,\"#d8576b\"],[0.6666666666666666,\"#ed7953\"],[0.7777777777777778,\"#fb9f3a\"],[0.8888888888888888,\"#fdca26\"],[1.0,\"#f0f921\"]],\"type\":\"surface\"}],\"table\":[{\"cells\":{\"fill\":{\"color\":\"#EBF0F8\"},\"line\":{\"color\":\"white\"}},\"header\":{\"fill\":{\"color\":\"#C8D4E3\"},\"line\":{\"color\":\"white\"}},\"type\":\"table\"}]},\"layout\":{\"annotationdefaults\":{\"arrowcolor\":\"#2a3f5f\",\"arrowhead\":0,\"arrowwidth\":1},\"autotypenumbers\":\"strict\",\"coloraxis\":{\"colorbar\":{\"outlinewidth\":0,\"ticks\":\"\"}},\"colorscale\":{\"diverging\":[[0,\"#8e0152\"],[0.1,\"#c51b7d\"],[0.2,\"#de77ae\"],[0.3,\"#f1b6da\"],[0.4,\"#fde0ef\"],[0.5,\"#f7f7f7\"],[0.6,\"#e6f5d0\"],[0.7,\"#b8e186\"],[0.8,\"#7fbc41\"],[0.9,\"#4d9221\"],[1,\"#276419\"]],\"sequential\":[[0.0,\"#0d0887\"],[0.1111111111111111,\"#46039f\"],[0.2222222222222222,\"#7201a8\"],[0.3333333333333333,\"#9c179e\"],[0.4444444444444444,\"#bd3786\"],[0.5555555555555556,\"#d8576b\"],[0.6666666666666666,\"#ed7953\"],[0.7777777777777778,\"#fb9f3a\"],[0.8888888888888888,\"#fdca26\"],[1.0,\"#f0f921\"]],\"sequentialminus\":[[0.0,\"#0d0887\"],[0.1111111111111111,\"#46039f\"],[0.2222222222222222,\"#7201a8\"],[0.3333333333333333,\"#9c179e\"],[0.4444444444444444,\"#bd3786\"],[0.5555555555555556,\"#d8576b\"],[0.6666666666666666,\"#ed7953\"],[0.7777777777777778,\"#fb9f3a\"],[0.8888888888888888,\"#fdca26\"],[1.0,\"#f0f921\"]]},\"colorway\":[\"#636efa\",\"#EF553B\",\"#00cc96\",\"#ab63fa\",\"#FFA15A\",\"#19d3f3\",\"#FF6692\",\"#B6E880\",\"#FF97FF\",\"#FECB52\"],\"font\":{\"color\":\"#2a3f5f\"},\"geo\":{\"bgcolor\":\"white\",\"lakecolor\":\"white\",\"landcolor\":\"#E5ECF6\",\"showlakes\":true,\"showland\":true,\"subunitcolor\":\"white\"},\"hoverlabel\":{\"align\":\"left\"},\"hovermode\":\"closest\",\"mapbox\":{\"style\":\"light\"},\"paper_bgcolor\":\"white\",\"plot_bgcolor\":\"#E5ECF6\",\"polar\":{\"angularaxis\":{\"gridcolor\":\"white\",\"linecolor\":\"white\",\"ticks\":\"\"},\"bgcolor\":\"#E5ECF6\",\"radialaxis\":{\"gridcolor\":\"white\",\"linecolor\":\"white\",\"ticks\":\"\"}},\"scene\":{\"xaxis\":{\"backgroundcolor\":\"#E5ECF6\",\"gridcolor\":\"white\",\"gridwidth\":2,\"linecolor\":\"white\",\"showbackground\":true,\"ticks\":\"\",\"zerolinecolor\":\"white\"},\"yaxis\":{\"backgroundcolor\":\"#E5ECF6\",\"gridcolor\":\"white\",\"gridwidth\":2,\"linecolor\":\"white\",\"showbackground\":true,\"ticks\":\"\",\"zerolinecolor\":\"white\"},\"zaxis\":{\"backgroundcolor\":\"#E5ECF6\",\"gridcolor\":\"white\",\"gridwidth\":2,\"linecolor\":\"white\",\"showbackground\":true,\"ticks\":\"\",\"zerolinecolor\":\"white\"}},\"shapedefaults\":{\"line\":{\"color\":\"#2a3f5f\"}},\"ternary\":{\"aaxis\":{\"gridcolor\":\"white\",\"linecolor\":\"white\",\"ticks\":\"\"},\"baxis\":{\"gridcolor\":\"white\",\"linecolor\":\"white\",\"ticks\":\"\"},\"bgcolor\":\"#E5ECF6\",\"caxis\":{\"gridcolor\":\"white\",\"linecolor\":\"white\",\"ticks\":\"\"}},\"title\":{\"x\":0.05},\"xaxis\":{\"automargin\":true,\"gridcolor\":\"white\",\"linecolor\":\"white\",\"ticks\":\"\",\"title\":{\"standoff\":15},\"zerolinecolor\":\"white\",\"zerolinewidth\":2},\"yaxis\":{\"automargin\":true,\"gridcolor\":\"white\",\"linecolor\":\"white\",\"ticks\":\"\",\"title\":{\"standoff\":15},\"zerolinecolor\":\"white\",\"zerolinewidth\":2}}},\"title\":{\"font\":{\"color\":\"#4D5663\"}},\"xaxis\":{\"anchor\":\"y\",\"domain\":[0.0,0.2125],\"gridcolor\":\"#E1E5ED\",\"showgrid\":false,\"tickfont\":{\"color\":\"#4D5663\"},\"title\":{\"font\":{\"color\":\"#4D5663\"},\"text\":\"\"},\"zerolinecolor\":\"#E1E5ED\"},\"yaxis\":{\"anchor\":\"x\",\"domain\":[0.8025,1.0],\"gridcolor\":\"#E1E5ED\",\"showgrid\":false,\"tickfont\":{\"color\":\"#4D5663\"},\"title\":{\"font\":{\"color\":\"#4D5663\"},\"text\":\"\"},\"zerolinecolor\":\"#E1E5ED\"},\"xaxis2\":{\"anchor\":\"y2\",\"domain\":[0.2625,0.475],\"gridcolor\":\"#E1E5ED\",\"showgrid\":false,\"tickfont\":{\"color\":\"#4D5663\"},\"title\":{\"font\":{\"color\":\"#4D5663\"},\"text\":\"\"},\"zerolinecolor\":\"#E1E5ED\"},\"yaxis2\":{\"anchor\":\"x2\",\"domain\":[0.8025,1.0],\"gridcolor\":\"#E1E5ED\",\"showgrid\":false,\"tickfont\":{\"color\":\"#4D5663\"},\"title\":{\"font\":{\"color\":\"#4D5663\"},\"text\":\"\"},\"zerolinecolor\":\"#E1E5ED\"},\"xaxis3\":{\"anchor\":\"y3\",\"domain\":[0.525,0.7375],\"gridcolor\":\"#E1E5ED\",\"showgrid\":false,\"tickfont\":{\"color\":\"#4D5663\"},\"title\":{\"font\":{\"color\":\"#4D5663\"},\"text\":\"\"},\"zerolinecolor\":\"#E1E5ED\"},\"yaxis3\":{\"anchor\":\"x3\",\"domain\":[0.8025,1.0],\"gridcolor\":\"#E1E5ED\",\"showgrid\":false,\"tickfont\":{\"color\":\"#4D5663\"},\"title\":{\"font\":{\"color\":\"#4D5663\"},\"text\":\"\"},\"zerolinecolor\":\"#E1E5ED\"},\"xaxis4\":{\"anchor\":\"y4\",\"domain\":[0.7875,1.0],\"gridcolor\":\"#E1E5ED\",\"showgrid\":false,\"tickfont\":{\"color\":\"#4D5663\"},\"title\":{\"font\":{\"color\":\"#4D5663\"},\"text\":\"\"},\"zerolinecolor\":\"#E1E5ED\"},\"yaxis4\":{\"anchor\":\"x4\",\"domain\":[0.8025,1.0],\"gridcolor\":\"#E1E5ED\",\"showgrid\":false,\"tickfont\":{\"color\":\"#4D5663\"},\"title\":{\"font\":{\"color\":\"#4D5663\"},\"text\":\"\"},\"zerolinecolor\":\"#E1E5ED\"},\"xaxis5\":{\"anchor\":\"y5\",\"domain\":[0.0,0.2125],\"gridcolor\":\"#E1E5ED\",\"showgrid\":false,\"tickfont\":{\"color\":\"#4D5663\"},\"title\":{\"font\":{\"color\":\"#4D5663\"},\"text\":\"\"},\"zerolinecolor\":\"#E1E5ED\"},\"yaxis5\":{\"anchor\":\"x5\",\"domain\":[0.535,0.7325],\"gridcolor\":\"#E1E5ED\",\"showgrid\":false,\"tickfont\":{\"color\":\"#4D5663\"},\"title\":{\"font\":{\"color\":\"#4D5663\"},\"text\":\"\"},\"zerolinecolor\":\"#E1E5ED\"},\"xaxis6\":{\"anchor\":\"y6\",\"domain\":[0.2625,0.475],\"gridcolor\":\"#E1E5ED\",\"showgrid\":false,\"tickfont\":{\"color\":\"#4D5663\"},\"title\":{\"font\":{\"color\":\"#4D5663\"},\"text\":\"\"},\"zerolinecolor\":\"#E1E5ED\"},\"yaxis6\":{\"anchor\":\"x6\",\"domain\":[0.535,0.7325],\"gridcolor\":\"#E1E5ED\",\"showgrid\":false,\"tickfont\":{\"color\":\"#4D5663\"},\"title\":{\"font\":{\"color\":\"#4D5663\"},\"text\":\"\"},\"zerolinecolor\":\"#E1E5ED\"},\"xaxis7\":{\"anchor\":\"y7\",\"domain\":[0.525,0.7375],\"gridcolor\":\"#E1E5ED\",\"showgrid\":false,\"tickfont\":{\"color\":\"#4D5663\"},\"title\":{\"font\":{\"color\":\"#4D5663\"},\"text\":\"\"},\"zerolinecolor\":\"#E1E5ED\"},\"yaxis7\":{\"anchor\":\"x7\",\"domain\":[0.535,0.7325],\"gridcolor\":\"#E1E5ED\",\"showgrid\":false,\"tickfont\":{\"color\":\"#4D5663\"},\"title\":{\"font\":{\"color\":\"#4D5663\"},\"text\":\"\"},\"zerolinecolor\":\"#E1E5ED\"},\"xaxis8\":{\"anchor\":\"y8\",\"domain\":[0.7875,1.0],\"gridcolor\":\"#E1E5ED\",\"showgrid\":false,\"tickfont\":{\"color\":\"#4D5663\"},\"title\":{\"font\":{\"color\":\"#4D5663\"},\"text\":\"\"},\"zerolinecolor\":\"#E1E5ED\"},\"yaxis8\":{\"anchor\":\"x8\",\"domain\":[0.535,0.7325],\"gridcolor\":\"#E1E5ED\",\"showgrid\":false,\"tickfont\":{\"color\":\"#4D5663\"},\"title\":{\"font\":{\"color\":\"#4D5663\"},\"text\":\"\"},\"zerolinecolor\":\"#E1E5ED\"},\"xaxis9\":{\"anchor\":\"y9\",\"domain\":[0.0,0.2125],\"gridcolor\":\"#E1E5ED\",\"showgrid\":false,\"tickfont\":{\"color\":\"#4D5663\"},\"title\":{\"font\":{\"color\":\"#4D5663\"},\"text\":\"\"},\"zerolinecolor\":\"#E1E5ED\"},\"yaxis9\":{\"anchor\":\"x9\",\"domain\":[0.2675,0.465],\"gridcolor\":\"#E1E5ED\",\"showgrid\":false,\"tickfont\":{\"color\":\"#4D5663\"},\"title\":{\"font\":{\"color\":\"#4D5663\"},\"text\":\"\"},\"zerolinecolor\":\"#E1E5ED\"},\"xaxis10\":{\"anchor\":\"y10\",\"domain\":[0.2625,0.475],\"gridcolor\":\"#E1E5ED\",\"showgrid\":false,\"tickfont\":{\"color\":\"#4D5663\"},\"title\":{\"font\":{\"color\":\"#4D5663\"},\"text\":\"\"},\"zerolinecolor\":\"#E1E5ED\"},\"yaxis10\":{\"anchor\":\"x10\",\"domain\":[0.2675,0.465],\"gridcolor\":\"#E1E5ED\",\"showgrid\":false,\"tickfont\":{\"color\":\"#4D5663\"},\"title\":{\"font\":{\"color\":\"#4D5663\"},\"text\":\"\"},\"zerolinecolor\":\"#E1E5ED\"},\"xaxis11\":{\"anchor\":\"y11\",\"domain\":[0.525,0.7375],\"gridcolor\":\"#E1E5ED\",\"showgrid\":false,\"tickfont\":{\"color\":\"#4D5663\"},\"title\":{\"font\":{\"color\":\"#4D5663\"},\"text\":\"\"},\"zerolinecolor\":\"#E1E5ED\"},\"yaxis11\":{\"anchor\":\"x11\",\"domain\":[0.2675,0.465],\"gridcolor\":\"#E1E5ED\",\"showgrid\":false,\"tickfont\":{\"color\":\"#4D5663\"},\"title\":{\"font\":{\"color\":\"#4D5663\"},\"text\":\"\"},\"zerolinecolor\":\"#E1E5ED\"},\"xaxis12\":{\"anchor\":\"y12\",\"domain\":[0.7875,1.0],\"gridcolor\":\"#E1E5ED\",\"showgrid\":false,\"tickfont\":{\"color\":\"#4D5663\"},\"title\":{\"font\":{\"color\":\"#4D5663\"},\"text\":\"\"},\"zerolinecolor\":\"#E1E5ED\"},\"yaxis12\":{\"anchor\":\"x12\",\"domain\":[0.2675,0.465],\"gridcolor\":\"#E1E5ED\",\"showgrid\":false,\"tickfont\":{\"color\":\"#4D5663\"},\"title\":{\"font\":{\"color\":\"#4D5663\"},\"text\":\"\"},\"zerolinecolor\":\"#E1E5ED\"},\"xaxis13\":{\"anchor\":\"y13\",\"domain\":[0.0,0.2125],\"gridcolor\":\"#E1E5ED\",\"showgrid\":false,\"tickfont\":{\"color\":\"#4D5663\"},\"title\":{\"font\":{\"color\":\"#4D5663\"},\"text\":\"\"},\"zerolinecolor\":\"#E1E5ED\"},\"yaxis13\":{\"anchor\":\"x13\",\"domain\":[0.0,0.1975],\"gridcolor\":\"#E1E5ED\",\"showgrid\":false,\"tickfont\":{\"color\":\"#4D5663\"},\"title\":{\"font\":{\"color\":\"#4D5663\"},\"text\":\"\"},\"zerolinecolor\":\"#E1E5ED\"},\"xaxis14\":{\"anchor\":\"y14\",\"domain\":[0.2625,0.475],\"gridcolor\":\"#E1E5ED\",\"showgrid\":false,\"tickfont\":{\"color\":\"#4D5663\"},\"title\":{\"font\":{\"color\":\"#4D5663\"},\"text\":\"\"},\"zerolinecolor\":\"#E1E5ED\"},\"yaxis14\":{\"anchor\":\"x14\",\"domain\":[0.0,0.1975],\"gridcolor\":\"#E1E5ED\",\"showgrid\":false,\"tickfont\":{\"color\":\"#4D5663\"},\"title\":{\"font\":{\"color\":\"#4D5663\"},\"text\":\"\"},\"zerolinecolor\":\"#E1E5ED\"},\"xaxis15\":{\"anchor\":\"y15\",\"domain\":[0.525,0.7375],\"gridcolor\":\"#E1E5ED\",\"showgrid\":false,\"tickfont\":{\"color\":\"#4D5663\"},\"title\":{\"font\":{\"color\":\"#4D5663\"},\"text\":\"\"},\"zerolinecolor\":\"#E1E5ED\"},\"yaxis15\":{\"anchor\":\"x15\",\"domain\":[0.0,0.1975],\"gridcolor\":\"#E1E5ED\",\"showgrid\":false,\"tickfont\":{\"color\":\"#4D5663\"},\"title\":{\"font\":{\"color\":\"#4D5663\"},\"text\":\"\"},\"zerolinecolor\":\"#E1E5ED\"},\"xaxis16\":{\"anchor\":\"y16\",\"domain\":[0.7875,1.0],\"gridcolor\":\"#E1E5ED\",\"showgrid\":false,\"tickfont\":{\"color\":\"#4D5663\"},\"title\":{\"font\":{\"color\":\"#4D5663\"},\"text\":\"\"},\"zerolinecolor\":\"#E1E5ED\"},\"yaxis16\":{\"anchor\":\"x16\",\"domain\":[0.0,0.1975],\"gridcolor\":\"#E1E5ED\",\"showgrid\":false,\"tickfont\":{\"color\":\"#4D5663\"},\"title\":{\"font\":{\"color\":\"#4D5663\"},\"text\":\"\"},\"zerolinecolor\":\"#E1E5ED\"}},                        {\"showLink\": true, \"linkText\": \"Export to plot.ly\", \"plotlyServerURL\": \"https://plot.ly\", \"responsive\": true}                    ).then(function(){\n",
       "                            \n",
       "var gd = document.getElementById('d1330eae-59ed-4892-9182-16edb0f62501');\n",
       "var x = new MutationObserver(function (mutations, observer) {{\n",
       "        var display = window.getComputedStyle(gd).display;\n",
       "        if (!display || display === 'none') {{\n",
       "            console.log([gd, 'removed!']);\n",
       "            Plotly.purge(gd);\n",
       "            observer.disconnect();\n",
       "        }}\n",
       "}});\n",
       "\n",
       "// Listen for the removal of the full notebook cells\n",
       "var notebookContainer = gd.closest('#notebook-container');\n",
       "if (notebookContainer) {{\n",
       "    x.observe(notebookContainer, {childList: true});\n",
       "}}\n",
       "\n",
       "// Listen for the clearing of the current output cell\n",
       "var outputEl = gd.closest('.output');\n",
       "if (outputEl) {{\n",
       "    x.observe(outputEl, {childList: true});\n",
       "}}\n",
       "\n",
       "                        })                };                });            </script>        </div>"
      ]
     },
     "metadata": {},
     "output_type": "display_data"
    }
   ],
   "source": [
    "df.scatter_matrix()"
   ]
  },
  {
   "cell_type": "code",
   "execution_count": null,
   "id": "6b410955",
   "metadata": {},
   "outputs": [],
   "source": []
  },
  {
   "cell_type": "code",
   "execution_count": null,
   "id": "53f135ea",
   "metadata": {},
   "outputs": [],
   "source": []
  },
  {
   "cell_type": "code",
   "execution_count": null,
   "id": "8f9f16d1",
   "metadata": {},
   "outputs": [],
   "source": []
  },
  {
   "cell_type": "code",
   "execution_count": null,
   "id": "d5cb8575",
   "metadata": {},
   "outputs": [],
   "source": []
  },
  {
   "cell_type": "code",
   "execution_count": null,
   "id": "b5d9a9b4",
   "metadata": {},
   "outputs": [],
   "source": []
  },
  {
   "cell_type": "code",
   "execution_count": null,
   "id": "32224ed1",
   "metadata": {},
   "outputs": [],
   "source": []
  },
  {
   "cell_type": "code",
   "execution_count": null,
   "id": "b8adcb4f",
   "metadata": {},
   "outputs": [],
   "source": []
  },
  {
   "cell_type": "code",
   "execution_count": null,
   "id": "d8655eb8",
   "metadata": {},
   "outputs": [],
   "source": []
  },
  {
   "cell_type": "code",
   "execution_count": null,
   "id": "200c41b4",
   "metadata": {},
   "outputs": [],
   "source": []
  },
  {
   "cell_type": "code",
   "execution_count": null,
   "id": "1208690e",
   "metadata": {},
   "outputs": [],
   "source": []
  },
  {
   "cell_type": "code",
   "execution_count": null,
   "id": "fa88589e",
   "metadata": {},
   "outputs": [],
   "source": []
  },
  {
   "cell_type": "code",
   "execution_count": null,
   "id": "d1906a82",
   "metadata": {},
   "outputs": [],
   "source": []
  },
  {
   "cell_type": "code",
   "execution_count": null,
   "id": "55e3db8d",
   "metadata": {},
   "outputs": [],
   "source": []
  },
  {
   "cell_type": "code",
   "execution_count": null,
   "id": "7d1fe630",
   "metadata": {},
   "outputs": [],
   "source": []
  },
  {
   "cell_type": "code",
   "execution_count": null,
   "id": "2c0f638a",
   "metadata": {},
   "outputs": [],
   "source": []
  },
  {
   "cell_type": "code",
   "execution_count": null,
   "id": "2423fb1a",
   "metadata": {},
   "outputs": [],
   "source": []
  },
  {
   "cell_type": "code",
   "execution_count": null,
   "id": "7099475d",
   "metadata": {},
   "outputs": [],
   "source": []
  }
 ],
 "metadata": {
  "kernelspec": {
   "display_name": "Python 3 (ipykernel)",
   "language": "python",
   "name": "python3"
  },
  "language_info": {
   "codemirror_mode": {
    "name": "ipython",
    "version": 3
   },
   "file_extension": ".py",
   "mimetype": "text/x-python",
   "name": "python",
   "nbconvert_exporter": "python",
   "pygments_lexer": "ipython3",
   "version": "3.9.13"
  }
 },
 "nbformat": 4,
 "nbformat_minor": 5
}
